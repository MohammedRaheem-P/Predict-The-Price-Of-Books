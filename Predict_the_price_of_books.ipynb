{
  "nbformat": 4,
  "nbformat_minor": 0,
  "metadata": {
    "colab": {
      "name": "Predict the price of books.ipynb",
      "provenance": [],
      "collapsed_sections": []
    },
    "kernelspec": {
      "name": "python3",
      "display_name": "Python 3"
    }
  },
  "cells": [
    {
      "cell_type": "markdown",
      "metadata": {
        "id": "izEQRBgwWHkc"
      },
      "source": [
        "**Predict the price of books**"
      ]
    },
    {
      "cell_type": "markdown",
      "metadata": {
        "id": "cTTFafPJgqMc"
      },
      "source": [
        "GOAL:\n",
        "\n",
        "To build a Machine Learning model to predict the price of books based on a given set of features"
      ]
    },
    {
      "cell_type": "markdown",
      "metadata": {
        "id": "OIIQFrf0YMDL"
      },
      "source": [
        "# Exploring the DataSet"
      ]
    },
    {
      "cell_type": "markdown",
      "metadata": {
        "id": "Lwf0rapUYpYD"
      },
      "source": [
        "let's see provided data"
      ]
    },
    {
      "cell_type": "code",
      "metadata": {
        "id": "N2BO3MqaY5He"
      },
      "source": [
        "import pandas as pd        #importing package to panelize data\n",
        "train_data=pd.read_excel('Data_Train.xlsx')\n",
        "test_data=pd.read_excel('Data_Test.xlsx')\n",
        "submission=pd.read_excel('Sample_Submission.xlsx')"
      ],
      "execution_count": 1,
      "outputs": []
    },
    {
      "cell_type": "code",
      "metadata": {
        "colab": {
          "base_uri": "https://localhost:8080/"
        },
        "id": "jno_iZw4ZLug",
        "outputId": "8dec43fc-1376-4c88-c027-69f7051e3395"
      },
      "source": [
        "#let's see the data dimensions dims\n",
        "print('dims of train_data: ',train_data.shape)\n",
        "print('dims of test_data: ',test_data.shape)"
      ],
      "execution_count": 2,
      "outputs": [
        {
          "output_type": "stream",
          "text": [
            "dims of train_data:  (6237, 9)\n",
            "dims of test_data:  (1560, 8)\n"
          ],
          "name": "stdout"
        }
      ]
    },
    {
      "cell_type": "code",
      "metadata": {
        "colab": {
          "base_uri": "https://localhost:8080/"
        },
        "id": "Ggxqzot9ZsBE",
        "outputId": "1c245abf-dcbe-4a45-ed30-99bcb75fba00"
      },
      "source": [
        "print(f'there are {train_data.shape[0]} observations for train')\n",
        "print(f'and there are {test_data.shape[0]} observations for test')"
      ],
      "execution_count": 3,
      "outputs": [
        {
          "output_type": "stream",
          "text": [
            "there are 6237 observations for train\n",
            "and there are 1560 observations for test\n"
          ],
          "name": "stdout"
        }
      ]
    },
    {
      "cell_type": "markdown",
      "metadata": {
        "id": "iFbm9vDtal1_"
      },
      "source": [
        "see the first 5 records for both train and test"
      ]
    },
    {
      "cell_type": "code",
      "metadata": {
        "colab": {
          "base_uri": "https://localhost:8080/"
        },
        "id": "6jCUmN-7awaw",
        "outputId": "18bd38df-3202-45aa-8f78-8b3905284f2a"
      },
      "source": [
        "print('train_data: ',train_data.head())\n",
        "print('\\n test_data\\n: ',test_data.head())"
      ],
      "execution_count": 4,
      "outputs": [
        {
          "output_type": "stream",
          "text": [
            "train_data:                                          Title  ...   Price\n",
            "0         The Prisoner's Gold (The Hunters 3)  ...  220.00\n",
            "1          Guru Dutt: A Tragedy in Three Acts  ...  202.93\n",
            "2                Leviathan (Penguin Classics)  ...  299.00\n",
            "3          A Pocket Full of Rye (Miss Marple)  ...  180.00\n",
            "4  LIFE 70 Years of Extraordinary Photography  ...  965.62\n",
            "\n",
            "[5 rows x 9 columns]\n",
            "\n",
            " test_data\n",
            ":                                                 Title  ...                         BookCategory\n",
            "0         The Complete Sherlock Holmes: 2 Boxes sets  ...            Crime, Thriller & Mystery\n",
            "1  Learn Docker - Fundamentals of Docker 18.x: Ev...  ...  Computing, Internet & Digital Media\n",
            "2                                           Big Girl  ...                              Romance\n",
            "3  Think Python: How to Think Like a Computer Sci...  ...  Computing, Internet & Digital Media\n",
            "4  Oxford Word Skills: Advanced - Idioms & Phrasa...  ...      Language, Linguistics & Writing\n",
            "\n",
            "[5 rows x 8 columns]\n"
          ],
          "name": "stdout"
        }
      ]
    },
    {
      "cell_type": "markdown",
      "metadata": {
        "id": "-68ixk5pa9y9"
      },
      "source": [
        "let's see the column names of both"
      ]
    },
    {
      "cell_type": "code",
      "metadata": {
        "colab": {
          "base_uri": "https://localhost:8080/"
        },
        "id": "WbJfYzcDbOs7",
        "outputId": "7bd0d2f7-2345-4d0b-8fb9-8b54c632145c"
      },
      "source": [
        "train_data.keys()"
      ],
      "execution_count": 5,
      "outputs": [
        {
          "output_type": "execute_result",
          "data": {
            "text/plain": [
              "Index(['Title', 'Author', 'Edition', 'Reviews', 'Ratings', 'Synopsis', 'Genre',\n",
              "       'BookCategory', 'Price'],\n",
              "      dtype='object')"
            ]
          },
          "metadata": {
            "tags": []
          },
          "execution_count": 5
        }
      ]
    },
    {
      "cell_type": "code",
      "metadata": {
        "colab": {
          "base_uri": "https://localhost:8080/"
        },
        "id": "C5sxy1GCbSGW",
        "outputId": "0eea0dc4-c88e-401c-9366-e7844320f5d5"
      },
      "source": [
        "test_data.keys()"
      ],
      "execution_count": 6,
      "outputs": [
        {
          "output_type": "execute_result",
          "data": {
            "text/plain": [
              "Index(['Title', 'Author', 'Edition', 'Reviews', 'Ratings', 'Synopsis', 'Genre',\n",
              "       'BookCategory'],\n",
              "      dtype='object')"
            ]
          },
          "metadata": {
            "tags": []
          },
          "execution_count": 6
        }
      ]
    },
    {
      "cell_type": "markdown",
      "metadata": {
        "id": "nivr5zsWbVIu"
      },
      "source": [
        "let's see the required submission as well"
      ]
    },
    {
      "cell_type": "code",
      "metadata": {
        "colab": {
          "base_uri": "https://localhost:8080/",
          "height": 204
        },
        "id": "OyvWTr4KbhS-",
        "outputId": "cb567aa3-7c35-48d5-d0f5-4d468d95f316"
      },
      "source": [
        "submission.head()"
      ],
      "execution_count": 7,
      "outputs": [
        {
          "output_type": "execute_result",
          "data": {
            "text/html": [
              "<div>\n",
              "<style scoped>\n",
              "    .dataframe tbody tr th:only-of-type {\n",
              "        vertical-align: middle;\n",
              "    }\n",
              "\n",
              "    .dataframe tbody tr th {\n",
              "        vertical-align: top;\n",
              "    }\n",
              "\n",
              "    .dataframe thead th {\n",
              "        text-align: right;\n",
              "    }\n",
              "</style>\n",
              "<table border=\"1\" class=\"dataframe\">\n",
              "  <thead>\n",
              "    <tr style=\"text-align: right;\">\n",
              "      <th></th>\n",
              "      <th>Price</th>\n",
              "    </tr>\n",
              "  </thead>\n",
              "  <tbody>\n",
              "    <tr>\n",
              "      <th>0</th>\n",
              "      <td>119</td>\n",
              "    </tr>\n",
              "    <tr>\n",
              "      <th>1</th>\n",
              "      <td>123</td>\n",
              "    </tr>\n",
              "    <tr>\n",
              "      <th>2</th>\n",
              "      <td>108</td>\n",
              "    </tr>\n",
              "    <tr>\n",
              "      <th>3</th>\n",
              "      <td>118</td>\n",
              "    </tr>\n",
              "    <tr>\n",
              "      <th>4</th>\n",
              "      <td>132</td>\n",
              "    </tr>\n",
              "  </tbody>\n",
              "</table>\n",
              "</div>"
            ],
            "text/plain": [
              "   Price\n",
              "0    119\n",
              "1    123\n",
              "2    108\n",
              "3    118\n",
              "4    132"
            ]
          },
          "metadata": {
            "tags": []
          },
          "execution_count": 7
        }
      ]
    },
    {
      "cell_type": "markdown",
      "metadata": {
        "id": "mYd5PGD2bj0Q"
      },
      "source": [
        "yes, Datasets are okey. Then extract the features to feed into model"
      ]
    },
    {
      "cell_type": "markdown",
      "metadata": {
        "id": "A7At2IrBb1SO"
      },
      "source": [
        "# Feature Extraction"
      ]
    },
    {
      "cell_type": "code",
      "metadata": {
        "id": "cUPW94Dkb5pe"
      },
      "source": [
        "#Let's see the train_data first"
      ],
      "execution_count": 8,
      "outputs": []
    },
    {
      "cell_type": "code",
      "metadata": {
        "colab": {
          "base_uri": "https://localhost:8080/",
          "height": 912
        },
        "id": "4vKHpvK6cbev",
        "outputId": "0a68accc-5cab-439d-ec67-278fb87ddf16"
      },
      "source": [
        "train_data"
      ],
      "execution_count": 9,
      "outputs": [
        {
          "output_type": "execute_result",
          "data": {
            "text/html": [
              "<div>\n",
              "<style scoped>\n",
              "    .dataframe tbody tr th:only-of-type {\n",
              "        vertical-align: middle;\n",
              "    }\n",
              "\n",
              "    .dataframe tbody tr th {\n",
              "        vertical-align: top;\n",
              "    }\n",
              "\n",
              "    .dataframe thead th {\n",
              "        text-align: right;\n",
              "    }\n",
              "</style>\n",
              "<table border=\"1\" class=\"dataframe\">\n",
              "  <thead>\n",
              "    <tr style=\"text-align: right;\">\n",
              "      <th></th>\n",
              "      <th>Title</th>\n",
              "      <th>Author</th>\n",
              "      <th>Edition</th>\n",
              "      <th>Reviews</th>\n",
              "      <th>Ratings</th>\n",
              "      <th>Synopsis</th>\n",
              "      <th>Genre</th>\n",
              "      <th>BookCategory</th>\n",
              "      <th>Price</th>\n",
              "    </tr>\n",
              "  </thead>\n",
              "  <tbody>\n",
              "    <tr>\n",
              "      <th>0</th>\n",
              "      <td>The Prisoner's Gold (The Hunters 3)</td>\n",
              "      <td>Chris Kuzneski</td>\n",
              "      <td>Paperback,– 10 Mar 2016</td>\n",
              "      <td>4.0 out of 5 stars</td>\n",
              "      <td>8 customer reviews</td>\n",
              "      <td>THE HUNTERS return in their third brilliant no...</td>\n",
              "      <td>Action &amp; Adventure (Books)</td>\n",
              "      <td>Action &amp; Adventure</td>\n",
              "      <td>220.00</td>\n",
              "    </tr>\n",
              "    <tr>\n",
              "      <th>1</th>\n",
              "      <td>Guru Dutt: A Tragedy in Three Acts</td>\n",
              "      <td>Arun Khopkar</td>\n",
              "      <td>Paperback,– 7 Nov 2012</td>\n",
              "      <td>3.9 out of 5 stars</td>\n",
              "      <td>14 customer reviews</td>\n",
              "      <td>A layered portrait of a troubled genius for wh...</td>\n",
              "      <td>Cinema &amp; Broadcast (Books)</td>\n",
              "      <td>Biographies, Diaries &amp; True Accounts</td>\n",
              "      <td>202.93</td>\n",
              "    </tr>\n",
              "    <tr>\n",
              "      <th>2</th>\n",
              "      <td>Leviathan (Penguin Classics)</td>\n",
              "      <td>Thomas Hobbes</td>\n",
              "      <td>Paperback,– 25 Feb 1982</td>\n",
              "      <td>4.8 out of 5 stars</td>\n",
              "      <td>6 customer reviews</td>\n",
              "      <td>\"During the time men live without a common Pow...</td>\n",
              "      <td>International Relations</td>\n",
              "      <td>Humour</td>\n",
              "      <td>299.00</td>\n",
              "    </tr>\n",
              "    <tr>\n",
              "      <th>3</th>\n",
              "      <td>A Pocket Full of Rye (Miss Marple)</td>\n",
              "      <td>Agatha Christie</td>\n",
              "      <td>Paperback,– 5 Oct 2017</td>\n",
              "      <td>4.1 out of 5 stars</td>\n",
              "      <td>13 customer reviews</td>\n",
              "      <td>A handful of grain is found in the pocket of a...</td>\n",
              "      <td>Contemporary Fiction (Books)</td>\n",
              "      <td>Crime, Thriller &amp; Mystery</td>\n",
              "      <td>180.00</td>\n",
              "    </tr>\n",
              "    <tr>\n",
              "      <th>4</th>\n",
              "      <td>LIFE 70 Years of Extraordinary Photography</td>\n",
              "      <td>Editors of Life</td>\n",
              "      <td>Hardcover,– 10 Oct 2006</td>\n",
              "      <td>5.0 out of 5 stars</td>\n",
              "      <td>1 customer review</td>\n",
              "      <td>For seven decades, \"Life\" has been thrilling t...</td>\n",
              "      <td>Photography Textbooks</td>\n",
              "      <td>Arts, Film &amp; Photography</td>\n",
              "      <td>965.62</td>\n",
              "    </tr>\n",
              "    <tr>\n",
              "      <th>...</th>\n",
              "      <td>...</td>\n",
              "      <td>...</td>\n",
              "      <td>...</td>\n",
              "      <td>...</td>\n",
              "      <td>...</td>\n",
              "      <td>...</td>\n",
              "      <td>...</td>\n",
              "      <td>...</td>\n",
              "      <td>...</td>\n",
              "    </tr>\n",
              "    <tr>\n",
              "      <th>6232</th>\n",
              "      <td>Humans: A Brief History of How We F*cked It Al...</td>\n",
              "      <td>Tom Phillips</td>\n",
              "      <td>Paperback,– 8 Aug 2018</td>\n",
              "      <td>5.0 out of 5 stars</td>\n",
              "      <td>2 customer reviews</td>\n",
              "      <td>'F*cking brilliant' Sarah Knight\\n'Very funny'...</td>\n",
              "      <td>Anthropology (Books)</td>\n",
              "      <td>Humour</td>\n",
              "      <td>322.00</td>\n",
              "    </tr>\n",
              "    <tr>\n",
              "      <th>6233</th>\n",
              "      <td>The Chemist</td>\n",
              "      <td>Stephenie Meyer</td>\n",
              "      <td>Paperback,– 21 Nov 2016</td>\n",
              "      <td>3.3 out of 5 stars</td>\n",
              "      <td>9 customer reviews</td>\n",
              "      <td>In this gripping page-turner, an ex-agent on t...</td>\n",
              "      <td>Contemporary Fiction (Books)</td>\n",
              "      <td>Crime, Thriller &amp; Mystery</td>\n",
              "      <td>421.00</td>\n",
              "    </tr>\n",
              "    <tr>\n",
              "      <th>6234</th>\n",
              "      <td>The Duke And I: Number 1 in series (Bridgerton...</td>\n",
              "      <td>Julia Quinn</td>\n",
              "      <td>Paperback,– 8 Jun 2006</td>\n",
              "      <td>3.8 out of 5 stars</td>\n",
              "      <td>3 customer reviews</td>\n",
              "      <td>'The most refreshing and radiant love story yo...</td>\n",
              "      <td>Romance (Books)</td>\n",
              "      <td>Romance</td>\n",
              "      <td>399.00</td>\n",
              "    </tr>\n",
              "    <tr>\n",
              "      <th>6235</th>\n",
              "      <td>Frostfire (Kanin Chronicles)</td>\n",
              "      <td>Amanda Hocking</td>\n",
              "      <td>Paperback,– 15 Jan 2015</td>\n",
              "      <td>3.5 out of 5 stars</td>\n",
              "      <td>4 customer reviews</td>\n",
              "      <td>Frostfire by Amanda Hocking is the stunning fi...</td>\n",
              "      <td>Action &amp; Adventure (Books)</td>\n",
              "      <td>Action &amp; Adventure</td>\n",
              "      <td>319.00</td>\n",
              "    </tr>\n",
              "    <tr>\n",
              "      <th>6236</th>\n",
              "      <td>The First Order (Sam Capra)</td>\n",
              "      <td>Jeff Abbott</td>\n",
              "      <td>Paperback,– 21 Dec 2016</td>\n",
              "      <td>3.9 out of 5 stars</td>\n",
              "      <td>2 customer reviews</td>\n",
              "      <td>Six years ago, Sam Capra watched his brother, ...</td>\n",
              "      <td>Action &amp; Adventure (Books)</td>\n",
              "      <td>Action &amp; Adventure</td>\n",
              "      <td>452.00</td>\n",
              "    </tr>\n",
              "  </tbody>\n",
              "</table>\n",
              "<p>6237 rows × 9 columns</p>\n",
              "</div>"
            ],
            "text/plain": [
              "                                                  Title  ...   Price\n",
              "0                   The Prisoner's Gold (The Hunters 3)  ...  220.00\n",
              "1                    Guru Dutt: A Tragedy in Three Acts  ...  202.93\n",
              "2                          Leviathan (Penguin Classics)  ...  299.00\n",
              "3                    A Pocket Full of Rye (Miss Marple)  ...  180.00\n",
              "4            LIFE 70 Years of Extraordinary Photography  ...  965.62\n",
              "...                                                 ...  ...     ...\n",
              "6232  Humans: A Brief History of How We F*cked It Al...  ...  322.00\n",
              "6233                                        The Chemist  ...  421.00\n",
              "6234  The Duke And I: Number 1 in series (Bridgerton...  ...  399.00\n",
              "6235                       Frostfire (Kanin Chronicles)  ...  319.00\n",
              "6236                        The First Order (Sam Capra)  ...  452.00\n",
              "\n",
              "[6237 rows x 9 columns]"
            ]
          },
          "metadata": {
            "tags": []
          },
          "execution_count": 9
        }
      ]
    },
    {
      "cell_type": "markdown",
      "metadata": {
        "id": "yvnFzkkGctws"
      },
      "source": [
        "Let's check for missing values"
      ]
    },
    {
      "cell_type": "code",
      "metadata": {
        "colab": {
          "base_uri": "https://localhost:8080/"
        },
        "id": "iprD5HTLcdBK",
        "outputId": "fb9e93e5-baf1-4386-c649-bec6709918ef"
      },
      "source": [
        "train_data.isnull().sum()"
      ],
      "execution_count": 10,
      "outputs": [
        {
          "output_type": "execute_result",
          "data": {
            "text/plain": [
              "Title           0\n",
              "Author          0\n",
              "Edition         0\n",
              "Reviews         0\n",
              "Ratings         0\n",
              "Synopsis        0\n",
              "Genre           0\n",
              "BookCategory    0\n",
              "Price           0\n",
              "dtype: int64"
            ]
          },
          "metadata": {
            "tags": []
          },
          "execution_count": 10
        }
      ]
    },
    {
      "cell_type": "markdown",
      "metadata": {
        "id": "ROSAoeDZkOWQ"
      },
      "source": [
        "info"
      ]
    },
    {
      "cell_type": "code",
      "metadata": {
        "colab": {
          "base_uri": "https://localhost:8080/"
        },
        "id": "e3qx7qz0kSrG",
        "outputId": "974f1619-e7f5-4ec7-e747-cc6ac78ae327"
      },
      "source": [
        "train_data.info()"
      ],
      "execution_count": 11,
      "outputs": [
        {
          "output_type": "stream",
          "text": [
            "<class 'pandas.core.frame.DataFrame'>\n",
            "RangeIndex: 6237 entries, 0 to 6236\n",
            "Data columns (total 9 columns):\n",
            " #   Column        Non-Null Count  Dtype  \n",
            "---  ------        --------------  -----  \n",
            " 0   Title         6237 non-null   object \n",
            " 1   Author        6237 non-null   object \n",
            " 2   Edition       6237 non-null   object \n",
            " 3   Reviews       6237 non-null   object \n",
            " 4   Ratings       6237 non-null   object \n",
            " 5   Synopsis      6237 non-null   object \n",
            " 6   Genre         6237 non-null   object \n",
            " 7   BookCategory  6237 non-null   object \n",
            " 8   Price         6237 non-null   float64\n",
            "dtypes: float64(1), object(8)\n",
            "memory usage: 438.7+ KB\n"
          ],
          "name": "stdout"
        }
      ]
    },
    {
      "cell_type": "markdown",
      "metadata": {
        "id": "rjAeBlPQkXG1"
      },
      "source": [
        "describe"
      ]
    },
    {
      "cell_type": "code",
      "metadata": {
        "colab": {
          "base_uri": "https://localhost:8080/",
          "height": 441
        },
        "id": "dIUfDV-LkY71",
        "outputId": "7f7ce7b9-dac4-4fc3-edce-82ffe6a6a72b"
      },
      "source": [
        "train_data.describe(include='all')"
      ],
      "execution_count": 12,
      "outputs": [
        {
          "output_type": "execute_result",
          "data": {
            "text/html": [
              "<div>\n",
              "<style scoped>\n",
              "    .dataframe tbody tr th:only-of-type {\n",
              "        vertical-align: middle;\n",
              "    }\n",
              "\n",
              "    .dataframe tbody tr th {\n",
              "        vertical-align: top;\n",
              "    }\n",
              "\n",
              "    .dataframe thead th {\n",
              "        text-align: right;\n",
              "    }\n",
              "</style>\n",
              "<table border=\"1\" class=\"dataframe\">\n",
              "  <thead>\n",
              "    <tr style=\"text-align: right;\">\n",
              "      <th></th>\n",
              "      <th>Title</th>\n",
              "      <th>Author</th>\n",
              "      <th>Edition</th>\n",
              "      <th>Reviews</th>\n",
              "      <th>Ratings</th>\n",
              "      <th>Synopsis</th>\n",
              "      <th>Genre</th>\n",
              "      <th>BookCategory</th>\n",
              "      <th>Price</th>\n",
              "    </tr>\n",
              "  </thead>\n",
              "  <tbody>\n",
              "    <tr>\n",
              "      <th>count</th>\n",
              "      <td>6237</td>\n",
              "      <td>6237</td>\n",
              "      <td>6237</td>\n",
              "      <td>6237</td>\n",
              "      <td>6237</td>\n",
              "      <td>6237</td>\n",
              "      <td>6237</td>\n",
              "      <td>6237</td>\n",
              "      <td>6237.000000</td>\n",
              "    </tr>\n",
              "    <tr>\n",
              "      <th>unique</th>\n",
              "      <td>5568</td>\n",
              "      <td>3679</td>\n",
              "      <td>3370</td>\n",
              "      <td>36</td>\n",
              "      <td>342</td>\n",
              "      <td>5549</td>\n",
              "      <td>345</td>\n",
              "      <td>11</td>\n",
              "      <td>NaN</td>\n",
              "    </tr>\n",
              "    <tr>\n",
              "      <th>top</th>\n",
              "      <td>A Game of Thrones (A Song of Ice and Fire)</td>\n",
              "      <td>Agatha Christie</td>\n",
              "      <td>Paperback,– 5 Oct 2017</td>\n",
              "      <td>5.0 out of 5 stars</td>\n",
              "      <td>1 customer review</td>\n",
              "      <td>A Tinkle Double Digest is two Tinkle Digests i...</td>\n",
              "      <td>Action &amp; Adventure (Books)</td>\n",
              "      <td>Action &amp; Adventure</td>\n",
              "      <td>NaN</td>\n",
              "    </tr>\n",
              "    <tr>\n",
              "      <th>freq</th>\n",
              "      <td>4</td>\n",
              "      <td>69</td>\n",
              "      <td>48</td>\n",
              "      <td>1375</td>\n",
              "      <td>1040</td>\n",
              "      <td>8</td>\n",
              "      <td>947</td>\n",
              "      <td>818</td>\n",
              "      <td>NaN</td>\n",
              "    </tr>\n",
              "    <tr>\n",
              "      <th>mean</th>\n",
              "      <td>NaN</td>\n",
              "      <td>NaN</td>\n",
              "      <td>NaN</td>\n",
              "      <td>NaN</td>\n",
              "      <td>NaN</td>\n",
              "      <td>NaN</td>\n",
              "      <td>NaN</td>\n",
              "      <td>NaN</td>\n",
              "      <td>560.707516</td>\n",
              "    </tr>\n",
              "    <tr>\n",
              "      <th>std</th>\n",
              "      <td>NaN</td>\n",
              "      <td>NaN</td>\n",
              "      <td>NaN</td>\n",
              "      <td>NaN</td>\n",
              "      <td>NaN</td>\n",
              "      <td>NaN</td>\n",
              "      <td>NaN</td>\n",
              "      <td>NaN</td>\n",
              "      <td>690.110657</td>\n",
              "    </tr>\n",
              "    <tr>\n",
              "      <th>min</th>\n",
              "      <td>NaN</td>\n",
              "      <td>NaN</td>\n",
              "      <td>NaN</td>\n",
              "      <td>NaN</td>\n",
              "      <td>NaN</td>\n",
              "      <td>NaN</td>\n",
              "      <td>NaN</td>\n",
              "      <td>NaN</td>\n",
              "      <td>25.000000</td>\n",
              "    </tr>\n",
              "    <tr>\n",
              "      <th>25%</th>\n",
              "      <td>NaN</td>\n",
              "      <td>NaN</td>\n",
              "      <td>NaN</td>\n",
              "      <td>NaN</td>\n",
              "      <td>NaN</td>\n",
              "      <td>NaN</td>\n",
              "      <td>NaN</td>\n",
              "      <td>NaN</td>\n",
              "      <td>249.180000</td>\n",
              "    </tr>\n",
              "    <tr>\n",
              "      <th>50%</th>\n",
              "      <td>NaN</td>\n",
              "      <td>NaN</td>\n",
              "      <td>NaN</td>\n",
              "      <td>NaN</td>\n",
              "      <td>NaN</td>\n",
              "      <td>NaN</td>\n",
              "      <td>NaN</td>\n",
              "      <td>NaN</td>\n",
              "      <td>373.000000</td>\n",
              "    </tr>\n",
              "    <tr>\n",
              "      <th>75%</th>\n",
              "      <td>NaN</td>\n",
              "      <td>NaN</td>\n",
              "      <td>NaN</td>\n",
              "      <td>NaN</td>\n",
              "      <td>NaN</td>\n",
              "      <td>NaN</td>\n",
              "      <td>NaN</td>\n",
              "      <td>NaN</td>\n",
              "      <td>599.000000</td>\n",
              "    </tr>\n",
              "    <tr>\n",
              "      <th>max</th>\n",
              "      <td>NaN</td>\n",
              "      <td>NaN</td>\n",
              "      <td>NaN</td>\n",
              "      <td>NaN</td>\n",
              "      <td>NaN</td>\n",
              "      <td>NaN</td>\n",
              "      <td>NaN</td>\n",
              "      <td>NaN</td>\n",
              "      <td>14100.000000</td>\n",
              "    </tr>\n",
              "  </tbody>\n",
              "</table>\n",
              "</div>"
            ],
            "text/plain": [
              "                                             Title  ...         Price\n",
              "count                                         6237  ...   6237.000000\n",
              "unique                                        5568  ...           NaN\n",
              "top     A Game of Thrones (A Song of Ice and Fire)  ...           NaN\n",
              "freq                                             4  ...           NaN\n",
              "mean                                           NaN  ...    560.707516\n",
              "std                                            NaN  ...    690.110657\n",
              "min                                            NaN  ...     25.000000\n",
              "25%                                            NaN  ...    249.180000\n",
              "50%                                            NaN  ...    373.000000\n",
              "75%                                            NaN  ...    599.000000\n",
              "max                                            NaN  ...  14100.000000\n",
              "\n",
              "[11 rows x 9 columns]"
            ]
          },
          "metadata": {
            "tags": []
          },
          "execution_count": 12
        }
      ]
    },
    {
      "cell_type": "code",
      "metadata": {
        "colab": {
          "base_uri": "https://localhost:8080/",
          "height": 297
        },
        "id": "isfWTqqvcpXc",
        "outputId": "47cf4b38-727f-4769-e19b-292c0eb99d20"
      },
      "source": [
        "#Let's see the prices range\n",
        "\n",
        "import matplotlib.pyplot as plt          # package for visualization\n",
        "import seaborn as sns\n",
        "\n",
        "sns.histplot(train_data['Price'])             #histogram"
      ],
      "execution_count": 13,
      "outputs": [
        {
          "output_type": "execute_result",
          "data": {
            "text/plain": [
              "<matplotlib.axes._subplots.AxesSubplot at 0x7fcf9c6da320>"
            ]
          },
          "metadata": {
            "tags": []
          },
          "execution_count": 13
        },
        {
          "output_type": "display_data",
          "data": {
            "image/png": "[encoded data removed]",
            "text/plain": [
              "<Figure size 432x288 with 1 Axes>"
            ]
          },
          "metadata": {
            "tags": [],
            "needs_background": "light"
          }
        }
      ]
    },
    {
      "cell_type": "markdown",
      "metadata": {
        "id": "Up_3BRmLd83J"
      },
      "source": [
        "Observations for features"
      ]
    },
    {
      "cell_type": "code",
      "metadata": {
        "colab": {
          "base_uri": "https://localhost:8080/",
          "height": 295
        },
        "id": "oDNfe-AdjFo2",
        "outputId": "bb6ce85b-d52b-4f5e-b90d-b3ddf25fc1fa"
      },
      "source": [
        "print(train_data.columns)\n",
        "train_data.head(3)"
      ],
      "execution_count": 14,
      "outputs": [
        {
          "output_type": "stream",
          "text": [
            "Index(['Title', 'Author', 'Edition', 'Reviews', 'Ratings', 'Synopsis', 'Genre',\n",
            "       'BookCategory', 'Price'],\n",
            "      dtype='object')\n"
          ],
          "name": "stdout"
        },
        {
          "output_type": "execute_result",
          "data": {
            "text/html": [
              "<div>\n",
              "<style scoped>\n",
              "    .dataframe tbody tr th:only-of-type {\n",
              "        vertical-align: middle;\n",
              "    }\n",
              "\n",
              "    .dataframe tbody tr th {\n",
              "        vertical-align: top;\n",
              "    }\n",
              "\n",
              "    .dataframe thead th {\n",
              "        text-align: right;\n",
              "    }\n",
              "</style>\n",
              "<table border=\"1\" class=\"dataframe\">\n",
              "  <thead>\n",
              "    <tr style=\"text-align: right;\">\n",
              "      <th></th>\n",
              "      <th>Title</th>\n",
              "      <th>Author</th>\n",
              "      <th>Edition</th>\n",
              "      <th>Reviews</th>\n",
              "      <th>Ratings</th>\n",
              "      <th>Synopsis</th>\n",
              "      <th>Genre</th>\n",
              "      <th>BookCategory</th>\n",
              "      <th>Price</th>\n",
              "    </tr>\n",
              "  </thead>\n",
              "  <tbody>\n",
              "    <tr>\n",
              "      <th>0</th>\n",
              "      <td>The Prisoner's Gold (The Hunters 3)</td>\n",
              "      <td>Chris Kuzneski</td>\n",
              "      <td>Paperback,– 10 Mar 2016</td>\n",
              "      <td>4.0 out of 5 stars</td>\n",
              "      <td>8 customer reviews</td>\n",
              "      <td>THE HUNTERS return in their third brilliant no...</td>\n",
              "      <td>Action &amp; Adventure (Books)</td>\n",
              "      <td>Action &amp; Adventure</td>\n",
              "      <td>220.00</td>\n",
              "    </tr>\n",
              "    <tr>\n",
              "      <th>1</th>\n",
              "      <td>Guru Dutt: A Tragedy in Three Acts</td>\n",
              "      <td>Arun Khopkar</td>\n",
              "      <td>Paperback,– 7 Nov 2012</td>\n",
              "      <td>3.9 out of 5 stars</td>\n",
              "      <td>14 customer reviews</td>\n",
              "      <td>A layered portrait of a troubled genius for wh...</td>\n",
              "      <td>Cinema &amp; Broadcast (Books)</td>\n",
              "      <td>Biographies, Diaries &amp; True Accounts</td>\n",
              "      <td>202.93</td>\n",
              "    </tr>\n",
              "    <tr>\n",
              "      <th>2</th>\n",
              "      <td>Leviathan (Penguin Classics)</td>\n",
              "      <td>Thomas Hobbes</td>\n",
              "      <td>Paperback,– 25 Feb 1982</td>\n",
              "      <td>4.8 out of 5 stars</td>\n",
              "      <td>6 customer reviews</td>\n",
              "      <td>\"During the time men live without a common Pow...</td>\n",
              "      <td>International Relations</td>\n",
              "      <td>Humour</td>\n",
              "      <td>299.00</td>\n",
              "    </tr>\n",
              "  </tbody>\n",
              "</table>\n",
              "</div>"
            ],
            "text/plain": [
              "                                 Title  ...   Price\n",
              "0  The Prisoner's Gold (The Hunters 3)  ...  220.00\n",
              "1   Guru Dutt: A Tragedy in Three Acts  ...  202.93\n",
              "2         Leviathan (Penguin Classics)  ...  299.00\n",
              "\n",
              "[3 rows x 9 columns]"
            ]
          },
          "metadata": {
            "tags": []
          },
          "execution_count": 14
        }
      ]
    },
    {
      "cell_type": "markdown",
      "metadata": {
        "id": "gJ4BWKJajXNb"
      },
      "source": [
        "remove unwanted features from both set"
      ]
    },
    {
      "cell_type": "code",
      "metadata": {
        "id": "gWunvh_ylM66"
      },
      "source": [
        "train_data.drop('Synopsis',axis=1,inplace=True)             #axis=1 over the columns, and axis=0 over the rows\n",
        "test_data.drop('Synopsis',axis=1,inplace=True)"
      ],
      "execution_count": 15,
      "outputs": []
    },
    {
      "cell_type": "code",
      "metadata": {
        "colab": {
          "base_uri": "https://localhost:8080/"
        },
        "id": "6LNg7OfCm1gO",
        "outputId": "665d2cbf-ae4f-41c7-bed4-0c0057df1071"
      },
      "source": [
        "train_data.keys()"
      ],
      "execution_count": 16,
      "outputs": [
        {
          "output_type": "execute_result",
          "data": {
            "text/plain": [
              "Index(['Title', 'Author', 'Edition', 'Reviews', 'Ratings', 'Genre',\n",
              "       'BookCategory', 'Price'],\n",
              "      dtype='object')"
            ]
          },
          "metadata": {
            "tags": []
          },
          "execution_count": 16
        }
      ]
    },
    {
      "cell_type": "markdown",
      "metadata": {
        "id": "0Y3QSzS5nRhV"
      },
      "source": [
        "# preprocessing-cleaning,splitting"
      ]
    },
    {
      "cell_type": "code",
      "metadata": {
        "id": "-oJWS-e24WYF"
      },
      "source": [
        "#preprocessed train,test set\n",
        "X_train=pd.DataFrame()\n",
        "X_test=pd.DataFrame()"
      ],
      "execution_count": 17,
      "outputs": []
    },
    {
      "cell_type": "markdown",
      "metadata": {
        "id": "sr8In248pFca"
      },
      "source": [
        "Column wise preprocessing"
      ]
    },
    {
      "cell_type": "markdown",
      "metadata": {
        "id": "4JBij64Z1moe"
      },
      "source": [
        "## Title"
      ]
    },
    {
      "cell_type": "code",
      "metadata": {
        "colab": {
          "base_uri": "https://localhost:8080/"
        },
        "id": "J7oMJtXM1s4Z",
        "outputId": "03b1197c-dc09-46c3-805a-345f0e36e59c"
      },
      "source": [
        "#unique counts of title column,\n",
        "train_data['Title'].value_counts()"
      ],
      "execution_count": 18,
      "outputs": [
        {
          "output_type": "execute_result",
          "data": {
            "text/plain": [
              "A Game of Thrones (A Song of Ice and Fire)                      4\n",
              "Casino Royale: James Bond 007 (Vintage)                         4\n",
              "Shibumi: A Novel                                                3\n",
              "Year One (Chronicles of The One)                                3\n",
              "The Shape of Ideas: An Illustrated Exploration of Creativity    3\n",
              "                                                               ..\n",
              "Everything I Know About Love                                    1\n",
              "Water: Asia's New Battleground                                  1\n",
              "Turning Point                                                   1\n",
              "Molecules of Emotion: The Science Behind Mind-Body Medicine     1\n",
              "Bought To Carry His Heir (Harlequin Modern)                     1\n",
              "Name: Title, Length: 5568, dtype: int64"
            ]
          },
          "metadata": {
            "tags": []
          },
          "execution_count": 18
        }
      ]
    },
    {
      "cell_type": "code",
      "metadata": {
        "id": "iSMHXpAS2Skp"
      },
      "source": [
        "#there are 5568 unique train titles"
      ],
      "execution_count": 19,
      "outputs": []
    },
    {
      "cell_type": "code",
      "metadata": {
        "colab": {
          "base_uri": "https://localhost:8080/"
        },
        "id": "yEra0qqs2hhB",
        "outputId": "c1199f18-6429-444a-f5a2-46c0cdb43cf4"
      },
      "source": [
        "#let's see test titles,\n",
        "test_data['Title'].value_counts()"
      ],
      "execution_count": 20,
      "outputs": [
        {
          "output_type": "execute_result",
          "data": {
            "text/plain": [
              "Doing Justice: A Prosecutor’s Thoughts on Crime, Punishment and the Rule of Law    3\n",
              "The Five Greatest Warriors (Jack West Series)                                      3\n",
              "Storm and Silence: Volume 1 (Storm and Silence Saga)                               2\n",
              "Ready Player One                                                                   2\n",
              "Asterix and the Normans: Album 9                                                   2\n",
              "                                                                                  ..\n",
              "The Masqueraders                                                                   1\n",
              "Pandolfini's Ultimate Guide to Chess (Fireside Chess Library)                      1\n",
              "Boruto - Vol. 1                                                                    1\n",
              "Dragon Ball (3-in-1 Edition), Vol. 6: Includes vols. 16, 17 & 18                   1\n",
              "Precious Gifts                                                                     1\n",
              "Name: Title, Length: 1521, dtype: int64"
            ]
          },
          "metadata": {
            "tags": []
          },
          "execution_count": 20
        }
      ]
    },
    {
      "cell_type": "code",
      "metadata": {
        "id": "3II0tpjZ2qQ_"
      },
      "source": [
        "#1521 unique test titles"
      ],
      "execution_count": 21,
      "outputs": []
    },
    {
      "cell_type": "code",
      "metadata": {
        "id": "a5rgjCjQ20Kq"
      },
      "source": [
        "titles=list(train_data['Title'])\n",
        "titles=[title.strip().upper() for title in titles]"
      ],
      "execution_count": 22,
      "outputs": []
    },
    {
      "cell_type": "code",
      "metadata": {
        "colab": {
          "base_uri": "https://localhost:8080/",
          "height": 419
        },
        "id": "GO6MMKAw5F_6",
        "outputId": "6f794cdb-4dde-4d15-92d0-9ee7bb39879b"
      },
      "source": [
        "X_train['Title']=titles\n",
        "X_train"
      ],
      "execution_count": 23,
      "outputs": [
        {
          "output_type": "execute_result",
          "data": {
            "text/html": [
              "<div>\n",
              "<style scoped>\n",
              "    .dataframe tbody tr th:only-of-type {\n",
              "        vertical-align: middle;\n",
              "    }\n",
              "\n",
              "    .dataframe tbody tr th {\n",
              "        vertical-align: top;\n",
              "    }\n",
              "\n",
              "    .dataframe thead th {\n",
              "        text-align: right;\n",
              "    }\n",
              "</style>\n",
              "<table border=\"1\" class=\"dataframe\">\n",
              "  <thead>\n",
              "    <tr style=\"text-align: right;\">\n",
              "      <th></th>\n",
              "      <th>Title</th>\n",
              "    </tr>\n",
              "  </thead>\n",
              "  <tbody>\n",
              "    <tr>\n",
              "      <th>0</th>\n",
              "      <td>THE PRISONER'S GOLD (THE HUNTERS 3)</td>\n",
              "    </tr>\n",
              "    <tr>\n",
              "      <th>1</th>\n",
              "      <td>GURU DUTT: A TRAGEDY IN THREE ACTS</td>\n",
              "    </tr>\n",
              "    <tr>\n",
              "      <th>2</th>\n",
              "      <td>LEVIATHAN (PENGUIN CLASSICS)</td>\n",
              "    </tr>\n",
              "    <tr>\n",
              "      <th>3</th>\n",
              "      <td>A POCKET FULL OF RYE (MISS MARPLE)</td>\n",
              "    </tr>\n",
              "    <tr>\n",
              "      <th>4</th>\n",
              "      <td>LIFE 70 YEARS OF EXTRAORDINARY PHOTOGRAPHY</td>\n",
              "    </tr>\n",
              "    <tr>\n",
              "      <th>...</th>\n",
              "      <td>...</td>\n",
              "    </tr>\n",
              "    <tr>\n",
              "      <th>6232</th>\n",
              "      <td>HUMANS: A BRIEF HISTORY OF HOW WE F*CKED IT AL...</td>\n",
              "    </tr>\n",
              "    <tr>\n",
              "      <th>6233</th>\n",
              "      <td>THE CHEMIST</td>\n",
              "    </tr>\n",
              "    <tr>\n",
              "      <th>6234</th>\n",
              "      <td>THE DUKE AND I: NUMBER 1 IN SERIES (BRIDGERTON...</td>\n",
              "    </tr>\n",
              "    <tr>\n",
              "      <th>6235</th>\n",
              "      <td>FROSTFIRE (KANIN CHRONICLES)</td>\n",
              "    </tr>\n",
              "    <tr>\n",
              "      <th>6236</th>\n",
              "      <td>THE FIRST ORDER (SAM CAPRA)</td>\n",
              "    </tr>\n",
              "  </tbody>\n",
              "</table>\n",
              "<p>6237 rows × 1 columns</p>\n",
              "</div>"
            ],
            "text/plain": [
              "                                                  Title\n",
              "0                   THE PRISONER'S GOLD (THE HUNTERS 3)\n",
              "1                    GURU DUTT: A TRAGEDY IN THREE ACTS\n",
              "2                          LEVIATHAN (PENGUIN CLASSICS)\n",
              "3                    A POCKET FULL OF RYE (MISS MARPLE)\n",
              "4            LIFE 70 YEARS OF EXTRAORDINARY PHOTOGRAPHY\n",
              "...                                                 ...\n",
              "6232  HUMANS: A BRIEF HISTORY OF HOW WE F*CKED IT AL...\n",
              "6233                                        THE CHEMIST\n",
              "6234  THE DUKE AND I: NUMBER 1 IN SERIES (BRIDGERTON...\n",
              "6235                       FROSTFIRE (KANIN CHRONICLES)\n",
              "6236                        THE FIRST ORDER (SAM CAPRA)\n",
              "\n",
              "[6237 rows x 1 columns]"
            ]
          },
          "metadata": {
            "tags": []
          },
          "execution_count": 23
        }
      ]
    },
    {
      "cell_type": "code",
      "metadata": {
        "colab": {
          "base_uri": "https://localhost:8080/",
          "height": 419
        },
        "id": "N6k0F7H25XYg",
        "outputId": "e1a8ea87-c22c-4360-a633-4a420262ffe3"
      },
      "source": [
        "#for test set\n",
        "titles=list(test_data['Title'])\n",
        "titles=[title.strip().upper() for title in titles]\n",
        "X_test['Title']=titles\n",
        "X_test"
      ],
      "execution_count": 24,
      "outputs": [
        {
          "output_type": "execute_result",
          "data": {
            "text/html": [
              "<div>\n",
              "<style scoped>\n",
              "    .dataframe tbody tr th:only-of-type {\n",
              "        vertical-align: middle;\n",
              "    }\n",
              "\n",
              "    .dataframe tbody tr th {\n",
              "        vertical-align: top;\n",
              "    }\n",
              "\n",
              "    .dataframe thead th {\n",
              "        text-align: right;\n",
              "    }\n",
              "</style>\n",
              "<table border=\"1\" class=\"dataframe\">\n",
              "  <thead>\n",
              "    <tr style=\"text-align: right;\">\n",
              "      <th></th>\n",
              "      <th>Title</th>\n",
              "    </tr>\n",
              "  </thead>\n",
              "  <tbody>\n",
              "    <tr>\n",
              "      <th>0</th>\n",
              "      <td>THE COMPLETE SHERLOCK HOLMES: 2 BOXES SETS</td>\n",
              "    </tr>\n",
              "    <tr>\n",
              "      <th>1</th>\n",
              "      <td>LEARN DOCKER - FUNDAMENTALS OF DOCKER 18.X: EV...</td>\n",
              "    </tr>\n",
              "    <tr>\n",
              "      <th>2</th>\n",
              "      <td>BIG GIRL</td>\n",
              "    </tr>\n",
              "    <tr>\n",
              "      <th>3</th>\n",
              "      <td>THINK PYTHON: HOW TO THINK LIKE A COMPUTER SCI...</td>\n",
              "    </tr>\n",
              "    <tr>\n",
              "      <th>4</th>\n",
              "      <td>OXFORD WORD SKILLS: ADVANCED - IDIOMS &amp; PHRASA...</td>\n",
              "    </tr>\n",
              "    <tr>\n",
              "      <th>...</th>\n",
              "      <td>...</td>\n",
              "    </tr>\n",
              "    <tr>\n",
              "      <th>1555</th>\n",
              "      <td>100 THINGS EVERY DESIGNER NEEDS TO KNOW ABOUT ...</td>\n",
              "    </tr>\n",
              "    <tr>\n",
              "      <th>1556</th>\n",
              "      <td>MODERN LETTER WRITING COURSE: PERSONAL, BUSINE...</td>\n",
              "    </tr>\n",
              "    <tr>\n",
              "      <th>1557</th>\n",
              "      <td>THE KITE RUNNER GRAPHIC NOVEL</td>\n",
              "    </tr>\n",
              "    <tr>\n",
              "      <th>1558</th>\n",
              "      <td>PANZER LEADER (PENGUIN WORLD WAR II COLLECTION)</td>\n",
              "    </tr>\n",
              "    <tr>\n",
              "      <th>1559</th>\n",
              "      <td>COMPLETE SPANISH STEP-BY-STEP</td>\n",
              "    </tr>\n",
              "  </tbody>\n",
              "</table>\n",
              "<p>1560 rows × 1 columns</p>\n",
              "</div>"
            ],
            "text/plain": [
              "                                                  Title\n",
              "0            THE COMPLETE SHERLOCK HOLMES: 2 BOXES SETS\n",
              "1     LEARN DOCKER - FUNDAMENTALS OF DOCKER 18.X: EV...\n",
              "2                                              BIG GIRL\n",
              "3     THINK PYTHON: HOW TO THINK LIKE A COMPUTER SCI...\n",
              "4     OXFORD WORD SKILLS: ADVANCED - IDIOMS & PHRASA...\n",
              "...                                                 ...\n",
              "1555  100 THINGS EVERY DESIGNER NEEDS TO KNOW ABOUT ...\n",
              "1556  MODERN LETTER WRITING COURSE: PERSONAL, BUSINE...\n",
              "1557                      THE KITE RUNNER GRAPHIC NOVEL\n",
              "1558    PANZER LEADER (PENGUIN WORLD WAR II COLLECTION)\n",
              "1559                      COMPLETE SPANISH STEP-BY-STEP\n",
              "\n",
              "[1560 rows x 1 columns]"
            ]
          },
          "metadata": {
            "tags": []
          },
          "execution_count": 24
        }
      ]
    },
    {
      "cell_type": "markdown",
      "metadata": {
        "id": "lTIFk9f_6Lle"
      },
      "source": [
        "## Author , Genre, BookCategory"
      ]
    },
    {
      "cell_type": "markdown",
      "metadata": {
        "id": "o-m_Qejf6dzC"
      },
      "source": [
        "here we are splitting these 3 columns with same rules. bcz both columns have multiple names."
      ]
    },
    {
      "cell_type": "markdown",
      "metadata": {
        "id": "b_fUxKss7UbX"
      },
      "source": [
        "#### Author"
      ]
    },
    {
      "cell_type": "code",
      "metadata": {
        "colab": {
          "base_uri": "https://localhost:8080/"
        },
        "id": "Uqd0LrQh8Amf",
        "outputId": "4a0aa215-aaf3-4e84-9189-6af0620bef05"
      },
      "source": [
        "train_data['Author']"
      ],
      "execution_count": 25,
      "outputs": [
        {
          "output_type": "execute_result",
          "data": {
            "text/plain": [
              "0        Chris Kuzneski\n",
              "1          Arun Khopkar\n",
              "2         Thomas Hobbes\n",
              "3       Agatha Christie\n",
              "4       Editors of Life\n",
              "             ...       \n",
              "6232       Tom Phillips\n",
              "6233    Stephenie Meyer\n",
              "6234        Julia Quinn\n",
              "6235     Amanda Hocking\n",
              "6236        Jeff Abbott\n",
              "Name: Author, Length: 6237, dtype: object"
            ]
          },
          "metadata": {
            "tags": []
          },
          "execution_count": 25
        }
      ]
    },
    {
      "cell_type": "code",
      "metadata": {
        "id": "Smi6488x7mZX"
      },
      "source": [
        "#we have to find maximum number of names in a single observation, bcz some books has multiple authors"
      ],
      "execution_count": 26,
      "outputs": []
    },
    {
      "cell_type": "code",
      "metadata": {
        "id": "91DbYE-Q7uvN"
      },
      "source": [
        "# we can add / concat /extend with test autor names as well to find max authors per eg."
      ],
      "execution_count": 27,
      "outputs": []
    },
    {
      "cell_type": "code",
      "metadata": {
        "colab": {
          "base_uri": "https://localhost:8080/"
        },
        "id": "AX3nIJjV_c_3",
        "outputId": "71944443-e6d3-41ec-e312-d9f4c3e2a36e"
      },
      "source": [
        "Authors1=list(train_data['Author'])\n",
        "Authors2=list(test_data['Author'])\n",
        "\n",
        "Authors1.extend(Authors2)\n",
        "len(Authors1)"
      ],
      "execution_count": 28,
      "outputs": [
        {
          "output_type": "execute_result",
          "data": {
            "text/plain": [
              "7797"
            ]
          },
          "metadata": {
            "tags": []
          },
          "execution_count": 28
        }
      ]
    },
    {
      "cell_type": "code",
      "metadata": {
        "colab": {
          "base_uri": "https://localhost:8080/"
        },
        "id": "ZGPeFO6E_-IW",
        "outputId": "14ebb0f2-a0a3-4629-8b47-6f056d03253a"
      },
      "source": [
        "Authors1[:6]               #first 6"
      ],
      "execution_count": 29,
      "outputs": [
        {
          "output_type": "execute_result",
          "data": {
            "text/plain": [
              "['Chris Kuzneski',\n",
              " 'Arun Khopkar',\n",
              " 'Thomas Hobbes',\n",
              " 'Agatha Christie',\n",
              " 'Editors of Life',\n",
              " 'Danny Dreyer']"
            ]
          },
          "metadata": {
            "tags": []
          },
          "execution_count": 29
        }
      ]
    },
    {
      "cell_type": "code",
      "metadata": {
        "id": "uZZXRdqrASNQ"
      },
      "source": [
        "# now we have a list contains all authors.\n",
        "#lets make columns"
      ],
      "execution_count": 30,
      "outputs": []
    },
    {
      "cell_type": "code",
      "metadata": {
        "id": "AV-sQv0kCDUQ"
      },
      "source": [
        "# we seen some observation has multiple author names by writing coma separated."
      ],
      "execution_count": 31,
      "outputs": []
    },
    {
      "cell_type": "code",
      "metadata": {
        "colab": {
          "base_uri": "https://localhost:8080/"
        },
        "id": "T1_dO8yXCSMV",
        "outputId": "92077d5e-cc49-416f-9f13-9396eeeecca0"
      },
      "source": [
        "#find max authors per an eg.\n",
        "Authors_list=[i.split(',') for i in Authors1]\n",
        "max=1\n",
        "for i in Authors_list:\n",
        "  if len(i) >= max:\n",
        "    max=len(i)\n",
        "print(f'maximum number of authors in an eg : {max}')\n"
      ],
      "execution_count": 32,
      "outputs": [
        {
          "output_type": "stream",
          "text": [
            "maximum number of authors in an eg : 7\n"
          ],
          "name": "stdout"
        }
      ]
    },
    {
      "cell_type": "code",
      "metadata": {
        "colab": {
          "base_uri": "https://localhost:8080/"
        },
        "id": "Js12YVq7CrYP",
        "outputId": "8ac97c9d-3bcf-4841-cc92-50a3976a2bac"
      },
      "source": [
        "#let's see the corresponding eg:\n",
        "for i in range(len(Authors_list)):\n",
        "  if len(Authors_list[i])==7:\n",
        "    print(f'{i}th :')\n",
        "    print(Authors_list[i])"
      ],
      "execution_count": 33,
      "outputs": [
        {
          "output_type": "stream",
          "text": [
            "7008th :\n",
            "['Richard', 'Harris', ' Sam', 'Dennett', ' Daniel C.', 'Hitchens', ' Christopher Dawkins']\n"
          ],
          "name": "stdout"
        }
      ]
    },
    {
      "cell_type": "code",
      "metadata": {
        "id": "VQek3pNNEaAA"
      },
      "source": [
        "#now have to make empty columns and filling"
      ],
      "execution_count": 34,
      "outputs": []
    },
    {
      "cell_type": "code",
      "metadata": {
        "id": "BJlu5JDYIram"
      },
      "source": [
        "a1=[]\n",
        "a2=[]\n",
        "a3=[]\n",
        "a4=[]\n",
        "a5=[]\n",
        "a6=[]\n",
        "a7=[]"
      ],
      "execution_count": 35,
      "outputs": []
    },
    {
      "cell_type": "code",
      "metadata": {
        "id": "Ez-zpU-8JGA3"
      },
      "source": [
        "authors=list(train_data['Author'])\n",
        "for i in authors:\n",
        "  try:\n",
        "    a1.append(i.split(',')[0].strip().upper())\n",
        "  except:\n",
        "    a1.append('NONE')\n",
        "  try:\n",
        "    a2.append(i.split(',')[1].strip().upper())\n",
        "  except:\n",
        "    a2.append('NONE')\n",
        "  try:\n",
        "    a3.append(i.split(',')[2].strip().upper())\n",
        "  except:\n",
        "    a3.append('NONE')\n",
        "  try:\n",
        "    a4.append(i.split(',')[3].strip().upper())\n",
        "  except:\n",
        "    a4.append('NONE')\n",
        "  try:\n",
        "    a5.append(i.split(',')[4].strip().upper())\n",
        "  except:\n",
        "    a5.append('NONE')\n",
        "  try:\n",
        "    a6.append(i.split(',')[5].strip().upper())\n",
        "  except:\n",
        "    a6.append('NONE')\n",
        "  try:\n",
        "    a7.append(i.split(',')[6].strip().upper())\n",
        "  except:\n",
        "    a7.append('NONE')                        \n",
        "  "
      ],
      "execution_count": 36,
      "outputs": []
    },
    {
      "cell_type": "code",
      "metadata": {
        "id": "vKQuYEvjKz97"
      },
      "source": [
        "X_train['a1']=a1\n",
        "X_train['a2']=a2\n",
        "X_train['a3']=a3\n",
        "X_train['a4']=a4\n",
        "X_train['a5']=a5\n",
        "X_train['a6']=a6\n",
        "X_train['a7']=a7"
      ],
      "execution_count": 37,
      "outputs": []
    },
    {
      "cell_type": "code",
      "metadata": {
        "colab": {
          "base_uri": "https://localhost:8080/",
          "height": 504
        },
        "id": "h6Zr8MBjLTo_",
        "outputId": "b75eac92-2dca-4c92-a1d5-b982a30d48c2"
      },
      "source": [
        "X_train"
      ],
      "execution_count": 38,
      "outputs": [
        {
          "output_type": "execute_result",
          "data": {
            "text/html": [
              "<div>\n",
              "<style scoped>\n",
              "    .dataframe tbody tr th:only-of-type {\n",
              "        vertical-align: middle;\n",
              "    }\n",
              "\n",
              "    .dataframe tbody tr th {\n",
              "        vertical-align: top;\n",
              "    }\n",
              "\n",
              "    .dataframe thead th {\n",
              "        text-align: right;\n",
              "    }\n",
              "</style>\n",
              "<table border=\"1\" class=\"dataframe\">\n",
              "  <thead>\n",
              "    <tr style=\"text-align: right;\">\n",
              "      <th></th>\n",
              "      <th>Title</th>\n",
              "      <th>a1</th>\n",
              "      <th>a2</th>\n",
              "      <th>a3</th>\n",
              "      <th>a4</th>\n",
              "      <th>a5</th>\n",
              "      <th>a6</th>\n",
              "      <th>a7</th>\n",
              "    </tr>\n",
              "  </thead>\n",
              "  <tbody>\n",
              "    <tr>\n",
              "      <th>0</th>\n",
              "      <td>THE PRISONER'S GOLD (THE HUNTERS 3)</td>\n",
              "      <td>CHRIS KUZNESKI</td>\n",
              "      <td>NONE</td>\n",
              "      <td>NONE</td>\n",
              "      <td>NONE</td>\n",
              "      <td>NONE</td>\n",
              "      <td>NONE</td>\n",
              "      <td>NONE</td>\n",
              "    </tr>\n",
              "    <tr>\n",
              "      <th>1</th>\n",
              "      <td>GURU DUTT: A TRAGEDY IN THREE ACTS</td>\n",
              "      <td>ARUN KHOPKAR</td>\n",
              "      <td>NONE</td>\n",
              "      <td>NONE</td>\n",
              "      <td>NONE</td>\n",
              "      <td>NONE</td>\n",
              "      <td>NONE</td>\n",
              "      <td>NONE</td>\n",
              "    </tr>\n",
              "    <tr>\n",
              "      <th>2</th>\n",
              "      <td>LEVIATHAN (PENGUIN CLASSICS)</td>\n",
              "      <td>THOMAS HOBBES</td>\n",
              "      <td>NONE</td>\n",
              "      <td>NONE</td>\n",
              "      <td>NONE</td>\n",
              "      <td>NONE</td>\n",
              "      <td>NONE</td>\n",
              "      <td>NONE</td>\n",
              "    </tr>\n",
              "    <tr>\n",
              "      <th>3</th>\n",
              "      <td>A POCKET FULL OF RYE (MISS MARPLE)</td>\n",
              "      <td>AGATHA CHRISTIE</td>\n",
              "      <td>NONE</td>\n",
              "      <td>NONE</td>\n",
              "      <td>NONE</td>\n",
              "      <td>NONE</td>\n",
              "      <td>NONE</td>\n",
              "      <td>NONE</td>\n",
              "    </tr>\n",
              "    <tr>\n",
              "      <th>4</th>\n",
              "      <td>LIFE 70 YEARS OF EXTRAORDINARY PHOTOGRAPHY</td>\n",
              "      <td>EDITORS OF LIFE</td>\n",
              "      <td>NONE</td>\n",
              "      <td>NONE</td>\n",
              "      <td>NONE</td>\n",
              "      <td>NONE</td>\n",
              "      <td>NONE</td>\n",
              "      <td>NONE</td>\n",
              "    </tr>\n",
              "    <tr>\n",
              "      <th>...</th>\n",
              "      <td>...</td>\n",
              "      <td>...</td>\n",
              "      <td>...</td>\n",
              "      <td>...</td>\n",
              "      <td>...</td>\n",
              "      <td>...</td>\n",
              "      <td>...</td>\n",
              "      <td>...</td>\n",
              "    </tr>\n",
              "    <tr>\n",
              "      <th>6232</th>\n",
              "      <td>HUMANS: A BRIEF HISTORY OF HOW WE F*CKED IT AL...</td>\n",
              "      <td>TOM PHILLIPS</td>\n",
              "      <td>NONE</td>\n",
              "      <td>NONE</td>\n",
              "      <td>NONE</td>\n",
              "      <td>NONE</td>\n",
              "      <td>NONE</td>\n",
              "      <td>NONE</td>\n",
              "    </tr>\n",
              "    <tr>\n",
              "      <th>6233</th>\n",
              "      <td>THE CHEMIST</td>\n",
              "      <td>STEPHENIE MEYER</td>\n",
              "      <td>NONE</td>\n",
              "      <td>NONE</td>\n",
              "      <td>NONE</td>\n",
              "      <td>NONE</td>\n",
              "      <td>NONE</td>\n",
              "      <td>NONE</td>\n",
              "    </tr>\n",
              "    <tr>\n",
              "      <th>6234</th>\n",
              "      <td>THE DUKE AND I: NUMBER 1 IN SERIES (BRIDGERTON...</td>\n",
              "      <td>JULIA QUINN</td>\n",
              "      <td>NONE</td>\n",
              "      <td>NONE</td>\n",
              "      <td>NONE</td>\n",
              "      <td>NONE</td>\n",
              "      <td>NONE</td>\n",
              "      <td>NONE</td>\n",
              "    </tr>\n",
              "    <tr>\n",
              "      <th>6235</th>\n",
              "      <td>FROSTFIRE (KANIN CHRONICLES)</td>\n",
              "      <td>AMANDA HOCKING</td>\n",
              "      <td>NONE</td>\n",
              "      <td>NONE</td>\n",
              "      <td>NONE</td>\n",
              "      <td>NONE</td>\n",
              "      <td>NONE</td>\n",
              "      <td>NONE</td>\n",
              "    </tr>\n",
              "    <tr>\n",
              "      <th>6236</th>\n",
              "      <td>THE FIRST ORDER (SAM CAPRA)</td>\n",
              "      <td>JEFF ABBOTT</td>\n",
              "      <td>NONE</td>\n",
              "      <td>NONE</td>\n",
              "      <td>NONE</td>\n",
              "      <td>NONE</td>\n",
              "      <td>NONE</td>\n",
              "      <td>NONE</td>\n",
              "    </tr>\n",
              "  </tbody>\n",
              "</table>\n",
              "<p>6237 rows × 8 columns</p>\n",
              "</div>"
            ],
            "text/plain": [
              "                                                  Title  ...    a7\n",
              "0                   THE PRISONER'S GOLD (THE HUNTERS 3)  ...  NONE\n",
              "1                    GURU DUTT: A TRAGEDY IN THREE ACTS  ...  NONE\n",
              "2                          LEVIATHAN (PENGUIN CLASSICS)  ...  NONE\n",
              "3                    A POCKET FULL OF RYE (MISS MARPLE)  ...  NONE\n",
              "4            LIFE 70 YEARS OF EXTRAORDINARY PHOTOGRAPHY  ...  NONE\n",
              "...                                                 ...  ...   ...\n",
              "6232  HUMANS: A BRIEF HISTORY OF HOW WE F*CKED IT AL...  ...  NONE\n",
              "6233                                        THE CHEMIST  ...  NONE\n",
              "6234  THE DUKE AND I: NUMBER 1 IN SERIES (BRIDGERTON...  ...  NONE\n",
              "6235                       FROSTFIRE (KANIN CHRONICLES)  ...  NONE\n",
              "6236                        THE FIRST ORDER (SAM CAPRA)  ...  NONE\n",
              "\n",
              "[6237 rows x 8 columns]"
            ]
          },
          "metadata": {
            "tags": []
          },
          "execution_count": 38
        }
      ]
    },
    {
      "cell_type": "code",
      "metadata": {
        "id": "rN1nxz1DLU5X"
      },
      "source": [
        "#same for test set"
      ],
      "execution_count": 39,
      "outputs": []
    },
    {
      "cell_type": "code",
      "metadata": {
        "id": "7wFftj9GLZQF"
      },
      "source": [
        "a1=[]\n",
        "a2=[]\n",
        "a3=[]\n",
        "a4=[]\n",
        "a5=[]\n",
        "a6=[]\n",
        "a7=[]\n",
        "\n",
        "authors=list(test_data['Author'])\n",
        "for i in authors:\n",
        "  try:\n",
        "    a1.append(i.split(',')[0].strip().upper())\n",
        "  except:\n",
        "    a1.append('NONE')\n",
        "  try:\n",
        "    a2.append(i.split(',')[1].strip().upper())\n",
        "  except:\n",
        "    a2.append('NONE')\n",
        "  try:\n",
        "    a3.append(i.split(',')[2].strip().upper())\n",
        "  except:\n",
        "    a3.append('NONE')\n",
        "  try:\n",
        "    a4.append(i.split(',')[3].strip().upper())\n",
        "  except:\n",
        "    a4.append('NONE')\n",
        "  try:\n",
        "    a5.append(i.split(',')[4].strip().upper())\n",
        "  except:\n",
        "    a5.append('NONE')\n",
        "  try:\n",
        "    a6.append(i.split(',')[5].strip().upper())\n",
        "  except:\n",
        "    a6.append('NONE')\n",
        "  try:\n",
        "    a7.append(i.split(',')[6].strip().upper())\n",
        "  except:\n",
        "    a7.append('NONE')\n",
        "\n",
        "X_test['a1']=a1\n",
        "X_test['a2']=a2\n",
        "X_test['a3']=a3\n",
        "X_test['a4']=a4\n",
        "X_test['a5']=a5\n",
        "X_test['a6']=a6\n",
        "X_test['a7']=a7    "
      ],
      "execution_count": 40,
      "outputs": []
    },
    {
      "cell_type": "code",
      "metadata": {
        "colab": {
          "base_uri": "https://localhost:8080/",
          "height": 538
        },
        "id": "7omUx5rML3Br",
        "outputId": "48cb4930-1d73-4187-ce21-79c5cbb5bf6f"
      },
      "source": [
        "X_test"
      ],
      "execution_count": 41,
      "outputs": [
        {
          "output_type": "execute_result",
          "data": {
            "text/html": [
              "<div>\n",
              "<style scoped>\n",
              "    .dataframe tbody tr th:only-of-type {\n",
              "        vertical-align: middle;\n",
              "    }\n",
              "\n",
              "    .dataframe tbody tr th {\n",
              "        vertical-align: top;\n",
              "    }\n",
              "\n",
              "    .dataframe thead th {\n",
              "        text-align: right;\n",
              "    }\n",
              "</style>\n",
              "<table border=\"1\" class=\"dataframe\">\n",
              "  <thead>\n",
              "    <tr style=\"text-align: right;\">\n",
              "      <th></th>\n",
              "      <th>Title</th>\n",
              "      <th>a1</th>\n",
              "      <th>a2</th>\n",
              "      <th>a3</th>\n",
              "      <th>a4</th>\n",
              "      <th>a5</th>\n",
              "      <th>a6</th>\n",
              "      <th>a7</th>\n",
              "    </tr>\n",
              "  </thead>\n",
              "  <tbody>\n",
              "    <tr>\n",
              "      <th>0</th>\n",
              "      <td>THE COMPLETE SHERLOCK HOLMES: 2 BOXES SETS</td>\n",
              "      <td>SIR ARTHUR CONAN DOYLE</td>\n",
              "      <td>NONE</td>\n",
              "      <td>NONE</td>\n",
              "      <td>NONE</td>\n",
              "      <td>NONE</td>\n",
              "      <td>NONE</td>\n",
              "      <td>NONE</td>\n",
              "    </tr>\n",
              "    <tr>\n",
              "      <th>1</th>\n",
              "      <td>LEARN DOCKER - FUNDAMENTALS OF DOCKER 18.X: EV...</td>\n",
              "      <td>GABRIEL N. SCHENKER</td>\n",
              "      <td>NONE</td>\n",
              "      <td>NONE</td>\n",
              "      <td>NONE</td>\n",
              "      <td>NONE</td>\n",
              "      <td>NONE</td>\n",
              "      <td>NONE</td>\n",
              "    </tr>\n",
              "    <tr>\n",
              "      <th>2</th>\n",
              "      <td>BIG GIRL</td>\n",
              "      <td>DANIELLE STEEL</td>\n",
              "      <td>NONE</td>\n",
              "      <td>NONE</td>\n",
              "      <td>NONE</td>\n",
              "      <td>NONE</td>\n",
              "      <td>NONE</td>\n",
              "      <td>NONE</td>\n",
              "    </tr>\n",
              "    <tr>\n",
              "      <th>3</th>\n",
              "      <td>THINK PYTHON: HOW TO THINK LIKE A COMPUTER SCI...</td>\n",
              "      <td>ALLEN B. DOWNEY</td>\n",
              "      <td>NONE</td>\n",
              "      <td>NONE</td>\n",
              "      <td>NONE</td>\n",
              "      <td>NONE</td>\n",
              "      <td>NONE</td>\n",
              "      <td>NONE</td>\n",
              "    </tr>\n",
              "    <tr>\n",
              "      <th>4</th>\n",
              "      <td>OXFORD WORD SKILLS: ADVANCED - IDIOMS &amp; PHRASA...</td>\n",
              "      <td>REDMAN GAIRNS</td>\n",
              "      <td>NONE</td>\n",
              "      <td>NONE</td>\n",
              "      <td>NONE</td>\n",
              "      <td>NONE</td>\n",
              "      <td>NONE</td>\n",
              "      <td>NONE</td>\n",
              "    </tr>\n",
              "    <tr>\n",
              "      <th>...</th>\n",
              "      <td>...</td>\n",
              "      <td>...</td>\n",
              "      <td>...</td>\n",
              "      <td>...</td>\n",
              "      <td>...</td>\n",
              "      <td>...</td>\n",
              "      <td>...</td>\n",
              "      <td>...</td>\n",
              "    </tr>\n",
              "    <tr>\n",
              "      <th>1555</th>\n",
              "      <td>100 THINGS EVERY DESIGNER NEEDS TO KNOW ABOUT ...</td>\n",
              "      <td>SUSAN WEINSCHENK</td>\n",
              "      <td>NONE</td>\n",
              "      <td>NONE</td>\n",
              "      <td>NONE</td>\n",
              "      <td>NONE</td>\n",
              "      <td>NONE</td>\n",
              "      <td>NONE</td>\n",
              "    </tr>\n",
              "    <tr>\n",
              "      <th>1556</th>\n",
              "      <td>MODERN LETTER WRITING COURSE: PERSONAL, BUSINE...</td>\n",
              "      <td>ARUN SAGAR</td>\n",
              "      <td>NONE</td>\n",
              "      <td>NONE</td>\n",
              "      <td>NONE</td>\n",
              "      <td>NONE</td>\n",
              "      <td>NONE</td>\n",
              "      <td>NONE</td>\n",
              "    </tr>\n",
              "    <tr>\n",
              "      <th>1557</th>\n",
              "      <td>THE KITE RUNNER GRAPHIC NOVEL</td>\n",
              "      <td>KHALED HOSSEINI</td>\n",
              "      <td>NONE</td>\n",
              "      <td>NONE</td>\n",
              "      <td>NONE</td>\n",
              "      <td>NONE</td>\n",
              "      <td>NONE</td>\n",
              "      <td>NONE</td>\n",
              "    </tr>\n",
              "    <tr>\n",
              "      <th>1558</th>\n",
              "      <td>PANZER LEADER (PENGUIN WORLD WAR II COLLECTION)</td>\n",
              "      <td>HEINZ GUDERIAN</td>\n",
              "      <td>NONE</td>\n",
              "      <td>NONE</td>\n",
              "      <td>NONE</td>\n",
              "      <td>NONE</td>\n",
              "      <td>NONE</td>\n",
              "      <td>NONE</td>\n",
              "    </tr>\n",
              "    <tr>\n",
              "      <th>1559</th>\n",
              "      <td>COMPLETE SPANISH STEP-BY-STEP</td>\n",
              "      <td>BARBARA BREGSTEIN</td>\n",
              "      <td>NONE</td>\n",
              "      <td>NONE</td>\n",
              "      <td>NONE</td>\n",
              "      <td>NONE</td>\n",
              "      <td>NONE</td>\n",
              "      <td>NONE</td>\n",
              "    </tr>\n",
              "  </tbody>\n",
              "</table>\n",
              "<p>1560 rows × 8 columns</p>\n",
              "</div>"
            ],
            "text/plain": [
              "                                                  Title  ...    a7\n",
              "0            THE COMPLETE SHERLOCK HOLMES: 2 BOXES SETS  ...  NONE\n",
              "1     LEARN DOCKER - FUNDAMENTALS OF DOCKER 18.X: EV...  ...  NONE\n",
              "2                                              BIG GIRL  ...  NONE\n",
              "3     THINK PYTHON: HOW TO THINK LIKE A COMPUTER SCI...  ...  NONE\n",
              "4     OXFORD WORD SKILLS: ADVANCED - IDIOMS & PHRASA...  ...  NONE\n",
              "...                                                 ...  ...   ...\n",
              "1555  100 THINGS EVERY DESIGNER NEEDS TO KNOW ABOUT ...  ...  NONE\n",
              "1556  MODERN LETTER WRITING COURSE: PERSONAL, BUSINE...  ...  NONE\n",
              "1557                      THE KITE RUNNER GRAPHIC NOVEL  ...  NONE\n",
              "1558    PANZER LEADER (PENGUIN WORLD WAR II COLLECTION)  ...  NONE\n",
              "1559                      COMPLETE SPANISH STEP-BY-STEP  ...  NONE\n",
              "\n",
              "[1560 rows x 8 columns]"
            ]
          },
          "metadata": {
            "tags": []
          },
          "execution_count": 41
        }
      ]
    },
    {
      "cell_type": "markdown",
      "metadata": {
        "id": "76cMrs7RL6Hz"
      },
      "source": [
        "#### Genre"
      ]
    },
    {
      "cell_type": "code",
      "metadata": {
        "colab": {
          "base_uri": "https://localhost:8080/"
        },
        "id": "xf67zqpjNx-R",
        "outputId": "07f883ff-9d1b-449e-b1f4-a59194b1bb7f"
      },
      "source": [
        "train_data['Genre']"
      ],
      "execution_count": 42,
      "outputs": [
        {
          "output_type": "execute_result",
          "data": {
            "text/plain": [
              "0         Action & Adventure (Books)\n",
              "1         Cinema & Broadcast (Books)\n",
              "2            International Relations\n",
              "3       Contemporary Fiction (Books)\n",
              "4              Photography Textbooks\n",
              "                    ...             \n",
              "6232            Anthropology (Books)\n",
              "6233    Contemporary Fiction (Books)\n",
              "6234                 Romance (Books)\n",
              "6235      Action & Adventure (Books)\n",
              "6236      Action & Adventure (Books)\n",
              "Name: Genre, Length: 6237, dtype: object"
            ]
          },
          "metadata": {
            "tags": []
          },
          "execution_count": 42
        }
      ]
    },
    {
      "cell_type": "code",
      "metadata": {
        "colab": {
          "base_uri": "https://localhost:8080/"
        },
        "id": "7xkGqGTKN0-M",
        "outputId": "42b7d835-7f6d-478e-d072-6a8761aa7d59"
      },
      "source": [
        "#total unique counts\n",
        "train_data['Genre'].value_counts()"
      ],
      "execution_count": 43,
      "outputs": [
        {
          "output_type": "execute_result",
          "data": {
            "text/plain": [
              "Action & Adventure (Books)               947\n",
              "Romance (Books)                          419\n",
              "Biographies & Autobiographies (Books)    373\n",
              "Crime, Thriller & Mystery (Books)        276\n",
              "Contemporary Fiction (Books)             256\n",
              "                                        ... \n",
              "Rome                                       1\n",
              "International Entrance Exams               1\n",
              "Sustainable Development                    1\n",
              "General Dentistry                          1\n",
              "Nuclear Engineering                        1\n",
              "Name: Genre, Length: 345, dtype: int64"
            ]
          },
          "metadata": {
            "tags": []
          },
          "execution_count": 43
        }
      ]
    },
    {
      "cell_type": "code",
      "metadata": {
        "colab": {
          "base_uri": "https://localhost:8080/"
        },
        "id": "QXDK_cBJOQoz",
        "outputId": "13ceb5cc-b219-4123-bfb6-82b9cb6f6c79"
      },
      "source": [
        "#maximum how much names per an eg,\n",
        "genre_list1=list(train_data['Genre'])\n",
        "genre_list2=list(test_data['Genre'])\n",
        "genre_list1.extend(genre_list2)\n",
        "len(genre_list1)"
      ],
      "execution_count": 44,
      "outputs": [
        {
          "output_type": "execute_result",
          "data": {
            "text/plain": [
              "7797"
            ]
          },
          "metadata": {
            "tags": []
          },
          "execution_count": 44
        }
      ]
    },
    {
      "cell_type": "code",
      "metadata": {
        "colab": {
          "base_uri": "https://localhost:8080/"
        },
        "id": "vA8egTQKOrYe",
        "outputId": "531e1912-a04c-4fa1-d7cb-b825cd2e5d7e"
      },
      "source": [
        "genre_list=[i.split(',') for i in genre_list1]\n",
        "max=1\n",
        "for i in range(len(genre_list)):\n",
        "  if len(genre_list[i]) >= max:\n",
        "    max=len(genre_list[i])\n",
        "print('max length :',max)"
      ],
      "execution_count": 45,
      "outputs": [
        {
          "output_type": "stream",
          "text": [
            "max length : 2\n"
          ],
          "name": "stdout"
        }
      ]
    },
    {
      "cell_type": "code",
      "metadata": {
        "id": "Dg-Zy48NPVmi"
      },
      "source": [
        "# maximum 2 number of genre names. let's make 2 columns"
      ],
      "execution_count": 46,
      "outputs": []
    },
    {
      "cell_type": "code",
      "metadata": {
        "id": "6PqCNB5MQcsU"
      },
      "source": [
        "g1=[]\n",
        "g2=[]\n",
        "\n",
        "gen_train=list(train_data['Genre'])\n",
        "\n",
        "for i in gen_train:\n",
        "  try:\n",
        "    g1.append(i.split(',')[0].strip().upper())\n",
        "  except:\n",
        "    g1.append('NONE')\n",
        "  try:\n",
        "    g2.append(i.split(',')[1].strip().upper())\n",
        "  except:\n",
        "    g2.append('NONE')"
      ],
      "execution_count": 47,
      "outputs": []
    },
    {
      "cell_type": "code",
      "metadata": {
        "id": "9WenjhaZRs0a"
      },
      "source": [
        "#add to train data\n",
        "X_train['g1']=g1\n",
        "X_train['g2']=g2"
      ],
      "execution_count": 48,
      "outputs": []
    },
    {
      "cell_type": "code",
      "metadata": {
        "colab": {
          "base_uri": "https://localhost:8080/",
          "height": 674
        },
        "id": "WhlSX2R6SJ5Z",
        "outputId": "228503c2-c236-4a31-b872-65b75f4992b5"
      },
      "source": [
        "X_train"
      ],
      "execution_count": 49,
      "outputs": [
        {
          "output_type": "execute_result",
          "data": {
            "text/html": [
              "<div>\n",
              "<style scoped>\n",
              "    .dataframe tbody tr th:only-of-type {\n",
              "        vertical-align: middle;\n",
              "    }\n",
              "\n",
              "    .dataframe tbody tr th {\n",
              "        vertical-align: top;\n",
              "    }\n",
              "\n",
              "    .dataframe thead th {\n",
              "        text-align: right;\n",
              "    }\n",
              "</style>\n",
              "<table border=\"1\" class=\"dataframe\">\n",
              "  <thead>\n",
              "    <tr style=\"text-align: right;\">\n",
              "      <th></th>\n",
              "      <th>Title</th>\n",
              "      <th>a1</th>\n",
              "      <th>a2</th>\n",
              "      <th>a3</th>\n",
              "      <th>a4</th>\n",
              "      <th>a5</th>\n",
              "      <th>a6</th>\n",
              "      <th>a7</th>\n",
              "      <th>g1</th>\n",
              "      <th>g2</th>\n",
              "    </tr>\n",
              "  </thead>\n",
              "  <tbody>\n",
              "    <tr>\n",
              "      <th>0</th>\n",
              "      <td>THE PRISONER'S GOLD (THE HUNTERS 3)</td>\n",
              "      <td>CHRIS KUZNESKI</td>\n",
              "      <td>NONE</td>\n",
              "      <td>NONE</td>\n",
              "      <td>NONE</td>\n",
              "      <td>NONE</td>\n",
              "      <td>NONE</td>\n",
              "      <td>NONE</td>\n",
              "      <td>ACTION &amp; ADVENTURE (BOOKS)</td>\n",
              "      <td>NONE</td>\n",
              "    </tr>\n",
              "    <tr>\n",
              "      <th>1</th>\n",
              "      <td>GURU DUTT: A TRAGEDY IN THREE ACTS</td>\n",
              "      <td>ARUN KHOPKAR</td>\n",
              "      <td>NONE</td>\n",
              "      <td>NONE</td>\n",
              "      <td>NONE</td>\n",
              "      <td>NONE</td>\n",
              "      <td>NONE</td>\n",
              "      <td>NONE</td>\n",
              "      <td>CINEMA &amp; BROADCAST (BOOKS)</td>\n",
              "      <td>NONE</td>\n",
              "    </tr>\n",
              "    <tr>\n",
              "      <th>2</th>\n",
              "      <td>LEVIATHAN (PENGUIN CLASSICS)</td>\n",
              "      <td>THOMAS HOBBES</td>\n",
              "      <td>NONE</td>\n",
              "      <td>NONE</td>\n",
              "      <td>NONE</td>\n",
              "      <td>NONE</td>\n",
              "      <td>NONE</td>\n",
              "      <td>NONE</td>\n",
              "      <td>INTERNATIONAL RELATIONS</td>\n",
              "      <td>NONE</td>\n",
              "    </tr>\n",
              "    <tr>\n",
              "      <th>3</th>\n",
              "      <td>A POCKET FULL OF RYE (MISS MARPLE)</td>\n",
              "      <td>AGATHA CHRISTIE</td>\n",
              "      <td>NONE</td>\n",
              "      <td>NONE</td>\n",
              "      <td>NONE</td>\n",
              "      <td>NONE</td>\n",
              "      <td>NONE</td>\n",
              "      <td>NONE</td>\n",
              "      <td>CONTEMPORARY FICTION (BOOKS)</td>\n",
              "      <td>NONE</td>\n",
              "    </tr>\n",
              "    <tr>\n",
              "      <th>4</th>\n",
              "      <td>LIFE 70 YEARS OF EXTRAORDINARY PHOTOGRAPHY</td>\n",
              "      <td>EDITORS OF LIFE</td>\n",
              "      <td>NONE</td>\n",
              "      <td>NONE</td>\n",
              "      <td>NONE</td>\n",
              "      <td>NONE</td>\n",
              "      <td>NONE</td>\n",
              "      <td>NONE</td>\n",
              "      <td>PHOTOGRAPHY TEXTBOOKS</td>\n",
              "      <td>NONE</td>\n",
              "    </tr>\n",
              "    <tr>\n",
              "      <th>...</th>\n",
              "      <td>...</td>\n",
              "      <td>...</td>\n",
              "      <td>...</td>\n",
              "      <td>...</td>\n",
              "      <td>...</td>\n",
              "      <td>...</td>\n",
              "      <td>...</td>\n",
              "      <td>...</td>\n",
              "      <td>...</td>\n",
              "      <td>...</td>\n",
              "    </tr>\n",
              "    <tr>\n",
              "      <th>6232</th>\n",
              "      <td>HUMANS: A BRIEF HISTORY OF HOW WE F*CKED IT AL...</td>\n",
              "      <td>TOM PHILLIPS</td>\n",
              "      <td>NONE</td>\n",
              "      <td>NONE</td>\n",
              "      <td>NONE</td>\n",
              "      <td>NONE</td>\n",
              "      <td>NONE</td>\n",
              "      <td>NONE</td>\n",
              "      <td>ANTHROPOLOGY (BOOKS)</td>\n",
              "      <td>NONE</td>\n",
              "    </tr>\n",
              "    <tr>\n",
              "      <th>6233</th>\n",
              "      <td>THE CHEMIST</td>\n",
              "      <td>STEPHENIE MEYER</td>\n",
              "      <td>NONE</td>\n",
              "      <td>NONE</td>\n",
              "      <td>NONE</td>\n",
              "      <td>NONE</td>\n",
              "      <td>NONE</td>\n",
              "      <td>NONE</td>\n",
              "      <td>CONTEMPORARY FICTION (BOOKS)</td>\n",
              "      <td>NONE</td>\n",
              "    </tr>\n",
              "    <tr>\n",
              "      <th>6234</th>\n",
              "      <td>THE DUKE AND I: NUMBER 1 IN SERIES (BRIDGERTON...</td>\n",
              "      <td>JULIA QUINN</td>\n",
              "      <td>NONE</td>\n",
              "      <td>NONE</td>\n",
              "      <td>NONE</td>\n",
              "      <td>NONE</td>\n",
              "      <td>NONE</td>\n",
              "      <td>NONE</td>\n",
              "      <td>ROMANCE (BOOKS)</td>\n",
              "      <td>NONE</td>\n",
              "    </tr>\n",
              "    <tr>\n",
              "      <th>6235</th>\n",
              "      <td>FROSTFIRE (KANIN CHRONICLES)</td>\n",
              "      <td>AMANDA HOCKING</td>\n",
              "      <td>NONE</td>\n",
              "      <td>NONE</td>\n",
              "      <td>NONE</td>\n",
              "      <td>NONE</td>\n",
              "      <td>NONE</td>\n",
              "      <td>NONE</td>\n",
              "      <td>ACTION &amp; ADVENTURE (BOOKS)</td>\n",
              "      <td>NONE</td>\n",
              "    </tr>\n",
              "    <tr>\n",
              "      <th>6236</th>\n",
              "      <td>THE FIRST ORDER (SAM CAPRA)</td>\n",
              "      <td>JEFF ABBOTT</td>\n",
              "      <td>NONE</td>\n",
              "      <td>NONE</td>\n",
              "      <td>NONE</td>\n",
              "      <td>NONE</td>\n",
              "      <td>NONE</td>\n",
              "      <td>NONE</td>\n",
              "      <td>ACTION &amp; ADVENTURE (BOOKS)</td>\n",
              "      <td>NONE</td>\n",
              "    </tr>\n",
              "  </tbody>\n",
              "</table>\n",
              "<p>6237 rows × 10 columns</p>\n",
              "</div>"
            ],
            "text/plain": [
              "                                                  Title  ...    g2\n",
              "0                   THE PRISONER'S GOLD (THE HUNTERS 3)  ...  NONE\n",
              "1                    GURU DUTT: A TRAGEDY IN THREE ACTS  ...  NONE\n",
              "2                          LEVIATHAN (PENGUIN CLASSICS)  ...  NONE\n",
              "3                    A POCKET FULL OF RYE (MISS MARPLE)  ...  NONE\n",
              "4            LIFE 70 YEARS OF EXTRAORDINARY PHOTOGRAPHY  ...  NONE\n",
              "...                                                 ...  ...   ...\n",
              "6232  HUMANS: A BRIEF HISTORY OF HOW WE F*CKED IT AL...  ...  NONE\n",
              "6233                                        THE CHEMIST  ...  NONE\n",
              "6234  THE DUKE AND I: NUMBER 1 IN SERIES (BRIDGERTON...  ...  NONE\n",
              "6235                       FROSTFIRE (KANIN CHRONICLES)  ...  NONE\n",
              "6236                        THE FIRST ORDER (SAM CAPRA)  ...  NONE\n",
              "\n",
              "[6237 rows x 10 columns]"
            ]
          },
          "metadata": {
            "tags": []
          },
          "execution_count": 49
        }
      ]
    },
    {
      "cell_type": "code",
      "metadata": {
        "colab": {
          "base_uri": "https://localhost:8080/",
          "height": 725
        },
        "id": "vErFS2HnTufD",
        "outputId": "4f70d957-e000-498c-8dfe-c6c149f6c32f"
      },
      "source": [
        "#for test genre\n",
        "g1=[]\n",
        "g2=[]\n",
        "genre_test=list(test_data['Genre'])\n",
        "for i in genre_test:\n",
        "  try:\n",
        "    g1.append(i.split(',')[0].strip().upper())\n",
        "  except:\n",
        "    g1.append('NONE')\n",
        "  try:\n",
        "    g2.append(i.split(',')[1].strip().upper())\n",
        "  except:\n",
        "    g2.append('NONE')\n",
        "\n",
        "X_test['g1']=g1\n",
        "X_test['g2']=g2\n",
        "\n",
        "X_test"
      ],
      "execution_count": 50,
      "outputs": [
        {
          "output_type": "execute_result",
          "data": {
            "text/html": [
              "<div>\n",
              "<style scoped>\n",
              "    .dataframe tbody tr th:only-of-type {\n",
              "        vertical-align: middle;\n",
              "    }\n",
              "\n",
              "    .dataframe tbody tr th {\n",
              "        vertical-align: top;\n",
              "    }\n",
              "\n",
              "    .dataframe thead th {\n",
              "        text-align: right;\n",
              "    }\n",
              "</style>\n",
              "<table border=\"1\" class=\"dataframe\">\n",
              "  <thead>\n",
              "    <tr style=\"text-align: right;\">\n",
              "      <th></th>\n",
              "      <th>Title</th>\n",
              "      <th>a1</th>\n",
              "      <th>a2</th>\n",
              "      <th>a3</th>\n",
              "      <th>a4</th>\n",
              "      <th>a5</th>\n",
              "      <th>a6</th>\n",
              "      <th>a7</th>\n",
              "      <th>g1</th>\n",
              "      <th>g2</th>\n",
              "    </tr>\n",
              "  </thead>\n",
              "  <tbody>\n",
              "    <tr>\n",
              "      <th>0</th>\n",
              "      <td>THE COMPLETE SHERLOCK HOLMES: 2 BOXES SETS</td>\n",
              "      <td>SIR ARTHUR CONAN DOYLE</td>\n",
              "      <td>NONE</td>\n",
              "      <td>NONE</td>\n",
              "      <td>NONE</td>\n",
              "      <td>NONE</td>\n",
              "      <td>NONE</td>\n",
              "      <td>NONE</td>\n",
              "      <td>SHORT STORIES (BOOKS)</td>\n",
              "      <td>NONE</td>\n",
              "    </tr>\n",
              "    <tr>\n",
              "      <th>1</th>\n",
              "      <td>LEARN DOCKER - FUNDAMENTALS OF DOCKER 18.X: EV...</td>\n",
              "      <td>GABRIEL N. SCHENKER</td>\n",
              "      <td>NONE</td>\n",
              "      <td>NONE</td>\n",
              "      <td>NONE</td>\n",
              "      <td>NONE</td>\n",
              "      <td>NONE</td>\n",
              "      <td>NONE</td>\n",
              "      <td>OPERATING SYSTEMS TEXTBOOKS</td>\n",
              "      <td>NONE</td>\n",
              "    </tr>\n",
              "    <tr>\n",
              "      <th>2</th>\n",
              "      <td>BIG GIRL</td>\n",
              "      <td>DANIELLE STEEL</td>\n",
              "      <td>NONE</td>\n",
              "      <td>NONE</td>\n",
              "      <td>NONE</td>\n",
              "      <td>NONE</td>\n",
              "      <td>NONE</td>\n",
              "      <td>NONE</td>\n",
              "      <td>ROMANCE (BOOKS)</td>\n",
              "      <td>NONE</td>\n",
              "    </tr>\n",
              "    <tr>\n",
              "      <th>3</th>\n",
              "      <td>THINK PYTHON: HOW TO THINK LIKE A COMPUTER SCI...</td>\n",
              "      <td>ALLEN B. DOWNEY</td>\n",
              "      <td>NONE</td>\n",
              "      <td>NONE</td>\n",
              "      <td>NONE</td>\n",
              "      <td>NONE</td>\n",
              "      <td>NONE</td>\n",
              "      <td>NONE</td>\n",
              "      <td>PROGRAMMING &amp; SOFTWARE DEVELOPMENT (BOOKS)</td>\n",
              "      <td>NONE</td>\n",
              "    </tr>\n",
              "    <tr>\n",
              "      <th>4</th>\n",
              "      <td>OXFORD WORD SKILLS: ADVANCED - IDIOMS &amp; PHRASA...</td>\n",
              "      <td>REDMAN GAIRNS</td>\n",
              "      <td>NONE</td>\n",
              "      <td>NONE</td>\n",
              "      <td>NONE</td>\n",
              "      <td>NONE</td>\n",
              "      <td>NONE</td>\n",
              "      <td>NONE</td>\n",
              "      <td>LINGUISTICS (BOOKS)</td>\n",
              "      <td>NONE</td>\n",
              "    </tr>\n",
              "    <tr>\n",
              "      <th>...</th>\n",
              "      <td>...</td>\n",
              "      <td>...</td>\n",
              "      <td>...</td>\n",
              "      <td>...</td>\n",
              "      <td>...</td>\n",
              "      <td>...</td>\n",
              "      <td>...</td>\n",
              "      <td>...</td>\n",
              "      <td>...</td>\n",
              "      <td>...</td>\n",
              "    </tr>\n",
              "    <tr>\n",
              "      <th>1555</th>\n",
              "      <td>100 THINGS EVERY DESIGNER NEEDS TO KNOW ABOUT ...</td>\n",
              "      <td>SUSAN WEINSCHENK</td>\n",
              "      <td>NONE</td>\n",
              "      <td>NONE</td>\n",
              "      <td>NONE</td>\n",
              "      <td>NONE</td>\n",
              "      <td>NONE</td>\n",
              "      <td>NONE</td>\n",
              "      <td>DESIGN</td>\n",
              "      <td>NONE</td>\n",
              "    </tr>\n",
              "    <tr>\n",
              "      <th>1556</th>\n",
              "      <td>MODERN LETTER WRITING COURSE: PERSONAL, BUSINE...</td>\n",
              "      <td>ARUN SAGAR</td>\n",
              "      <td>NONE</td>\n",
              "      <td>NONE</td>\n",
              "      <td>NONE</td>\n",
              "      <td>NONE</td>\n",
              "      <td>NONE</td>\n",
              "      <td>NONE</td>\n",
              "      <td>CHILDREN'S REFERENCE (BOOKS)</td>\n",
              "      <td>NONE</td>\n",
              "    </tr>\n",
              "    <tr>\n",
              "      <th>1557</th>\n",
              "      <td>THE KITE RUNNER GRAPHIC NOVEL</td>\n",
              "      <td>KHALED HOSSEINI</td>\n",
              "      <td>NONE</td>\n",
              "      <td>NONE</td>\n",
              "      <td>NONE</td>\n",
              "      <td>NONE</td>\n",
              "      <td>NONE</td>\n",
              "      <td>NONE</td>\n",
              "      <td>HUMOUR (BOOKS)</td>\n",
              "      <td>NONE</td>\n",
              "    </tr>\n",
              "    <tr>\n",
              "      <th>1558</th>\n",
              "      <td>PANZER LEADER (PENGUIN WORLD WAR II COLLECTION)</td>\n",
              "      <td>HEINZ GUDERIAN</td>\n",
              "      <td>NONE</td>\n",
              "      <td>NONE</td>\n",
              "      <td>NONE</td>\n",
              "      <td>NONE</td>\n",
              "      <td>NONE</td>\n",
              "      <td>NONE</td>\n",
              "      <td>UNITED STATES HISTORY</td>\n",
              "      <td>NONE</td>\n",
              "    </tr>\n",
              "    <tr>\n",
              "      <th>1559</th>\n",
              "      <td>COMPLETE SPANISH STEP-BY-STEP</td>\n",
              "      <td>BARBARA BREGSTEIN</td>\n",
              "      <td>NONE</td>\n",
              "      <td>NONE</td>\n",
              "      <td>NONE</td>\n",
              "      <td>NONE</td>\n",
              "      <td>NONE</td>\n",
              "      <td>NONE</td>\n",
              "      <td>DICTIONARIES</td>\n",
              "      <td>NONE</td>\n",
              "    </tr>\n",
              "  </tbody>\n",
              "</table>\n",
              "<p>1560 rows × 10 columns</p>\n",
              "</div>"
            ],
            "text/plain": [
              "                                                  Title  ...    g2\n",
              "0            THE COMPLETE SHERLOCK HOLMES: 2 BOXES SETS  ...  NONE\n",
              "1     LEARN DOCKER - FUNDAMENTALS OF DOCKER 18.X: EV...  ...  NONE\n",
              "2                                              BIG GIRL  ...  NONE\n",
              "3     THINK PYTHON: HOW TO THINK LIKE A COMPUTER SCI...  ...  NONE\n",
              "4     OXFORD WORD SKILLS: ADVANCED - IDIOMS & PHRASA...  ...  NONE\n",
              "...                                                 ...  ...   ...\n",
              "1555  100 THINGS EVERY DESIGNER NEEDS TO KNOW ABOUT ...  ...  NONE\n",
              "1556  MODERN LETTER WRITING COURSE: PERSONAL, BUSINE...  ...  NONE\n",
              "1557                      THE KITE RUNNER GRAPHIC NOVEL  ...  NONE\n",
              "1558    PANZER LEADER (PENGUIN WORLD WAR II COLLECTION)  ...  NONE\n",
              "1559                      COMPLETE SPANISH STEP-BY-STEP  ...  NONE\n",
              "\n",
              "[1560 rows x 10 columns]"
            ]
          },
          "metadata": {
            "tags": []
          },
          "execution_count": 50
        }
      ]
    },
    {
      "cell_type": "markdown",
      "metadata": {
        "id": "ifGdQZiFV1ST"
      },
      "source": [
        "#### BookCategory"
      ]
    },
    {
      "cell_type": "code",
      "metadata": {
        "colab": {
          "base_uri": "https://localhost:8080/"
        },
        "id": "6IIVWlk7WG-2",
        "outputId": "8e0648e8-f9e2-4fb4-b9ab-4e4851627b6f"
      },
      "source": [
        "train_data['BookCategory']"
      ],
      "execution_count": 51,
      "outputs": [
        {
          "output_type": "execute_result",
          "data": {
            "text/plain": [
              "0                         Action & Adventure\n",
              "1       Biographies, Diaries & True Accounts\n",
              "2                                     Humour\n",
              "3                  Crime, Thriller & Mystery\n",
              "4                   Arts, Film & Photography\n",
              "                        ...                 \n",
              "6232                                  Humour\n",
              "6233               Crime, Thriller & Mystery\n",
              "6234                                 Romance\n",
              "6235                      Action & Adventure\n",
              "6236                      Action & Adventure\n",
              "Name: BookCategory, Length: 6237, dtype: object"
            ]
          },
          "metadata": {
            "tags": []
          },
          "execution_count": 51
        }
      ]
    },
    {
      "cell_type": "code",
      "metadata": {
        "colab": {
          "base_uri": "https://localhost:8080/"
        },
        "id": "RkEpxmyWWKsx",
        "outputId": "2b90b548-0f16-4ce6-c863-de10fe5544fe"
      },
      "source": [
        "#unique counts\n",
        "train_data['BookCategory'].value_counts()"
      ],
      "execution_count": 52,
      "outputs": [
        {
          "output_type": "execute_result",
          "data": {
            "text/plain": [
              "Action & Adventure                      818\n",
              "Crime, Thriller & Mystery               723\n",
              "Biographies, Diaries & True Accounts    596\n",
              "Language, Linguistics & Writing         594\n",
              "Comics & Mangas                         583\n",
              "Romance                                 560\n",
              "Humour                                  540\n",
              "Arts, Film & Photography                517\n",
              "Computing, Internet & Digital Media     510\n",
              "Sports                                  471\n",
              "Politics                                325\n",
              "Name: BookCategory, dtype: int64"
            ]
          },
          "metadata": {
            "tags": []
          },
          "execution_count": 52
        }
      ]
    },
    {
      "cell_type": "code",
      "metadata": {
        "colab": {
          "base_uri": "https://localhost:8080/"
        },
        "id": "D9rF0dIMWR9a",
        "outputId": "351b9c6f-14a1-4ebf-ccdf-1cee70c38495"
      },
      "source": [
        "#max counts per eg.\n",
        "bc_list1=list(train_data['BookCategory'])\n",
        "bc_list2=list(test_data['BookCategory'])\n",
        "bc_list1.extend(bc_list2)\n",
        "len(bc_list1)"
      ],
      "execution_count": 53,
      "outputs": [
        {
          "output_type": "execute_result",
          "data": {
            "text/plain": [
              "7797"
            ]
          },
          "metadata": {
            "tags": []
          },
          "execution_count": 53
        }
      ]
    },
    {
      "cell_type": "code",
      "metadata": {
        "colab": {
          "base_uri": "https://localhost:8080/"
        },
        "id": "8IJWwIhgWwXt",
        "outputId": "7fe90552-8418-4ea5-aa32-6fc67c8ff21f"
      },
      "source": [
        "bc_list=[i.split(',') for i in bc_list1]\n",
        "\n",
        "max=1\n",
        "for i in range(len(bc_list)):\n",
        "  if len(bc_list[i]) >= max:\n",
        "    max=len(bc_list[i])\n",
        "\n",
        "print('max length :',max)"
      ],
      "execution_count": 54,
      "outputs": [
        {
          "output_type": "stream",
          "text": [
            "max length : 2\n"
          ],
          "name": "stdout"
        }
      ]
    },
    {
      "cell_type": "code",
      "metadata": {
        "id": "YZdn9IobYTnd"
      },
      "source": [
        "#here also 2 names, let's make 2 columns"
      ],
      "execution_count": 55,
      "outputs": []
    },
    {
      "cell_type": "code",
      "metadata": {
        "id": "jA9yED9RYhBz"
      },
      "source": [
        "bc1=[]\n",
        "bc2=[]\n",
        "\n",
        "bc_train=list(train_data['BookCategory'])\n",
        "\n",
        "for i in bc_train:\n",
        "  try:\n",
        "    bc1.append(i.split(',')[0].strip().upper())\n",
        "  except:\n",
        "    bc1.append('NONE')\n",
        "  try:\n",
        "    bc2.append(i.split(',')[1].strip().upper())\n",
        "  except:\n",
        "    bc2.append('NONE')"
      ],
      "execution_count": 56,
      "outputs": []
    },
    {
      "cell_type": "code",
      "metadata": {
        "colab": {
          "base_uri": "https://localhost:8080/",
          "height": 813
        },
        "id": "glq2CFEQZTyM",
        "outputId": "097cdecc-1e99-4b11-c40c-cc1d7fdc1ae7"
      },
      "source": [
        "X_train['bc1']=bc1\n",
        "X_train['bc2']=bc2\n",
        "X_train"
      ],
      "execution_count": 57,
      "outputs": [
        {
          "output_type": "execute_result",
          "data": {
            "text/html": [
              "<div>\n",
              "<style scoped>\n",
              "    .dataframe tbody tr th:only-of-type {\n",
              "        vertical-align: middle;\n",
              "    }\n",
              "\n",
              "    .dataframe tbody tr th {\n",
              "        vertical-align: top;\n",
              "    }\n",
              "\n",
              "    .dataframe thead th {\n",
              "        text-align: right;\n",
              "    }\n",
              "</style>\n",
              "<table border=\"1\" class=\"dataframe\">\n",
              "  <thead>\n",
              "    <tr style=\"text-align: right;\">\n",
              "      <th></th>\n",
              "      <th>Title</th>\n",
              "      <th>a1</th>\n",
              "      <th>a2</th>\n",
              "      <th>a3</th>\n",
              "      <th>a4</th>\n",
              "      <th>a5</th>\n",
              "      <th>a6</th>\n",
              "      <th>a7</th>\n",
              "      <th>g1</th>\n",
              "      <th>g2</th>\n",
              "      <th>bc1</th>\n",
              "      <th>bc2</th>\n",
              "    </tr>\n",
              "  </thead>\n",
              "  <tbody>\n",
              "    <tr>\n",
              "      <th>0</th>\n",
              "      <td>THE PRISONER'S GOLD (THE HUNTERS 3)</td>\n",
              "      <td>CHRIS KUZNESKI</td>\n",
              "      <td>NONE</td>\n",
              "      <td>NONE</td>\n",
              "      <td>NONE</td>\n",
              "      <td>NONE</td>\n",
              "      <td>NONE</td>\n",
              "      <td>NONE</td>\n",
              "      <td>ACTION &amp; ADVENTURE (BOOKS)</td>\n",
              "      <td>NONE</td>\n",
              "      <td>ACTION &amp; ADVENTURE</td>\n",
              "      <td>NONE</td>\n",
              "    </tr>\n",
              "    <tr>\n",
              "      <th>1</th>\n",
              "      <td>GURU DUTT: A TRAGEDY IN THREE ACTS</td>\n",
              "      <td>ARUN KHOPKAR</td>\n",
              "      <td>NONE</td>\n",
              "      <td>NONE</td>\n",
              "      <td>NONE</td>\n",
              "      <td>NONE</td>\n",
              "      <td>NONE</td>\n",
              "      <td>NONE</td>\n",
              "      <td>CINEMA &amp; BROADCAST (BOOKS)</td>\n",
              "      <td>NONE</td>\n",
              "      <td>BIOGRAPHIES</td>\n",
              "      <td>DIARIES &amp; TRUE ACCOUNTS</td>\n",
              "    </tr>\n",
              "    <tr>\n",
              "      <th>2</th>\n",
              "      <td>LEVIATHAN (PENGUIN CLASSICS)</td>\n",
              "      <td>THOMAS HOBBES</td>\n",
              "      <td>NONE</td>\n",
              "      <td>NONE</td>\n",
              "      <td>NONE</td>\n",
              "      <td>NONE</td>\n",
              "      <td>NONE</td>\n",
              "      <td>NONE</td>\n",
              "      <td>INTERNATIONAL RELATIONS</td>\n",
              "      <td>NONE</td>\n",
              "      <td>HUMOUR</td>\n",
              "      <td>NONE</td>\n",
              "    </tr>\n",
              "    <tr>\n",
              "      <th>3</th>\n",
              "      <td>A POCKET FULL OF RYE (MISS MARPLE)</td>\n",
              "      <td>AGATHA CHRISTIE</td>\n",
              "      <td>NONE</td>\n",
              "      <td>NONE</td>\n",
              "      <td>NONE</td>\n",
              "      <td>NONE</td>\n",
              "      <td>NONE</td>\n",
              "      <td>NONE</td>\n",
              "      <td>CONTEMPORARY FICTION (BOOKS)</td>\n",
              "      <td>NONE</td>\n",
              "      <td>CRIME</td>\n",
              "      <td>THRILLER &amp; MYSTERY</td>\n",
              "    </tr>\n",
              "    <tr>\n",
              "      <th>4</th>\n",
              "      <td>LIFE 70 YEARS OF EXTRAORDINARY PHOTOGRAPHY</td>\n",
              "      <td>EDITORS OF LIFE</td>\n",
              "      <td>NONE</td>\n",
              "      <td>NONE</td>\n",
              "      <td>NONE</td>\n",
              "      <td>NONE</td>\n",
              "      <td>NONE</td>\n",
              "      <td>NONE</td>\n",
              "      <td>PHOTOGRAPHY TEXTBOOKS</td>\n",
              "      <td>NONE</td>\n",
              "      <td>ARTS</td>\n",
              "      <td>FILM &amp; PHOTOGRAPHY</td>\n",
              "    </tr>\n",
              "    <tr>\n",
              "      <th>...</th>\n",
              "      <td>...</td>\n",
              "      <td>...</td>\n",
              "      <td>...</td>\n",
              "      <td>...</td>\n",
              "      <td>...</td>\n",
              "      <td>...</td>\n",
              "      <td>...</td>\n",
              "      <td>...</td>\n",
              "      <td>...</td>\n",
              "      <td>...</td>\n",
              "      <td>...</td>\n",
              "      <td>...</td>\n",
              "    </tr>\n",
              "    <tr>\n",
              "      <th>6232</th>\n",
              "      <td>HUMANS: A BRIEF HISTORY OF HOW WE F*CKED IT AL...</td>\n",
              "      <td>TOM PHILLIPS</td>\n",
              "      <td>NONE</td>\n",
              "      <td>NONE</td>\n",
              "      <td>NONE</td>\n",
              "      <td>NONE</td>\n",
              "      <td>NONE</td>\n",
              "      <td>NONE</td>\n",
              "      <td>ANTHROPOLOGY (BOOKS)</td>\n",
              "      <td>NONE</td>\n",
              "      <td>HUMOUR</td>\n",
              "      <td>NONE</td>\n",
              "    </tr>\n",
              "    <tr>\n",
              "      <th>6233</th>\n",
              "      <td>THE CHEMIST</td>\n",
              "      <td>STEPHENIE MEYER</td>\n",
              "      <td>NONE</td>\n",
              "      <td>NONE</td>\n",
              "      <td>NONE</td>\n",
              "      <td>NONE</td>\n",
              "      <td>NONE</td>\n",
              "      <td>NONE</td>\n",
              "      <td>CONTEMPORARY FICTION (BOOKS)</td>\n",
              "      <td>NONE</td>\n",
              "      <td>CRIME</td>\n",
              "      <td>THRILLER &amp; MYSTERY</td>\n",
              "    </tr>\n",
              "    <tr>\n",
              "      <th>6234</th>\n",
              "      <td>THE DUKE AND I: NUMBER 1 IN SERIES (BRIDGERTON...</td>\n",
              "      <td>JULIA QUINN</td>\n",
              "      <td>NONE</td>\n",
              "      <td>NONE</td>\n",
              "      <td>NONE</td>\n",
              "      <td>NONE</td>\n",
              "      <td>NONE</td>\n",
              "      <td>NONE</td>\n",
              "      <td>ROMANCE (BOOKS)</td>\n",
              "      <td>NONE</td>\n",
              "      <td>ROMANCE</td>\n",
              "      <td>NONE</td>\n",
              "    </tr>\n",
              "    <tr>\n",
              "      <th>6235</th>\n",
              "      <td>FROSTFIRE (KANIN CHRONICLES)</td>\n",
              "      <td>AMANDA HOCKING</td>\n",
              "      <td>NONE</td>\n",
              "      <td>NONE</td>\n",
              "      <td>NONE</td>\n",
              "      <td>NONE</td>\n",
              "      <td>NONE</td>\n",
              "      <td>NONE</td>\n",
              "      <td>ACTION &amp; ADVENTURE (BOOKS)</td>\n",
              "      <td>NONE</td>\n",
              "      <td>ACTION &amp; ADVENTURE</td>\n",
              "      <td>NONE</td>\n",
              "    </tr>\n",
              "    <tr>\n",
              "      <th>6236</th>\n",
              "      <td>THE FIRST ORDER (SAM CAPRA)</td>\n",
              "      <td>JEFF ABBOTT</td>\n",
              "      <td>NONE</td>\n",
              "      <td>NONE</td>\n",
              "      <td>NONE</td>\n",
              "      <td>NONE</td>\n",
              "      <td>NONE</td>\n",
              "      <td>NONE</td>\n",
              "      <td>ACTION &amp; ADVENTURE (BOOKS)</td>\n",
              "      <td>NONE</td>\n",
              "      <td>ACTION &amp; ADVENTURE</td>\n",
              "      <td>NONE</td>\n",
              "    </tr>\n",
              "  </tbody>\n",
              "</table>\n",
              "<p>6237 rows × 12 columns</p>\n",
              "</div>"
            ],
            "text/plain": [
              "                                                  Title  ...                      bc2\n",
              "0                   THE PRISONER'S GOLD (THE HUNTERS 3)  ...                     NONE\n",
              "1                    GURU DUTT: A TRAGEDY IN THREE ACTS  ...  DIARIES & TRUE ACCOUNTS\n",
              "2                          LEVIATHAN (PENGUIN CLASSICS)  ...                     NONE\n",
              "3                    A POCKET FULL OF RYE (MISS MARPLE)  ...       THRILLER & MYSTERY\n",
              "4            LIFE 70 YEARS OF EXTRAORDINARY PHOTOGRAPHY  ...       FILM & PHOTOGRAPHY\n",
              "...                                                 ...  ...                      ...\n",
              "6232  HUMANS: A BRIEF HISTORY OF HOW WE F*CKED IT AL...  ...                     NONE\n",
              "6233                                        THE CHEMIST  ...       THRILLER & MYSTERY\n",
              "6234  THE DUKE AND I: NUMBER 1 IN SERIES (BRIDGERTON...  ...                     NONE\n",
              "6235                       FROSTFIRE (KANIN CHRONICLES)  ...                     NONE\n",
              "6236                        THE FIRST ORDER (SAM CAPRA)  ...                     NONE\n",
              "\n",
              "[6237 rows x 12 columns]"
            ]
          },
          "metadata": {
            "tags": []
          },
          "execution_count": 57
        }
      ]
    },
    {
      "cell_type": "code",
      "metadata": {
        "colab": {
          "base_uri": "https://localhost:8080/",
          "height": 1000
        },
        "id": "ywKpcApCZcYU",
        "outputId": "c86f1f2b-e9a0-41b3-d477-75818b4e7385"
      },
      "source": [
        "#for test as well\n",
        "\n",
        "bc1=[]\n",
        "bc2=[]\n",
        "\n",
        "bc_test=list(test_data['BookCategory'])\n",
        "\n",
        "for i in bc_test:\n",
        "  try:\n",
        "    bc1.append(i.split(',')[0].strip().upper())\n",
        "  except:\n",
        "    bc1.append('NONE')\n",
        "  try:\n",
        "    bc2.append(i.split(',')[1].strip().upper())\n",
        "  except:\n",
        "    bc2.append('NONE')\n",
        "\n",
        "X_test['bc1']=bc1\n",
        "X_test['bc2']=bc2\n",
        "X_test"
      ],
      "execution_count": 58,
      "outputs": [
        {
          "output_type": "execute_result",
          "data": {
            "text/html": [
              "<div>\n",
              "<style scoped>\n",
              "    .dataframe tbody tr th:only-of-type {\n",
              "        vertical-align: middle;\n",
              "    }\n",
              "\n",
              "    .dataframe tbody tr th {\n",
              "        vertical-align: top;\n",
              "    }\n",
              "\n",
              "    .dataframe thead th {\n",
              "        text-align: right;\n",
              "    }\n",
              "</style>\n",
              "<table border=\"1\" class=\"dataframe\">\n",
              "  <thead>\n",
              "    <tr style=\"text-align: right;\">\n",
              "      <th></th>\n",
              "      <th>Title</th>\n",
              "      <th>a1</th>\n",
              "      <th>a2</th>\n",
              "      <th>a3</th>\n",
              "      <th>a4</th>\n",
              "      <th>a5</th>\n",
              "      <th>a6</th>\n",
              "      <th>a7</th>\n",
              "      <th>g1</th>\n",
              "      <th>g2</th>\n",
              "      <th>bc1</th>\n",
              "      <th>bc2</th>\n",
              "    </tr>\n",
              "  </thead>\n",
              "  <tbody>\n",
              "    <tr>\n",
              "      <th>0</th>\n",
              "      <td>THE COMPLETE SHERLOCK HOLMES: 2 BOXES SETS</td>\n",
              "      <td>SIR ARTHUR CONAN DOYLE</td>\n",
              "      <td>NONE</td>\n",
              "      <td>NONE</td>\n",
              "      <td>NONE</td>\n",
              "      <td>NONE</td>\n",
              "      <td>NONE</td>\n",
              "      <td>NONE</td>\n",
              "      <td>SHORT STORIES (BOOKS)</td>\n",
              "      <td>NONE</td>\n",
              "      <td>CRIME</td>\n",
              "      <td>THRILLER &amp; MYSTERY</td>\n",
              "    </tr>\n",
              "    <tr>\n",
              "      <th>1</th>\n",
              "      <td>LEARN DOCKER - FUNDAMENTALS OF DOCKER 18.X: EV...</td>\n",
              "      <td>GABRIEL N. SCHENKER</td>\n",
              "      <td>NONE</td>\n",
              "      <td>NONE</td>\n",
              "      <td>NONE</td>\n",
              "      <td>NONE</td>\n",
              "      <td>NONE</td>\n",
              "      <td>NONE</td>\n",
              "      <td>OPERATING SYSTEMS TEXTBOOKS</td>\n",
              "      <td>NONE</td>\n",
              "      <td>COMPUTING</td>\n",
              "      <td>INTERNET &amp; DIGITAL MEDIA</td>\n",
              "    </tr>\n",
              "    <tr>\n",
              "      <th>2</th>\n",
              "      <td>BIG GIRL</td>\n",
              "      <td>DANIELLE STEEL</td>\n",
              "      <td>NONE</td>\n",
              "      <td>NONE</td>\n",
              "      <td>NONE</td>\n",
              "      <td>NONE</td>\n",
              "      <td>NONE</td>\n",
              "      <td>NONE</td>\n",
              "      <td>ROMANCE (BOOKS)</td>\n",
              "      <td>NONE</td>\n",
              "      <td>ROMANCE</td>\n",
              "      <td>NONE</td>\n",
              "    </tr>\n",
              "    <tr>\n",
              "      <th>3</th>\n",
              "      <td>THINK PYTHON: HOW TO THINK LIKE A COMPUTER SCI...</td>\n",
              "      <td>ALLEN B. DOWNEY</td>\n",
              "      <td>NONE</td>\n",
              "      <td>NONE</td>\n",
              "      <td>NONE</td>\n",
              "      <td>NONE</td>\n",
              "      <td>NONE</td>\n",
              "      <td>NONE</td>\n",
              "      <td>PROGRAMMING &amp; SOFTWARE DEVELOPMENT (BOOKS)</td>\n",
              "      <td>NONE</td>\n",
              "      <td>COMPUTING</td>\n",
              "      <td>INTERNET &amp; DIGITAL MEDIA</td>\n",
              "    </tr>\n",
              "    <tr>\n",
              "      <th>4</th>\n",
              "      <td>OXFORD WORD SKILLS: ADVANCED - IDIOMS &amp; PHRASA...</td>\n",
              "      <td>REDMAN GAIRNS</td>\n",
              "      <td>NONE</td>\n",
              "      <td>NONE</td>\n",
              "      <td>NONE</td>\n",
              "      <td>NONE</td>\n",
              "      <td>NONE</td>\n",
              "      <td>NONE</td>\n",
              "      <td>LINGUISTICS (BOOKS)</td>\n",
              "      <td>NONE</td>\n",
              "      <td>LANGUAGE</td>\n",
              "      <td>LINGUISTICS &amp; WRITING</td>\n",
              "    </tr>\n",
              "    <tr>\n",
              "      <th>...</th>\n",
              "      <td>...</td>\n",
              "      <td>...</td>\n",
              "      <td>...</td>\n",
              "      <td>...</td>\n",
              "      <td>...</td>\n",
              "      <td>...</td>\n",
              "      <td>...</td>\n",
              "      <td>...</td>\n",
              "      <td>...</td>\n",
              "      <td>...</td>\n",
              "      <td>...</td>\n",
              "      <td>...</td>\n",
              "    </tr>\n",
              "    <tr>\n",
              "      <th>1555</th>\n",
              "      <td>100 THINGS EVERY DESIGNER NEEDS TO KNOW ABOUT ...</td>\n",
              "      <td>SUSAN WEINSCHENK</td>\n",
              "      <td>NONE</td>\n",
              "      <td>NONE</td>\n",
              "      <td>NONE</td>\n",
              "      <td>NONE</td>\n",
              "      <td>NONE</td>\n",
              "      <td>NONE</td>\n",
              "      <td>DESIGN</td>\n",
              "      <td>NONE</td>\n",
              "      <td>COMPUTING</td>\n",
              "      <td>INTERNET &amp; DIGITAL MEDIA</td>\n",
              "    </tr>\n",
              "    <tr>\n",
              "      <th>1556</th>\n",
              "      <td>MODERN LETTER WRITING COURSE: PERSONAL, BUSINE...</td>\n",
              "      <td>ARUN SAGAR</td>\n",
              "      <td>NONE</td>\n",
              "      <td>NONE</td>\n",
              "      <td>NONE</td>\n",
              "      <td>NONE</td>\n",
              "      <td>NONE</td>\n",
              "      <td>NONE</td>\n",
              "      <td>CHILDREN'S REFERENCE (BOOKS)</td>\n",
              "      <td>NONE</td>\n",
              "      <td>BIOGRAPHIES</td>\n",
              "      <td>DIARIES &amp; TRUE ACCOUNTS</td>\n",
              "    </tr>\n",
              "    <tr>\n",
              "      <th>1557</th>\n",
              "      <td>THE KITE RUNNER GRAPHIC NOVEL</td>\n",
              "      <td>KHALED HOSSEINI</td>\n",
              "      <td>NONE</td>\n",
              "      <td>NONE</td>\n",
              "      <td>NONE</td>\n",
              "      <td>NONE</td>\n",
              "      <td>NONE</td>\n",
              "      <td>NONE</td>\n",
              "      <td>HUMOUR (BOOKS)</td>\n",
              "      <td>NONE</td>\n",
              "      <td>HUMOUR</td>\n",
              "      <td>NONE</td>\n",
              "    </tr>\n",
              "    <tr>\n",
              "      <th>1558</th>\n",
              "      <td>PANZER LEADER (PENGUIN WORLD WAR II COLLECTION)</td>\n",
              "      <td>HEINZ GUDERIAN</td>\n",
              "      <td>NONE</td>\n",
              "      <td>NONE</td>\n",
              "      <td>NONE</td>\n",
              "      <td>NONE</td>\n",
              "      <td>NONE</td>\n",
              "      <td>NONE</td>\n",
              "      <td>UNITED STATES HISTORY</td>\n",
              "      <td>NONE</td>\n",
              "      <td>BIOGRAPHIES</td>\n",
              "      <td>DIARIES &amp; TRUE ACCOUNTS</td>\n",
              "    </tr>\n",
              "    <tr>\n",
              "      <th>1559</th>\n",
              "      <td>COMPLETE SPANISH STEP-BY-STEP</td>\n",
              "      <td>BARBARA BREGSTEIN</td>\n",
              "      <td>NONE</td>\n",
              "      <td>NONE</td>\n",
              "      <td>NONE</td>\n",
              "      <td>NONE</td>\n",
              "      <td>NONE</td>\n",
              "      <td>NONE</td>\n",
              "      <td>DICTIONARIES</td>\n",
              "      <td>NONE</td>\n",
              "      <td>LANGUAGE</td>\n",
              "      <td>LINGUISTICS &amp; WRITING</td>\n",
              "    </tr>\n",
              "  </tbody>\n",
              "</table>\n",
              "<p>1560 rows × 12 columns</p>\n",
              "</div>"
            ],
            "text/plain": [
              "                                                  Title  ...                       bc2\n",
              "0            THE COMPLETE SHERLOCK HOLMES: 2 BOXES SETS  ...        THRILLER & MYSTERY\n",
              "1     LEARN DOCKER - FUNDAMENTALS OF DOCKER 18.X: EV...  ...  INTERNET & DIGITAL MEDIA\n",
              "2                                              BIG GIRL  ...                      NONE\n",
              "3     THINK PYTHON: HOW TO THINK LIKE A COMPUTER SCI...  ...  INTERNET & DIGITAL MEDIA\n",
              "4     OXFORD WORD SKILLS: ADVANCED - IDIOMS & PHRASA...  ...     LINGUISTICS & WRITING\n",
              "...                                                 ...  ...                       ...\n",
              "1555  100 THINGS EVERY DESIGNER NEEDS TO KNOW ABOUT ...  ...  INTERNET & DIGITAL MEDIA\n",
              "1556  MODERN LETTER WRITING COURSE: PERSONAL, BUSINE...  ...   DIARIES & TRUE ACCOUNTS\n",
              "1557                      THE KITE RUNNER GRAPHIC NOVEL  ...                      NONE\n",
              "1558    PANZER LEADER (PENGUIN WORLD WAR II COLLECTION)  ...   DIARIES & TRUE ACCOUNTS\n",
              "1559                      COMPLETE SPANISH STEP-BY-STEP  ...     LINGUISTICS & WRITING\n",
              "\n",
              "[1560 rows x 12 columns]"
            ]
          },
          "metadata": {
            "tags": []
          },
          "execution_count": 58
        }
      ]
    },
    {
      "cell_type": "markdown",
      "metadata": {
        "id": "6k_D0uNpZ0ZQ"
      },
      "source": [
        "## Edition"
      ]
    },
    {
      "cell_type": "code",
      "metadata": {
        "colab": {
          "base_uri": "https://localhost:8080/"
        },
        "id": "sTxfXApWaGfB",
        "outputId": "c5ea7f7a-154a-4911-9ccc-4b606a02282a"
      },
      "source": [
        "train_data['Edition']"
      ],
      "execution_count": 59,
      "outputs": [
        {
          "output_type": "execute_result",
          "data": {
            "text/plain": [
              "0       Paperback,– 10 Mar 2016\n",
              "1        Paperback,– 7 Nov 2012\n",
              "2       Paperback,– 25 Feb 1982\n",
              "3        Paperback,– 5 Oct 2017\n",
              "4       Hardcover,– 10 Oct 2006\n",
              "                 ...           \n",
              "6232     Paperback,– 8 Aug 2018\n",
              "6233    Paperback,– 21 Nov 2016\n",
              "6234     Paperback,– 8 Jun 2006\n",
              "6235    Paperback,– 15 Jan 2015\n",
              "6236    Paperback,– 21 Dec 2016\n",
              "Name: Edition, Length: 6237, dtype: object"
            ]
          },
          "metadata": {
            "tags": []
          },
          "execution_count": 59
        }
      ]
    },
    {
      "cell_type": "code",
      "metadata": {
        "id": "3kUPNjOgaZm9"
      },
      "source": [
        "#here we can seperate or split 3 different columns for type,month,year"
      ],
      "execution_count": 60,
      "outputs": []
    },
    {
      "cell_type": "code",
      "metadata": {
        "colab": {
          "base_uri": "https://localhost:8080/"
        },
        "id": "ohiZsAkeajp-",
        "outputId": "4f1955ff-370e-4234-e4b0-300a14550f23"
      },
      "source": [
        "#type\n",
        "ed_train_list=list(train_data['Edition'])\n",
        "ed_type=[i.split(',–')[0].strip().upper() for i in ed_train_list]\n",
        "\n",
        "#for month and year\n",
        "\n",
        "ed_date=[i.split(',–')[1].strip() for i in ed_train_list]\n",
        "ed_month=[i.split()[-2] for i in ed_train_list]\n",
        "#some months have shortage in Edition column,will handle\n",
        "months=['Jan','Feb','Mar','Apr','May','Jun','Jul','Aug','Sep','Oct','Nov','Dec']\n",
        "ed_month=[i if i in months else 'NA' for i in ed_month ]\n",
        "ed_year=[i.split()[-1] for i in ed_train_list]\n",
        "print('type :',ed_type)\n",
        "print('month :',ed_month)\n",
        "print('year :',ed_year)"
      ],
      "execution_count": 61,
      "outputs": [
        {
          "output_type": "stream",
          "text": [
            "type : ['PAPERBACK', 'PAPERBACK', 'PAPERBACK', 'PAPERBACK', 'HARDCOVER', 'PAPERBACK', 'PAPERBACK', 'HARDCOVER', 'PAPERBACK', 'PAPERBACK', 'PAPERBACK', 'PAPERBACK', 'PAPERBACK', 'PAPERBACK', 'PAPERBACK', 'PAPERBACK', 'HARDCOVER', 'PAPERBACK', 'MASS MARKET PAPERBACK', 'PAPERBACK', 'HARDCOVER', 'PAPERBACK', 'PAPERBACK', 'PAPERBACK', 'PAPERBACK', 'HARDCOVER', 'PAPERBACK', 'PAPERBACK', 'HARDCOVER', 'PAPERBACK', 'PAPERBACK', 'PAPERBACK', 'PAPERBACK', 'PAPERBACK', 'HARDCOVER', 'PAPERBACK', 'PAPERBACK', 'PAPERBACK', 'PAPERBACK', 'PAPERBACK', 'PAPERBACK', 'HARDCOVER', 'PAPERBACK', 'HARDCOVER', 'HARDCOVER', 'PAPERBACK', 'PAPERBACK', 'PAPERBACK', 'PAPERBACK', 'PAPERBACK', 'PAPERBACK', 'PAPERBACK', 'SHEET MUSIC', 'MASS MARKET PAPERBACK', 'PAPERBACK', 'PAPERBACK', 'PAPERBACK', 'HARDCOVER', 'PAPERBACK', 'PAPERBACK', 'PAPERBACK', 'HARDCOVER', 'PAPERBACK', 'PAPERBACK', 'PAPERBACK', 'HARDCOVER', 'PAPERBACK', 'PAPERBACK', 'PAPERBACK', 'PAPERBACK', 'HARDCOVER', 'PAPERBACK', 'PAPERBACK', 'PAPERBACK', 'PAPERBACK', 'PAPERBACK', 'HARDCOVER', 'PAPERBACK', 'PAPERBACK', 'HARDCOVER', 'PAPERBACK', 'PAPERBACK', 'PAPERBACK', 'PAPERBACK', 'PAPERBACK', 'PAPERBACK', 'PAPERBACK', 'HARDCOVER', 'PAPERBACK', 'HARDCOVER', 'HARDCOVER', 'PAPERBACK', 'PAPERBACK', 'PAPERBACK', 'HARDCOVER', 'PAPERBACK', 'PAPERBACK', 'PAPERBACK', 'PAPERBACK', 'PAPERBACK', 'PAPERBACK', 'HARDCOVER', 'PAPERBACK', 'PAPERBACK', 'HARDCOVER', 'PAPERBACK', 'HARDCOVER', 'PAPERBACK', 'PAPERBACK', 'PAPERBACK', 'PAPERBACK', 'PAPERBACK', 'PAPERBACK', 'FLEXIBOUND', 'PAPERBACK', 'PAPERBACK', 'PAPERBACK', 'PAPERBACK', 'PAPERBACK', 'PAPERBACK', 'PAPERBACK', 'PAPERBACK', 'PAPERBACK', 'PAPERBACK', 'PAPERBACK', 'PAPERBACK', 'PAPERBACK', 'HARDCOVER', 'PAPERBACK', 'PAPERBACK', 'PAPERBACK', 'SHEET MUSIC', 'PAPERBACK', 'PAPERBACK', 'PAPERBACK', 'HARDCOVER', 'PAPERBACK', 'PAPERBACK', 'PAPERBACK', 'PAPERBACK', 'PAPERBACK', 'PAPERBACK', 'PAPERBACK', 'PAPERBACK', 'PAPERBACK', 'HARDCOVER', 'PAPERBACK', 'HARDCOVER', 'PAPERBACK', 'PAPERBACK', 'PAPERBACK', 'PAPERBACK', 'PAPERBACK', 'HARDCOVER', 'HARDCOVER', 'PAPERBACK', 'HARDCOVER', 'PAPERBACK', 'PAPERBACK', 'PAPERBACK', 'PAPERBACK', 'PAPERBACK', 'HARDCOVER', 'PAPERBACK', 'PAPERBACK', 'PAPERBACK', 'HARDCOVER', 'PAPERBACK', 'PAPERBACK', 'PAPERBACK', 'PAPERBACK', 'PAPERBACK', 'PAPERBACK', 'PAPERBACK', 'PAPERBACK', 'PAPERBACK', 'MASS MARKET PAPERBACK', 'PAPERBACK', 'PAPERBACK', 'PAPERBACK', 'PAPERBACK', 'PAPERBACK', 'HARDCOVER', 'PAPERBACK', 'PAPERBACK', 'PAPERBACK', 'HARDCOVER', 'PAPERBACK', 'PAPERBACK', 'PAPERBACK', 'HARDCOVER', 'PAPERBACK', 'PAPERBACK', 'PAPERBACK', 'PAPERBACK', 'PAPERBACK', 'PAPERBACK', 'PAPERBACK', 'HARDCOVER', 'PAPERBACK', 'PAPERBACK', 'PAPERBACK', 'MASS MARKET PAPERBACK', 'PAPERBACK', 'PAPERBACK', 'PAPERBACK', 'PAPERBACK', 'PAPERBACK', 'PAPERBACK', 'PAPERBACK', 'PAPERBACK', 'PAPERBACK', 'PAPERBACK', 'PAPERBACK', 'HARDCOVER', 'MASS MARKET PAPERBACK', 'PAPERBACK', 'PAPERBACK', 'PAPERBACK', 'PAPERBACK', 'PAPERBACK', 'PAPERBACK', 'PAPERBACK', 'PAPERBACK', 'PAPERBACK', 'PAPERBACK', 'PAPERBACK', 'PAPERBACK', 'PAPERBACK', 'PAPERBACK', 'HARDCOVER', 'PAPERBACK', 'PAPERBACK', 'PAPERBACK', 'PAPERBACK', 'PLASTIC COMB', 'PAPERBACK', 'PAPERBACK', 'PAPERBACK', 'PAPERBACK', 'PAPERBACK', 'PAPERBACK', 'PAPERBACK', 'HARDCOVER', 'PAPERBACK', 'PAPERBACK', 'PAPERBACK', 'PAPERBACK', 'HARDCOVER', 'PAPERBACK', 'PAPERBACK', 'PAPERBACK', 'PAPERBACK', 'HARDCOVER', 'PAPERBACK', 'PAPERBACK', 'PAPERBACK', 'PAPERBACK', 'PAPERBACK', 'PAPERBACK', 'PAPERBACK', 'PAPERBACK', 'PAPERBACK', 'PAPERBACK', 'PAPERBACK', 'PAPERBACK', 'PAPERBACK', 'PAPERBACK', 'PAPERBACK', 'PAPERBACK', 'HARDCOVER', 'PAPERBACK', 'PAPERBACK', 'PAPERBACK', 'PAPERBACK', 'PAPERBACK', 'PAPERBACK', 'PAPERBACK', 'PAPERBACK', 'PAPERBACK', 'PAPERBACK', 'PAPERBACK', 'MASS MARKET PAPERBACK', 'PAPERBACK', 'PAPERBACK', 'PAPERBACK', 'PAPERBACK', 'PAPERBACK', 'PAPERBACK', 'MASS MARKET PAPERBACK', 'PAPERBACK', 'PAPERBACK', 'PAPERBACK', 'PAPERBACK', 'PAPERBACK', 'PAPERBACK', 'PAPERBACK', 'PAPERBACK', 'PAPERBACK', 'PAPERBACK', 'PAPERBACK', 'MASS MARKET PAPERBACK', 'PAPERBACK', 'HARDCOVER', 'PAPERBACK', 'PAPERBACK', 'PAPERBACK', 'HARDCOVER', 'PAPERBACK', 'HARDCOVER', 'HARDCOVER', 'PAPERBACK', 'PAPERBACK', 'PAPERBACK', 'PAPERBACK', 'HARDCOVER', 'PAPERBACK', 'PAPERBACK', 'HARDCOVER', 'HARDCOVER', 'PAPERBACK', 'HARDCOVER', 'PAPERBACK', 'PAPERBACK', 'PAPERBACK', 'PAPERBACK', 'PAPERBACK', 'PAPERBACK', 'PAPERBACK', 'HARDCOVER', 'PAPERBACK', 'PAPERBACK', 'PAPERBACK', 'MASS MARKET PAPERBACK', 'PAPERBACK', 'PAPERBACK', 'HARDCOVER', 'PAPERBACK', 'PAPERBACK', 'HARDCOVER', 'LOOSE LEAF', 'PAPERBACK', 'PAPERBACK', 'PAPERBACK', 'PAPERBACK', 'PAPERBACK', 'PAPERBACK', 'PAPERBACK', 'PAPERBACK', 'PAPERBACK', 'PAPERBACK', 'PAPERBACK', 'PAPERBACK', 'PAPERBACK', 'PAPERBACK', 'HARDCOVER', 'PAPERBACK', 'PAPERBACK', 'PAPERBACK', 'PAPERBACK', 'PAPERBACK', 'MASS MARKET PAPERBACK', 'MASS MARKET PAPERBACK', 'HARDCOVER', 'PAPERBACK', 'PAPERBACK', 'PAPERBACK', 'PAPERBACK', 'PAPERBACK', 'HARDCOVER', 'PAPERBACK', 'PAPERBACK', 'PAPERBACK', 'MASS MARKET PAPERBACK', 'MASS MARKET PAPERBACK', 'MASS MARKET PAPERBACK', 'PAPERBACK', 'HARDCOVER', 'PAPERBACK', 'PAPERBACK', 'PAPERBACK', 'PAPERBACK', 'PAPERBACK', 'PAPERBACK', 'PAPERBACK', 'PAPERBACK', 'PAPERBACK', 'HARDCOVER', 'PAPERBACK', 'HARDCOVER', 'PAPERBACK', 'PAPERBACK', 'PAPERBACK', 'PAPERBACK', 'PAPERBACK', 'HARDCOVER', 'PAPERBACK', 'PAPERBACK', 'PAPERBACK', 'PAPERBACK', 'PAPERBACK', 'HARDCOVER', 'PAPERBACK', 'PAPERBACK', 'PAPERBACK', 'PAPERBACK', 'HARDCOVER', 'PAPERBACK', 'HARDCOVER', 'PAPERBACK', 'PAPERBACK', 'PAPERBACK', 'PAPERBACK', 'PAPERBACK', 'PAPERBACK', 'PAPERBACK', 'PAPERBACK', 'PAPERBACK', 'PAPERBACK', 'PAPERBACK', 'PAPERBACK', 'PAPERBACK', 'PAPERBACK', 'PAPERBACK', 'PAPERBACK', 'PAPERBACK', 'PAPERBACK', 'PAPERBACK', 'PAPERBACK', 'PAPERBACK', 'PAPERBACK', 'PAPERBACK', 'PAPERBACK', 'HARDCOVER', 'PAPERBACK', 'PAPERBACK', 'PAPERBACK', 'PAPERBACK', 'PAPERBACK', 'PAPERBACK', 'PAPERBACK', 'PAPERBACK', 'PAPERBACK', 'PAPERBACK', 'PAPERBACK', 'PAPERBACK', 'PAPERBACK', 'HARDCOVER', 'MASS MARKET PAPERBACK', 'PAPERBACK', 'PAPERBACK', 'PAPERBACK', 'PAPERBACK', 'HARDCOVER', 'HARDCOVER', 'PAPERBACK', 'PAPERBACK', 'PAPERBACK', 'PAPERBACK', 'PAPERBACK', 'PAPERBACK', 'PAPERBACK', 'PAPERBACK', 'HARDCOVER', 'PAPERBACK', 'PAPERBACK', 'PAPERBACK', 'PAPERBACK', 'PAPERBACK', 'PAPERBACK', 'PAPERBACK', 'PAPERBACK', 'PAPERBACK', 'PAPERBACK', 'PAPERBACK', 'PAPERBACK', 'HARDCOVER', 'PAPERBACK', 'PAPERBACK', 'PAPERBACK', 'PAPERBACK', 'PAPERBACK', 'PAPERBACK', 'PAPERBACK', 'PAPERBACK', 'PAPERBACK', 'PAPERBACK', 'HARDCOVER', 'PAPERBACK', 'PAPERBACK', 'PAPERBACK', 'PAPERBACK', 'PAPERBACK', 'PAPERBACK', 'PAPERBACK', 'HARDCOVER', 'PAPERBACK', 'PAPERBACK', 'PAPERBACK', 'PAPERBACK', 'PAPERBACK', 'HARDCOVER', 'HARDCOVER', 'PAPERBACK', 'MASS MARKET PAPERBACK', 'PAPERBACK', 'PAPERBACK', 'PAPERBACK', 'PAPERBACK', 'HARDCOVER', 'PAPERBACK', 'PAPERBACK', 'PAPERBACK', 'PAPERBACK', 'PAPERBACK', 'PAPERBACK', 'HARDCOVER', 'HARDCOVER', 'PAPERBACK', 'PAPERBACK', 'PAPERBACK', 'PAPERBACK', 'PAPERBACK', 'PAPERBACK', 'PAPERBACK', 'PAPERBACK', 'PAPERBACK', 'PAPERBACK', 'HARDCOVER', 'PAPERBACK', 'PAPERBACK', 'HARDCOVER', 'PAPERBACK', 'PAPERBACK', 'PAPERBACK', 'PAPERBACK', 'PAPERBACK', 'HARDCOVER', 'PAPERBACK', 'PAPERBACK', 'PAPERBACK', 'PAPERBACK', 'PAPERBACK', 'PAPERBACK', 'PAPERBACK', 'PAPERBACK', 'PAPERBACK', 'HARDCOVER', 'HARDCOVER', 'PAPERBACK', 'HARDCOVER', 'PAPERBACK', 'PAPERBACK', 'PAPERBACK', 'PAPERBACK', 'PAPERBACK', 'PAPERBACK', 'PAPERBACK', 'PAPERBACK', 'PAPERBACK', 'PAPERBACK', 'PAPERBACK', 'PAPERBACK', 'PAPERBACK', 'PAPERBACK', 'PAPERBACK', 'PAPERBACK', 'PAPERBACK', 'PAPERBACK', 'PAPERBACK', 'PAPERBACK', 'PAPERBACK', 'PAPERBACK', 'PAPERBACK', 'HARDCOVER', 'PAPERBACK', 'PAPERBACK', 'PAPERBACK', 'PAPERBACK', 'HARDCOVER', 'PAPERBACK', 'PAPERBACK', 'PAPERBACK', 'PAPERBACK', 'HARDCOVER', 'HARDCOVER', 'PAPERBACK', 'HARDCOVER', 'PAPERBACK', 'PAPERBACK', 'PAPERBACK', 'MASS MARKET PAPERBACK', 'PAPERBACK', 'PAPERBACK', 'PAPERBACK', 'PAPERBACK', 'TANKOBON SOFTCOVER', 'PAPERBACK', 'PAPERBACK', 'PAPERBACK', 'PAPERBACK', 'PAPERBACK', 'PAPERBACK', 'PAPERBACK', 'MASS MARKET PAPERBACK', 'PAPERBACK', 'PAPERBACK', 'PAPERBACK', 'HARDCOVER', 'HARDCOVER', 'PAPERBACK', 'PAPERBACK', 'PAPERBACK', 'PAPERBACK', 'PAPERBACK', 'PAPERBACK', 'PERFECT PAPERBACK', 'PAPERBACK', 'PAPERBACK', 'PAPERBACK', 'PAPERBACK', 'PAPERBACK', 'PAPERBACK', 'MASS MARKET PAPERBACK', 'PAPERBACK', 'MASS MARKET PAPERBACK', 'PAPERBACK', 'PAPERBACK', 'PAPERBACK', 'PAPERBACK', 'PAPERBACK', 'PAPERBACK', 'PAPERBACK', 'PAPERBACK', 'PAPERBACK', 'PAPERBACK', 'PAPERBACK', 'HARDCOVER', 'PAPERBACK', 'PAPERBACK', 'PAPERBACK', 'PAPERBACK', 'HARDCOVER', 'PAPERBACK', 'PAPERBACK', 'PAPERBACK', 'PAPERBACK', 'HARDCOVER', 'PAPERBACK', 'PAPERBACK', 'PAPERBACK', 'PAPERBACK', 'PAPERBACK', 'HARDCOVER', 'PAPERBACK', 'PAPERBACK', 'PAPERBACK', 'PAPERBACK', 'PAPERBACK', 'PAPERBACK', 'PAPERBACK', 'PAPERBACK', 'PAPERBACK', 'PAPERBACK', 'PAPERBACK', 'PAPERBACK', 'PAPERBACK', 'PAPERBACK', 'PAPERBACK', 'PAPERBACK', 'PAPERBACK', 'PAPERBACK', 'PAPERBACK', 'PAPERBACK', 'PAPERBACK', 'PAPERBACK', 'PAPERBACK', 'PAPERBACK', 'PAPERBACK', 'PAPERBACK', 'PAPERBACK', 'PAPERBACK', 'PAPERBACK', 'PAPERBACK', 'PAPERBACK', 'PAPERBACK', 'PAPERBACK', 'PAPERBACK', 'HARDCOVER', 'PAPERBACK', 'PAPERBACK', 'HARDCOVER', 'PAPERBACK', 'PAPERBACK', 'PAPERBACK', 'PAPERBACK', 'PAPERBACK', 'PAPERBACK', 'PAPERBACK', 'PAPERBACK', 'PAPERBACK', 'PAPERBACK', 'PAPERBACK', 'PAPERBACK', 'PAPERBACK', 'PAPERBACK', 'PAPERBACK', 'PAPERBACK', 'HARDCOVER', 'PAPERBACK', 'PAPERBACK', 'PAPERBACK', 'PAPERBACK', 'PAPERBACK', 'PAPERBACK', 'PAPERBACK', 'PAPERBACK', 'PAPERBACK', 'LOOSE LEAF', 'PAPERBACK', 'MASS MARKET PAPERBACK', 'PAPERBACK', 'PAPERBACK', 'PAPERBACK', 'PAPERBACK', 'PAPERBACK', 'PAPERBACK', 'PAPERBACK', 'PAPERBACK', 'PAPERBACK', 'PAPERBACK', 'PAPERBACK', 'HARDCOVER', 'PAPERBACK', 'PAPERBACK', 'PAPERBACK', 'PAPERBACK', 'PAPERBACK', 'PAPERBACK', 'PAPERBACK', 'PAPERBACK', 'PAPERBACK', 'PAPERBACK', 'PAPERBACK', 'PAPERBACK', 'PAPERBACK', 'PAPERBACK', 'PAPERBACK', 'PAPERBACK', 'HARDCOVER', 'PAPERBACK', 'PAPERBACK', 'PAPERBACK', 'PAPERBACK', 'PAPERBACK', 'HARDCOVER', 'PAPERBACK', 'PAPERBACK', 'PAPERBACK', 'MASS MARKET PAPERBACK', 'PAPERBACK', 'HARDCOVER', 'HARDCOVER', 'PAPERBACK', 'HARDCOVER', 'PAPERBACK', 'HARDCOVER', 'PAPERBACK', 'HARDCOVER', 'PAPERBACK', 'HARDCOVER', 'SHEET MUSIC', 'MASS MARKET PAPERBACK', 'PAPERBACK', 'PAPERBACK', 'PAPERBACK', 'PAPERBACK', 'PAPERBACK', 'MASS MARKET PAPERBACK', 'PAPERBACK', 'PAPERBACK', 'PAPERBACK', 'PAPERBACK', 'PAPERBACK', 'PAPERBACK', 'PAPERBACK', 'PAPERBACK', 'PAPERBACK', 'PAPERBACK', 'PAPERBACK', 'PAPERBACK', 'PAPERBACK', 'PAPERBACK', 'SHEET MUSIC', 'PAPERBACK', 'PAPERBACK', 'PAPERBACK', 'PAPERBACK', 'PAPERBACK', 'HARDCOVER', 'PAPERBACK', 'HARDCOVER', 'PAPERBACK', 'PAPERBACK', 'HARDCOVER', 'PAPERBACK', 'MASS MARKET PAPERBACK', 'HARDCOVER', 'HARDCOVER', 'PAPERBACK', 'PAPERBACK', 'PAPERBACK', 'PAPERBACK', 'PAPERBACK', 'PAPERBACK', 'PAPERBACK', 'PAPERBACK', 'PAPERBACK', 'PAPERBACK', 'PAPERBACK', 'HARDCOVER', 'PAPERBACK', 'PAPERBACK', 'MASS MARKET PAPERBACK', 'PAPERBACK', 'PAPERBACK', 'PAPERBACK', 'PAPERBACK', 'FLEXIBOUND', 'HARDCOVER', 'PAPERBACK', 'PAPERBACK', 'PAPERBACK', 'MASS MARKET PAPERBACK', 'PAPERBACK', 'PAPERBACK', 'PAPERBACK', 'MASS MARKET PAPERBACK', 'PAPERBACK', 'PAPERBACK', 'PAPERBACK', 'PAPERBACK', 'PAPERBACK', 'PAPERBACK', 'PAPERBACK', 'PAPERBACK', 'PAPERBACK', 'PAPERBACK', 'PAPERBACK', 'PAPERBACK', 'PAPERBACK', 'PAPERBACK', 'PAPERBACK', 'PAPERBACK', 'PAPERBACK', 'PAPERBACK', 'PAPERBACK', 'HARDCOVER', 'PAPERBACK', 'MASS MARKET PAPERBACK', 'PAPERBACK', 'PAPERBACK', 'PAPERBACK', 'HARDCOVER', 'PAPERBACK', 'PAPERBACK', 'PAPERBACK', 'PAPERBACK', 'PAPERBACK', 'HARDCOVER', 'PAPERBACK', 'PAPERBACK', 'PAPERBACK', 'PAPERBACK', 'PAPERBACK', 'PAPERBACK', 'PAPERBACK', 'PAPERBACK', 'PAPERBACK', 'PAPERBACK', 'PAPERBACK', 'PAPERBACK', 'MASS MARKET PAPERBACK', 'HARDCOVER', 'PAPERBACK', 'MASS MARKET PAPERBACK', 'HARDCOVER', 'HARDCOVER', 'PAPERBACK', 'PAPERBACK', 'PAPERBACK', 'PAPERBACK', 'PAPERBACK', 'PAPERBACK', 'PAPERBACK', 'PAPERBACK', 'HARDCOVER', 'HARDCOVER', 'PAPERBACK', 'PAPERBACK', 'PAPERBACK', 'PAPERBACK', 'PAPERBACK', 'PAPERBACK', 'PAPERBACK', 'PAPERBACK', 'PAPERBACK', 'PAPERBACK', 'PAPERBACK', 'HARDCOVER', 'PAPERBACK', 'PAPERBACK', 'PAPERBACK', 'PAPERBACK', 'PAPERBACK', 'PAPERBACK', 'PAPERBACK', 'PAPERBACK', 'PAPERBACK', 'PAPERBACK', 'PAPERBACK', 'HARDCOVER', 'PAPERBACK', 'PAPERBACK', 'PAPERBACK', 'PAPERBACK', 'PAPERBACK', 'PAPERBACK', 'PAPERBACK', 'HARDCOVER', 'PAPERBACK', 'PAPERBACK', 'PAPERBACK', 'PAPERBACK', 'PAPERBACK', 'HARDCOVER', 'PAPERBACK', 'PAPERBACK', 'PAPERBACK', 'PAPERBACK', 'HARDCOVER', 'PAPERBACK', 'PAPERBACK', 'PAPERBACK', 'PAPERBACK', 'PAPERBACK', 'PAPERBACK', 'PAPERBACK', 'HARDCOVER', 'PAPERBACK', 'PAPERBACK', 'PAPERBACK', 'PAPERBACK', 'PAPERBACK', 'PAPERBACK', 'PAPERBACK', 'PAPERBACK', 'PAPERBACK', 'HARDCOVER', 'PAPERBACK', 'PAPERBACK', 'PAPERBACK', 'PAPERBACK', 'HARDCOVER', 'PAPERBACK', 'PAPERBACK', 'PAPERBACK', 'PAPERBACK', 'HARDCOVER', 'PAPERBACK', 'PAPERBACK', 'PAPERBACK', 'PAPERBACK', 'PAPERBACK', 'PAPERBACK', 'PAPERBACK', 'PAPERBACK', 'PAPERBACK', 'PAPERBACK', 'PAPERBACK', 'PAPERBACK', 'PAPERBACK', 'PAPERBACK', 'PAPERBACK', 'HARDCOVER', 'PAPERBACK', 'PAPERBACK', 'PAPERBACK', 'PAPERBACK', 'PAPERBACK', 'PAPERBACK', 'MASS MARKET PAPERBACK', 'HARDCOVER', 'PAPERBACK', 'PAPERBACK', 'HARDCOVER', 'PAPERBACK', 'PAPERBACK', 'PAPERBACK', 'PAPERBACK', 'PAPERBACK', 'PAPERBACK', 'PAPERBACK', 'HARDCOVER', 'PAPERBACK', 'PAPERBACK', 'PAPERBACK', 'PAPERBACK', 'PAPERBACK', 'PAPERBACK', 'PAPERBACK', 'PAPERBACK', 'PAPERBACK', 'PAPERBACK', 'PAPERBACK', 'HARDCOVER', 'PAPERBACK', 'HARDCOVER', 'PAPERBACK', 'PAPERBACK', 'PAPERBACK', 'PAPERBACK', 'HARDCOVER', 'PAPERBACK', 'PAPERBACK', 'PAPERBACK', 'PAPERBACK', 'PAPERBACK', 'PAPERBACK', 'PAPERBACK', 'HARDCOVER', 'PAPERBACK', 'PAPERBACK', 'PAPERBACK', 'PAPERBACK', 'HARDCOVER', 'PAPERBACK', 'PAPERBACK', 'PAPERBACK', 'MASS MARKET PAPERBACK', 'PAPERBACK', 'PAPERBACK', 'PAPERBACK', 'PAPERBACK', 'PAPERBACK', 'PAPERBACK', 'PAPERBACK', 'HARDCOVER', 'PAPERBACK', 'PAPERBACK', 'PAPERBACK', 'HARDCOVER', 'PAPERBACK', 'PAPERBACK', 'PAPERBACK', 'PAPERBACK', 'HARDCOVER', 'HARDCOVER', 'PAPERBACK', 'PAPERBACK', 'PAPERBACK', 'PAPERBACK', 'PAPERBACK', 'PAPERBACK', 'MASS MARKET PAPERBACK', 'PAPERBACK', 'PAPERBACK', 'PAPERBACK', 'PAPERBACK', 'PAPERBACK', 'PAPERBACK', 'PAPERBACK', 'PAPERBACK', 'PAPERBACK', 'PAPERBACK', 'PAPERBACK', 'PAPERBACK', 'PAPERBACK', 'PAPERBACK', 'PAPERBACK', 'PAPERBACK', 'PAPERBACK', 'PAPERBACK', 'MASS MARKET PAPERBACK', 'PAPERBACK', 'PAPERBACK', 'PAPERBACK', 'MASS MARKET PAPERBACK', 'PAPERBACK', 'PAPERBACK', 'HARDCOVER', 'PAPERBACK', 'PAPERBACK', 'PAPERBACK', 'PAPERBACK', 'PAPERBACK', 'PAPERBACK', 'HARDCOVER', 'PAPERBACK', 'PAPERBACK', 'HARDCOVER', 'PAPERBACK', 'PAPERBACK', 'PAPERBACK', 'PAPERBACK', 'PAPERBACK', 'PAPERBACK', 'PAPERBACK', 'PAPERBACK', 'PAPERBACK', 'PAPERBACK', 'PAPERBACK', 'PAPERBACK', 'PAPERBACK', 'MASS MARKET PAPERBACK', 'PAPERBACK', 'PAPERBACK', 'HARDCOVER', 'PAPERBACK', 'PAPERBACK', 'PAPERBACK', 'PAPERBACK', 'PAPERBACK', 'PAPERBACK', 'HARDCOVER', 'PAPERBACK', 'MASS MARKET PAPERBACK', 'PAPERBACK', 'PAPERBACK', 'MASS MARKET PAPERBACK', 'PAPERBACK', 'PAPERBACK', 'PAPERBACK', 'PAPERBACK', 'PAPERBACK', 'PAPERBACK', 'PAPERBACK', 'MASS MARKET PAPERBACK', 'PAPERBACK', 'PAPERBACK', 'PAPERBACK', 'PAPERBACK', 'PAPERBACK', 'PAPERBACK', 'PAPERBACK', 'HARDCOVER', 'PAPERBACK', 'PAPERBACK', 'PAPERBACK', 'HARDCOVER', 'PAPERBACK', 'HARDCOVER', 'PAPERBACK', 'PAPERBACK', 'PAPERBACK', 'PAPERBACK', 'PAPERBACK', 'PAPERBACK', 'PAPERBACK', 'PAPERBACK', 'PAPERBACK', 'PAPERBACK', 'PAPERBACK', 'PAPERBACK', 'PAPERBACK', 'HARDCOVER', 'PAPERBACK', 'PAPERBACK', 'PAPERBACK', 'PAPERBACK', 'PAPERBACK', 'PAPERBACK', 'HARDCOVER', 'HARDCOVER', 'PAPERBACK', 'PAPERBACK', 'PAPERBACK', 'PAPERBACK', 'PAPERBACK', 'PAPERBACK', 'PAPERBACK', 'PAPERBACK', 'PAPERBACK', 'PAPERBACK', 'MASS MARKET PAPERBACK', 'HARDCOVER', 'PAPERBACK', 'PAPERBACK', 'PAPERBACK', 'HARDCOVER', 'HARDCOVER', 'PAPERBACK', 'PAPERBACK', 'PAPERBACK', 'PAPERBACK', 'PAPERBACK', 'PAPERBACK', 'PAPERBACK', 'PAPERBACK', 'PAPERBACK', 'HARDCOVER', 'PAPERBACK', 'PAPERBACK', 'PAPERBACK', 'PAPERBACK', 'PAPERBACK', 'HARDCOVER', 'PAPERBACK', 'PAPERBACK', 'PAPERBACK', 'PAPERBACK', 'PAPERBACK', 'PAPERBACK', 'PAPERBACK', 'PAPERBACK', 'PAPERBACK', 'PAPERBACK', 'PAPERBACK', 'PAPERBACK', 'PAPERBACK', 'PAPERBACK', 'MASS MARKET PAPERBACK', 'HARDCOVER', 'PAPERBACK', 'PAPERBACK', 'PAPERBACK', 'PAPERBACK', 'MASS MARKET PAPERBACK', 'PAPERBACK', 'PAPERBACK', 'PAPERBACK', 'PAPERBACK', 'HARDCOVER', 'PAPERBACK', 'PAPERBACK', 'PAPERBACK', 'PAPERBACK', 'HARDCOVER', 'PAPERBACK', 'PAPERBACK', 'PAPERBACK', 'PAPERBACK', 'PAPERBACK', 'PAPERBACK', 'PAPERBACK', 'PAPERBACK', 'MASS MARKET PAPERBACK', 'PAPERBACK', 'PAPERBACK', 'PAPERBACK', 'PAPERBACK', 'HARDCOVER', 'PAPERBACK', 'PAPERBACK', 'PAPERBACK', 'PAPERBACK', 'PAPERBACK', 'PAPERBACK', 'PAPERBACK', 'PAPERBACK', 'PAPERBACK', 'PAPERBACK', 'HARDCOVER', 'HARDCOVER', 'PAPERBACK', 'PAPERBACK', 'PAPERBACK', 'PAPERBACK', 'PAPERBACK', 'PAPERBACK', 'HARDCOVER', 'PAPERBACK', 'PAPERBACK', 'PAPERBACK', 'PAPERBACK', 'PAPERBACK', 'PAPERBACK', 'PAPERBACK', 'PAPERBACK', 'PAPERBACK', 'PAPERBACK', 'PAPERBACK', 'HARDCOVER', 'PAPERBACK', 'PAPERBACK', 'PAPERBACK', 'PAPERBACK', 'PAPERBACK', 'PAPERBACK', 'PAPERBACK', 'PAPERBACK', 'PAPERBACK', 'PAPERBACK', 'HARDCOVER', 'PAPERBACK', 'PAPERBACK', 'PAPERBACK', 'PAPERBACK', 'HARDCOVER', 'PAPERBACK', 'PAPERBACK', 'SHEET MUSIC', 'PAPERBACK', 'HARDCOVER', 'PAPERBACK', 'HARDCOVER', 'PAPERBACK', 'MASS MARKET PAPERBACK', 'PAPERBACK', 'PAPERBACK', 'PAPERBACK', 'PAPERBACK', 'PAPERBACK', 'MASS MARKET PAPERBACK', 'PAPERBACK', 'PAPERBACK', 'MASS MARKET PAPERBACK', 'HARDCOVER', 'HARDCOVER', 'PAPERBACK', 'PAPERBACK', 'PAPERBACK', 'PAPERBACK', 'PAPERBACK', 'PAPERBACK', 'PAPERBACK', 'PAPERBACK', 'PAPERBACK', 'PAPERBACK', 'PAPERBACK', 'PAPERBACK', 'PAPERBACK', 'PAPERBACK', 'PAPERBACK', 'PAPERBACK', 'PAPERBACK', 'PAPERBACK', 'PAPERBACK', 'PAPERBACK', 'PAPERBACK', 'PAPERBACK', 'PAPERBACK', 'PAPERBACK', 'PAPERBACK', 'PAPERBACK', 'PAPERBACK', 'PAPERBACK', 'PAPERBACK', 'PAPERBACK', 'MASS MARKET PAPERBACK', 'PAPERBACK', 'HARDCOVER', 'PAPERBACK', 'PAPERBACK', 'PAPERBACK', 'PAPERBACK', 'PAPERBACK', 'PAPERBACK', 'PAPERBACK', 'HARDCOVER', 'MASS MARKET PAPERBACK', 'PAPERBACK', 'PAPERBACK', 'PAPERBACK', 'PAPERBACK', 'PAPERBACK', 'PAPERBACK', 'PAPERBACK', 'HARDCOVER', 'PAPERBACK', 'PAPERBACK', 'PAPERBACK', 'PAPERBACK', 'PAPERBACK', 'PAPERBACK', 'PAPERBACK', 'PAPERBACK', 'PAPERBACK', 'PAPERBACK', 'PAPERBACK', 'PAPERBACK', 'PAPERBACK', 'PAPERBACK', 'PAPERBACK', 'PAPERBACK', 'PAPERBACK', 'PAPERBACK', 'PAPERBACK', 'PAPERBACK', 'MASS MARKET PAPERBACK', 'PAPERBACK', 'PAPERBACK', 'PAPERBACK', 'PAPERBACK', 'HARDCOVER', 'PAPERBACK', 'PAPERBACK', 'PAPERBACK', 'PAPERBACK', 'HARDCOVER', 'PAPERBACK', 'MASS MARKET PAPERBACK', 'PAPERBACK', 'HARDCOVER', 'PAPERBACK', 'PAPERBACK', 'PAPERBACK', 'PAPERBACK', 'PAPERBACK', 'PAPERBACK', 'PAPERBACK', 'PAPERBACK', 'PAPERBACK', 'PAPERBACK', 'PAPERBACK', 'PAPERBACK', 'PAPERBACK', 'PAPERBACK', 'PAPERBACK', 'PAPERBACK', 'PAPERBACK', 'PAPERBACK', 'PAPERBACK', 'PAPERBACK', 'PAPERBACK', 'PAPERBACK', 'PAPERBACK', 'PAPERBACK', 'PAPERBACK', 'PAPERBACK', 'PAPERBACK', 'PAPERBACK', 'HARDCOVER', 'PAPERBACK', 'PAPERBACK', 'PAPERBACK', 'PAPERBACK', 'PAPERBACK', 'PAPERBACK', 'PAPERBACK', 'PAPERBACK', 'HARDCOVER', 'PAPERBACK', 'PAPERBACK', 'PAPERBACK', 'PAPERBACK', 'PAPERBACK', 'PAPERBACK', 'PAPERBACK', 'PAPERBACK', 'PAPERBACK', 'PAPERBACK', 'PAPERBACK', 'PAPERBACK', 'HARDCOVER', 'PAPERBACK', 'PAPERBACK', 'PAPERBACK', 'PAPERBACK', 'PAPERBACK', 'PAPERBACK', 'PAPERBACK', 'PAPERBACK', 'PAPERBACK', 'HARDCOVER', 'PAPERBACK', 'HARDCOVER', 'PAPERBACK', 'HARDCOVER', 'PAPERBACK', 'HARDCOVER', 'PAPERBACK', 'PAPERBACK', 'PAPERBACK', 'HARDCOVER', 'PAPERBACK', 'PAPERBACK', 'PAPERBACK', 'PAPERBACK', 'PAPERBACK', 'PAPERBACK', 'PAPERBACK', 'PAPERBACK', 'PAPERBACK', 'PAPERBACK', 'PAPERBACK', 'HARDCOVER', 'PAPERBACK', 'PAPERBACK', 'PAPERBACK', 'PAPERBACK', 'PAPERBACK', 'MASS MARKET PAPERBACK', 'PAPERBACK', 'PAPERBACK', 'PAPERBACK', 'HARDCOVER', 'PAPERBACK', 'PAPERBACK', 'PAPERBACK', 'PAPERBACK', 'PAPERBACK', 'PAPERBACK', 'PAPERBACK', 'PAPERBACK', 'PAPERBACK', 'PAPERBACK', 'PAPERBACK', 'PAPERBACK', 'PAPERBACK', 'PAPERBACK', 'HARDCOVER', 'PAPERBACK', 'HARDCOVER', 'HARDCOVER', 'PAPERBACK', 'PAPERBACK', 'HARDCOVER', 'HARDCOVER', 'PAPERBACK', 'PAPERBACK', 'HARDCOVER', 'PAPERBACK', 'PAPERBACK', 'PAPERBACK', 'PAPERBACK', 'PAPERBACK', 'PAPERBACK', 'PAPERBACK', 'PAPERBACK', 'PAPERBACK', 'PAPERBACK', 'PAPERBACK', 'PAPERBACK', 'PAPERBACK', 'PAPERBACK', 'PAPERBACK', 'HARDCOVER', 'PAPERBACK', 'HARDCOVER', 'HARDCOVER', 'PAPERBACK', 'PAPERBACK', 'PAPERBACK', 'PAPERBACK', 'PAPERBACK', 'PAPERBACK', 'PAPERBACK', 'PAPERBACK', 'PAPERBACK', 'PAPERBACK', 'PAPERBACK', 'PAPERBACK', 'PAPERBACK', 'HARDCOVER', 'PAPERBACK', 'PAPERBACK', 'PAPERBACK', 'HARDCOVER', 'HARDCOVER', 'PAPERBACK', 'PAPERBACK', 'MASS MARKET PAPERBACK', 'PAPERBACK', 'PAPERBACK', 'PAPERBACK', 'PAPERBACK', 'PAPERBACK', 'PAPERBACK', 'PAPERBACK', 'PAPERBACK', 'PAPERBACK', 'PAPERBACK', 'PAPERBACK', 'PAPERBACK', 'PAPERBACK', 'PAPERBACK', 'PAPERBACK', 'PAPERBACK', 'PAPERBACK', 'PAPERBACK', 'PAPERBACK', 'PAPERBACK', 'MASS MARKET PAPERBACK', 'PAPERBACK', 'PAPERBACK', 'PAPERBACK', 'PAPERBACK', 'PAPERBACK', 'PAPERBACK', 'PAPERBACK', 'PAPERBACK', 'PAPERBACK', 'PAPERBACK', 'PAPERBACK', 'PAPERBACK', 'PAPERBACK', 'PAPERBACK', 'PAPERBACK', 'PAPERBACK', 'PAPERBACK', 'PAPERBACK', 'HARDCOVER', 'PAPERBACK', 'MASS MARKET PAPERBACK', 'PAPERBACK', 'PAPERBACK', 'PAPERBACK', 'PAPERBACK', 'PAPERBACK', 'PAPERBACK', 'PAPERBACK', 'PAPERBACK', 'PAPERBACK', 'PAPERBACK', 'PAPERBACK', 'PAPERBACK', 'MASS MARKET PAPERBACK', 'HARDCOVER', 'PAPERBACK', 'PAPERBACK', 'PAPERBACK', 'PAPERBACK', 'HARDCOVER', 'PAPERBACK', 'PAPERBACK', 'PAPERBACK', 'PAPERBACK', 'PAPERBACK', 'PAPERBACK', 'PAPERBACK', 'PAPERBACK', 'PAPERBACK', 'PAPERBACK', 'PAPERBACK', 'PAPERBACK', 'PAPERBACK', 'PAPERBACK', 'PAPERBACK', 'PAPERBACK', 'PAPERBACK', 'PAPERBACK', 'PAPERBACK', 'PAPERBACK', 'PAPERBACK', 'PAPERBACK', 'PAPERBACK', 'PAPERBACK', 'PAPERBACK', 'MASS MARKET PAPERBACK', 'HARDCOVER', 'HARDCOVER', 'PAPERBACK', 'PAPERBACK', 'PAPERBACK', 'PAPERBACK', 'HARDCOVER', 'PAPERBACK', 'PAPERBACK', 'PAPERBACK', 'PAPERBACK', 'PAPERBACK', 'PAPERBACK', 'PAPERBACK', 'PAPERBACK', 'PAPERBACK', 'PAPERBACK', 'PAPERBACK', 'PAPERBACK', 'PAPERBACK', 'PAPERBACK', 'PAPERBACK', 'PAPERBACK', 'PAPERBACK', 'PAPERBACK', 'PAPERBACK', 'PAPERBACK', 'SHEET MUSIC', 'PAPERBACK', 'PAPERBACK', 'PAPERBACK', 'PAPERBACK', 'PAPERBACK', 'MASS MARKET PAPERBACK', 'PAPERBACK', 'PAPERBACK', 'HARDCOVER', 'PAPERBACK', 'PAPERBACK', 'HARDCOVER', 'PAPERBACK', 'PAPERBACK', 'PAPERBACK', 'PAPERBACK', 'PAPERBACK', 'PAPERBACK', 'PAPERBACK', 'PAPERBACK', 'PAPERBACK', 'PAPERBACK', 'PAPERBACK', 'PAPERBACK', 'HARDCOVER', 'HARDCOVER', 'MASS MARKET PAPERBACK', 'HARDCOVER', 'PAPERBACK', 'PAPERBACK', 'PAPERBACK', 'PAPERBACK', 'HARDCOVER', 'PAPERBACK', 'PAPERBACK', 'PAPERBACK', 'PAPERBACK', 'PAPERBACK', 'PAPERBACK', 'PAPERBACK', 'PAPERBACK', 'PAPERBACK', 'PAPERBACK', 'PAPERBACK', 'PAPERBACK', 'SHEET MUSIC', 'PAPERBACK', 'PAPERBACK', 'PAPERBACK', 'HARDCOVER', 'PAPERBACK', 'PAPERBACK', 'PAPERBACK', 'PAPERBACK', 'HARDCOVER', 'PAPERBACK', 'HARDCOVER', 'HARDCOVER', 'PAPERBACK', 'PAPERBACK', 'PAPERBACK', 'PAPERBACK', 'PAPERBACK', 'PAPERBACK', 'PAPERBACK', 'PAPERBACK', 'HARDCOVER', 'PAPERBACK', 'PAPERBACK', 'MASS MARKET PAPERBACK', 'PAPERBACK', 'HARDCOVER', 'PAPERBACK', 'PAPERBACK', 'HARDCOVER', 'PAPERBACK', 'PAPERBACK', 'PAPERBACK', 'HARDCOVER', 'HARDCOVER', 'PAPERBACK', 'PAPERBACK', 'PAPERBACK', 'PAPERBACK', 'PAPERBACK', 'HARDCOVER', 'PAPERBACK', 'PAPERBACK', 'PAPERBACK', 'HARDCOVER', 'HARDCOVER', 'HARDCOVER', 'PAPERBACK', 'PAPERBACK', 'PAPERBACK', 'PAPERBACK', 'HARDCOVER', 'HARDCOVER', 'PAPERBACK', 'PAPERBACK', 'PAPERBACK', 'PAPERBACK', 'PAPERBACK', 'BOARD BOOK', 'PAPERBACK', 'PAPERBACK', 'PAPERBACK', 'PAPERBACK', 'HARDCOVER', 'PAPERBACK', 'PAPERBACK', 'PAPERBACK', 'PAPERBACK', 'PAPERBACK', 'PAPERBACK', 'PAPERBACK', 'PAPERBACK', 'HARDCOVER', 'PAPERBACK', 'PAPERBACK', 'PAPERBACK', 'PAPERBACK', 'PAPERBACK', 'MASS MARKET PAPERBACK', 'PAPERBACK', 'PAPERBACK', 'PAPERBACK', 'PAPERBACK', 'PAPERBACK', 'PAPERBACK', 'PAPERBACK', 'PAPERBACK', 'PAPERBACK', 'PAPERBACK', 'PAPERBACK', 'PAPERBACK', 'PAPERBACK', 'PAPERBACK', 'PAPERBACK', 'PAPERBACK', 'PAPERBACK', 'PAPERBACK', 'PAPERBACK', 'PAPERBACK', 'PAPERBACK', 'MASS MARKET PAPERBACK', 'PAPERBACK', 'PAPERBACK', 'PAPERBACK', 'PAPERBACK', 'PAPERBACK', 'PAPERBACK', 'PAPERBACK', 'PAPERBACK', 'PAPERBACK', 'PAPERBACK', 'PAPERBACK', 'PAPERBACK', 'PAPERBACK', 'PAPERBACK', 'PAPERBACK', 'PAPERBACK', 'PAPERBACK', 'PAPERBACK', 'HARDCOVER', 'PAPERBACK', 'PAPERBACK', 'PAPERBACK', 'PAPERBACK', 'PAPERBACK', 'PAPERBACK', 'PAPERBACK', 'PAPERBACK', 'PAPERBACK', 'PAPERBACK', 'PAPERBACK', 'PAPERBACK', 'PAPERBACK', 'PAPERBACK', 'PAPERBACK', 'PAPERBACK', 'PAPERBACK', 'PAPERBACK', 'PAPERBACK', 'PAPERBACK', 'PAPERBACK', 'PAPERBACK', 'PAPERBACK', 'PAPERBACK', 'PAPERBACK', 'PAPERBACK', 'PAPERBACK', 'HARDCOVER', 'PAPERBACK', 'PAPERBACK', 'PAPERBACK', 'PAPERBACK', 'PAPERBACK', 'PAPERBACK', 'PAPERBACK', 'PAPERBACK', 'PAPERBACK', 'PAPERBACK', 'HARDCOVER', 'PAPERBACK', 'PAPERBACK', 'PAPERBACK', 'HARDCOVER', 'MASS MARKET PAPERBACK', 'PAPERBACK', 'PAPERBACK', 'PAPERBACK', 'PAPERBACK', 'PAPERBACK', 'PAPERBACK', 'PAPERBACK', 'MASS MARKET PAPERBACK', 'PAPERBACK', 'PAPERBACK', 'HARDCOVER', 'PAPERBACK', 'PAPERBACK', 'PAPERBACK', 'PAPERBACK', 'HARDCOVER', 'HARDCOVER', 'HARDCOVER', 'PAPERBACK', 'PAPERBACK', 'PAPERBACK', 'PAPERBACK', 'HARDCOVER', 'PAPERBACK', 'PAPERBACK', 'PAPERBACK', 'HARDCOVER', 'PAPERBACK', 'PAPERBACK', 'MASS MARKET PAPERBACK', 'PAPERBACK', 'HARDCOVER', 'PAPERBACK', 'PAPERBACK', 'FLEXIBOUND', 'PAPERBACK', 'PAPERBACK', 'PAPERBACK', 'PAPERBACK', 'HARDCOVER', 'HARDCOVER', 'PAPERBACK', 'PAPERBACK', 'PAPERBACK', 'PAPERBACK', 'HARDCOVER', 'MASS MARKET PAPERBACK', 'HARDCOVER', 'PAPERBACK', 'PAPERBACK', 'HARDCOVER', 'PAPERBACK', 'PAPERBACK', 'PAPERBACK', 'HARDCOVER', 'PAPERBACK', 'PAPERBACK', 'PAPERBACK', 'PAPERBACK', 'PAPERBACK', 'PAPERBACK', 'PAPERBACK', 'PAPERBACK', 'PAPERBACK', 'PAPERBACK', 'PAPERBACK', 'PAPERBACK', 'PAPERBACK', 'HARDCOVER', 'PAPERBACK', 'PAPERBACK', 'PAPERBACK', 'PAPERBACK', 'PAPERBACK', 'PAPERBACK', 'PAPERBACK', 'PAPERBACK', 'PAPERBACK', 'PAPERBACK', 'PAPERBACK', 'PAPERBACK', 'PAPERBACK', 'PAPERBACK', 'PAPERBACK', 'PAPERBACK', 'PAPERBACK', 'PAPERBACK', 'MASS MARKET PAPERBACK', 'PAPERBACK', 'PAPERBACK', 'HARDCOVER', 'PAPERBACK', 'HARDCOVER', 'PAPERBACK', 'PAPERBACK', 'PAPERBACK', 'PAPERBACK', 'PAPERBACK', 'PAPERBACK', 'PAPERBACK', 'MASS MARKET PAPERBACK', 'PAPERBACK', 'PAPERBACK', 'PAPERBACK', 'PAPERBACK', 'PAPERBACK', 'PAPERBACK', 'PAPERBACK', 'PAPERBACK', 'PAPERBACK', 'PAPERBACK', 'PAPERBACK', 'PAPERBACK', 'PAPERBACK', 'PAPERBACK', 'HARDCOVER', 'HARDCOVER', 'PAPERBACK', 'PAPERBACK', 'PAPERBACK', 'PAPERBACK', 'PAPERBACK', 'PAPERBACK', 'HARDCOVER', 'MASS MARKET PAPERBACK', 'HARDCOVER', 'PAPERBACK', 'PAPERBACK', 'PAPERBACK', 'PAPERBACK', 'PAPERBACK', 'MASS MARKET PAPERBACK', 'PAPERBACK', 'PAPERBACK', 'PAPERBACK', 'PAPERBACK', 'PAPERBACK', 'PAPERBACK', 'PAPERBACK', 'MASS MARKET PAPERBACK', 'PAPERBACK', 'PAPERBACK', 'PAPERBACK', 'PAPERBACK', 'PAPERBACK', 'PAPERBACK', 'PAPERBACK', 'HARDCOVER', 'PAPERBACK', 'PAPERBACK', 'HARDCOVER', 'PAPERBACK', 'PAPERBACK', 'PAPERBACK', 'HARDCOVER', 'PAPERBACK', 'PAPERBACK', 'PAPERBACK', 'PAPERBACK', 'PAPERBACK', 'PAPERBACK', 'PAPERBACK', 'PAPERBACK', 'PAPERBACK', 'PAPERBACK', 'PAPERBACK', 'MASS MARKET PAPERBACK', 'PAPERBACK', 'PAPERBACK', 'PAPERBACK', 'HARDCOVER', 'PAPERBACK', 'HARDCOVER', 'PAPERBACK', 'PAPERBACK', 'PAPERBACK', 'PAPERBACK', 'PAPERBACK', 'PAPERBACK', 'PAPERBACK', 'PAPERBACK', 'PAPERBACK', 'PAPERBACK', 'PAPERBACK', 'PAPERBACK', 'PAPERBACK', 'HARDCOVER', 'PAPERBACK', 'PAPERBACK', 'PAPERBACK', 'PAPERBACK', 'PAPERBACK', 'PAPERBACK', 'PAPERBACK', 'PAPERBACK', 'PAPERBACK', 'PAPERBACK', 'PAPERBACK', 'PAPERBACK', 'PAPERBACK', 'PAPERBACK', 'PAPERBACK', 'PAPERBACK', 'PAPERBACK', 'PAPERBACK', 'PAPERBACK', 'PAPERBACK', 'PAPERBACK', 'HARDCOVER', 'PAPERBACK', 'PAPERBACK', 'PAPERBACK', 'PAPERBACK', 'PAPERBACK', 'HARDCOVER', 'PAPERBACK', 'PAPERBACK', 'PAPERBACK', 'PAPERBACK', 'PAPERBACK', 'HARDCOVER', 'PAPERBACK', 'PAPERBACK', 'PAPERBACK', 'PAPERBACK', 'PAPERBACK', 'PAPERBACK', 'PAPERBACK', 'PAPERBACK', 'PAPERBACK', 'PAPERBACK', 'HARDCOVER', 'PAPERBACK', 'PAPERBACK', 'PAPERBACK', 'PAPERBACK', 'PAPERBACK', 'PAPERBACK', 'HARDCOVER', 'PAPERBACK', 'HARDCOVER', 'PAPERBACK', 'PAPERBACK', 'PAPERBACK', 'HARDCOVER', 'PAPERBACK', 'MASS MARKET PAPERBACK', 'HARDCOVER', 'PAPERBACK', 'PAPERBACK', 'PAPERBACK', 'HARDCOVER', 'HARDCOVER', 'PAPERBACK', 'HARDCOVER', 'PAPERBACK', 'HARDCOVER', 'PAPERBACK', 'HARDCOVER', 'PAPERBACK', 'HARDCOVER', 'PAPERBACK', 'HARDCOVER', 'PAPERBACK', 'PAPERBACK', 'PAPERBACK', 'PAPERBACK', 'MASS MARKET PAPERBACK', 'PAPERBACK', 'PAPERBACK', 'PAPERBACK', 'MASS MARKET PAPERBACK', 'PAPERBACK', 'PAPERBACK', 'PAPERBACK', 'PAPERBACK', 'PAPERBACK', 'PAPERBACK', 'PAPERBACK', 'PAPERBACK', 'PAPERBACK', 'PAPERBACK', 'PAPERBACK', 'PAPERBACK', 'PAPERBACK', 'PAPERBACK', 'PAPERBACK', 'PAPERBACK', 'PAPERBACK', 'PAPERBACK', 'PAPERBACK', 'MASS MARKET PAPERBACK', 'PAPERBACK', 'HARDCOVER', 'PAPERBACK', 'PAPERBACK', 'PAPERBACK', 'PAPERBACK', 'PAPERBACK', 'PAPERBACK', 'PAPERBACK', 'PAPERBACK', 'PAPERBACK', 'PAPERBACK', 'HARDCOVER', 'PAPERBACK', 'PAPERBACK', 'PAPERBACK', 'PAPERBACK', 'PAPERBACK', 'PAPERBACK', 'PAPERBACK', 'HARDCOVER', 'PAPERBACK', 'PAPERBACK', 'HARDCOVER', 'PAPERBACK', 'HARDCOVER', 'PAPERBACK', 'PAPERBACK', 'HARDCOVER', 'PAPERBACK', 'HARDCOVER', 'HARDCOVER', 'PAPERBACK', 'PAPERBACK', 'PAPERBACK', 'MASS MARKET PAPERBACK', 'PAPERBACK', 'PAPERBACK', 'PAPERBACK', 'PAPERBACK', 'PAPERBACK', 'SHEET MUSIC', 'PAPERBACK', 'PAPERBACK', 'PAPERBACK', 'PAPERBACK', 'PAPERBACK', 'PAPERBACK', 'PAPERBACK', 'HARDCOVER', 'PAPERBACK', 'PAPERBACK', 'PAPERBACK', 'PAPERBACK', 'PAPERBACK', 'PAPERBACK', 'PAPERBACK', 'PAPERBACK', 'CARDS', 'HARDCOVER', 'PAPERBACK', 'HARDCOVER', 'PAPERBACK', 'PAPERBACK', 'HARDCOVER', 'PAPERBACK', 'PAPERBACK', 'PAPERBACK', 'PAPERBACK', 'PAPERBACK', 'PAPERBACK', 'PAPERBACK', 'PAPERBACK', 'PAPERBACK', 'MASS MARKET PAPERBACK', 'HARDCOVER', 'PAPERBACK', 'PAPERBACK', 'PAPERBACK', 'PAPERBACK', 'HARDCOVER', 'PAPERBACK', 'PAPERBACK', 'PAPERBACK', 'HARDCOVER', 'PAPERBACK', 'PAPERBACK', 'PAPERBACK', 'PAPERBACK', 'PAPERBACK', 'PAPERBACK', 'PAPERBACK', 'PAPERBACK', 'HARDCOVER', 'PAPERBACK', 'PAPERBACK', 'PAPERBACK', 'PAPERBACK', 'PAPERBACK', 'SPIRAL-BOUND', 'PAPERBACK', 'HARDCOVER', 'HARDCOVER', 'PAPERBACK', 'PAPERBACK', 'HARDCOVER', 'PAPERBACK', 'PAPERBACK', 'PAPERBACK', 'PAPERBACK', 'PAPERBACK', 'PAPERBACK', 'PAPERBACK', 'PAPERBACK', 'PAPERBACK', 'PAPERBACK', 'PAPERBACK', 'PAPERBACK', 'HARDCOVER', 'PAPERBACK', 'PAPERBACK', 'HARDCOVER', 'PAPERBACK', 'PAPERBACK', 'PAPERBACK', 'PAPERBACK', 'PAPERBACK', 'PAPERBACK', 'PAPERBACK', 'PAPERBACK', 'PAPERBACK', 'PAPERBACK', 'PAPERBACK', 'PAPERBACK', 'PAPERBACK', 'PAPERBACK', 'PAPERBACK', 'PAPERBACK', 'PAPERBACK', 'PAPERBACK', 'HARDCOVER', 'PAPERBACK', 'PAPERBACK', 'PAPERBACK', 'PAPERBACK', 'PAPERBACK', 'PAPERBACK', 'PAPERBACK', 'PAPERBACK', 'PAPERBACK', 'PAPERBACK', 'HARDCOVER', 'HARDCOVER', 'PAPERBACK', 'PAPERBACK', 'PAPERBACK', 'PAPERBACK', 'PAPERBACK', 'PAPERBACK', '(KANNADA),PAPERBACK', 'PAPERBACK', 'PAPERBACK', 'PAPERBACK', 'PAPERBACK', 'PAPERBACK', 'PAPERBACK', 'PAPERBACK', 'PAPERBACK', 'PAPERBACK', 'PAPERBACK', 'PAPERBACK', 'PAPERBACK', 'PAPERBACK', 'PAPERBACK', 'PAPERBACK', 'PAPERBACK', 'PAPERBACK', 'PAPERBACK', 'PAPERBACK', 'PAPERBACK', 'PAPERBACK', 'PAPERBACK', 'PAPERBACK', 'PAPERBACK', 'PAPERBACK', 'PAPERBACK', 'PAPERBACK', 'PAPERBACK', 'PAPERBACK', 'PAPERBACK', 'PAPERBACK', 'PAPERBACK', 'MASS MARKET PAPERBACK', 'PAPERBACK', 'PAPERBACK', 'PAPERBACK', 'PAPERBACK', 'PAPERBACK', 'MASS MARKET PAPERBACK', 'HARDCOVER', 'PAPERBACK', 'PAPERBACK', 'PAPERBACK', 'PAPERBACK', 'PAPERBACK', 'PAPERBACK', 'PAPERBACK', 'PAPERBACK', 'PAPERBACK', 'HARDCOVER', 'PAPERBACK', 'PAPERBACK', 'PAPERBACK', 'PAPERBACK', 'PAPERBACK', 'FLEXIBOUND', 'PAPERBACK', 'PAPERBACK', 'PAPERBACK', 'PAPERBACK', 'PAPERBACK', 'PAPERBACK', 'PAPERBACK', 'PAPERBACK', 'PAPERBACK', 'PAPERBACK', 'MASS MARKET PAPERBACK', 'HARDCOVER', 'HARDCOVER', 'PAPERBACK', 'PAPERBACK', 'PAPERBACK', 'PAPERBACK', 'HARDCOVER', 'PAPERBACK', 'PAPERBACK', 'PAPERBACK', 'PAPERBACK', 'HARDCOVER', 'PAPERBACK', 'PAPERBACK', 'PAPERBACK', 'PAPERBACK', 'HARDCOVER', 'PAPERBACK', 'PAPERBACK', 'PAPERBACK', 'PAPERBACK', 'PAPERBACK', 'HARDCOVER', 'PAPERBACK', 'PAPERBACK', 'PAPERBACK', 'HARDCOVER', 'PAPERBACK', 'HARDCOVER', 'PAPERBACK', 'PAPERBACK', 'HARDCOVER', 'PAPERBACK', 'HARDCOVER', 'PAPERBACK', 'PAPERBACK', 'PAPERBACK', 'PAPERBACK', 'PAPERBACK', 'PAPERBACK', 'PAPERBACK', 'PAPERBACK', 'PAPERBACK', 'HARDCOVER', 'PAPERBACK', 'PAPERBACK', 'PAPERBACK', 'PAPERBACK', 'HARDCOVER', 'PRODUCT BUNDLE', 'PAPERBACK', 'PAPERBACK', 'PAPERBACK', 'HARDCOVER', 'PAPERBACK', 'PAPERBACK', 'HARDCOVER', 'PAPERBACK', 'PAPERBACK', 'PAPERBACK', 'PAPERBACK', 'PAPERBACK', 'PAPERBACK', 'PAPERBACK', 'PAPERBACK', 'PAPERBACK', 'PAPERBACK', 'HARDCOVER', 'PAPERBACK', 'MASS MARKET PAPERBACK', 'PAPERBACK', 'HARDCOVER', 'PAPERBACK', 'PAPERBACK', 'PAPERBACK', 'PAPERBACK', 'PAPERBACK', 'HARDCOVER', 'PAPERBACK', 'PAPERBACK', 'PAPERBACK', 'PAPERBACK', 'PAPERBACK', 'PAPERBACK', 'PAPERBACK', 'PAPERBACK', 'PAPERBACK', 'LIBRARY BINDING', 'PAPERBACK', 'PAPERBACK', 'PAPERBACK', 'PAPERBACK', 'HARDCOVER', 'PAPERBACK', 'HARDCOVER', 'PAPERBACK', 'PAPERBACK', 'PAPERBACK', 'PAPERBACK', 'PAPERBACK', 'PAPERBACK', 'PAPERBACK', 'PAPERBACK', 'HARDCOVER', 'PAPERBACK', 'PAPERBACK', 'PAPERBACK', 'PAPERBACK', 'PAPERBACK', 'PAPERBACK', 'PAPERBACK', 'HARDCOVER', 'PAPERBACK', 'PAPERBACK', 'PAPERBACK', 'PAPERBACK', 'PAPERBACK', 'PAPERBACK', 'CARDS', 'PAPERBACK', 'PAPERBACK', 'PAPERBACK', 'PAPERBACK', 'PAPERBACK', 'PAPERBACK', 'HARDCOVER', 'PAPERBACK', 'PAPERBACK', 'PAPERBACK', 'HARDCOVER', 'PAPERBACK', 'PAPERBACK', 'PAPERBACK', 'PAPERBACK', 'PAPERBACK', 'PAPERBACK', 'PAPERBACK', 'PAPERBACK', 'PAPERBACK', 'PAPERBACK', 'PAPERBACK', 'PAPERBACK', 'HARDCOVER', 'HARDCOVER', 'PAPERBACK', 'PAPERBACK', 'HARDCOVER', 'PAPERBACK', 'PAPERBACK', 'PAPERBACK', 'PAPERBACK', 'PAPERBACK', 'PAPERBACK', 'PAPERBACK', 'PAPERBACK', 'HARDCOVER', 'PAPERBACK', 'PAPERBACK', 'PAPERBACK', 'HARDCOVER', 'PAPERBACK', 'PAPERBACK', 'PAPERBACK', 'PAPERBACK', 'FLEXIBOUND', 'PAPERBACK', 'PAPERBACK', 'PAPERBACK', 'PAPERBACK', 'PAPERBACK', 'HARDCOVER', 'PAPERBACK', 'HARDCOVER', 'PAPERBACK', 'PAPERBACK', 'PAPERBACK', 'PAPERBACK', 'PAPERBACK', 'PAPERBACK', 'PAPERBACK', 'PAPERBACK', 'PAPERBACK', 'PAPERBACK', 'PAPERBACK', 'PAPERBACK', 'PAPERBACK', 'PAPERBACK', 'PAPERBACK', 'PAPERBACK', 'PAPERBACK', 'PAPERBACK', 'PAPERBACK', 'PAPERBACK', 'PAPERBACK', 'PAPERBACK', 'PAPERBACK', 'PAPERBACK', 'PAPERBACK', 'PAPERBACK', 'PAPERBACK', 'HARDCOVER', 'HARDCOVER', 'PAPERBACK', 'PAPERBACK', 'PAPERBACK', 'HARDCOVER', 'PAPERBACK', 'PAPERBACK', 'PAPERBACK', 'PAPERBACK', 'HARDCOVER', 'PAPERBACK', 'PAPERBACK', 'PAPERBACK', 'HARDCOVER', 'PAPERBACK', 'PAPERBACK', 'PAPERBACK', 'PAPERBACK', 'PAPERBACK', 'PAPERBACK', 'HARDCOVER', 'PAPERBACK', 'PAPERBACK', 'PAPERBACK', 'PAPERBACK', 'PAPERBACK', 'PAPERBACK', 'PAPERBACK', 'HARDCOVER', 'PAPERBACK', 'PAPERBACK', 'PAPERBACK', 'HARDCOVER', 'PAPERBACK', 'PAPERBACK', 'PAPERBACK', 'PAPERBACK', 'PAPERBACK', 'PAPERBACK', 'PAPERBACK', 'PAPERBACK', 'PAPERBACK', 'PAPERBACK', 'PAPERBACK', 'PAPERBACK', 'PAPERBACK', 'PAPERBACK', 'PAPERBACK', 'PAPERBACK', 'PAPERBACK', 'PAPERBACK', 'SHEET MUSIC', 'PAPERBACK', 'PAPERBACK', 'PAPERBACK', 'HARDCOVER', 'PAPERBACK', 'PAPERBACK', 'PAPERBACK', 'PAPERBACK', 'PAPERBACK', 'PAPERBACK', 'PAPERBACK', 'PAPERBACK', 'PAPERBACK', 'PAPERBACK', 'PAPERBACK', 'PAPERBACK', 'PAPERBACK', 'PAPERBACK', 'MASS MARKET PAPERBACK', 'PAPERBACK', 'PAPERBACK', 'PAPERBACK', 'PAPERBACK', 'PAPERBACK', 'PAPERBACK', 'PAPERBACK', 'PAPERBACK', 'PAPERBACK', 'PAPERBACK', 'PAPERBACK', 'PAPERBACK', 'HARDCOVER', 'PAPERBACK', 'PAPERBACK', 'PAPERBACK', 'PAPERBACK', 'PAPERBACK', 'PAPERBACK', 'PAPERBACK', 'PAPERBACK', 'PAPERBACK', 'PAPERBACK', 'PAPERBACK', 'HARDCOVER', 'PAPERBACK', 'PAPERBACK', 'PAPERBACK', 'HARDCOVER', 'PAPERBACK', 'HARDCOVER', 'HARDCOVER', 'PAPERBACK', 'HARDCOVER', 'PAPERBACK', 'PAPERBACK', 'PAPERBACK', 'PAPERBACK', 'PAPERBACK', 'PAPERBACK', 'PAPERBACK', 'PAPERBACK', 'PAPERBACK', 'PAPERBACK', 'PAPERBACK', 'PAPERBACK', 'PAPERBACK', 'PAPERBACK', 'PAPERBACK', 'PAPERBACK', 'PAPERBACK', 'PAPERBACK', 'PAPERBACK', 'PAPERBACK', 'PAPERBACK', 'SHEET MUSIC', 'PAPERBACK', 'PAPERBACK', 'PAPERBACK', 'HARDCOVER', 'HARDCOVER', 'PAPERBACK', 'PAPERBACK', 'PAPERBACK', 'PAPERBACK', 'PAPERBACK', 'PAPERBACK', 'PAPERBACK', 'PAPERBACK', 'PAPERBACK', 'PAPERBACK', 'PAPERBACK', 'MASS MARKET PAPERBACK', 'PAPERBACK', 'PAPERBACK', 'PAPERBACK', 'PAPERBACK', 'PAPERBACK', 'HARDCOVER', 'PAPERBACK', 'PAPERBACK', 'PAPERBACK', 'HARDCOVER', 'PAPERBACK', 'PAPERBACK', 'PAPERBACK', 'PAPERBACK', 'PAPERBACK', 'PAPERBACK', 'MASS MARKET PAPERBACK', 'PAPERBACK', 'PAPERBACK', 'PAPERBACK', 'PAPERBACK', 'PAPERBACK', 'PAPERBACK', 'PAPERBACK', 'PAPERBACK', 'PAPERBACK', 'PAPERBACK', 'PAPERBACK', 'PAPERBACK', 'PAPERBACK', 'PAPERBACK', 'HARDCOVER', 'PAPERBACK', 'PAPERBACK', 'PAPERBACK', 'PAPERBACK', 'PAPERBACK', 'PAPERBACK', 'PAPERBACK', 'PAPERBACK', 'PAPERBACK', 'PAPERBACK', 'PAPERBACK', 'PAPERBACK', 'MASS MARKET PAPERBACK', 'HARDCOVER', 'PAPERBACK', 'PAPERBACK', 'PAPERBACK', 'PAPERBACK', 'PAPERBACK', 'PAPERBACK', 'HARDCOVER', 'MASS MARKET PAPERBACK', 'PAPERBACK', 'PAPERBACK', 'PAPERBACK', 'MASS MARKET PAPERBACK', 'PAPERBACK', 'PAPERBACK', 'PAPERBACK', 'PAPERBACK', 'MASS MARKET PAPERBACK', 'PAPERBACK', 'PAPERBACK', 'PAPERBACK', 'PAPERBACK', 'PAPERBACK', 'PAPERBACK', 'PAPERBACK', 'PAPERBACK', 'PAPERBACK', 'PAPERBACK', 'HARDCOVER', 'PAPERBACK', 'PAPERBACK', 'PAPERBACK', 'HARDCOVER', 'PAPERBACK', 'PAPERBACK', 'PAPERBACK', 'PAPERBACK', 'PAPERBACK', 'PAPERBACK', 'PAPERBACK', 'PAPERBACK', 'PAPERBACK', 'PAPERBACK', 'PAPERBACK', 'PAPERBACK', 'PAPERBACK', 'HARDCOVER', 'PAPERBACK', 'PAPERBACK', 'PAPERBACK', 'CARDS', 'PAPERBACK', 'PAPERBACK', 'PAPERBACK', 'HARDCOVER', 'PAPERBACK', 'HARDCOVER', 'PAPERBACK', 'PAPERBACK', 'PAPERBACK', 'PAPERBACK', 'PAPERBACK', 'MASS MARKET PAPERBACK', 'HARDCOVER', 'PAPERBACK', 'PAPERBACK', 'PAPERBACK', 'PAPERBACK', 'PAPERBACK', 'PAPERBACK', 'PAPERBACK', 'PAPERBACK', 'HARDCOVER', 'PAPERBACK', 'PAPERBACK', 'PAPERBACK', 'PAPERBACK', 'PAPERBACK', 'PAPERBACK', 'PAPERBACK', 'PAPERBACK', 'PAPERBACK', 'PAPERBACK', 'PAPERBACK', 'HARDCOVER', 'PAPERBACK', 'PAPERBACK', 'HARDCOVER', 'PAPERBACK', 'PAPERBACK', 'PAPERBACK', 'PAPERBACK', 'PAPERBACK', 'PAPERBACK', 'PAPERBACK', 'PAPERBACK', 'PAPERBACK', 'PAPERBACK', 'PAPERBACK', 'HARDCOVER', 'PAPERBACK', 'PAPERBACK', 'HARDCOVER', 'PAPERBACK', 'PAPERBACK', 'PAPERBACK', 'PAPERBACK', 'MASS MARKET PAPERBACK', 'PAPERBACK', 'PAPERBACK', 'PAPERBACK', 'PAPERBACK', 'PAPERBACK', 'PAPERBACK', 'PAPERBACK', 'PAPERBACK', 'PAPERBACK', 'FLEXIBOUND', 'HARDCOVER', 'PAPERBACK', 'PAPERBACK', 'PAPERBACK', 'PAPERBACK', 'PAPERBACK', 'HARDCOVER', 'PAPERBACK', 'PAPERBACK', 'PAPERBACK', 'PAPERBACK', 'PAPERBACK', 'PAPERBACK', 'HARDCOVER', 'HARDCOVER', 'PAPERBACK', 'PAPERBACK', 'HARDCOVER', 'PAPERBACK', 'PAPERBACK', 'PAPERBACK', 'HARDCOVER', 'PAPERBACK', 'PAPERBACK', 'PAPERBACK', 'PAPERBACK', 'PAPERBACK', 'PAPERBACK', 'PAPERBACK', 'PAPERBACK', 'PAPERBACK', 'PAPERBACK', 'PAPERBACK', 'HARDCOVER', 'PAPERBACK', 'PAPERBACK', 'PAPERBACK', 'PAPERBACK', 'PAPERBACK', 'PAPERBACK', 'PAPERBACK', 'PAPERBACK', 'PAPERBACK', 'PAPERBACK', 'PAPERBACK', 'PAPERBACK', 'PAPERBACK', 'PAPERBACK', 'PAPERBACK', 'PAPERBACK', 'PAPERBACK', 'PAPERBACK', 'FLEXIBOUND', 'PAPERBACK', 'PAPERBACK', 'PAPERBACK', 'PAPERBACK', 'PAPERBACK', 'PAPERBACK', 'PAPERBACK', 'PAPERBACK', 'HARDCOVER', 'PAPERBACK', 'PAPERBACK', 'HARDCOVER', 'PAPERBACK', 'PAPERBACK', 'HARDCOVER', 'PAPERBACK', 'PAPERBACK', 'PAPERBACK', 'PAPERBACK', 'PAPERBACK', 'PAPERBACK', 'PAPERBACK', 'PAPERBACK', 'PAPERBACK', 'HARDCOVER', 'PAPERBACK', 'PAPERBACK', 'PAPERBACK', 'PAPERBACK', 'HARDCOVER', 'MASS MARKET PAPERBACK', 'PAPERBACK', 'PAPERBACK', 'HARDCOVER', 'PAPERBACK', 'PAPERBACK', 'PAPERBACK', 'PAPERBACK', 'PAPERBACK', 'PAPERBACK', 'HARDCOVER', 'PAPERBACK', 'PAPERBACK', 'PAPERBACK', 'PAPERBACK', 'PAPERBACK', 'FLEXIBOUND', 'PAPERBACK', 'HARDCOVER', 'PAPERBACK', 'PAPERBACK', 'PAPERBACK', 'SHEET MUSIC', 'PAPERBACK', 'PAPERBACK', 'PAPERBACK', 'PAPERBACK', 'PAPERBACK', 'PAPERBACK', 'MASS MARKET PAPERBACK', 'PAPERBACK', 'PAPERBACK', 'PAPERBACK', 'PAPERBACK', 'PAPERBACK', 'HARDCOVER', 'PAPERBACK', 'HARDCOVER', 'PAPERBACK', 'PAPERBACK', 'PAPERBACK', 'PAPERBACK', 'PAPERBACK', 'PAPERBACK', 'PAPERBACK', 'HARDCOVER', 'PAPERBACK', 'PAPERBACK', 'PAPERBACK', 'PAPERBACK', 'PAPERBACK', 'PAPERBACK', 'PAPERBACK', 'HARDCOVER', 'PAPERBACK', 'PAPERBACK', 'PAPERBACK', 'PAPERBACK', 'MASS MARKET PAPERBACK', 'PAPERBACK', 'PAPERBACK', 'PAPERBACK', 'HARDCOVER', 'HARDCOVER', 'PAPERBACK', 'PAPERBACK', 'PAPERBACK', 'PAPERBACK', 'PAPERBACK', 'PAPERBACK', 'PAPERBACK', 'PAPERBACK', 'PAPERBACK', 'HARDCOVER', 'PAPERBACK', 'PAPERBACK', 'PAPERBACK', 'PAPERBACK', 'PAPERBACK', 'PAPERBACK', 'PAPERBACK', 'PAPERBACK', 'PAPERBACK', 'PAPERBACK', 'PAPERBACK', 'PAPERBACK', 'PAPERBACK', 'PAPERBACK', 'PAPERBACK', 'HARDCOVER', 'PAPERBACK', 'PAPERBACK', 'PAPERBACK', 'PAPERBACK', 'PAPERBACK', 'HARDCOVER', 'PAPERBACK', 'PAPERBACK', 'PAPERBACK', 'PAPERBACK', 'PAPERBACK', 'PAPERBACK', 'PAPERBACK', 'PAPERBACK', 'HARDCOVER', 'PAPERBACK', 'PAPERBACK', 'PAPERBACK', 'PAPERBACK', 'PAPERBACK', 'PAPERBACK', 'HARDCOVER', 'PAPERBACK', 'PAPERBACK', 'PAPERBACK', 'PAPERBACK', 'PAPERBACK', 'HARDCOVER', 'PAPERBACK', 'HARDCOVER', 'PAPERBACK', 'PAPERBACK', 'PAPERBACK', 'PAPERBACK', 'PAPERBACK', 'PAPERBACK', 'PAPERBACK', 'PAPERBACK', 'PAPERBACK', 'PAPERBACK', 'PAPERBACK', 'PAPERBACK', 'PAPERBACK', 'PAPERBACK', 'PAPERBACK', 'PAPERBACK', 'HARDCOVER', 'PAPERBACK', 'PAPERBACK', 'HARDCOVER', 'PAPERBACK', 'PAPERBACK', 'PAPERBACK', 'PAPERBACK', 'PAPERBACK', 'PAPERBACK', 'PAPERBACK', 'PAPERBACK', 'PAPERBACK', 'HARDCOVER', 'PAPERBACK', 'PAPERBACK', 'PAPERBACK', 'PAPERBACK', 'PAPERBACK', 'PAPERBACK', 'PAPERBACK', 'PAPERBACK', 'PAPERBACK', 'PAPERBACK', 'PAPERBACK', 'PAPERBACK', 'FLEXIBOUND', 'HARDCOVER', 'PAPERBACK', 'PAPERBACK', 'PAPERBACK', 'PAPERBACK', 'PAPERBACK', 'PAPERBACK', 'PAPERBACK', 'PAPERBACK', 'PAPERBACK', 'PAPERBACK', 'PAPERBACK', 'PAPERBACK', 'PAPERBACK', 'PAPERBACK', 'PAPERBACK', 'PAPERBACK', 'PAPERBACK', 'PAPERBACK', 'PAPERBACK', 'PAPERBACK', 'PAPERBACK', 'PAPERBACK', 'HARDCOVER', 'PAPERBACK', 'PAPERBACK', 'PAPERBACK', 'HARDCOVER', 'HARDCOVER', 'PAPERBACK', 'PAPERBACK', 'PAPERBACK', 'PAPERBACK', 'PAPERBACK', 'PAPERBACK', 'PAPERBACK', 'PAPERBACK', 'PAPERBACK', 'PAPERBACK', 'PAPERBACK', 'PAPERBACK', 'PAPERBACK', 'PAPERBACK', 'PAPERBACK', 'PAPERBACK', 'HARDCOVER', 'HARDCOVER', 'PAPERBACK', 'PAPERBACK', 'PAPERBACK', 'PAPERBACK', 'PAPERBACK', 'PAPERBACK', 'PAPERBACK', 'HARDCOVER', 'PAPERBACK', 'PAPERBACK', 'PAPERBACK', 'PAPERBACK', 'PAPERBACK', 'PAPERBACK', 'PAPERBACK', 'PAPERBACK', 'PAPERBACK', 'HARDCOVER', 'PAPERBACK', 'PAPERBACK', 'PAPERBACK', 'PAPERBACK', 'PAPERBACK', 'PAPERBACK', 'PAPERBACK', 'PAPERBACK', 'PAPERBACK', 'PAPERBACK', 'PAPERBACK', 'PAPERBACK', 'PAPERBACK', 'PAPERBACK', 'PAPERBACK', 'PAPERBACK', 'PAPERBACK', 'PAPERBACK', 'PAPERBACK', 'PAPERBACK', 'PAPERBACK', 'HARDCOVER', 'PAPERBACK', 'PAPERBACK', 'PAPERBACK', 'PAPERBACK', 'HARDCOVER', 'HARDCOVER', 'PAPERBACK', 'PAPERBACK', 'HARDCOVER', 'PAPERBACK', 'PAPERBACK', 'HARDCOVER', 'PAPERBACK', 'PAPERBACK', 'PAPERBACK', 'PAPERBACK', 'HARDCOVER', 'HARDCOVER', 'PAPERBACK', 'HARDCOVER', 'MASS MARKET PAPERBACK', 'PAPERBACK', 'PAPERBACK', 'PAPERBACK', 'PAPERBACK', 'PAPERBACK', 'PAPERBACK', 'PAPERBACK', 'PAPERBACK', 'PAPERBACK', 'PAPERBACK', 'PAPERBACK', 'PAPERBACK', 'PAPERBACK', 'PAPERBACK', 'PAPERBACK', 'PAPERBACK', 'PAPERBACK', 'PAPERBACK', 'PAPERBACK', 'PAPERBACK', 'SHEET MUSIC', 'PAPERBACK', 'MASS MARKET PAPERBACK', '(GERMAN),PAPERBACK', 'PAPERBACK', 'HARDCOVER', 'PAPERBACK', 'PAPERBACK', 'PAPERBACK', 'PAPERBACK', 'PAPERBACK', 'PAPERBACK', 'PAPERBACK', 'PAPERBACK', 'PAPERBACK', 'PAPERBACK', 'PAPERBACK', 'PAPERBACK', 'PAPERBACK', 'PAPERBACK', 'PAPERBACK', 'HARDCOVER', 'PAPERBACK', 'PAPERBACK', 'PAPERBACK', 'PAPERBACK', 'PAPERBACK', 'PAPERBACK', 'PAPERBACK', 'HARDCOVER', 'PAPERBACK', 'PAPERBACK', 'PAPERBACK', 'PAPERBACK', 'PAPERBACK', 'PAPERBACK', 'TANKOBON SOFTCOVER', 'PAPERBACK', 'HARDCOVER', 'PAPERBACK', 'PAPERBACK', 'PAPERBACK', 'PAPERBACK', 'MASS MARKET PAPERBACK', 'PAPERBACK', 'PAPERBACK', 'PAPERBACK', 'PAPERBACK', 'PAPERBACK', 'HARDCOVER', 'HARDCOVER', 'PAPERBACK', 'PAPERBACK', 'PAPERBACK', 'PAPERBACK', 'PAPERBACK', 'PAPERBACK', 'HARDCOVER', 'PAPERBACK', 'PAPERBACK', 'HARDCOVER', 'PAPERBACK', 'PAPERBACK', 'PAPERBACK', 'PAPERBACK', 'PAPERBACK', 'PAPERBACK', 'PAPERBACK', 'PAPERBACK', 'HARDCOVER', 'PAPERBACK', 'PAPERBACK', 'PAPERBACK', 'PAPERBACK', 'CARDS', 'MASS MARKET PAPERBACK', 'PAPERBACK', 'PAPERBACK', 'HARDCOVER', 'PAPERBACK', 'PAPERBACK', 'PAPERBACK', 'PAPERBACK', 'PAPERBACK', 'PAPERBACK', 'PAPERBACK', 'PAPERBACK', 'PAPERBACK', 'PAPERBACK', 'PAPERBACK', 'PAPERBACK', 'PAPERBACK', 'PAPERBACK', 'PAPERBACK', 'HARDCOVER', 'PAPERBACK', 'PAPERBACK', 'PAPERBACK', 'PAPERBACK', 'PAPERBACK', 'PAPERBACK', 'PAPERBACK', 'HARDCOVER', 'MASS MARKET PAPERBACK', 'PAPERBACK', 'PAPERBACK', 'PAPERBACK', 'PAPERBACK', 'PAPERBACK', 'PAPERBACK', 'HARDCOVER', 'PAPERBACK', 'HARDCOVER', 'PAPERBACK', 'PAPERBACK', 'HARDCOVER', 'PAPERBACK', 'PAPERBACK', 'PAPERBACK', 'PAPERBACK', 'PAPERBACK', 'PAPERBACK', 'PAPERBACK', 'PAPERBACK', 'PAPERBACK', 'PAPERBACK', 'PAPERBACK', 'PAPERBACK', 'PAPERBACK', 'PAPERBACK', 'PAPERBACK', 'PAPERBACK', 'HARDCOVER', 'PAPERBACK', 'PAPERBACK', 'PAPERBACK', 'PAPERBACK', 'PAPERBACK', 'PAPERBACK', 'PAPERBACK', 'PAPERBACK', 'HARDCOVER', 'PAPERBACK', 'HARDCOVER', 'PAPERBACK', 'PAPERBACK', 'PAPERBACK', 'HARDCOVER', 'PAPERBACK', 'PAPERBACK', 'PAPERBACK', 'PAPERBACK', 'PAPERBACK', 'HARDCOVER', 'PAPERBACK', 'PAPERBACK', 'HARDCOVER', 'PAPERBACK', 'CARDS', 'PAPERBACK', 'HARDCOVER', 'PAPERBACK', 'PAPERBACK', 'PAPERBACK', 'PAPERBACK', 'PAPERBACK', 'PAPERBACK', 'PAPERBACK', 'PAPERBACK', 'HARDCOVER', 'PAPERBACK', 'PAPERBACK', 'PAPERBACK', 'PAPERBACK', 'PAPERBACK', 'HARDCOVER', 'PAPERBACK', 'MASS MARKET PAPERBACK', 'PAPERBACK', 'PAPERBACK', 'PAPERBACK', 'PAPERBACK', 'PAPERBACK', 'PAPERBACK', 'PAPERBACK', 'PAPERBACK', 'PAPERBACK', 'PAPERBACK', 'PAPERBACK', 'HARDCOVER', 'PAPERBACK', 'PAPERBACK', 'PAPERBACK', 'PAPERBACK', 'PAPERBACK', 'PAPERBACK', 'PAPERBACK', 'PAPERBACK', 'PAPERBACK', 'PAPERBACK', 'PAPERBACK', 'PAPERBACK', 'PAPERBACK', 'PAPERBACK', 'PAPERBACK', 'CARDS', 'PAPERBACK', 'PAPERBACK', 'PAPERBACK', 'HARDCOVER', 'HARDCOVER', 'PAPERBACK', 'PAPERBACK', 'MASS MARKET PAPERBACK', 'PAPERBACK', 'PAPERBACK', 'HARDCOVER', 'PAPERBACK', 'PAPERBACK', 'PAPERBACK', 'PAPERBACK', 'PAPERBACK', 'PAPERBACK', 'PAPERBACK', 'HARDCOVER', 'PAPERBACK', 'PAPERBACK', 'PAPERBACK', 'PAPERBACK', 'PAPERBACK', 'PAPERBACK', 'PAPERBACK', 'PAPERBACK', 'HARDCOVER', 'MASS MARKET PAPERBACK', 'PAPERBACK', 'PAPERBACK', 'HARDCOVER', 'HARDCOVER', 'PAPERBACK', 'PAPERBACK', 'PAPERBACK', 'PAPERBACK', 'PAPERBACK', 'PAPERBACK', 'PAPERBACK', 'MASS MARKET PAPERBACK', 'PAPERBACK', 'MASS MARKET PAPERBACK', 'HARDCOVER', 'HARDCOVER', 'PAPERBACK', 'PAPERBACK', 'HARDCOVER', 'MASS MARKET PAPERBACK', 'HARDCOVER', 'PAPERBACK', 'PAPERBACK', 'PAPERBACK', 'PAPERBACK', 'HARDCOVER', 'PAPERBACK', 'HARDCOVER', 'PAPERBACK', 'PAPERBACK', 'PAPERBACK', 'PAPERBACK', 'PAPERBACK', 'PAPERBACK', 'PAPERBACK', 'PAPERBACK', 'PAPERBACK', 'PAPERBACK', 'PAPERBACK', 'PAPERBACK', 'PAPERBACK', 'HARDCOVER', 'PAPERBACK', 'PAPERBACK', 'PAPERBACK', 'PAPERBACK', 'PAPERBACK', 'PAPERBACK', 'PAPERBACK', 'PAPERBACK', 'PAPERBACK', 'PAPERBACK', 'HARDCOVER', 'PAPERBACK', 'PAPERBACK', 'MASS MARKET PAPERBACK', 'PAPERBACK', 'PAPERBACK', 'PAPERBACK', 'PAPERBACK', 'PAPERBACK', 'PAPERBACK', 'PAPERBACK', 'PAPERBACK', 'PAPERBACK', 'PAPERBACK', 'HARDCOVER', 'PAPERBACK', 'HARDCOVER', 'HARDCOVER', 'PAPERBACK', 'PAPERBACK', 'MASS MARKET PAPERBACK', 'PAPERBACK', 'PAPERBACK', 'PAPERBACK', 'PAPERBACK', 'PAPERBACK', 'PAPERBACK', 'PAPERBACK', 'PAPERBACK', 'PAPERBACK', 'PAPERBACK', 'PAPERBACK', 'MASS MARKET PAPERBACK', 'PAPERBACK', 'PAPERBACK', 'HARDCOVER', 'PAPERBACK', 'PAPERBACK', 'PAPERBACK', 'PAPERBACK', 'PAPERBACK', 'PAPERBACK', 'PAPERBACK', 'PAPERBACK', 'PAPERBACK', 'PAPERBACK', 'PAPERBACK', 'PAPERBACK', 'PAPERBACK', 'PAPERBACK', 'PAPERBACK', 'PAPERBACK', 'PAPERBACK', 'PAPERBACK', 'PAPERBACK', 'PAPERBACK', 'PAPERBACK', 'PAPERBACK', 'HARDCOVER', 'PAPERBACK', 'HARDCOVER', 'FLEXIBOUND', 'PAPERBACK', 'PAPERBACK', 'PAPERBACK', 'PAPERBACK', 'PAPERBACK', 'PAPERBACK', 'PAPERBACK', 'PAPERBACK', 'PAPERBACK', 'PAPERBACK', 'PAPERBACK', 'PAPERBACK', 'PAPERBACK', 'PAPERBACK', 'PAPERBACK', 'PAPERBACK', 'PAPERBACK', 'HARDCOVER', 'HARDCOVER', 'PAPERBACK', 'HARDCOVER', 'PAPERBACK', 'PAPERBACK', 'PAPERBACK', 'PAPERBACK', 'PAPERBACK', 'PAPERBACK', 'PAPERBACK', 'HARDCOVER', 'PAPERBACK', 'PAPERBACK', 'PAPERBACK', 'PAPERBACK', 'PAPERBACK', 'PAPERBACK', 'PAPERBACK', 'PAPERBACK', 'PAPERBACK', 'PAPERBACK', 'PAPERBACK', 'PAPERBACK', 'HARDCOVER', 'PAPERBACK', 'PAPERBACK', 'PAPERBACK', 'PAPERBACK', 'PAPERBACK', 'PAPERBACK', 'PAPERBACK', 'PAPERBACK', 'PAPERBACK', 'PAPERBACK', 'PAPERBACK', 'PAPERBACK', 'HARDCOVER', 'PAPERBACK', 'PAPERBACK', 'PAPERBACK', 'PAPERBACK', 'PAPERBACK', 'HARDCOVER', 'PAPERBACK', 'PAPERBACK', 'PAPERBACK', 'PAPERBACK', 'PAPERBACK', 'HARDCOVER', 'PAPERBACK', 'PAPERBACK', 'PAPERBACK', 'PAPERBACK', 'MASS MARKET PAPERBACK', 'PAPERBACK', 'PAPERBACK', 'PAPERBACK', 'PAPERBACK', 'PAPERBACK', 'PAPERBACK', 'HARDCOVER', 'PAPERBACK', 'PAPERBACK', 'PAPERBACK', 'PAPERBACK', 'HARDCOVER', 'MASS MARKET PAPERBACK', 'HARDCOVER', 'PAPERBACK', 'FLEXIBOUND', 'PAPERBACK', 'HARDCOVER', 'PAPERBACK', 'HARDCOVER', 'HARDCOVER', 'PAPERBACK', 'HARDCOVER', 'PAPERBACK', 'HARDCOVER', 'PAPERBACK', 'PAPERBACK', 'PAPERBACK', 'MASS MARKET PAPERBACK', 'PAPERBACK', 'PAPERBACK', 'HARDCOVER', 'PAPERBACK', 'PAPERBACK', 'PAPERBACK', 'PAPERBACK', 'PAPERBACK', 'PAPERBACK', 'PAPERBACK', 'PAPERBACK', 'PAPERBACK', 'PAPERBACK', 'PAPERBACK', 'PAPERBACK', 'PAPERBACK', 'PAPERBACK', 'HARDCOVER', 'PAPERBACK', 'PAPERBACK', 'PAPERBACK', 'HARDCOVER', 'HARDCOVER', 'PAPERBACK', 'PAPERBACK', 'PAPERBACK', 'PAPERBACK', 'PAPERBACK', 'PAPERBACK', 'PAPERBACK', 'PAPERBACK', 'PAPERBACK', 'PAPERBACK', 'PAPERBACK', 'PAPERBACK', 'SHEET MUSIC', 'PAPERBACK', 'PAPERBACK', 'PAPERBACK', 'PAPERBACK', 'PAPERBACK', 'PAPERBACK', 'PAPERBACK', 'PAPERBACK', 'PAPERBACK', 'HARDCOVER', 'PAPERBACK', 'PAPERBACK', 'PAPERBACK', 'PAPERBACK', 'PAPERBACK', 'PAPERBACK', 'PAPERBACK', 'PAPERBACK', 'PAPERBACK', 'PAPERBACK', 'MASS MARKET PAPERBACK', 'SHEET MUSIC', 'PAPERBACK', 'PAPERBACK', 'PAPERBACK', 'PAPERBACK', 'PAPERBACK', 'PAPERBACK', 'PAPERBACK', 'PAPERBACK', 'PAPERBACK', 'PAPERBACK', 'PAPERBACK', 'HARDCOVER', 'PAPERBACK', 'HARDCOVER', 'HARDCOVER', 'PAPERBACK', 'PAPERBACK', 'HARDCOVER', 'PAPERBACK', 'PAPERBACK', 'PAPERBACK', 'HARDCOVER', 'PAPERBACK', 'PAPERBACK', 'PAPERBACK', 'HARDCOVER', 'PAPERBACK', 'PAPERBACK', 'HARDCOVER', 'PAPERBACK', 'PAPERBACK', 'PAPERBACK', 'PAPERBACK', 'PAPERBACK', 'HARDCOVER', 'PAPERBACK', 'PAPERBACK', 'PAPERBACK', 'PAPERBACK', 'PAPERBACK', 'PAPERBACK', 'HARDCOVER', 'PAPERBACK', 'PAPERBACK', 'SHEET MUSIC', 'PAPERBACK', 'PAPERBACK', 'PAPERBACK', 'PAPERBACK', 'PAPERBACK', 'HARDCOVER', 'PAPERBACK', 'PAPERBACK', 'HARDCOVER', 'PAPERBACK', 'HARDCOVER', 'PAPERBACK', 'PAPERBACK', 'PAPERBACK', 'PAPERBACK', 'PAPERBACK', 'PAPERBACK', 'PAPERBACK', 'PAPERBACK', 'PAPERBACK', 'HARDCOVER', 'HARDCOVER', 'PAPERBACK', 'PAPERBACK', 'PAPERBACK', 'PAPERBACK', 'PAPERBACK', 'PAPERBACK', 'PAPERBACK', 'PAPERBACK', 'PAPERBACK', 'PAPERBACK', 'PAPERBACK', 'HARDCOVER', 'HARDCOVER', 'PAPERBACK', 'PAPERBACK', 'PAPERBACK', 'PAPERBACK', 'PAPERBACK', 'PAPERBACK', 'PAPERBACK', 'PAPERBACK', 'PAPERBACK', 'PAPERBACK', 'PAPERBACK', 'PAPERBACK', 'PAPERBACK', 'PAPERBACK', 'PAPERBACK', 'PAPERBACK', 'PAPERBACK', 'HARDCOVER', 'PAPERBACK', 'PAPERBACK', 'HARDCOVER', 'PAPERBACK', 'PAPERBACK', 'PAPERBACK', 'PAPERBACK', 'PAPERBACK', 'PAPERBACK', 'PAPERBACK', 'PAPERBACK', 'PAPERBACK', 'PAPERBACK', 'PAPERBACK', 'PAPERBACK', 'PAPERBACK', 'HARDCOVER', 'PAPERBACK', 'HARDCOVER', 'HARDCOVER', 'PAPERBACK', 'PAPERBACK', 'PAPERBACK', 'PAPERBACK', 'PAPERBACK', 'SHEET MUSIC', 'PAPERBACK', 'PAPERBACK', 'PAPERBACK', 'HARDCOVER', 'PAPERBACK', 'PAPERBACK', 'PAPERBACK', 'HARDCOVER', 'HARDCOVER', 'PAPERBACK', 'PAPERBACK', 'PAPERBACK', 'HARDCOVER', 'HARDCOVER', 'MASS MARKET PAPERBACK', 'PAPERBACK', 'PAPERBACK', 'PAPERBACK', 'PAPERBACK', 'PAPERBACK', 'PAPERBACK', 'PAPERBACK', 'PAPERBACK', 'PAPERBACK', 'PAPERBACK', 'PAPERBACK', 'PAPERBACK', 'PAPERBACK', 'PAPERBACK', 'PAPERBACK', 'PAPERBACK', 'HARDCOVER', 'PAPERBACK', 'PAPERBACK', 'PAPERBACK', 'HARDCOVER', 'PAPERBACK', 'PAPERBACK', 'PAPERBACK', 'PAPERBACK', 'PAPERBACK', 'PAPERBACK', 'PAPERBACK', 'PAPERBACK', 'PAPERBACK', 'PAPERBACK', 'PAPERBACK', 'PAPERBACK', 'PAPERBACK', 'PAPERBACK', 'PAPERBACK', 'PAPERBACK', 'PAPERBACK', 'PAPERBACK', 'PAPERBACK', 'PAPERBACK', 'PAPERBACK', 'PAPERBACK', 'PAPERBACK', 'PAPERBACK', 'PAPERBACK', 'HARDCOVER', 'HARDCOVER', 'PAPERBACK', 'PAPERBACK', 'PAPERBACK', 'PAPERBACK', 'PAPERBACK', 'PAPERBACK', 'PAPERBACK', 'MASS MARKET PAPERBACK', 'PAPERBACK', 'PAPERBACK', 'HARDCOVER', 'PAPERBACK', 'HARDCOVER', 'PAPERBACK', 'PAPERBACK', 'PAPERBACK', 'PAPERBACK', 'PAPERBACK', 'PAPERBACK', 'PAPERBACK', 'HARDCOVER', 'LEATHER BOUND', 'HARDCOVER', 'PAPERBACK', 'HARDCOVER', 'PAPERBACK', 'PAPERBACK', 'PAPERBACK', 'PAPERBACK', 'PAPERBACK', 'PAPERBACK', 'PAPERBACK', 'PAPERBACK', 'PAPERBACK', 'PAPERBACK', 'PAPERBACK', 'PAPERBACK', 'PAPERBACK', 'PAPERBACK', 'PAPERBACK', 'PAPERBACK', 'PAPERBACK', 'MASS MARKET PAPERBACK', 'PAPERBACK', 'MASS MARKET PAPERBACK', 'PAPERBACK', 'PAPERBACK', 'PAPERBACK', 'PAPERBACK', 'PAPERBACK', 'PAPERBACK', 'PAPERBACK', 'PAPERBACK', 'PAPERBACK', 'PAPERBACK', 'PAPERBACK', 'PAPERBACK', 'PAPERBACK', 'PAPERBACK', 'PAPERBACK', 'PAPERBACK', 'PAPERBACK', 'PAPERBACK', 'PAPERBACK', 'PAPERBACK', 'PAPERBACK', 'PAPERBACK', 'PAPERBACK', 'HARDCOVER', 'PAPERBACK', 'PAPERBACK', 'PAPERBACK', 'PAPERBACK', 'PAPERBACK', 'PAPERBACK', 'PAPERBACK', 'PAPERBACK', 'PAPERBACK', 'PAPERBACK', 'PAPERBACK', 'PAPERBACK', 'PAPERBACK', 'PAPERBACK', 'PAPERBACK', 'PAPERBACK', 'HARDCOVER', 'PAPERBACK', 'HARDCOVER', 'PAPERBACK', 'PAPERBACK', 'PAPERBACK', 'PAPERBACK', 'PAPERBACK', 'PAPERBACK', 'PAPERBACK', 'PAPERBACK', 'PAPERBACK', 'MASS MARKET PAPERBACK', 'PAPERBACK', 'PAPERBACK', 'PAPERBACK', 'PAPERBACK', 'PAPERBACK', 'PAPERBACK', 'PAPERBACK', 'PAPERBACK', 'PAPERBACK', 'PAPERBACK', 'PAPERBACK', 'PAPERBACK', 'PAPERBACK', 'PAPERBACK', 'PAPERBACK', 'PAPERBACK', 'HARDCOVER', 'PAPERBACK', 'HARDCOVER', 'HARDCOVER', 'PAPERBACK', 'PAPERBACK', 'PAPERBACK', 'PAPERBACK', 'PAPERBACK', 'HARDCOVER', 'PAPERBACK', 'PAPERBACK', 'PAPERBACK', 'HARDCOVER', 'PAPERBACK', 'HARDCOVER', 'PAPERBACK', 'PAPERBACK', 'HARDCOVER', 'PAPERBACK', 'PAPERBACK', 'HARDCOVER', 'PAPERBACK', 'PAPERBACK', 'PAPERBACK', 'PAPERBACK', 'PAPERBACK', 'PAPERBACK', 'PAPERBACK', 'PAPERBACK', 'PAPERBACK', 'PAPERBACK', 'PAPERBACK', 'PAPERBACK', 'HARDCOVER', 'PAPERBACK', 'PAPERBACK', 'PAPERBACK', 'PAPERBACK', 'PAPERBACK', 'PAPERBACK', 'PAPERBACK', 'PAPERBACK', 'PAPERBACK', 'HARDCOVER', 'PAPERBACK', 'PAPERBACK', 'HARDCOVER', 'PAPERBACK', 'PAPERBACK', 'PAPERBACK', 'PAPERBACK', 'HARDCOVER', 'PAPERBACK', 'PAPERBACK', 'PAPERBACK', 'PAPERBACK', 'PAPERBACK', 'PAPERBACK', 'PAPERBACK', 'PAPERBACK', 'PAPERBACK', 'PAPERBACK', 'PAPERBACK', 'HARDCOVER', 'PAPERBACK', 'PAPERBACK', 'PAPERBACK', 'HARDCOVER', 'PAPERBACK', 'PAPERBACK', 'PAPERBACK', 'PAPERBACK', 'PAPERBACK', 'HARDCOVER', 'PAPERBACK', 'PAPERBACK', 'HARDCOVER', 'PAPERBACK', 'HARDCOVER', 'PAPERBACK', 'PAPERBACK', 'PAPERBACK', 'PAPERBACK', 'PAPERBACK', 'PAPERBACK', 'PAPERBACK', 'PAPERBACK', 'PAPERBACK', 'PAPERBACK', 'HARDCOVER', 'PAPERBACK', 'PAPERBACK', 'PAPERBACK', 'PAPERBACK', 'PAPERBACK', 'PAPERBACK', 'PAPERBACK', 'PAPERBACK', 'PAPERBACK', 'PAPERBACK', 'PAPERBACK', 'PAPERBACK', 'HARDCOVER', 'MASS MARKET PAPERBACK', 'PAPERBACK', 'HARDCOVER', 'PAPERBACK', 'PAPERBACK', 'PAPERBACK', 'PAPERBACK', 'PAPERBACK', 'PAPERBACK', 'PAPERBACK', 'PAPERBACK', 'PAPERBACK', 'PAPERBACK', 'HARDCOVER', 'PAPERBACK', 'PAPERBACK', 'MASS MARKET PAPERBACK', 'PAPERBACK', 'HARDCOVER', 'MASS MARKET PAPERBACK', 'PAPERBACK', 'PAPERBACK', 'PAPERBACK', 'PAPERBACK', 'PAPERBACK', 'PAPERBACK', 'PAPERBACK', 'HARDCOVER', 'PAPERBACK', 'PAPERBACK', 'PAPERBACK', 'PAPERBACK', 'PAPERBACK', 'PAPERBACK', 'PAPERBACK', 'PAPERBACK', 'HARDCOVER', 'PAPERBACK', 'PAPERBACK', 'PAPERBACK', 'HARDCOVER', 'PAPERBACK', 'PAPERBACK', 'PAPERBACK', 'PAPERBACK', 'PAPERBACK', 'PAPERBACK', 'PAPERBACK', 'HARDCOVER', 'PAPERBACK', 'HARDCOVER', 'SPIRAL-BOUND', 'PAPERBACK', 'PAPERBACK', 'PAPERBACK', 'PAPERBACK', 'PAPERBACK', 'HARDCOVER', 'PAPERBACK', 'PAPERBACK', 'PAPERBACK', 'PAPERBACK', 'HARDCOVER', 'PAPERBACK', 'PAPERBACK', 'PAPERBACK', 'PAPERBACK', 'PAPERBACK', 'PAPERBACK', 'PAPERBACK', 'PAPERBACK', 'PAPERBACK', 'PAPERBACK', 'PAPERBACK', 'HARDCOVER', 'PAPERBACK', 'PAPERBACK', 'HARDCOVER', 'PAPERBACK', 'PAPERBACK', 'PAPERBACK', 'HARDCOVER', 'PAPERBACK', 'PAPERBACK', 'PAPERBACK', 'PAPERBACK', 'PAPERBACK', 'HARDCOVER', 'PAPERBACK', 'PAPERBACK', 'PAPERBACK', 'PAPERBACK', 'PAPERBACK', 'PAPERBACK', 'PAPERBACK', 'PAPERBACK', 'PAPERBACK', 'PAPERBACK', 'PAPERBACK', 'PAPERBACK', 'PAPERBACK', 'HARDCOVER', 'PAPERBACK', 'PAPERBACK', 'PAPERBACK', 'PAPERBACK', 'PAPERBACK', 'PAPERBACK', 'PAPERBACK', 'PAPERBACK', 'HARDCOVER', 'PAPERBACK', 'PAPERBACK', 'PAPERBACK', 'HARDCOVER', 'PAPERBACK', 'CARDS', 'PAPERBACK', 'PAPERBACK', 'PAPERBACK', 'HARDCOVER', 'PAPERBACK', 'PAPERBACK', 'PAPERBACK', 'PAPERBACK', 'HARDCOVER', 'PAPERBACK', 'PAPERBACK', 'PAPERBACK', 'PAPERBACK', 'PAPERBACK', 'PAPERBACK', 'HARDCOVER', 'PAPERBACK', 'PAPERBACK', 'PAPERBACK', 'HARDCOVER', 'PAPERBACK', 'PAPERBACK', 'PAPERBACK', 'PAPERBACK', 'PAPERBACK', 'PAPERBACK', 'PAPERBACK', 'PAPERBACK', 'HARDCOVER', 'PAPERBACK', 'PAPERBACK', 'PAPERBACK', 'PAPERBACK', 'PAPERBACK', 'PAPERBACK', 'PAPERBACK', 'PAPERBACK', 'PAPERBACK', 'PAPERBACK', 'PAPERBACK', 'PAPERBACK', 'PAPERBACK', 'HARDCOVER', 'PAPERBACK', 'PAPERBACK', 'PAPERBACK', 'PAPERBACK', 'PAPERBACK', 'PAPERBACK', 'SHEET MUSIC', 'PAPERBACK', 'PAPERBACK', 'PAPERBACK', 'PAPERBACK', 'PAPERBACK', 'PAPERBACK', 'PAPERBACK', 'MASS MARKET PAPERBACK', 'PAPERBACK', 'PAPERBACK', 'PAPERBACK', 'PAPERBACK', 'MASS MARKET PAPERBACK', 'PAPERBACK', 'PAPERBACK', 'PAPERBACK', 'PAPERBACK', 'PAPERBACK', 'HARDCOVER', 'PAPERBACK', 'PAPERBACK', 'PAPERBACK', 'PAPERBACK', 'PAPERBACK', 'PAPERBACK', 'PAPERBACK', 'PAPERBACK', 'HARDCOVER', 'PAPERBACK', 'PAPERBACK', 'PAPERBACK', 'PAPERBACK', 'PAPERBACK', 'PAPERBACK', 'PAPERBACK', 'HARDCOVER', 'PAPERBACK', 'PAPERBACK', 'PAPERBACK', 'PAPERBACK', 'HARDCOVER', 'PAPERBACK', 'PAPERBACK', 'PAPERBACK', 'HARDCOVER', 'PAPERBACK', 'PAPERBACK', 'HARDCOVER', 'PAPERBACK', 'PAPERBACK', 'PAPERBACK', 'PAPERBACK', 'HARDCOVER', 'PAPERBACK', 'PAPERBACK', 'PAPERBACK', 'PAPERBACK', 'PAPERBACK', 'PAPERBACK', 'PAPERBACK', 'HARDCOVER', 'PAPERBACK', 'PAPERBACK', 'HARDCOVER', 'HARDCOVER', 'PAPERBACK', 'PAPERBACK', 'PAPERBACK', 'PAPERBACK', 'PAPERBACK', 'PAPERBACK', 'PAPERBACK', 'PAPERBACK', 'PAPERBACK', 'PAPERBACK', 'HARDCOVER', 'PAPERBACK', 'PAPERBACK', 'PAPERBACK', 'MASS MARKET PAPERBACK', 'PAPERBACK', 'PAPERBACK', 'PAPERBACK', 'PAPERBACK', 'PAPERBACK', 'PAPERBACK', 'PAPERBACK', 'PAPERBACK', 'PAPERBACK', 'PAPERBACK', 'PAPERBACK', 'PAPERBACK', 'PAPERBACK', 'PAPERBACK', 'PAPERBACK', 'HARDCOVER', 'PAPERBACK', 'PAPERBACK', 'PAPERBACK', 'PAPERBACK', 'PAPERBACK', 'PAPERBACK', 'PAPERBACK', 'PAPERBACK', 'PAPERBACK', 'PAPERBACK', 'PAPERBACK', 'PAPERBACK', 'PAPERBACK', 'PAPERBACK', 'PAPERBACK', 'PAPERBACK', 'PAPERBACK', 'PAPERBACK', 'PAPERBACK', 'PAPERBACK', 'PAPERBACK', 'HARDCOVER', 'HARDCOVER', 'PAPERBACK', 'PAPERBACK', 'PAPERBACK', 'PAPERBACK', 'PAPERBACK', 'PAPERBACK', 'PAPERBACK', 'PAPERBACK', 'PAPERBACK', 'HARDCOVER', 'PAPERBACK', 'PAPERBACK', 'PAPERBACK', 'HARDCOVER', 'PAPERBACK', 'PAPERBACK', 'PAPERBACK', 'HARDCOVER', 'PAPERBACK', 'PAPERBACK', 'HARDCOVER', 'PAPERBACK', 'PAPERBACK', 'PAPERBACK', 'HARDCOVER', 'PAPERBACK', 'PAPERBACK', 'PAPERBACK', 'PAPERBACK', 'PAPERBACK', 'PAPERBACK', 'PAPERBACK', 'PAPERBACK', 'PAPERBACK', 'MASS MARKET PAPERBACK', 'HARDCOVER', 'PAPERBACK', 'HARDCOVER', 'PAPERBACK', 'HARDCOVER', 'PAPERBACK', 'HARDCOVER', 'PAPERBACK', 'PAPERBACK', 'PAPERBACK', 'PAPERBACK', 'PAPERBACK', 'HARDCOVER', 'HARDCOVER', 'PAPERBACK', 'PAPERBACK', 'HARDCOVER', 'PAPERBACK', 'PAPERBACK', 'PAPERBACK', 'PAPERBACK', 'PAPERBACK', 'PAPERBACK', 'PAPERBACK', 'PAPERBACK', 'PAPERBACK', 'HARDCOVER', 'MASS MARKET PAPERBACK', 'MASS MARKET PAPERBACK', 'PAPERBACK', 'PAPERBACK', 'HARDCOVER', 'HARDCOVER', 'PAPERBACK', 'HARDCOVER', 'HARDCOVER', 'HARDCOVER', 'PAPERBACK', 'PAPERBACK', 'PAPERBACK', 'PAPERBACK', 'PAPERBACK', 'PAPERBACK', 'PAPERBACK', 'PAPERBACK', 'PAPERBACK', 'HARDCOVER', 'PAPERBACK', 'PAPERBACK', 'PAPERBACK', 'PAPERBACK', 'PAPERBACK', 'PAPERBACK', 'PAPERBACK', 'PAPERBACK', 'PAPERBACK', 'PAPERBACK', 'PAPERBACK', 'SPIRAL-BOUND', 'PAPERBACK', 'PAPERBACK', 'PAPERBACK', 'HARDCOVER', 'PAPERBACK', 'HARDCOVER', 'HARDCOVER', 'MASS MARKET PAPERBACK', 'PAPERBACK', 'PAPERBACK', 'PAPERBACK', 'PAPERBACK', 'PAPERBACK', 'PAPERBACK', 'PAPERBACK', 'PAPERBACK', 'PAPERBACK', 'PAPERBACK', 'PAPERBACK', 'PAPERBACK', 'PAPERBACK', 'PAPERBACK', 'PAPERBACK', 'PAPERBACK', 'HARDCOVER', 'PAPERBACK', 'PAPERBACK', 'PAPERBACK', 'PAPERBACK', 'PAPERBACK', 'PAPERBACK', 'PAPERBACK', 'HARDCOVER', 'PAPERBACK', 'HARDCOVER', 'PAPERBACK', 'PAPERBACK', 'HARDCOVER', 'PAPERBACK', 'PAPERBACK', 'HARDCOVER', 'PAPERBACK', 'HARDCOVER', 'HARDCOVER', 'PAPERBACK', 'PAPERBACK', 'PAPERBACK', 'PAPERBACK', 'PAPERBACK', 'HARDCOVER', 'PAPERBACK', 'HARDCOVER', 'PAPERBACK', 'PAPERBACK', 'PAPERBACK', 'PAPERBACK', 'PAPERBACK', 'PAPERBACK', 'PAPERBACK', 'PAPERBACK', 'PAPERBACK', 'PAPERBACK', 'PAPERBACK', 'PAPERBACK', 'PAPERBACK', 'PAPERBACK', 'PAPERBACK', 'PAPERBACK', 'PAPERBACK', 'PAPERBACK', 'MASS MARKET PAPERBACK', 'HARDCOVER', 'PAPERBACK', 'PAPERBACK', 'PAPERBACK', 'PAPERBACK', 'PAPERBACK', 'PAPERBACK', 'PAPERBACK', 'PAPERBACK', 'PAPERBACK', 'PAPERBACK', 'PAPERBACK', 'PAPERBACK', 'PAPERBACK', 'PAPERBACK', 'PAPERBACK', 'PAPERBACK', 'PAPERBACK', 'PAPERBACK', 'PAPERBACK', 'PAPERBACK', 'PAPERBACK', 'HARDCOVER', 'PAPERBACK', 'HARDCOVER', 'PAPERBACK', 'PAPERBACK', 'PAPERBACK', 'PAPERBACK', 'PAPERBACK', 'PAPERBACK', 'SHEET MUSIC', 'HARDCOVER', 'PAPERBACK', 'PAPERBACK', 'PAPERBACK', 'PAPERBACK', 'PAPERBACK', 'PAPERBACK', 'PAPERBACK', 'PAPERBACK', 'PAPERBACK', 'PAPERBACK', 'PAPERBACK', 'PAPERBACK', 'PAPERBACK', 'PAPERBACK', 'PAPERBACK', 'PAPERBACK', 'HARDCOVER', 'PAPERBACK', 'PAPERBACK', 'PAPERBACK', 'PAPERBACK', 'PAPERBACK', 'PAPERBACK', 'PAPERBACK', 'PAPERBACK', 'PAPERBACK', 'PAPERBACK', 'PAPERBACK', 'PAPERBACK', 'HARDCOVER', 'PAPERBACK', 'HARDCOVER', 'PAPERBACK', 'PAPERBACK', 'PAPERBACK', 'PAPERBACK', 'PAPERBACK', 'HARDCOVER', 'PAPERBACK', 'PAPERBACK', 'PAPERBACK', 'PAPERBACK', 'PAPERBACK', 'PAPERBACK', 'HARDCOVER', 'PAPERBACK', 'PAPERBACK', 'PAPERBACK', 'PAPERBACK', 'PAPERBACK', 'PAPERBACK', 'HARDCOVER', 'PAPERBACK', 'PAPERBACK', 'PAPERBACK', 'PAPERBACK', 'PAPERBACK', 'HARDCOVER', 'PAPERBACK', 'PAPERBACK', 'PAPERBACK', 'HARDCOVER', 'PAPERBACK', 'PAPERBACK', 'HARDCOVER', 'PAPERBACK', 'PAPERBACK', 'HARDCOVER', 'PAPERBACK', 'PAPERBACK', 'PAPERBACK', 'PAPERBACK', 'PAPERBACK', 'PAPERBACK', 'HARDCOVER', 'PAPERBACK', 'PAPERBACK', 'PAPERBACK', 'PAPERBACK', 'PAPERBACK', 'PAPERBACK', 'HARDCOVER', 'HARDCOVER', 'HARDCOVER', 'PAPERBACK', 'PAPERBACK', 'PAPERBACK', 'HARDCOVER', 'PAPERBACK', 'HARDCOVER', 'PAPERBACK', 'PAPERBACK', 'PAPERBACK', 'PAPERBACK', 'HARDCOVER', 'PAPERBACK', 'PAPERBACK', 'PAPERBACK', 'PAPERBACK', 'PAPERBACK', 'PAPERBACK', 'PAPERBACK', 'PAPERBACK', 'PAPERBACK', 'PAPERBACK', 'HARDCOVER', 'PAPERBACK', 'HARDCOVER', 'PAPERBACK', 'PAPERBACK', 'PAPERBACK', 'PAPERBACK', 'HARDCOVER', 'PAPERBACK', 'PAPERBACK', 'PAPERBACK', 'PAPERBACK', 'PAPERBACK', 'PAPERBACK', 'PAPERBACK', 'PAPERBACK', 'PAPERBACK', 'PAPERBACK', 'PAPERBACK', 'PAPERBACK', 'SPIRAL-BOUND', 'PAPERBACK', 'PAPERBACK', 'HARDCOVER', 'PAPERBACK', 'PAPERBACK', 'PAPERBACK', 'PAPERBACK', 'HARDCOVER', 'PAPERBACK', 'PAPERBACK', 'PAPERBACK', 'HARDCOVER', 'PAPERBACK', 'PAPERBACK', 'PAPERBACK', 'PAPERBACK', 'PAPERBACK', 'PAPERBACK', 'HARDCOVER', 'PAPERBACK', 'PAPERBACK', 'PAPERBACK', 'PAPERBACK', 'PAPERBACK', 'PAPERBACK', 'PAPERBACK', 'PAPERBACK', 'HARDCOVER', 'PAPERBACK', 'PAPERBACK', 'PAPERBACK', 'PAPERBACK', 'HARDCOVER', 'PAPERBACK', 'PAPERBACK', 'PAPERBACK', 'PAPERBACK', 'HARDCOVER', 'HARDCOVER', 'PAPERBACK', 'HARDCOVER', 'PAPERBACK', 'PAPERBACK', 'HARDCOVER', 'HARDCOVER', 'HARDCOVER', 'HARDCOVER', 'PAPERBACK', 'PAPERBACK', 'PAPERBACK', 'PAPERBACK', 'PAPERBACK', 'MASS MARKET PAPERBACK', 'PAPERBACK', 'PAPERBACK', 'PAPERBACK', 'PAPERBACK', 'PAPERBACK', 'PAPERBACK', 'HARDCOVER', 'PAPERBACK', 'PAPERBACK', 'PAPERBACK', 'PAPERBACK', 'PAPERBACK', 'PAPERBACK', 'PAPERBACK', 'PAPERBACK', 'PAPERBACK', 'PAPERBACK', 'PAPERBACK', 'PAPERBACK', 'HARDCOVER', 'HARDCOVER', 'PAPERBACK', 'PAPERBACK', 'PAPERBACK', 'HARDCOVER', 'PAPERBACK', 'PAPERBACK', 'PAPERBACK', 'PAPERBACK', 'PAPERBACK', 'PAPERBACK', 'MASS MARKET PAPERBACK', 'PAPERBACK', 'PAPERBACK', 'PAPERBACK', 'PAPERBACK', 'PAPERBACK', 'PAPERBACK', 'PAPERBACK', 'PAPERBACK', 'PAPERBACK', 'PAPERBACK', 'PAPERBACK', 'HARDCOVER', 'PAPERBACK', 'PAPERBACK', 'PAPERBACK', 'PAPERBACK', 'PAPERBACK', 'PAPERBACK', 'HARDCOVER', 'PAPERBACK', 'HARDCOVER', 'PAPERBACK', 'PAPERBACK', 'PAPERBACK', 'PAPERBACK', 'PAPERBACK', 'HARDCOVER', 'PAPERBACK', 'PAPERBACK', 'PAPERBACK', 'PAPERBACK', 'HARDCOVER', 'PAPERBACK', 'PAPERBACK', 'HARDCOVER', 'PAPERBACK', 'HARDCOVER', 'MASS MARKET PAPERBACK', 'PAPERBACK', 'PAPERBACK', 'PAPERBACK', 'PAPERBACK', 'PAPERBACK', 'PAPERBACK', 'HARDCOVER', 'PAPERBACK', 'PAPERBACK', 'PAPERBACK', 'PAPERBACK', 'HARDCOVER', 'PAPERBACK', 'PAPERBACK', 'PAPERBACK', 'PAPERBACK', 'PAPERBACK', 'MASS MARKET PAPERBACK', 'PAPERBACK', 'PAPERBACK', 'PAPERBACK', 'PAPERBACK', 'PAPERBACK', 'PAPERBACK', 'PAPERBACK', 'PAPERBACK', 'PAPERBACK', 'HARDCOVER', 'HARDCOVER', 'PAPERBACK', 'PAPERBACK', 'PAPERBACK', 'PAPERBACK', 'HARDCOVER', 'PAPERBACK', 'PAPERBACK', 'PAPERBACK', 'PAPERBACK', 'HARDCOVER', 'PAPERBACK', 'PAPERBACK', 'HARDCOVER', 'PAPERBACK', 'PAPERBACK', 'PAPERBACK', 'PAPERBACK', 'PAPERBACK', 'PAPERBACK', 'MASS MARKET PAPERBACK', 'HARDCOVER', 'PAPERBACK', 'PAPERBACK', 'PAPERBACK', 'PAPERBACK', 'PAPERBACK', 'HARDCOVER', 'PAPERBACK', 'PAPERBACK', 'PAPERBACK', 'MASS MARKET PAPERBACK', 'PAPERBACK', 'PAPERBACK', 'PAPERBACK', 'MASS MARKET PAPERBACK', 'PAPERBACK', 'PAPERBACK', 'PAPERBACK', 'PAPERBACK', 'PAPERBACK', 'PAPERBACK', 'PAPERBACK', 'PAPERBACK', 'PAPERBACK', 'HARDCOVER', 'PAPERBACK', 'PAPERBACK', 'PAPERBACK', 'PAPERBACK', 'PAPERBACK', 'PAPERBACK', 'PAPERBACK', 'PAPERBACK', 'PAPERBACK', 'PAPERBACK', 'PAPERBACK', 'PAPERBACK', 'PAPERBACK', 'PAPERBACK', 'HARDCOVER', 'PAPERBACK', 'PAPERBACK', 'PAPERBACK', 'PAPERBACK', 'PAPERBACK', 'PAPERBACK', 'PAPERBACK', 'PAPERBACK', 'PAPERBACK', 'PAPERBACK', 'MASS MARKET PAPERBACK', 'PAPERBACK', 'PAPERBACK', 'PAPERBACK', 'PAPERBACK', 'PAPERBACK', 'PAPERBACK', 'PAPERBACK', 'PAPERBACK', 'PAPERBACK', 'PAPERBACK', 'PAPERBACK', 'HARDCOVER', 'PAPERBACK', 'PAPERBACK', 'PAPERBACK', 'PAPERBACK', 'PAPERBACK', 'PAPERBACK', 'PAPERBACK', 'PAPERBACK', 'PAPERBACK', 'PAPERBACK', 'PAPERBACK', 'PAPERBACK', 'HARDCOVER', 'PAPERBACK', 'PAPERBACK', 'PAPERBACK', 'PAPERBACK', 'PAPERBACK', 'HARDCOVER', 'HARDCOVER', 'PAPERBACK', 'PAPERBACK', 'PAPERBACK', 'PAPERBACK', 'HARDCOVER', 'PAPERBACK', 'PAPERBACK', 'PAPERBACK', 'PAPERBACK', 'PAPERBACK', 'PAPERBACK', 'PAPERBACK', 'PAPERBACK', 'PAPERBACK', 'MASS MARKET PAPERBACK', 'PAPERBACK', 'PAPERBACK', 'PAPERBACK', 'PAPERBACK', 'PAPERBACK', 'PAPERBACK', 'PAPERBACK', 'PAPERBACK', 'PAPERBACK', 'PAPERBACK', 'PAPERBACK', 'PAPERBACK', 'PAPERBACK', 'PAPERBACK', 'HARDCOVER', 'PAPERBACK', 'PAPERBACK', 'PAPERBACK', 'PAPERBACK', 'PAPERBACK', 'PAPERBACK', 'PAPERBACK', 'PAPERBACK', 'PAPERBACK', 'PAPERBACK', 'PAPERBACK', 'MASS MARKET PAPERBACK', 'PAPERBACK', 'PAPERBACK', 'PAPERBACK', 'PAPERBACK', 'PAPERBACK', 'PAPERBACK', 'MASS MARKET PAPERBACK', 'PAPERBACK', 'PAPERBACK', 'PAPERBACK', 'PAPERBACK', 'PAPERBACK', 'PAPERBACK', 'PAPERBACK', 'MASS MARKET PAPERBACK', 'PAPERBACK', 'PAPERBACK', 'PAPERBACK', 'PAPERBACK', 'PAPERBACK', 'PAPERBACK', 'PAPERBACK', 'PAPERBACK', 'PAPERBACK', 'PAPERBACK', 'PAPERBACK', 'PAPERBACK', 'PAPERBACK', 'PAPERBACK', 'PAPERBACK', 'PAPERBACK', 'HARDCOVER', 'PAPERBACK', 'PAPERBACK', 'PAPERBACK', 'PAPERBACK', 'HARDCOVER', 'PAPERBACK', 'PAPERBACK', 'PAPERBACK', 'FLEXIBOUND', 'PAPERBACK', 'PAPERBACK', 'PAPERBACK', 'MASS MARKET PAPERBACK', 'PAPERBACK', 'HARDCOVER', 'PAPERBACK', 'PAPERBACK', 'PAPERBACK', 'PAPERBACK', 'PAPERBACK', 'PAPERBACK', 'PAPERBACK', 'PAPERBACK', 'PAPERBACK', 'HARDCOVER', 'PAPERBACK', 'PAPERBACK', 'PAPERBACK', 'PAPERBACK', 'PAPERBACK', 'PAPERBACK', 'PAPERBACK', 'PAPERBACK', 'PAPERBACK', 'HARDCOVER', 'PAPERBACK', 'PAPERBACK', 'PAPERBACK', 'PAPERBACK', 'PAPERBACK', '(FRENCH),PAPERBACK', 'PAPERBACK', 'PAPERBACK', 'PAPERBACK', 'HARDCOVER', 'SHEET MUSIC', 'PAPERBACK', 'PAPERBACK', 'PAPERBACK', 'HARDCOVER', 'PAPERBACK', 'PAPERBACK', 'PAPERBACK', 'PAPERBACK', 'PAPERBACK', 'PAPERBACK', 'PAPERBACK', 'PAPERBACK', 'PAPERBACK', 'PAPERBACK', 'PAPERBACK', 'PAPERBACK', 'HARDCOVER', 'PAPERBACK', 'PAPERBACK', 'PAPERBACK', 'PAPERBACK', 'PAPERBACK', 'PAPERBACK', 'PAPERBACK', 'PAPERBACK', 'PAPERBACK', 'PAPERBACK', 'HARDCOVER', 'PAPERBACK', 'HARDCOVER', 'PAPERBACK', 'PAPERBACK', 'PAPERBACK', 'HARDCOVER', 'PAPERBACK', 'PAPERBACK', 'PAPERBACK', 'HARDCOVER', 'PAPERBACK', 'PAPERBACK', 'PAPERBACK', 'PAPERBACK', 'PAPERBACK', 'PAPERBACK', 'PAPERBACK', 'PAPERBACK', 'PAPERBACK', 'PAPERBACK', 'PAPERBACK', 'PAPERBACK', 'PAPERBACK', 'PAPERBACK', 'PAPERBACK', 'HARDCOVER', 'PAPERBACK', 'PAPERBACK', 'HARDCOVER', 'PAPERBACK', 'PAPERBACK', 'PAPERBACK', 'PAPERBACK', 'PAPERBACK', 'PAPERBACK', 'PAPERBACK', 'HARDCOVER', 'PAPERBACK', 'PAPERBACK', 'PAPERBACK', 'PAPERBACK', 'PAPERBACK', 'PAPERBACK', 'HARDCOVER', 'PAPERBACK', 'PAPERBACK', 'PAPERBACK', 'PAPERBACK', 'PAPERBACK', 'HARDCOVER', 'HARDCOVER', 'PAPERBACK', 'HARDCOVER', 'PAPERBACK', 'PAPERBACK', 'PAPERBACK', 'HARDCOVER', 'PAPERBACK', 'HARDCOVER', 'PAPERBACK', 'SHEET MUSIC', 'HARDCOVER', 'PAPERBACK', 'PAPERBACK', 'HARDCOVER', 'HARDCOVER', 'PAPERBACK', 'PAPERBACK', 'PAPERBACK', 'PAPERBACK', 'PAPERBACK', 'PAPERBACK', 'PAPERBACK', 'PAPERBACK', 'PAPERBACK', 'PAPERBACK', 'PAPERBACK', 'PAPERBACK', 'PAPERBACK', 'HARDCOVER', 'PAPERBACK', 'PAPERBACK', 'PAPERBACK', 'PAPERBACK', 'PAPERBACK', 'PAPERBACK', 'PAPERBACK', 'PAPERBACK', 'PAPERBACK', 'PAPERBACK', 'PAPERBACK', 'HARDCOVER', 'PAPERBACK', 'PAPERBACK', 'PAPERBACK', 'PAPERBACK', 'PAPERBACK', 'PAPERBACK', 'PAPERBACK', 'HARDCOVER', 'PAPERBACK', 'PAPERBACK', 'PAPERBACK', 'PAPERBACK', 'PAPERBACK', 'PAPERBACK', 'PAPERBACK', 'PAPERBACK', 'HARDCOVER', 'PAPERBACK', 'PAPERBACK', 'PAPERBACK', 'HARDCOVER', 'PAPERBACK', 'PAPERBACK', 'PAPERBACK', 'PAPERBACK', 'PAPERBACK', 'PAPERBACK', 'PAPERBACK', 'PAPERBACK', 'HARDCOVER', 'PAPERBACK', 'PAPERBACK', 'PAPERBACK', 'HARDCOVER', 'PAPERBACK', 'PAPERBACK', 'HARDCOVER', 'PAPERBACK', 'HARDCOVER', 'PAPERBACK', 'PAPERBACK', 'PAPERBACK', 'PAPERBACK', 'PAPERBACK', 'HARDCOVER', 'PAPERBACK', 'PAPERBACK', 'MASS MARKET PAPERBACK', 'HARDCOVER', 'PAPERBACK', 'PAPERBACK', 'PAPERBACK', 'PAPERBACK', 'PAPERBACK', 'PAPERBACK', 'PAPERBACK', 'MASS MARKET PAPERBACK', 'PAPERBACK', 'PAPERBACK', 'HARDCOVER', 'PAPERBACK', 'PAPERBACK', 'PAPERBACK', 'PAPERBACK', 'PAPERBACK', 'PAPERBACK', 'PAPERBACK', 'PAPERBACK', 'PAPERBACK', 'PAPERBACK', 'PAPERBACK', 'PAPERBACK', 'PAPERBACK', 'PAPERBACK', 'PAPERBACK', 'PAPERBACK', 'PAPERBACK', 'PAPERBACK', 'PAPERBACK', 'PAPERBACK', 'PAPERBACK', 'PAPERBACK', 'HARDCOVER', 'PAPERBACK', 'PAPERBACK', 'PAPERBACK', 'PAPERBACK', 'PAPERBACK', 'MASS MARKET PAPERBACK', 'PAPERBACK', 'PAPERBACK', 'PAPERBACK', 'PAPERBACK', 'PAPERBACK', 'HARDCOVER', 'PAPERBACK', 'PAPERBACK', 'PAPERBACK', 'PAPERBACK', 'PAPERBACK', 'PAPERBACK', 'PAPERBACK', 'PAPERBACK', 'HARDCOVER', 'HARDCOVER', 'PAPERBACK', 'HARDCOVER', 'PAPERBACK', 'PAPERBACK', 'PAPERBACK', 'HARDCOVER', 'PAPERBACK', 'PAPERBACK', 'PAPERBACK', 'PAPERBACK', 'PAPERBACK', 'PAPERBACK', 'PAPERBACK', 'PAPERBACK', 'PAPERBACK', 'PAPERBACK', 'PAPERBACK', 'PAPERBACK', 'PAPERBACK', 'HARDCOVER', 'PAPERBACK', 'HARDCOVER', 'PAPERBACK', 'PAPERBACK', 'PAPERBACK', 'PAPERBACK', 'PAPERBACK', 'PAPERBACK', 'PAPERBACK', 'PAPERBACK', 'PAPERBACK', 'PAPERBACK', 'PAPERBACK', 'PAPERBACK', 'PAPERBACK', 'PAPERBACK', 'PAPERBACK', 'PAPERBACK', 'PAPERBACK', 'PAPERBACK', 'PAPERBACK', 'PAPERBACK', 'PAPERBACK', 'HARDCOVER', 'HARDCOVER', 'PAPERBACK', 'PAPERBACK', 'PAPERBACK', 'PAPERBACK', 'PAPERBACK', 'PAPERBACK', 'PAPERBACK', 'HARDCOVER', 'PAPERBACK', 'PAPERBACK', 'PAPERBACK', 'PAPERBACK', 'PAPERBACK', 'PAPERBACK', 'PAPERBACK', 'PAPERBACK', 'PAPERBACK', 'HARDCOVER', 'PAPERBACK', 'PAPERBACK', 'PAPERBACK', 'PAPERBACK', 'PAPERBACK', 'PAPERBACK', 'PAPERBACK', 'PAPERBACK', 'PAPERBACK', 'PAPERBACK', 'PAPERBACK', 'MASS MARKET PAPERBACK', 'HARDCOVER', 'PAPERBACK', 'PAPERBACK', 'HARDCOVER', 'HARDCOVER', 'PAPERBACK', 'HARDCOVER', 'PAPERBACK', 'PAPERBACK', 'HARDCOVER', 'PAPERBACK', 'SHEET MUSIC', 'FLEXIBOUND', 'PAPERBACK', 'PAPERBACK', 'PAPERBACK', 'PAPERBACK', 'PAPERBACK', 'PAPERBACK', 'PAPERBACK', 'HARDCOVER', 'PAPERBACK', 'HARDCOVER', 'PAPERBACK', 'PAPERBACK', 'HARDCOVER', 'HARDCOVER', 'PAPERBACK', 'PAPERBACK', 'PAPERBACK', 'PAPERBACK', 'PAPERBACK', 'PAPERBACK', 'PAPERBACK', 'PAPERBACK', 'PAPERBACK', 'PAPERBACK', 'HARDCOVER', 'PAPERBACK', 'HARDCOVER', 'PAPERBACK', 'PAPERBACK', 'PAPERBACK', 'PAPERBACK', 'PAPERBACK', 'HARDCOVER', 'PAPERBACK', 'HARDCOVER', 'PAPERBACK', 'HARDCOVER', 'PAPERBACK', 'PAPERBACK', 'PAPERBACK', 'PAPERBACK', 'PAPERBACK', 'HARDCOVER', 'PAPERBACK', 'PAPERBACK', 'PAPERBACK', 'HARDCOVER', 'PAPERBACK', 'PAPERBACK', 'PAPERBACK', 'PAPERBACK', 'PAPERBACK', 'PAPERBACK', 'PAPERBACK', 'PAPERBACK', 'PAPERBACK', 'PAPERBACK', 'PAPERBACK', 'HARDCOVER', 'PAPERBACK', 'PAPERBACK', 'MASS MARKET PAPERBACK', 'PAPERBACK', 'PAPERBACK', 'PAPERBACK', 'HARDCOVER', 'PAPERBACK', 'PAPERBACK', 'PAPERBACK', 'PAPERBACK', 'PAPERBACK', 'PAPERBACK', 'PAPERBACK', 'PAPERBACK', 'PAPERBACK', 'PAPERBACK', 'HARDCOVER', 'PAPERBACK', 'PAPERBACK', 'PAPERBACK', 'PAPERBACK', 'PAPERBACK', 'SHEET MUSIC', 'PAPERBACK', 'PAPERBACK', 'PAPERBACK', 'HARDCOVER', 'HARDCOVER', 'PAPERBACK', 'PAPERBACK', 'PAPERBACK', 'PAPERBACK', 'PAPERBACK', 'PAPERBACK', 'PAPERBACK', 'HARDCOVER', 'PAPERBACK', 'PAPERBACK', 'PAPERBACK', 'PAPERBACK', 'MASS MARKET PAPERBACK', 'HARDCOVER', 'PAPERBACK', 'PAPERBACK', 'PAPERBACK', 'PAPERBACK', 'PAPERBACK', 'PAPERBACK', 'PAPERBACK', 'PAPERBACK', 'PAPERBACK', 'PAPERBACK', 'PAPERBACK', 'PAPERBACK', 'PAPERBACK', 'PAPERBACK', 'PAPERBACK', 'PAPERBACK', 'PAPERBACK', 'PAPERBACK', 'PAPERBACK', 'PAPERBACK', 'PAPERBACK', 'PAPERBACK', 'PAPERBACK', 'HARDCOVER', 'HARDCOVER', 'HARDCOVER', 'PAPERBACK', 'PAPERBACK', 'PAPERBACK', 'PAPERBACK', 'PAPERBACK', 'PAPERBACK', 'PAPERBACK', 'PAPERBACK', 'PAPERBACK', 'PAPERBACK', 'PAPERBACK', 'PAPERBACK', 'PAPERBACK', 'PAPERBACK', 'HARDCOVER', 'PAPERBACK', 'PAPERBACK', 'PAPERBACK', 'PAPERBACK', 'PAPERBACK', 'PAPERBACK', 'PAPERBACK', 'HARDCOVER', 'PAPERBACK', 'PAPERBACK', 'PAPERBACK', 'PAPERBACK', 'PAPERBACK', 'PAPERBACK', 'PAPERBACK', 'PAPERBACK', 'HARDCOVER', 'PAPERBACK', 'PAPERBACK', 'HARDCOVER', 'PAPERBACK', 'PAPERBACK', 'MASS MARKET PAPERBACK', 'HARDCOVER', 'PAPERBACK', 'PAPERBACK', 'PAPERBACK', 'HARDCOVER', 'FLEXIBOUND', 'PAPERBACK', 'PAPERBACK', 'PAPERBACK', 'PAPERBACK', 'PAPERBACK', 'PAPERBACK', 'PAPERBACK', 'PAPERBACK', 'HARDCOVER', 'PAPERBACK', 'PAPERBACK', 'HARDCOVER', 'PAPERBACK', 'PAPERBACK', 'PAPERBACK', 'PAPERBACK', 'PAPERBACK', 'PAPERBACK', 'PAPERBACK', 'HARDCOVER', 'PAPERBACK', 'PAPERBACK', 'PAPERBACK', 'PAPERBACK', 'PAPERBACK', 'PAPERBACK', 'PAPERBACK', 'PAPERBACK', 'PAPERBACK', 'PAPERBACK', 'PAPERBACK', 'PAPERBACK', 'PAPERBACK', 'PAPERBACK', 'PAPERBACK', 'PAPERBACK', 'HARDCOVER', 'HARDCOVER', 'PAPERBACK', 'PAPERBACK', 'PAPERBACK', 'PAPERBACK', 'PAPERBACK', 'PAPERBACK', 'PAPERBACK', 'HARDCOVER', 'PAPERBACK', 'PAPERBACK', 'PAPERBACK', 'PAPERBACK', 'HARDCOVER', 'PAPERBACK', 'PAPERBACK', 'PAPERBACK', 'HARDCOVER', 'PAPERBACK', 'PAPERBACK', 'PAPERBACK', 'PAPERBACK', 'PAPERBACK', 'PAPERBACK', 'HARDCOVER', 'PAPERBACK', 'PAPERBACK', 'PAPERBACK', 'HARDCOVER', 'PAPERBACK', 'PAPERBACK', 'PAPERBACK', 'HARDCOVER', 'PAPERBACK', 'PAPERBACK', 'PAPERBACK', 'HARDCOVER', 'PAPERBACK', 'PAPERBACK', 'PAPERBACK', 'HARDCOVER', 'PAPERBACK', 'HARDCOVER', 'HARDCOVER', 'PAPERBACK', 'PAPERBACK', 'PAPERBACK', 'PAPERBACK', 'PAPERBACK', 'PAPERBACK', 'PAPERBACK', 'PAPERBACK', 'PAPERBACK', 'PAPERBACK', 'PAPERBACK', 'PAPERBACK', 'PAPERBACK', 'PAPERBACK', 'HARDCOVER', 'HARDCOVER', 'HARDCOVER', 'PAPERBACK', 'PAPERBACK', 'PAPERBACK', 'HARDCOVER', 'PAPERBACK', 'PAPERBACK', 'PAPERBACK', 'PAPERBACK', 'PAPERBACK', 'HARDCOVER', 'PAPERBACK', 'PAPERBACK', 'PAPERBACK', 'MASS MARKET PAPERBACK', 'PAPERBACK', 'PAPERBACK', 'FLEXIBOUND', 'HARDCOVER', 'HARDCOVER', 'PAPERBACK', 'PAPERBACK', 'PAPERBACK', 'PAPERBACK', 'PAPERBACK', 'PAPERBACK', 'PAPERBACK', 'HARDCOVER', 'PAPERBACK', 'PAPERBACK', 'PAPERBACK', 'PAPERBACK', 'PAPERBACK', 'HARDCOVER', 'PAPERBACK', 'PAPERBACK', 'PAPERBACK', 'PAPERBACK', 'HARDCOVER', 'PAPERBACK', 'PAPERBACK', 'PAPERBACK', 'PAPERBACK', 'PAPERBACK', 'PAPERBACK', 'PAPERBACK', 'MASS MARKET PAPERBACK', 'HARDCOVER', 'PAPERBACK', 'HARDCOVER', 'HARDCOVER', 'PAPERBACK', 'PAPERBACK', 'PAPERBACK', 'HARDCOVER', 'PAPERBACK', 'HARDCOVER', 'HARDCOVER', 'PAPERBACK', 'PAPERBACK', 'PAPERBACK', 'PAPERBACK', 'PAPERBACK', 'PAPERBACK', 'PAPERBACK', 'PAPERBACK', 'PAPERBACK', 'PAPERBACK', 'PAPERBACK', 'PAPERBACK', 'PAPERBACK', 'PAPERBACK', 'PAPERBACK', 'PAPERBACK', 'PAPERBACK', 'PAPERBACK', 'PAPERBACK', 'PAPERBACK', 'PAPERBACK', 'HARDCOVER', 'PAPERBACK', 'PAPERBACK', 'PAPERBACK', 'PAPERBACK', 'HARDCOVER', 'PAPERBACK', 'PAPERBACK', 'PAPERBACK', 'PAPERBACK', 'PAPERBACK', 'HARDCOVER', 'PAPERBACK', 'PAPERBACK', 'PAPERBACK', 'PAPERBACK', 'PAPERBACK', 'PAPERBACK', 'PAPERBACK', '(SPANISH),PAPERBACK', 'PAPERBACK', 'PAPERBACK', 'MASS MARKET PAPERBACK', 'HARDCOVER', 'PAPERBACK', 'PAPERBACK', 'PAPERBACK', 'PAPERBACK', 'PAPERBACK', 'PAPERBACK', 'PAPERBACK', 'PAPERBACK', 'PAPERBACK', 'PAPERBACK', 'PAPERBACK', 'PAPERBACK', 'PAPERBACK', 'PAPERBACK', 'HARDCOVER', 'PAPERBACK', 'PAPERBACK', 'PAPERBACK', 'PAPERBACK', 'PAPERBACK', 'PAPERBACK', 'TANKOBON SOFTCOVER', 'HARDCOVER', 'PAPERBACK', 'PAPERBACK', 'HARDCOVER', 'HARDCOVER', 'PAPERBACK', 'PAPERBACK', 'PAPERBACK', 'PAPERBACK', 'PAPERBACK', 'PAPERBACK', 'HARDCOVER', 'PAPERBACK', 'PAPERBACK', 'PAPERBACK', 'PAPERBACK', 'HARDCOVER', 'PAPERBACK', 'PAPERBACK', 'PAPERBACK', 'PAPERBACK', 'PAPERBACK', 'PAPERBACK', 'PAPERBACK', 'PAPERBACK', 'PAPERBACK', 'PAPERBACK', 'PAPERBACK', 'HARDCOVER', 'PAPERBACK', 'PAPERBACK', 'PAPERBACK', 'PAPERBACK', 'PAPERBACK', 'PAPERBACK', 'PAPERBACK', 'PAPERBACK', 'PAPERBACK', 'PAPERBACK', 'PAPERBACK', 'HARDCOVER', 'PAPERBACK', 'PAPERBACK', 'PAPERBACK', 'HARDCOVER', 'PAPERBACK', 'PAPERBACK', 'PAPERBACK', 'PAPERBACK', 'HARDCOVER', 'PAPERBACK', 'PAPERBACK', 'PAPERBACK', 'PAPERBACK', 'PAPERBACK', 'PAPERBACK', 'PAPERBACK', 'PAPERBACK', 'PAPERBACK', 'PAPERBACK', 'PAPERBACK', 'PAPERBACK', 'PAPERBACK', 'PAPERBACK', 'HARDCOVER', 'PAPERBACK', 'PAPERBACK', 'PAPERBACK', 'MASS MARKET PAPERBACK', 'HARDCOVER', 'SHEET MUSIC', 'PAPERBACK', 'PAPERBACK', 'PAPERBACK', 'PAPERBACK', 'PAPERBACK', 'PAPERBACK', 'PAPERBACK', 'HARDCOVER', 'HARDCOVER', 'PAPERBACK', 'PAPERBACK', 'PAPERBACK', 'PAPERBACK', 'PAPERBACK', 'PAPERBACK', 'PAPERBACK', 'PAPERBACK', 'PAPERBACK', 'PAPERBACK', 'PAPERBACK', 'HARDCOVER', 'PAPERBACK', 'PAPERBACK', 'PAPERBACK', 'PAPERBACK', 'PAPERBACK', 'PAPERBACK', 'PAPERBACK', 'PAPERBACK', 'PAPERBACK', 'HARDCOVER', 'PAPERBACK', 'PAPERBACK', 'PAPERBACK', 'PAPERBACK', 'PAPERBACK', 'PAPERBACK', 'PAPERBACK', 'PAPERBACK', 'PAPERBACK', 'PAPERBACK', 'PAPERBACK', 'PAPERBACK', 'PAPERBACK', 'PAPERBACK', 'PAPERBACK', 'PAPERBACK', 'PAPERBACK', 'PAPERBACK', 'HARDCOVER', 'PAPERBACK', 'HARDCOVER', 'PAPERBACK', 'PAPERBACK', 'HARDCOVER', 'PAPERBACK', 'PAPERBACK', 'PAPERBACK', 'PAPERBACK', 'PAPERBACK', 'PAPERBACK', 'HARDCOVER', 'PAPERBACK', 'PAPERBACK', 'PAPERBACK', 'PAPERBACK', 'HARDCOVER', 'PAPERBACK', 'SHEET MUSIC', 'HARDCOVER', 'PAPERBACK', 'HARDCOVER', 'PAPERBACK', 'PAPERBACK', 'PAPERBACK', 'PAPERBACK', 'PAPERBACK', 'HARDCOVER', 'PAPERBACK', 'PAPERBACK', 'PAPERBACK', 'PAPERBACK', 'PAPERBACK', 'PAPERBACK', 'PAPERBACK', 'HARDCOVER', 'HARDCOVER', 'PAPERBACK', 'PAPERBACK', 'PAPERBACK', 'PAPERBACK', 'PAPERBACK', 'PAPERBACK', 'PAPERBACK', 'MASS MARKET PAPERBACK', 'HARDCOVER', 'PAPERBACK', 'PAPERBACK', 'HARDCOVER', 'PAPERBACK', 'PAPERBACK', 'PAPERBACK', 'PAPERBACK', 'PAPERBACK', 'PAPERBACK', 'PAPERBACK', 'PAPERBACK', 'PAPERBACK', 'PAPERBACK', 'PAPERBACK', 'PAPERBACK', 'PAPERBACK', 'PAPERBACK', 'PAPERBACK', 'PAPERBACK', 'PAPERBACK', 'PAPERBACK', 'PAPERBACK', 'PAPERBACK', 'PAPERBACK', 'PAPERBACK', 'PAPERBACK', 'PAPERBACK', 'PAPERBACK', 'PAPERBACK', 'PAPERBACK', 'PAPERBACK', 'PAPERBACK', 'PAPERBACK', 'PAPERBACK', 'PAPERBACK', 'PAPERBACK', 'HARDCOVER', 'HARDCOVER', 'PAPERBACK', 'PAPERBACK', 'PAPERBACK', 'PAPERBACK', 'PAPERBACK', 'PAPERBACK', 'PAPERBACK', 'PAPERBACK', 'PAPERBACK', 'PAPERBACK', 'PAPERBACK', 'PAPERBACK', 'PAPERBACK', 'PAPERBACK', 'PAPERBACK', 'PAPERBACK', 'PAPERBACK', 'PAPERBACK', 'PAPERBACK', 'PAPERBACK', 'PAPERBACK', 'PAPERBACK', 'PAPERBACK', 'PAPERBACK', 'PAPERBACK', 'PAPERBACK', 'PAPERBACK', 'PAPERBACK', 'PAPERBACK', 'PAPERBACK', 'PAPERBACK', 'PAPERBACK', 'PAPERBACK', 'PAPERBACK', 'PAPERBACK', 'PAPERBACK', 'PAPERBACK', 'PAPERBACK', 'PAPERBACK', 'PAPERBACK', 'PAPERBACK', 'MASS MARKET PAPERBACK', 'PAPERBACK', 'PAPERBACK', 'PAPERBACK', 'PAPERBACK', 'PAPERBACK', 'PAPERBACK', 'PAPERBACK', 'PAPERBACK', 'PAPERBACK', 'PAPERBACK', 'PAPERBACK', 'PAPERBACK', 'PAPERBACK', 'HARDCOVER', 'PAPERBACK', 'PAPERBACK', 'PAPERBACK', 'PAPERBACK', 'PAPERBACK', 'PAPERBACK', 'PAPERBACK', 'PAPERBACK', 'PAPERBACK', 'PAPERBACK', 'PAPERBACK', 'PAPERBACK', 'HARDCOVER', 'PAPERBACK', 'HARDCOVER', 'PAPERBACK', 'PAPERBACK', 'PAPERBACK', 'PAPERBACK', 'PAPERBACK', 'PAPERBACK', 'HARDCOVER', 'PAPERBACK', 'PAPERBACK', 'HARDCOVER', 'PAPERBACK', 'PAPERBACK', 'PAPERBACK', 'PAPERBACK', 'PAPERBACK', 'PAPERBACK', 'PAPERBACK', 'PAPERBACK', 'PAPERBACK', 'PAPERBACK', 'PAPERBACK', 'HARDCOVER', 'HARDCOVER', 'PAPERBACK', 'PAPERBACK', 'PAPERBACK', 'PAPERBACK', 'PAPERBACK', 'PAPERBACK', 'PAPERBACK', 'PAPERBACK', 'PAPERBACK', 'PAPERBACK', 'PAPERBACK', 'PAPERBACK', 'PAPERBACK', 'HARDCOVER', 'PAPERBACK', 'PAPERBACK', 'MASS MARKET PAPERBACK', 'PAPERBACK', 'HARDCOVER', 'PAPERBACK', 'CARDS', 'PAPERBACK', 'PAPERBACK', 'PAPERBACK', 'PAPERBACK', 'HARDCOVER', 'PAPERBACK', 'PAPERBACK', 'PAPERBACK', 'PAPERBACK', 'PAPERBACK', 'PAPERBACK', 'PAPERBACK', 'PAPERBACK', 'PAPERBACK', 'PAPERBACK', 'HARDCOVER', 'PAPERBACK', 'PAPERBACK', 'PAPERBACK', 'PAPERBACK', 'PAPERBACK', 'PAPERBACK', 'PAPERBACK', 'PAPERBACK']\n",
            "month : ['Mar', 'Nov', 'Feb', 'Oct', 'Oct', 'May', 'Oct', 'Mar', 'Dec', 'Mar', 'Jan', 'Jun', 'Jul', 'Nov', 'Sep', 'Feb', 'Mar', 'Nov', 'Jan', 'NA', 'Nov', 'Oct', 'Jul', 'Nov', 'Aug', 'Oct', 'Mar', 'Jun', 'Sep', 'Apr', 'Nov', 'Jul', 'Oct', 'Sep', 'May', 'NA', 'Jun', 'Apr', 'Nov', 'Dec', 'Jan', 'Sep', 'Aug', 'Jul', 'NA', 'Jul', 'Dec', 'Feb', 'Nov', 'Mar', 'Jan', 'Jun', 'Jun', 'Oct', 'Aug', 'Mar', 'Apr', 'Oct', 'May', 'Jan', 'NA', 'Dec', 'Sep', 'Jul', 'Apr', 'Mar', 'Oct', 'Mar', 'Oct', 'Jul', 'Sep', 'Sep', 'Sep', 'Nov', 'Sep', 'Nov', 'Jan', 'Nov', 'May', 'Aug', 'Jul', 'Jun', 'Dec', 'Jan', 'Jan', 'Jul', 'Mar', 'Jul', 'May', 'Mar', 'Nov', 'Feb', 'Sep', 'Nov', 'May', 'Jun', 'May', 'Sep', 'NA', 'Jun', 'Sep', 'Sep', 'Jan', 'Jul', 'Sep', 'Apr', 'Jan', 'Feb', 'Mar', 'Oct', 'Feb', 'Sep', 'NA', 'NA', 'Jan', 'NA', 'Jan', 'Nov', 'Oct', 'Oct', 'Mar', 'May', 'Jun', 'Oct', 'Apr', 'Feb', 'Feb', 'Aug', 'Nov', 'Oct', 'Jan', 'Sep', 'May', 'Jan', 'Jan', 'Apr', 'Aug', 'Oct', 'Mar', 'Apr', 'Aug', 'NA', 'Aug', 'NA', 'Dec', 'Dec', 'Jul', 'Jul', 'Jun', 'NA', 'Dec', 'Apr', 'NA', 'Sep', 'Mar', 'May', 'Apr', 'Mar', 'Jan', 'Feb', 'Oct', 'Apr', 'Jul', 'Jan', 'Jun', 'Jul', 'Aug', 'Jul', 'Mar', 'NA', 'Jan', 'Apr', 'Feb', 'Aug', 'Jan', 'Dec', 'Jan', 'Oct', 'Feb', 'May', 'Feb', 'Mar', 'Aug', 'Mar', 'Aug', 'May', 'Jun', 'Feb', 'Dec', 'Jun', 'NA', 'Nov', 'Apr', 'Feb', 'Jun', 'Jun', 'Jul', 'Mar', 'Feb', 'Apr', 'Dec', 'Feb', 'Jan', 'Nov', 'Jul', 'Mar', 'Oct', 'Sep', 'Sep', 'NA', 'Apr', 'Sep', 'Mar', 'May', 'Sep', 'Jun', 'Mar', 'Jul', 'Jul', 'Jul', 'Feb', 'Aug', 'NA', 'NA', 'Jul', 'Jun', 'Aug', 'Jan', 'Apr', 'Oct', 'Sep', 'Mar', 'Sep', 'Aug', 'Jun', 'NA', 'Nov', 'May', 'Mar', 'Nov', 'Jan', 'Dec', 'Jan', 'Dec', 'NA', 'Nov', 'Jan', 'Feb', 'Nov', 'Oct', 'May', 'Nov', 'Sep', 'Oct', 'Nov', 'Oct', 'Dec', 'Apr', 'May', 'Nov', 'Dec', 'Dec', 'Feb', 'Apr', 'Aug', 'Oct', 'Oct', 'Jun', 'NA', 'Jun', 'Feb', 'Mar', 'Apr', 'Jan', 'May', 'Nov', 'May', 'Jul', 'Aug', 'Jul', 'Apr', 'Oct', 'Dec', 'Oct', 'Apr', 'Feb', 'Jun', 'May', 'Jan', 'Jul', 'Jun', 'Aug', 'Jul', 'May', 'Dec', 'Dec', 'Mar', 'Jan', 'Oct', 'Jun', 'Feb', 'Jul', 'Oct', 'Oct', 'Apr', 'Jun', 'Feb', 'NA', 'Jun', 'May', 'Sep', 'Jun', 'May', 'Nov', 'Apr', 'Nov', 'Dec', 'Sep', 'Jan', 'Aug', 'Jun', 'Jan', 'Sep', 'Jul', 'Jul', 'Jul', 'Nov', 'Jul', 'Feb', 'Feb', 'May', 'Nov', 'Sep', 'Jan', 'Apr', 'NA', 'Oct', 'Jun', 'Jan', 'Nov', 'May', 'Jun', 'Aug', 'Feb', 'Sep', 'Feb', 'Jun', 'Sep', 'Jan', 'Oct', 'Oct', 'Feb', 'NA', 'Sep', 'Feb', 'Oct', 'Dec', 'Nov', 'Aug', 'Jan', 'Nov', 'Nov', 'Aug', 'Nov', 'Oct', 'Sep', 'Sep', 'Jan', 'Dec', 'Sep', 'May', 'NA', 'Jun', 'Jan', 'Feb', 'Jan', 'Feb', 'Nov', 'Mar', 'May', 'Sep', 'Jun', 'Jul', 'Jun', 'Jun', 'May', 'Dec', 'Feb', 'Jul', 'Apr', 'May', 'Oct', 'Nov', 'Sep', 'Oct', 'Apr', 'NA', 'NA', 'Apr', 'NA', 'Jan', 'Mar', 'Jul', 'Oct', 'Oct', 'Aug', 'Jun', 'NA', 'Dec', 'Jul', 'Nov', 'NA', 'Jul', 'Apr', 'NA', 'Feb', 'Mar', 'Sep', 'Mar', 'Sep', 'Sep', 'Jan', 'Feb', 'Apr', 'Sep', 'Jun', 'Jun', 'Feb', 'Jan', 'Jul', 'Jun', 'Sep', 'Aug', 'Nov', 'Mar', 'Dec', 'Jul', 'Jul', 'Sep', 'Jul', 'Jul', 'Jul', 'Jan', 'Apr', 'Jan', 'Oct', 'Sep', 'Dec', 'Jul', 'Apr', 'Apr', 'Mar', 'Jul', 'May', 'May', 'Jul', 'Jan', 'Nov', 'Nov', 'Apr', 'Sep', 'Mar', 'Jul', 'Apr', 'Jan', 'Jul', 'Mar', 'Jan', 'Nov', 'Oct', 'Oct', 'Feb', 'Jun', 'Feb', 'Mar', 'Jun', 'Jan', 'NA', 'Aug', 'Jul', 'Jan', 'Dec', 'NA', 'Jul', 'NA', 'Aug', 'Oct', 'Sep', 'Nov', 'Jul', 'May', 'Oct', 'Jan', 'May', 'Dec', 'Jan', 'Jan', 'Aug', 'Apr', 'Sep', 'Dec', 'Sep', 'Jun', 'Feb', 'Nov', 'Sep', 'Sep', 'Dec', 'Jan', 'May', 'NA', 'Mar', 'Aug', 'Nov', 'Apr', 'Jul', 'Dec', 'Mar', 'Jun', 'Aug', 'May', 'Sep', 'NA', 'Aug', 'Aug', 'Sep', 'Aug', 'NA', 'Aug', 'May', 'Oct', 'Oct', 'Mar', 'Mar', 'Sep', 'May', 'Mar', 'Jan', 'May', 'Apr', 'May', 'Feb', 'Jan', 'Mar', 'Jan', 'Sep', 'Jun', 'Jan', 'Sep', 'Sep', 'NA', 'Sep', 'Apr', 'Jan', 'Jun', 'Jul', 'May', 'Dec', 'May', 'Nov', 'Dec', 'Aug', 'Dec', 'Jun', 'Apr', 'Jul', 'Jan', 'Feb', 'Jun', 'Dec', 'Jun', 'Oct', 'Aug', 'NA', 'Jan', 'Jul', 'Aug', 'Jan', 'Feb', 'NA', 'Jul', 'Feb', 'NA', 'NA', 'May', 'May', 'May', 'Jul', 'Nov', 'Aug', 'Oct', 'Jun', 'Oct', 'Oct', 'Apr', 'Apr', 'NA', 'Aug', 'Sep', 'Jul', 'Jun', 'Jan', 'Jan', 'Feb', 'Oct', 'May', 'Apr', 'May', 'Sep', 'Feb', 'Jul', 'Dec', 'Nov', 'Oct', 'NA', 'May', 'Oct', 'Nov', 'Feb', 'Dec', 'Feb', 'Feb', 'Feb', 'Aug', 'Feb', 'Mar', 'Dec', 'Nov', 'Aug', 'Jul', 'Jan', 'Dec', 'Jul', 'Jul', 'Sep', 'Oct', 'Oct', 'NA', 'Aug', 'Mar', 'Oct', 'Oct', 'Jan', 'Mar', 'Feb', 'Aug', 'Oct', 'Nov', 'Oct', 'Jun', 'NA', 'Jul', 'NA', 'Aug', 'May', 'Jun', 'May', 'Mar', 'Aug', 'Sep', 'Mar', 'Jan', 'Oct', 'Jun', 'Dec', 'Jan', 'Jun', 'Oct', 'Jun', 'Sep', 'Aug', 'Jun', 'NA', 'Jul', 'Apr', 'Feb', 'Apr', 'Apr', 'Jun', 'Feb', 'Jul', 'Sep', 'Mar', 'Aug', 'Aug', 'Dec', 'Aug', 'Oct', 'Oct', 'Mar', 'Feb', 'Dec', 'May', 'Feb', 'Oct', 'Jun', 'Mar', 'Jan', 'Sep', 'Mar', 'Feb', 'Feb', 'May', 'Oct', 'NA', 'Jun', 'Dec', 'Feb', 'Sep', 'Jun', 'Apr', 'Nov', 'Sep', 'Jun', 'Jul', 'Oct', 'Mar', 'Sep', 'Oct', 'Oct', 'Aug', 'Oct', 'Apr', 'Sep', 'Jun', 'Jan', 'NA', 'Mar', 'NA', 'Nov', 'Jul', 'Oct', 'Feb', 'Jan', 'Jul', 'Aug', 'Sep', 'Sep', 'Feb', 'Jul', 'Dec', 'NA', 'Nov', 'Jul', 'Apr', 'Oct', 'Jan', 'May', 'Jan', 'Jun', 'Feb', 'Oct', 'NA', 'Jun', 'Apr', 'Jun', 'Jan', 'Oct', 'Mar', 'Nov', 'Dec', 'Feb', 'Feb', 'Sep', 'Sep', 'Feb', 'NA', 'May', 'Nov', 'Dec', 'Sep', 'Jun', 'Jul', 'Apr', 'NA', 'Jul', 'Jul', 'Aug', 'Oct', 'Sep', 'Oct', 'Nov', 'Jul', 'Nov', 'NA', 'Jan', 'Nov', 'Jun', 'Nov', 'Dec', 'Sep', 'Apr', 'Dec', 'Jun', 'Sep', 'Feb', 'Apr', 'Apr', 'Nov', 'Dec', 'Sep', 'Sep', 'Mar', 'May', 'Nov', 'Dec', 'NA', 'Sep', 'Dec', 'Apr', 'Jun', 'Jan', 'Jul', 'Feb', 'Mar', 'Sep', 'Sep', 'Nov', 'Jan', 'May', 'Oct', 'Sep', 'May', 'Nov', 'Feb', 'NA', 'Apr', 'Nov', 'Dec', 'Jan', 'Jan', 'Nov', 'Oct', 'Dec', 'Dec', 'Aug', 'Sep', 'Apr', 'Dec', 'Oct', 'Nov', 'Jan', 'Mar', 'Jul', 'Feb', 'Dec', 'Feb', 'Dec', 'Nov', 'Dec', 'Mar', 'Jan', 'Oct', 'Dec', 'Apr', 'Jan', 'Sep', 'Jul', 'Oct', 'Nov', 'Jul', 'May', 'May', 'Nov', 'Apr', 'Oct', 'Nov', 'NA', 'Dec', 'Dec', 'NA', 'Aug', 'Nov', 'Jan', 'Sep', 'Jun', 'Jan', 'Apr', 'NA', 'Mar', 'Sep', 'Oct', 'Feb', 'Mar', 'May', 'Sep', 'Oct', 'Sep', 'Dec', 'Oct', 'May', 'Sep', 'Jul', 'Aug', 'Feb', 'May', 'Oct', 'Aug', 'Jul', 'May', 'Aug', 'Oct', 'Jan', 'Apr', 'NA', 'NA', 'Jul', 'NA', 'Jul', 'Jun', 'May', 'Apr', 'Mar', 'Sep', 'Feb', 'Aug', 'Feb', 'Apr', 'Jan', 'Aug', 'Jul', 'Aug', 'Apr', 'Oct', 'Apr', 'Feb', 'Aug', 'Jun', 'Mar', 'Aug', 'May', 'Jan', 'Oct', 'NA', 'Jun', 'Jun', 'Jul', 'Dec', 'Jun', 'Apr', 'Apr', 'Sep', 'Mar', 'May', 'Jun', 'NA', 'Apr', 'Jan', 'Apr', 'Jun', 'Mar', 'Sep', 'Oct', 'Mar', 'Jun', 'Oct', 'Nov', 'Aug', 'Oct', 'NA', 'Apr', 'Apr', 'May', 'Apr', 'Jul', 'Jan', 'Sep', 'Sep', 'Feb', 'Feb', 'Oct', 'May', 'NA', 'Dec', 'Feb', 'Jul', 'Nov', 'Aug', 'NA', 'Feb', 'Oct', 'May', 'Apr', 'Jan', 'Oct', 'Mar', 'Jun', 'Oct', 'Jun', 'Mar', 'Mar', 'Feb', 'Aug', 'May', 'Jan', 'Jan', 'Aug', 'Aug', 'Oct', 'May', 'Sep', 'Jul', 'Jul', 'Sep', 'Aug', 'May', 'Jun', 'Feb', 'Nov', 'Jul', 'Nov', 'Jan', 'Nov', 'Oct', 'Jun', 'May', 'Oct', 'Jun', 'Jan', 'Nov', 'Jun', 'Feb', 'Aug', 'Apr', 'Jan', 'May', 'Jun', 'Nov', 'Apr', 'Jun', 'Oct', 'Dec', 'Sep', 'Jul', 'Jun', 'Aug', 'Jun', 'Mar', 'Sep', 'Jul', 'May', 'Mar', 'Dec', 'May', 'Jun', 'Dec', 'Mar', 'May', 'Jan', 'Apr', 'Jan', 'Oct', 'Apr', 'Oct', 'Oct', 'Aug', 'Sep', 'Oct', 'Sep', 'Sep', 'Jan', 'Nov', 'Aug', 'Dec', 'Jun', 'Dec', 'Mar', 'Mar', 'Aug', 'Aug', 'NA', 'Feb', 'Jun', 'NA', 'Aug', 'Sep', 'Aug', 'Feb', 'May', 'Feb', 'Apr', 'Apr', 'NA', 'Feb', 'Jun', 'Jun', 'Feb', 'Aug', 'Dec', 'Jul', 'Dec', 'Jan', 'Jan', 'Oct', 'May', 'Feb', 'Oct', 'Nov', 'May', 'Nov', 'Jan', 'Mar', 'Oct', 'Dec', 'Mar', 'Jun', 'Jul', 'Sep', 'Jul', 'Jul', 'Jul', 'Jan', 'NA', 'Apr', 'Jul', 'Jul', 'May', 'Nov', 'Nov', 'Oct', 'Apr', 'Mar', 'NA', 'Mar', 'Jul', 'Nov', 'May', 'Feb', 'Jul', 'Jan', 'Aug', 'Mar', 'May', 'Jul', 'Jan', 'Sep', 'Aug', 'Apr', 'Jan', 'Sep', 'Mar', 'Apr', 'Aug', 'NA', 'Dec', 'NA', 'Feb', 'Nov', 'Jun', 'Oct', 'Apr', 'Dec', 'Apr', 'May', 'Sep', 'Jul', 'Apr', 'NA', 'Nov', 'Aug', 'May', 'Jan', 'Sep', 'May', 'Nov', 'Apr', 'Apr', 'Aug', 'NA', 'Aug', 'Dec', 'Jun', 'Oct', 'NA', 'Sep', 'Apr', 'Jun', 'Apr', 'Oct', 'Sep', 'Nov', 'Oct', 'Dec', 'Mar', 'Jul', 'Dec', 'Aug', 'Jul', 'Mar', 'Sep', 'Jul', 'Mar', 'Aug', 'Nov', 'May', 'Aug', 'Apr', 'Dec', 'Jan', 'Jan', 'Nov', 'Jun', 'Apr', 'Mar', 'Nov', 'Jul', 'Apr', 'Sep', 'Aug', 'Nov', 'NA', 'Aug', 'Jun', 'Feb', 'Dec', 'Apr', 'Feb', 'Mar', 'Jun', 'Nov', 'Feb', 'May', 'May', 'Sep', 'Feb', 'Aug', 'Nov', 'Sep', 'Oct', 'Apr', 'Mar', 'Oct', 'Jun', 'NA', 'Oct', 'Sep', 'Oct', 'Oct', 'May', 'Sep', 'Jul', 'Nov', 'Feb', 'May', 'Jan', 'Oct', 'Jan', 'Mar', 'Mar', 'Jun', 'Nov', 'Sep', 'Dec', 'Jan', 'Feb', 'Jan', 'Oct', 'May', 'Jan', 'Apr', 'Jan', 'Sep', 'Apr', 'Nov', 'Feb', 'Sep', 'Nov', 'Mar', 'Jun', 'Jul', 'May', 'Jun', 'Dec', 'Jul', 'Jan', 'Feb', 'Dec', 'Jan', 'Feb', 'Feb', 'Oct', 'Mar', 'Oct', 'Aug', 'Apr', 'Dec', 'Oct', 'Jul', 'Jul', 'Feb', 'NA', 'Dec', 'Dec', 'Nov', 'Jul', 'Oct', 'Mar', 'Oct', 'Aug', 'Apr', 'Dec', 'Jun', 'Jun', 'Dec', 'Oct', 'Nov', 'Nov', 'Nov', 'NA', 'Nov', 'May', 'Jun', 'Aug', 'Aug', 'Apr', 'Jul', 'Feb', 'May', 'Oct', 'Jul', 'Apr', 'May', 'Apr', 'Feb', 'Jan', 'May', 'Sep', 'Mar', 'Feb', 'Nov', 'Jul', 'May', 'Jan', 'Oct', 'Jun', 'Jan', 'Sep', 'NA', 'Sep', 'NA', 'Mar', 'NA', 'Jan', 'Jul', 'Feb', 'Jul', 'Feb', 'Feb', 'Nov', 'Jun', 'Feb', 'Sep', 'Jun', 'Apr', 'May', 'Feb', 'NA', 'Sep', 'Mar', 'Feb', 'Apr', 'Mar', 'Sep', 'Jan', 'May', 'Jul', 'Jan', 'Nov', 'Nov', 'May', 'Feb', 'Oct', 'Sep', 'Feb', 'Dec', 'May', 'NA', 'Sep', 'NA', 'Oct', 'Dec', 'May', 'Apr', 'Jun', 'Oct', 'Dec', 'Oct', 'Jun', 'Jul', 'Sep', 'Dec', 'Mar', 'Feb', 'Oct', 'Sep', 'Jun', 'Sep', 'Dec', 'Apr', 'Jun', 'Oct', 'Dec', 'Oct', 'Nov', 'Jun', 'Jun', 'Jan', 'Oct', 'Aug', 'Aug', 'Jun', 'Oct', 'Jul', 'Jul', 'Jun', 'Jul', 'Oct', 'Nov', 'Oct', 'Jun', 'May', 'Oct', 'Sep', 'Aug', 'Apr', 'Dec', 'Nov', 'Dec', 'Jan', 'Jun', 'Jun', 'Jun', 'Jun', 'Oct', 'May', 'Jan', 'Oct', 'Sep', 'Aug', 'Jun', 'Nov', 'Feb', 'Jul', 'Jun', 'May', 'Dec', 'Jan', 'Aug', 'Sep', 'Dec', 'Sep', 'Nov', 'Feb', 'Jan', 'Nov', 'Jun', 'NA', 'May', 'Mar', 'Oct', 'Oct', 'Nov', 'Jan', 'Feb', 'NA', 'Jun', 'Dec', 'Oct', 'Mar', 'Nov', 'Aug', 'Jun', 'Dec', 'Feb', 'Oct', 'Apr', 'Jul', 'Feb', 'Nov', 'Sep', 'Sep', 'Mar', 'Nov', 'Aug', 'Jun', 'Oct', 'Dec', 'Aug', 'May', 'Aug', 'Sep', 'Oct', 'NA', 'Sep', 'Aug', 'Jan', 'Mar', 'Mar', 'NA', 'Jan', 'Oct', 'Nov', 'Jun', 'Dec', 'Feb', 'Aug', 'May', 'Feb', 'Sep', 'Dec', 'Sep', 'Oct', 'Apr', 'May', 'Oct', 'Nov', 'Feb', 'Apr', 'Jun', 'Dec', 'Nov', 'Feb', 'Oct', 'Sep', 'Apr', 'Jul', 'Jul', 'Aug', 'Mar', 'Jan', 'Jun', 'NA', 'May', 'May', 'Mar', 'Mar', 'Jan', 'May', 'Jan', 'Jan', 'Oct', 'May', 'Nov', 'Sep', 'May', 'Sep', 'May', 'Feb', 'Oct', 'NA', 'Jun', 'Sep', 'Mar', 'Jul', 'Dec', 'Dec', 'Jul', 'Jan', 'NA', 'Dec', 'Oct', 'Oct', 'Jun', 'May', 'Jan', 'May', 'Feb', 'Jun', 'Dec', 'May', 'Mar', 'Jan', 'Jul', 'Aug', 'Apr', 'NA', 'Aug', 'Jan', 'Oct', 'May', 'Nov', 'Feb', 'Apr', 'Aug', 'Sep', 'Feb', 'May', 'Jun', 'Jan', 'Sep', 'Sep', 'Jul', 'Feb', 'Jun', 'Jan', 'Apr', 'Sep', 'Dec', 'May', 'Oct', 'Feb', 'Jan', 'Sep', 'May', 'Apr', 'NA', 'Jul', 'Jun', 'May', 'Jul', 'Mar', 'Jul', 'Mar', 'Jan', 'Sep', 'Sep', 'May', 'Oct', 'Jun', 'Apr', 'Dec', 'Feb', 'Dec', 'Dec', 'Mar', 'Feb', 'Sep', 'Aug', 'Sep', 'Jan', 'Dec', 'NA', 'May', 'Mar', 'Mar', 'Mar', 'Sep', 'May', 'May', 'May', 'Jul', 'Nov', 'Oct', 'NA', 'May', 'Sep', 'Jun', 'Nov', 'May', 'Mar', 'Nov', 'Dec', 'Oct', 'May', 'NA', 'Aug', 'Jan', 'Jun', 'Nov', 'Aug', 'Jul', 'Jul', 'Jul', 'Nov', 'Nov', 'Jun', 'Feb', 'Nov', 'Jun', 'May', 'Jun', 'Nov', 'Aug', 'Dec', 'Jan', 'Jul', 'Apr', 'Oct', 'Jun', 'Oct', 'Jul', 'Mar', 'Nov', 'May', 'Sep', 'Mar', 'Jun', 'Mar', 'Jul', 'Dec', 'Jan', 'Jan', 'Jul', 'May', 'Jan', 'May', 'Jun', 'NA', 'Oct', 'Nov', 'Aug', 'Oct', 'May', 'Dec', 'May', 'NA', 'Aug', 'Sep', 'Dec', 'Nov', 'Nov', 'Jul', 'Mar', 'Sep', 'May', 'Jul', 'Sep', 'Nov', 'Dec', 'Aug', 'Nov', 'Jun', 'Jul', 'Jun', 'Feb', 'Apr', 'Jul', 'Aug', 'NA', 'Nov', 'Nov', 'May', 'Sep', 'Jul', 'Apr', 'Sep', 'Apr', 'Jun', 'Dec', 'Oct', 'Nov', 'May', 'Apr', 'Sep', 'Oct', 'Dec', 'Oct', 'Dec', 'Sep', 'Mar', 'May', 'Jan', 'Nov', 'Feb', 'Jul', 'Oct', 'Jan', 'Apr', 'Sep', 'Oct', 'Jul', 'Dec', 'Jun', 'May', 'May', 'Apr', 'Oct', 'May', 'Oct', 'NA', 'Aug', 'Jan', 'Mar', 'Jun', 'Nov', 'Sep', 'Nov', 'NA', 'May', 'May', 'Jul', 'Jul', 'Oct', 'Sep', 'Jun', 'Jun', 'Jan', 'Oct', 'Oct', 'NA', 'Apr', 'Dec', 'Sep', 'Oct', 'Feb', 'NA', 'Jan', 'Oct', 'Oct', 'Sep', 'Sep', 'May', 'Jul', 'NA', 'NA', 'May', 'Oct', 'Aug', 'Feb', 'May', 'Mar', 'Jun', 'Mar', 'Jul', 'May', 'Aug', 'NA', 'Oct', 'Jul', 'Feb', 'Apr', 'Apr', 'Jan', 'Jun', 'Feb', 'Nov', 'Nov', 'Apr', 'Jun', 'Jun', 'Aug', 'Sep', 'Jul', 'May', 'Apr', 'Jan', 'Dec', 'Nov', 'Mar', 'Aug', 'Jan', 'Oct', 'Sep', 'NA', 'Jul', 'May', 'Jul', 'Aug', 'Mar', 'NA', 'NA', 'Sep', 'Jul', 'Feb', 'Apr', 'Jun', 'Jan', 'Jul', 'Apr', 'Nov', 'Apr', 'Sep', 'Oct', 'May', 'Nov', 'Oct', 'May', 'Jan', 'NA', 'May', 'Dec', 'Jan', 'Jul', 'Oct', 'NA', 'Aug', 'May', 'Jan', 'Apr', 'Dec', 'Jun', 'Jun', 'Jul', 'Jul', 'Feb', 'Sep', 'Jun', 'Feb', 'Feb', 'Oct', 'Sep', 'Jul', 'Aug', 'Feb', 'Dec', 'May', 'Jun', 'Nov', 'Dec', 'Dec', 'Jul', 'NA', 'May', 'Aug', 'Jul', 'Jan', 'NA', 'Jan', 'Apr', 'Jul', 'Jul', 'Jan', 'Nov', 'Aug', 'Oct', 'NA', 'Jan', 'Jun', 'Dec', 'NA', 'Apr', 'May', 'Jun', 'Oct', 'Jan', 'Jun', 'Dec', 'Mar', 'Mar', 'Mar', 'Jul', 'Oct', 'Mar', 'Apr', 'Jul', 'Oct', 'Apr', 'Jul', 'Feb', 'Aug', 'Jun', 'Mar', 'Oct', 'Sep', 'Jan', 'Apr', 'Sep', 'Aug', 'Sep', 'Mar', 'Apr', 'Oct', 'Jan', 'Apr', 'Jul', 'Sep', 'Oct', 'Mar', 'Oct', 'NA', 'Feb', 'Oct', 'Sep', 'NA', 'Aug', 'Mar', 'Feb', 'Jan', 'NA', 'Feb', 'May', 'Aug', 'Sep', 'Apr', 'Jun', 'Jun', 'Oct', 'Sep', 'Oct', 'Jul', 'Apr', 'Jan', 'May', 'Aug', 'May', 'Jun', 'Apr', 'Oct', 'May', 'NA', 'Jan', 'May', 'Aug', 'Nov', 'Oct', 'Mar', 'Jul', 'Jun', 'May', 'Dec', 'Apr', 'Jun', 'Oct', 'May', 'Mar', 'Jul', 'Aug', 'Dec', 'Nov', 'Jun', 'Jun', 'Aug', 'Jan', 'Jan', 'Jan', 'Sep', 'Mar', 'May', 'Feb', 'Sep', 'Jul', 'Oct', 'Feb', 'NA', 'Dec', 'NA', 'Apr', 'Jul', 'Apr', 'Jan', 'Aug', 'Nov', 'Aug', 'NA', 'Oct', 'May', 'Nov', 'May', 'Aug', 'Jul', 'Aug', 'May', 'Aug', 'Aug', 'Aug', 'Oct', 'Oct', 'NA', 'Jan', 'Nov', 'Feb', 'Sep', 'Sep', 'Jun', 'Sep', 'Jul', 'Sep', 'NA', 'Dec', 'Jun', 'Sep', 'Oct', 'May', 'Jan', 'Jan', 'Jul', 'Dec', 'Jan', 'Jun', 'Sep', 'Aug', 'Nov', 'Jan', 'Oct', 'Dec', 'Apr', 'May', 'May', 'May', 'NA', 'Feb', 'Mar', 'Aug', 'Mar', 'Jun', 'Feb', 'Apr', 'Jun', 'Nov', 'Jun', 'Apr', 'Jul', 'Aug', 'Jun', 'Sep', 'Apr', 'NA', 'Jan', 'Jun', 'May', 'Jun', 'NA', 'Apr', 'Feb', 'Sep', 'Jan', 'Mar', 'Oct', 'Apr', 'Sep', 'Oct', 'Aug', 'Sep', 'Feb', 'Jun', 'Jun', 'Mar', 'NA', 'Oct', 'Jun', 'Oct', 'Sep', 'Jun', 'May', 'Jan', 'Jan', 'Jul', 'Aug', 'Nov', 'Jan', 'NA', 'Apr', 'Sep', 'Jul', 'Nov', 'Jul', 'Jul', 'Sep', 'Nov', 'Sep', 'Dec', 'Sep', 'Oct', 'Dec', 'Feb', 'Sep', 'Jan', 'Dec', 'Oct', 'Nov', 'Jul', 'Aug', 'Apr', 'Mar', 'Oct', 'Mar', 'Jul', 'May', 'Mar', 'Apr', 'Jan', 'May', 'May', 'NA', 'Jul', 'Jan', 'Oct', 'Jul', 'Feb', 'Feb', 'Jun', 'Apr', 'May', 'Apr', 'Jul', 'Jun', 'Mar', 'Oct', 'Nov', 'Apr', 'Jun', 'Apr', 'Aug', 'NA', 'Dec', 'Jan', 'Feb', 'May', 'Oct', 'Sep', 'Apr', 'Jun', 'Apr', 'Jul', 'Oct', 'Jul', 'Nov', 'Apr', 'Sep', 'Oct', 'Jan', 'Apr', 'Mar', 'Mar', 'Dec', 'May', 'Apr', 'May', 'Jan', 'Dec', 'Aug', 'Jul', 'Oct', 'Mar', 'Apr', 'Aug', 'Jul', 'Jan', 'Jun', 'May', 'Oct', 'Jan', 'Apr', 'Jul', 'Aug', 'Sep', 'Mar', 'Apr', 'Jul', 'NA', 'Apr', 'Jul', 'NA', 'Nov', 'Nov', 'Mar', 'Jan', 'Dec', 'Jun', 'NA', 'Oct', 'Feb', 'Jan', 'Oct', 'Feb', 'Aug', 'Nov', 'Nov', 'NA', 'Jun', 'Aug', 'Feb', 'Sep', 'Jul', 'Aug', 'May', 'Oct', 'Dec', 'Aug', 'Dec', 'Dec', 'Oct', 'Oct', 'Oct', 'Jan', 'Apr', 'Jun', 'May', 'Apr', 'Aug', 'Sep', 'Sep', 'Aug', 'NA', 'Sep', 'Feb', 'Nov', 'Dec', 'Jun', 'Oct', 'Jan', 'Jul', 'Sep', 'Nov', 'Nov', 'NA', 'Apr', 'Feb', 'NA', 'Jul', 'Jun', 'May', 'Mar', 'Jul', 'Jan', 'Apr', 'Apr', 'Mar', 'Aug', 'Oct', 'Oct', 'May', 'NA', 'Dec', 'Mar', 'Aug', 'Jan', 'Feb', 'Feb', 'NA', 'Feb', 'Feb', 'May', 'Oct', 'Jan', 'Aug', 'Oct', 'NA', 'Oct', 'Mar', 'Jan', 'Mar', 'Oct', 'Jul', 'Feb', 'Apr', 'Jan', 'NA', 'Dec', 'Nov', 'Jan', 'Nov', 'Jan', 'Oct', 'Jan', 'Apr', 'Jul', 'Mar', 'NA', 'Nov', 'Jul', 'Oct', 'Oct', 'Feb', 'Jan', 'May', 'May', 'Apr', 'Jun', 'Jul', 'Nov', 'Jan', 'Dec', 'Jan', 'Jun', 'Jun', 'Jun', 'Oct', 'Jun', 'Oct', 'Apr', 'Oct', 'Aug', 'Jul', 'May', 'Nov', 'Sep', 'Feb', 'Jul', 'Nov', 'May', 'May', 'Apr', 'NA', 'Nov', 'NA', 'Aug', 'Jun', 'May', 'Oct', 'Mar', 'NA', 'NA', 'Oct', 'Oct', 'Sep', 'Nov', 'Jan', 'Aug', 'Aug', 'Sep', 'Jul', 'Aug', 'May', 'Oct', 'May', 'Apr', 'Sep', 'Nov', 'Jan', 'Dec', 'Apr', 'Nov', 'NA', 'Jan', 'May', 'Oct', 'Dec', 'Sep', 'Nov', 'Sep', 'Jun', 'Jul', 'Oct', 'Dec', 'Aug', 'Aug', 'Apr', 'Oct', 'Jan', 'Oct', 'Mar', 'Dec', 'Jan', 'Aug', 'Apr', 'May', 'Jul', 'Feb', 'Sep', 'Sep', 'Nov', 'Oct', 'Feb', 'Nov', 'Jan', 'Nov', 'Sep', 'Nov', 'Mar', 'Dec', 'May', 'Aug', 'Jan', 'Jun', 'Aug', 'Mar', 'Mar', 'Feb', 'Dec', 'May', 'Nov', 'Aug', 'Jun', 'Apr', 'Aug', 'Feb', 'Feb', 'Dec', 'Oct', 'Dec', 'Apr', 'May', 'Dec', 'Apr', 'May', 'Apr', 'Jun', 'Apr', 'Nov', 'May', 'Apr', 'May', 'Mar', 'Oct', 'Apr', 'Aug', 'Jun', 'May', 'Oct', 'Mar', 'Apr', 'Aug', 'Nov', 'Aug', 'Mar', 'May', 'Jul', 'Aug', 'Feb', 'Feb', 'Dec', 'Apr', 'Nov', 'Jun', 'NA', 'Jun', 'Oct', 'Sep', 'Aug', 'Aug', 'Aug', 'Jul', 'Mar', 'May', 'Nov', 'Oct', 'Oct', 'Nov', 'Aug', 'Apr', 'Oct', 'NA', 'May', 'Oct', 'Jun', 'NA', 'Nov', 'Nov', 'Aug', 'Oct', 'Oct', 'Mar', 'Aug', 'Jan', 'NA', 'Apr', 'Jul', 'Dec', 'Aug', 'Apr', 'Sep', 'Feb', 'May', 'Aug', 'Oct', 'Sep', 'NA', 'Oct', 'Mar', 'Mar', 'Feb', 'Aug', 'Mar', 'Apr', 'Mar', 'Aug', 'Feb', 'Oct', 'Feb', 'Jul', 'Feb', 'NA', 'NA', 'May', 'Oct', 'Oct', 'NA', 'Mar', 'NA', 'May', 'Dec', 'Jan', 'Nov', 'Apr', 'Jul', 'Oct', 'Sep', 'Apr', 'May', 'Nov', 'Jan', 'Jan', 'Apr', 'NA', 'NA', 'Aug', 'Apr', 'Feb', 'Jan', 'NA', 'Apr', 'Jul', 'Mar', 'Apr', 'Aug', 'Jan', 'NA', 'Mar', 'Oct', 'Sep', 'Sep', 'Sep', 'Sep', 'Apr', 'Apr', 'Dec', 'NA', 'Jan', 'Oct', 'NA', 'Dec', 'Jan', 'Jul', 'Nov', 'NA', 'Jul', 'Oct', 'Sep', 'Dec', 'Nov', 'Nov', 'Jun', 'NA', 'NA', 'Mar', 'Oct', 'Apr', 'Feb', 'Nov', 'Mar', 'Oct', 'Oct', 'NA', 'Jan', 'Oct', 'Sep', 'Oct', 'May', 'Nov', 'Feb', 'Aug', 'Dec', 'Aug', 'Feb', 'Dec', 'Jan', 'Nov', 'May', 'NA', 'Sep', 'Jan', 'Sep', 'Nov', 'May', 'Oct', 'Apr', 'Sep', 'Jan', 'Jan', 'Aug', 'Oct', 'Feb', 'Apr', 'Apr', 'Aug', 'Jun', 'Oct', 'Sep', 'NA', 'NA', 'NA', 'Oct', 'Jan', 'Jul', 'Dec', 'Dec', 'Dec', 'Feb', 'Sep', 'NA', 'Jun', 'Mar', 'Jul', 'Jan', 'Sep', 'Mar', 'Mar', 'Jan', 'Apr', 'May', 'Dec', 'Mar', 'May', 'Jan', 'Dec', 'Oct', 'Oct', 'Oct', 'NA', 'Feb', 'Oct', 'Sep', 'May', 'NA', 'Jun', 'Feb', 'Apr', 'Dec', 'Jun', 'May', 'NA', 'Oct', 'Jul', 'Dec', 'Feb', 'Sep', 'Oct', 'Dec', 'Apr', 'Mar', 'Dec', 'Jul', 'Sep', 'Jan', 'Jan', 'Nov', 'Oct', 'Aug', 'Jun', 'Nov', 'Mar', 'Aug', 'Jul', 'May', 'Mar', 'Jul', 'Jun', 'May', 'May', 'Oct', 'Nov', 'Oct', 'Nov', 'Sep', 'May', 'Jan', 'Oct', 'Feb', 'Mar', 'Nov', 'Sep', 'May', 'Dec', 'Jun', 'Jun', 'Mar', 'Mar', 'May', 'Jan', 'Oct', 'May', 'Jul', 'Apr', 'May', 'Apr', 'Apr', 'May', 'Mar', 'Jul', 'May', 'Jan', 'Feb', 'Jun', 'Jun', 'Aug', 'Nov', 'Aug', 'Sep', 'Jan', 'May', 'Jan', 'Nov', 'May', 'Feb', 'Sep', 'Nov', 'Oct', 'Nov', 'NA', 'Aug', 'NA', 'Dec', 'Sep', 'Dec', 'Sep', 'Dec', 'Dec', 'Jun', 'Nov', 'Sep', 'Jun', 'Apr', 'Sep', 'Apr', 'Dec', 'Nov', 'Oct', 'Jan', 'Oct', 'Sep', 'Sep', 'Apr', 'Nov', 'Oct', 'Oct', 'Mar', 'Mar', 'Sep', 'May', 'Feb', 'May', 'Dec', 'Aug', 'Jul', 'May', 'NA', 'May', 'Mar', 'Jun', 'Jan', 'Feb', 'Mar', 'Jun', 'Apr', 'Apr', 'Nov', 'Oct', 'Oct', 'Feb', 'Dec', 'Sep', 'Jul', 'May', 'May', 'Sep', 'Feb', 'Oct', 'Jun', 'Jan', 'Aug', 'Jan', 'Jun', 'Oct', 'Oct', 'Dec', 'NA', 'Feb', 'Feb', 'May', 'Nov', 'Sep', 'May', 'Apr', 'Jun', 'Feb', 'Aug', 'Nov', 'Jan', 'Sep', 'Aug', 'Feb', 'Sep', 'Sep', 'Mar', 'Dec', 'Nov', 'NA', 'Jan', 'Mar', 'Apr', 'Aug', 'Jul', 'Sep', 'Apr', 'Sep', 'Aug', 'Nov', 'Jun', 'Dec', 'May', 'Jul', 'Feb', 'Nov', 'Aug', 'Nov', 'Apr', 'Jan', 'Mar', 'Jun', 'Sep', 'Jan', 'Oct', 'Feb', 'Sep', 'Nov', 'Nov', 'Jun', 'Mar', 'May', 'Apr', 'Jan', 'NA', 'Jun', 'Oct', 'Sep', 'Apr', 'NA', 'Mar', 'Dec', 'Jun', 'Sep', 'Apr', 'Dec', 'Feb', 'Aug', 'Apr', 'Oct', 'Apr', 'Feb', 'Sep', 'Mar', 'May', 'NA', 'Jan', 'Feb', 'Mar', 'Oct', 'Mar', 'NA', 'Sep', 'Sep', 'NA', 'NA', 'Dec', 'Dec', 'Nov', 'Jul', 'NA', 'NA', 'Aug', 'Nov', 'Oct', 'Feb', 'Mar', 'Sep', 'Jul', 'Mar', 'Apr', 'Apr', 'Mar', 'Jun', 'Sep', 'Feb', 'Sep', 'Mar', 'Sep', 'Dec', 'NA', 'Dec', 'Jul', 'Jul', 'Dec', 'Jan', 'Mar', 'May', 'Aug', 'Mar', 'Aug', 'Apr', 'Apr', 'May', 'Jan', 'Jan', 'Feb', 'May', 'Jan', 'Mar', 'Mar', 'Jul', 'Nov', 'May', 'Sep', 'Feb', 'Jun', 'Aug', 'Jul', 'Feb', 'Aug', 'Sep', 'Aug', 'Dec', 'May', 'NA', 'May', 'Oct', 'Aug', 'Nov', 'Aug', 'Sep', 'Mar', 'Jul', 'Nov', 'Jan', 'Mar', 'Apr', 'Mar', 'Jan', 'Feb', 'Dec', 'Aug', 'Jun', 'Dec', 'Jul', 'Nov', 'Oct', 'Nov', 'Aug', 'Jan', 'Oct', 'Dec', 'Aug', 'Jun', 'Jan', 'Mar', 'Dec', 'Jan', 'Oct', 'Jun', 'Dec', 'Oct', 'Jan', 'Apr', 'Feb', 'Sep', 'Apr', 'Sep', 'Oct', 'Dec', 'Jun', 'Oct', 'Aug', 'Oct', 'Jul', 'NA', 'Oct', 'Mar', 'NA', 'Nov', 'Jan', 'Nov', 'Jan', 'NA', 'Jan', 'Sep', 'Apr', 'Feb', 'Oct', 'Oct', 'Jun', 'Aug', 'Dec', 'Sep', 'Apr', 'Jul', 'May', 'May', 'Apr', 'Nov', 'Oct', 'Oct', 'Apr', 'Mar', 'Dec', 'May', 'Apr', 'Mar', 'Apr', 'Feb', 'Sep', 'Jul', 'Jun', 'Aug', 'Apr', 'May', 'Sep', 'Mar', 'Feb', 'Jan', 'Aug', 'Jul', 'Apr', 'Nov', 'Aug', 'Apr', 'Nov', 'Aug', 'Dec', 'Apr', 'Dec', 'Feb', 'Oct', 'Jun', 'Oct', 'Sep', 'Apr', 'May', 'Dec', 'Nov', 'NA', 'Nov', 'Jan', 'Feb', 'Oct', 'Dec', 'Mar', 'Sep', 'Aug', 'Oct', 'Jul', 'Nov', 'Sep', 'Jul', 'Nov', 'Feb', 'Apr', 'Apr', 'Apr', 'Mar', 'Feb', 'Apr', 'Sep', 'Oct', 'Aug', 'NA', 'Feb', 'Jan', 'Jan', 'May', 'Aug', 'Sep', 'Sep', 'Mar', 'Dec', 'Jul', 'Apr', 'May', 'Mar', 'NA', 'Apr', 'Sep', 'Oct', 'Apr', 'Jul', 'Oct', 'Aug', 'Sep', 'Apr', 'Jun', 'Oct', 'Oct', 'Dec', 'Jan', 'Nov', 'Aug', 'Sep', 'Jan', 'Jul', 'Nov', 'Feb', 'Apr', 'Jul', 'Mar', 'NA', 'Jun', 'Nov', 'Aug', 'Apr', 'Mar', 'Nov', 'Jul', 'NA', 'Oct', 'Jul', 'Jun', 'Oct', 'Apr', 'Oct', 'Dec', 'Jan', 'Feb', 'Mar', 'Sep', 'May', 'Sep', 'May', 'May', 'Aug', 'Aug', 'Oct', 'May', 'Jan', 'Apr', 'Jul', 'Jan', 'Aug', 'Aug', 'Jan', 'Mar', 'NA', 'NA', 'Aug', 'Mar', 'Aug', 'Sep', 'Oct', 'Dec', 'Feb', 'Sep', 'Apr', 'NA', 'Mar', 'Apr', 'Jun', 'Feb', 'Apr', 'Jul', 'Dec', 'Aug', 'Dec', 'Oct', 'Mar', 'Dec', 'Mar', 'Aug', 'Nov', 'Dec', 'NA', 'Aug', 'Nov', 'Oct', 'Sep', 'Mar', 'Apr', 'Sep', 'Sep', 'Jul', 'May', 'Dec', 'Sep', 'May', 'Dec', 'Jun', 'Jun', 'Mar', 'May', 'NA', 'Sep', 'May', 'Feb', 'Dec', 'Jan', 'Dec', 'Oct', 'Mar', 'Aug', 'Dec', 'Oct', 'Jul', 'NA', 'Oct', 'May', 'Oct', 'Oct', 'Jan', 'NA', 'Apr', 'Nov', 'Jun', 'Nov', 'Apr', 'Mar', 'Aug', 'Oct', 'Jul', 'Mar', 'Jun', 'Jul', 'Sep', 'Jul', 'Jul', 'Nov', 'Aug', 'Apr', 'Sep', 'May', 'Oct', 'Dec', 'Jan', 'Mar', 'Jan', 'Nov', 'NA', 'Jun', 'Apr', 'Mar', 'Jul', 'Aug', 'Nov', 'Oct', 'Feb', 'Oct', 'May', 'May', 'Nov', 'Oct', 'Sep', 'Dec', 'Oct', 'Sep', 'Mar', 'Mar', 'Nov', 'May', 'May', 'Apr', 'Nov', 'Jun', 'NA', 'Jun', 'Mar', 'Jan', 'Jul', 'Aug', 'Nov', 'May', 'Apr', 'Mar', 'Mar', 'Sep', 'NA', 'Mar', 'Oct', 'NA', 'Jul', 'Oct', 'Dec', 'Jan', 'Nov', 'Nov', 'Dec', 'Jan', 'Nov', 'Mar', 'Dec', 'Jun', 'Oct', 'Dec', 'Nov', 'May', 'Oct', 'Jan', 'Jul', 'Jun', 'Jan', 'Apr', 'Jul', 'Mar', 'Sep', 'NA', 'Oct', 'Nov', 'Jan', 'NA', 'NA', 'Aug', 'Oct', 'Nov', 'May', 'May', 'Jul', 'Jan', 'Sep', 'Nov', 'Aug', 'Mar', 'Apr', 'Apr', 'May', 'Sep', 'Mar', 'May', 'May', 'Jan', 'Jun', 'Apr', 'NA', 'Nov', 'Sep', 'Jun', 'Jan', 'Jul', 'Jun', 'Jun', 'Jan', 'Mar', 'Oct', 'Jun', 'NA', 'Nov', 'Jan', 'Aug', 'Sep', 'Dec', 'Dec', 'Oct', 'Nov', 'Feb', 'NA', 'Sep', 'Feb', 'May', 'Aug', 'Jul', 'Feb', 'Apr', 'May', 'Jul', 'Jan', 'Sep', 'Nov', 'Sep', 'Apr', 'Nov', 'Feb', 'May', 'Aug', 'Oct', 'Jul', 'Mar', 'May', 'Jan', 'Oct', 'Oct', 'Nov', 'Jun', 'Apr', 'Dec', 'May', 'Nov', 'Nov', 'Apr', 'Jul', 'Feb', 'Jul', 'Dec', 'Jun', 'May', 'May', 'Mar', 'NA', 'Dec', 'Mar', 'Feb', 'May', 'Jun', 'Jan', 'May', 'Oct', 'Aug', 'Aug', 'Jan', 'Apr', 'Jun', 'Apr', 'Oct', 'Sep', 'Aug', 'Jan', 'May', 'Oct', 'Jun', 'Feb', 'Feb', 'Dec', 'Sep', 'Mar', 'Sep', 'Jun', 'Aug', 'Jun', 'Jan', 'Jun', 'Dec', 'Nov', 'Oct', 'Sep', 'Nov', 'Apr', 'Jun', 'Mar', 'Dec', 'Oct', 'Oct', 'Aug', 'Jul', 'May', 'Nov', 'May', 'Apr', 'Jun', 'NA', 'Feb', 'Mar', 'Jun', 'Jun', 'Oct', 'Jul', 'NA', 'Oct', 'Jun', 'May', 'Oct', 'Aug', 'Aug', 'Oct', 'Feb', 'Jan', 'Jul', 'Oct', 'Sep', 'Nov', 'Mar', 'Sep', 'Jan', 'May', 'Jun', 'Jan', 'Mar', 'Jul', 'Apr', 'Jul', 'Jun', 'Apr', 'NA', 'Feb', 'Nov', 'Apr', 'Mar', 'Apr', 'Oct', 'Oct', 'Aug', 'May', 'Jun', 'May', 'Apr', 'May', 'Jan', 'Nov', 'Dec', 'Sep', 'Dec', 'Oct', 'May', 'Dec', 'Aug', 'May', 'NA', 'Feb', 'Jul', 'Dec', 'Feb', 'Jan', 'Oct', 'Mar', 'Dec', 'Jun', 'Apr', 'Nov', 'Aug', 'Nov', 'Jan', 'Jan', 'Feb', 'Sep', 'Aug', 'May', 'Aug', 'Sep', 'Feb', 'Sep', 'Aug', 'Oct', 'Dec', 'May', 'Oct', 'Oct', 'Oct', 'NA', 'Sep', 'Apr', 'Nov', 'Apr', 'NA', 'Jun', 'Jul', 'Jun', 'NA', 'Jun', 'Sep', 'Nov', 'Jul', 'Mar', 'Feb', 'Feb', 'May', 'Dec', 'Sep', 'Oct', 'Jan', 'Sep', 'Aug', 'NA', 'Mar', 'Jun', 'May', 'Jan', 'Jun', 'Jan', 'Sep', 'May', 'Oct', 'May', 'Jun', 'Aug', 'Oct', 'Jul', 'Sep', 'Mar', 'Jan', 'Jun', 'May', 'Feb', 'Dec', 'Dec', 'Oct', 'Jan', 'May', 'Sep', 'Jan', 'Jan', 'May', 'Sep', 'Oct', 'Aug', 'Sep', 'Sep', 'Feb', 'Jan', 'Jul', 'Jul', 'Jan', 'Feb', 'Jul', 'Jan', 'Oct', 'Apr', 'May', 'Jul', 'May', 'Nov', 'Feb', 'Apr', 'Dec', 'Nov', 'NA', 'Apr', 'Oct', 'Jun', 'Jul', 'Sep', 'Jan', 'Jan', 'Apr', 'Nov', 'Sep', 'Oct', 'Mar', 'May', 'Oct', 'Dec', 'Jan', 'Oct', 'Nov', 'Sep', 'May', 'Mar', 'Mar', 'Jan', 'Sep', 'Jan', 'Jun', 'Sep', 'Feb', 'Oct', 'Mar', 'Jul', 'Nov', 'Dec', 'Oct', 'Feb', 'Jun', 'Sep', 'Feb', 'May', 'Jun', 'May', 'Sep', 'Dec', 'NA', 'Dec', 'Jul', 'Jan', 'May', 'Mar', 'NA', 'Oct', 'Dec', 'Nov', 'Feb', 'Dec', 'Jan', 'Aug', 'Jan', 'Jun', 'Oct', 'Jul', 'Aug', 'Oct', 'Oct', 'Jan', 'NA', 'Jun', 'Jul', 'Jan', 'Apr', 'Sep', 'Oct', 'Sep', 'Dec', 'Mar', 'Dec', 'Aug', 'Jul', 'Oct', 'Dec', 'Jul', 'Jan', 'Nov', 'Jul', 'May', 'Feb', 'Oct', 'Mar', 'Feb', 'Dec', 'Feb', 'Aug', 'Jul', 'Apr', 'Aug', 'Jun', 'Sep', 'May', 'Jun', 'NA', 'Jan', 'May', 'NA', 'Dec', 'Sep', 'Feb', 'Jun', 'Jul', 'May', 'Jan', 'Feb', 'Dec', 'Apr', 'Jul', 'Nov', 'Aug', 'Mar', 'Dec', 'Jun', 'Dec', 'Oct', 'Jan', 'Aug', 'NA', 'Feb', 'Nov', 'Jun', 'Sep', 'Sep', 'May', 'Jan', 'Feb', 'Oct', 'Jul', 'Jun', 'Oct', 'Jul', 'Feb', 'Oct', 'Aug', 'May', 'Nov', 'Dec', 'Jan', 'Aug', 'Apr', 'Jun', 'Oct', 'May', 'Mar', 'Jul', 'Jun', 'Jun', 'Apr', 'Apr', 'Mar', 'Nov', 'Jun', 'Feb', 'Dec', 'Jan', 'Feb', 'Jan', 'Jun', 'Apr', 'NA', 'Jul', 'May', 'Mar', 'Oct', 'Oct', 'May', 'Aug', 'May', 'Nov', 'Nov', 'May', 'NA', 'Jul', 'Jun', 'Nov', 'Jul', 'Aug', 'Nov', 'Jan', 'Jan', 'Nov', 'May', 'Sep', 'Jan', 'Jan', 'Mar', 'Jan', 'Apr', 'Aug', 'Oct', 'Dec', 'May', 'NA', 'Apr', 'Dec', 'Aug', 'Jun', 'Mar', 'Dec', 'Oct', 'Oct', 'Jan', 'Oct', 'Feb', 'Sep', 'Sep', 'Oct', 'May', 'Jul', 'Sep', 'Sep', 'Dec', 'Jan', 'Apr', 'Jun', 'Nov', 'Mar', 'Dec', 'Jan', 'Jun', 'Oct', 'Feb', 'Apr', 'Oct', 'Sep', 'Jul', 'May', 'Dec', 'Jun', 'Jun', 'Sep', 'Mar', 'Aug', 'Jun', 'Sep', 'Mar', 'Oct', 'Mar', 'Mar', 'Oct', 'Dec', 'Feb', 'Aug', 'Jul', 'May', 'Jun', 'Jan', 'May', 'Nov', 'Dec', 'Oct', 'Sep', 'Sep', 'Aug', 'Apr', 'May', 'Mar', 'Dec', 'Aug', 'Oct', 'Jul', 'Dec', 'Jul', 'May', 'Oct', 'Dec', 'Jun', 'Feb', 'Apr', 'Jan', 'Apr', 'May', 'Apr', 'Mar', 'Jan', 'Aug', 'Aug', 'NA', 'Mar', 'NA', 'Mar', 'NA', 'Oct', 'Oct', 'Oct', 'Oct', 'Apr', 'Mar', 'May', 'Oct', 'Dec', 'Dec', 'Mar', 'Jul', 'Jul', 'Oct', 'Jan', 'Aug', 'Mar', 'Nov', 'Dec', 'Jun', 'Jan', 'Mar', 'Nov', 'Oct', 'Sep', 'Aug', 'Oct', 'NA', 'Feb', 'Aug', 'Mar', 'Mar', 'May', 'Apr', 'NA', 'Sep', 'Jul', 'May', 'Oct', 'Oct', 'Sep', 'Jun', 'Aug', 'Aug', 'Jul', 'Jul', 'Jun', 'Apr', 'Feb', 'Apr', 'Nov', 'Feb', 'Feb', 'May', 'May', 'Nov', 'Aug', 'Oct', 'Jun', 'NA', 'Mar', 'Jul', 'Nov', 'Jan', 'May', 'Oct', 'Jun', 'Sep', 'Sep', 'Aug', 'Jan', 'NA', 'Sep', 'NA', 'Nov', 'Jul', 'Jul', 'Jun', 'Feb', 'May', 'Aug', 'Jun', 'Aug', 'Aug', 'May', 'May', 'May', 'Jul', 'Sep', 'Oct', 'Feb', 'NA', 'Apr', 'Oct', 'Apr', 'Jul', 'Dec', 'Jul', 'Oct', 'Aug', 'Oct', 'Aug', 'Oct', 'Aug', 'Feb', 'Feb', 'May', 'Oct', 'Jun', 'Jun', 'NA', 'Apr', 'Aug', 'Mar', 'NA', 'Sep', 'Mar', 'Apr', 'Jul', 'May', 'Jun', 'Apr', 'Apr', 'Jan', 'Apr', 'Jan', 'Mar', 'Mar', 'Oct', 'Jan', 'Oct', 'Dec', 'Aug', 'Jan', 'Aug', 'Oct', 'Aug', 'Sep', 'Aug', 'Nov', 'Apr', 'Sep', 'Jan', 'Nov', 'Jul', 'May', 'Sep', 'Dec', 'Jan', 'May', 'Dec', 'Sep', 'Apr', 'Jan', 'May', 'Apr', 'Sep', 'Apr', 'Aug', 'Mar', 'Jun', 'Nov', 'May', 'Jan', 'Dec', 'NA', 'Dec', 'May', 'Feb', 'Mar', 'Jan', 'NA', 'Oct', 'Feb', 'Jan', 'Jul', 'Nov', 'Mar', 'NA', 'Dec', 'Feb', 'Mar', 'Mar', 'Aug', 'Mar', 'Jan', 'Jun', 'Apr', 'Sep', 'Jun', 'Jan', 'May', 'Oct', 'Aug', 'Jul', 'May', 'Aug', 'Oct', 'Jun', 'Jun', 'Oct', 'May', 'Jun', 'Aug', 'Dec', 'Jun', 'Sep', 'Aug', 'Aug', 'Mar', 'Feb', 'Nov', 'Nov', 'NA', 'Oct', 'May', 'Nov', 'Nov', 'Jun', 'Sep', 'Mar', 'May', 'Oct', 'Aug', 'Jun', 'Apr', 'Jan', 'May', 'Jun', 'Oct', 'Sep', 'NA', 'Dec', 'Jun', 'Jan', 'Feb', 'Apr', 'Aug', 'Apr', 'Jan', 'NA', 'NA', 'Nov', 'Oct', 'May', 'Apr', 'Jul', 'Mar', 'Jan', 'Jan', 'Jan', 'Jan', 'May', 'NA', 'May', 'Nov', 'Mar', 'Dec', 'Oct', 'Nov', 'May', 'NA', 'Dec', 'Oct', 'Jul', 'Nov', 'Jan', 'Jun', 'Sep', 'Jul', 'Apr', 'Feb', 'Mar', 'May', 'May', 'Aug', 'Aug', 'Feb', 'May', 'Sep', 'May', 'Sep', 'May', 'Jun', 'Oct', 'Dec', 'Sep', 'Feb', 'Dec', 'Jan', 'Jul', 'Aug', 'Mar', 'Apr', 'Mar', 'Nov', 'Jul', 'May', 'Jun', 'May', 'Sep', 'Jun', 'Apr', 'Mar', 'Sep', 'Jun', 'Nov', 'Sep', 'Jan', 'Sep', 'Nov', 'NA', 'Oct', 'May', 'NA', 'Apr', 'Mar', 'Nov', 'NA', 'Aug', 'Jul', 'NA', 'Feb', 'Oct', 'NA', 'Jan', 'Mar', 'Dec', 'Mar', 'Mar', 'Oct', 'Jun', 'Sep', 'Sep', 'NA', 'Mar', 'Nov', 'May', 'Feb', 'Feb', 'Aug', 'Oct', 'Mar', 'Jun', 'Nov', 'Apr', 'Oct', 'Feb', 'Feb', 'Mar', 'Sep', 'Apr', 'Jan', 'Feb', 'Apr', 'Mar', 'May', 'Aug', 'Dec', 'Sep', 'Oct', 'Mar', 'Feb', 'Nov', 'Jun', 'Feb', 'Jan', 'Apr', 'Sep', 'Apr', 'May', 'NA', 'Jan', 'Apr', 'Jan', 'Mar', 'Nov', 'May', 'Dec', 'Dec', 'Mar', 'May', 'Oct', 'Mar', 'Oct', 'Dec', 'Sep', 'May', 'Sep', 'Mar', 'May', 'Aug', 'Aug', 'Mar', 'Jan', 'Apr', 'Feb', 'Mar', 'NA', 'NA', 'Nov', 'Apr', 'Jun', 'May', 'Dec', 'Sep', 'Apr', 'Feb', 'Jul', 'Aug', 'Aug', 'May', 'Sep', 'Jul', 'Dec', 'Oct', 'Nov', 'Feb', 'Nov', 'Jul', 'Jun', 'Aug', 'Jan', 'May', 'Oct', 'Dec', 'Aug', 'Jan', 'Jan', 'Jul', 'May', 'Sep', 'Mar', 'Jul', 'Jun', 'Aug', 'Aug', 'Sep', 'NA', 'Sep', 'Sep', 'Apr', 'Jul', 'Oct', 'Feb', 'Aug', 'Jun', 'Sep', 'Jul', 'Jan', 'Jan', 'Mar', 'Apr', 'Dec', 'Jan', 'May', 'Apr', 'Aug', 'Aug', 'Apr', 'Jan', 'Jun', 'Mar', 'Dec', 'Aug', 'Aug', 'Dec', 'Nov', 'Jul', 'Jul', 'Oct', 'Oct', 'Nov', 'Feb', 'Jan', 'Nov', 'May', 'Dec', 'Dec', 'May', 'Dec', 'Nov', 'May', 'Sep', 'Sep', 'Apr', 'Apr', 'NA', 'Jun', 'Sep', 'Oct', 'Nov', 'Dec', 'Sep', 'Jul', 'Apr', 'Jan', 'Nov', 'Nov', 'Oct', 'Jul', 'Jan', 'Feb', 'Nov', 'Feb', 'Jul', 'Jun', 'Apr', 'Nov', 'Apr', 'Sep', 'May', 'Aug', 'Sep', 'Feb', 'NA', 'Aug', 'Jul', 'Jun', 'Jun', 'Oct', 'Nov', 'Jul', 'May', 'Mar', 'Mar', 'Jun', 'Apr', 'Dec', 'Jan', 'Aug', 'Jun', 'Oct', 'Jan', 'Jan', 'Aug', 'Sep', 'Nov', 'Aug', 'Apr', 'Feb', 'Oct', 'Jul', 'Mar', 'Oct', 'Jul', 'Sep', 'NA', 'Jul', 'Jul', 'May', 'Sep', 'Mar', 'Jun', 'Jun', 'Jul', 'Oct', 'Jan', 'May', 'Sep', 'May', 'Aug', 'Mar', 'Aug', 'Sep', 'Feb', 'Jun', 'Nov', 'Sep', 'Feb', 'Feb', 'Aug', 'Dec', 'Oct', 'Nov', 'May', 'Mar', 'May', 'Jun', 'Apr', 'Oct', 'Aug', 'Sep', 'Aug', 'Jan', 'Sep', 'Jul', 'NA', 'Mar', 'May', 'Jan', 'Jun', 'Oct', 'Jun', 'Feb', 'Sep', 'May', 'Nov', 'Nov', 'Nov', 'Aug', 'Sep', 'Jun', 'May', 'Oct', 'Mar', 'NA', 'May', 'Aug', 'Mar', 'Jun', 'Jul', 'Aug', 'Apr', 'Oct', 'Mar', 'Aug', 'NA', 'Dec', 'Nov', 'Feb', 'Oct', 'Mar', 'Oct', 'NA', 'Jun', 'Oct', 'Sep', 'Aug', 'NA', 'NA', 'May', 'Jan', 'Feb', 'Jun', 'Jun', 'Sep', 'May', 'May', 'Jul', 'Jan', 'Jul', 'Apr', 'Mar', 'Jul', 'Feb', 'Aug', 'Dec', 'Jul', 'Jun', 'Jan', 'Apr', 'Sep', 'Nov', 'Jun', 'Apr', 'Nov', 'Feb', 'Dec', 'Nov', 'Jul', 'Nov', 'May', 'Jun', 'Mar', 'May', 'Aug', 'Jan', 'May', 'NA', 'Jan', 'Sep', 'Jun', 'Mar', 'Nov', 'Nov', 'May', 'Feb', 'Sep', 'Feb', 'Mar', 'Jan', 'Jan', 'Aug', 'Jan', 'Jun', 'Jan', 'Nov', 'Jan', 'Apr', 'Mar', 'Apr', 'Jan', 'Jan', 'Jun', 'Sep', 'Jan', 'Oct', 'Jun', 'May', 'Sep', 'Sep', 'Nov', 'Jul', 'Feb', 'May', 'Sep', 'Mar', 'Nov', 'May', 'Apr', 'Aug', 'May', 'Oct', 'Dec', 'Jan', 'Aug', 'May', 'Oct', 'Dec', 'Dec', 'Jul', 'Nov', 'Jun', 'Jun', 'Oct', 'Aug', 'Jun', 'Mar', 'May', 'Aug', 'Nov', 'Mar', 'Oct', 'NA', 'NA', 'Oct', 'Dec', 'Feb', 'Oct', 'Sep', 'Nov', 'May', 'Jul', 'Jul', 'Apr', 'Jun', 'Oct', 'Jul', 'Mar', 'Oct', 'Jun', 'Nov', 'Oct', 'Sep', 'Mar', 'Feb', 'Jul', 'May', 'Sep', 'Nov', 'Jun', 'Jun', 'May', 'Mar', 'Oct', 'Jun', 'May', 'Jun', 'Apr', 'Oct', 'Jul', 'Feb', 'Oct', 'Feb', 'Jan', 'May', 'Jan', 'May', 'Apr', 'Jan', 'NA', 'Dec', 'NA', 'Nov', 'Jan', 'Oct', 'Mar', 'Jan', 'May', 'Jun', 'Jan', 'Jul', 'Jul', 'May', 'Feb', 'Dec', 'NA', 'Nov', 'Aug', 'Aug', 'Sep', 'Dec', 'Feb', 'Jul', 'Jan', 'Nov', 'Aug', 'Jan', 'Jan', 'Oct', 'May', 'Jul', 'Aug', 'Sep', 'Jun', 'Nov', 'Jun', 'Jan', 'Jul', 'Sep', 'Dec', 'Jun', 'Nov', 'May', 'Oct', 'Aug', 'Sep', 'NA', 'Jun', 'Aug', 'Oct', 'Oct', 'Dec', 'Mar', 'Sep', 'Apr', 'Oct', 'Jan', 'Oct', 'Jan', 'Mar', 'May', 'Nov', 'Mar', 'Aug', 'Oct', 'Jul', 'Oct', 'NA', 'Jul', 'Nov', 'Nov', 'Feb', 'Feb', 'Aug', 'NA', 'Aug', 'Mar', 'Nov', 'Aug', 'Jun', 'Jul', 'Apr', 'Feb', 'Mar', 'Jul', 'Mar', 'Mar', 'Jun', 'Sep', 'Mar', 'NA', 'Mar', 'Jul', 'NA', 'Mar', 'Sep', 'Mar', 'Oct', 'May', 'Dec', 'Jan', 'Jun', 'Nov', 'Dec', 'Jul', 'May', 'Mar', 'Dec', 'Nov', 'Jan', 'Aug', 'Mar', 'Apr', 'Feb', 'Nov', 'Jul', 'Oct', 'Jun', 'Aug', 'Oct', 'Jan', 'Mar', 'Oct', 'Dec', 'NA', 'Apr', 'Jul', 'Sep', 'Mar', 'Jan', 'Nov', 'Jul', 'Mar', 'Feb', 'Jun', 'Aug', 'Jan', 'Oct', 'Mar', 'Apr', 'Apr', 'Dec', 'Dec', 'Oct', 'May', 'Dec', 'Jun', 'May', 'Aug', 'Feb', 'NA', 'May', 'Oct', 'Nov', 'May', 'Jan', 'Feb', 'Nov', 'Mar', 'Mar', 'Nov', 'Oct', 'Nov', 'May', 'May', 'Jan', 'Feb', 'Sep', 'Feb', 'Aug', 'Aug', 'Feb', 'May', 'Jul', 'Oct', 'Nov', 'Jan', 'Sep', 'Sep', 'May', 'Jul', 'Sep', 'May', 'Aug', 'Jan', 'Jun', 'Sep', 'May', 'Nov', 'Oct', 'Apr', 'Feb', 'NA', 'Oct', 'Sep', 'Oct', 'Nov', 'Nov', 'Mar', 'Oct', 'May', 'May', 'Aug', 'Sep', 'Sep', 'May', 'May', 'Aug', 'Oct', 'Jan', 'Jun', 'Nov', 'Mar', 'Oct', 'Mar', 'Apr', 'Feb', 'Jul', 'Jul', 'Oct', 'Oct', 'Oct', 'Feb', 'Apr', 'Aug', 'May', 'Feb', 'May', 'Mar', 'NA', 'Feb', 'Sep', 'Dec', 'Apr', 'Feb', 'Jul', 'Apr', 'Jun', 'Nov', 'Sep', 'Oct', 'Feb', 'Dec', 'NA', 'Oct', 'Nov', 'Sep', 'Sep', 'Jun', 'Nov', 'Aug', 'Sep', 'Jun', 'Jan', 'Sep', 'Jul', 'Dec', 'Jul', 'Jan', 'Sep', 'Oct', 'Feb', 'Jan', 'NA', 'Jun', 'May', 'Nov', 'Oct', 'Jun', 'Feb', 'Aug', 'Jul', 'Oct', 'Apr', 'May', 'Nov', 'May', 'Oct', 'Feb', 'Oct', 'Oct', 'Oct', 'Feb', 'Jan', 'Sep', 'Apr', 'Nov', 'Apr', 'Oct', 'Nov', 'Sep', 'Oct', 'May', 'NA', 'Apr', 'Aug', 'Nov', 'May', 'Apr', 'Jul', 'Jun', 'May', 'Jun', 'Sep', 'NA', 'Sep', 'Jun', 'Nov', 'NA', 'Jun', 'Mar', 'NA', 'Mar', 'Oct', 'Apr', 'Sep', 'Nov', 'Oct', 'Sep', 'Mar', 'Nov', 'NA', 'Jul', 'Jan', 'Dec', 'Nov', 'Feb', 'Nov', 'Jan', 'Aug', 'NA', 'Jan', 'Jan', 'Jun', 'Oct', 'Dec', 'NA', 'Apr', 'NA', 'May', 'Jan', 'NA', 'May', 'Feb', 'Feb', 'Jun', 'Jan', 'Oct', 'Oct', 'NA', 'Dec', 'Jun', 'Jun', 'Oct', 'Dec', 'Oct', 'Jan', 'Nov', 'Mar', 'May', 'Jan', 'Jan', 'Nov', 'Aug', 'Jul', 'Apr', 'Jun', 'Jun', 'Sep', 'Dec', 'NA', 'Jun', 'Jun', 'Oct', 'May', 'Sep', 'Jun', 'Sep', 'Oct', 'Oct', 'May', 'Sep', 'Sep', 'Jul', 'Feb', 'Jan', 'Sep', 'Jul', 'May', 'Oct', 'May', 'Jun', 'Apr', 'Oct', 'Apr', 'May', 'Jun', 'Jul', 'Jul', 'Mar', 'Jul', 'Oct', 'Sep', 'NA', 'Jan', 'Apr', 'Dec', 'Feb', 'NA', 'Jul', 'Apr', 'Nov', 'May', 'Dec', 'Jan', 'Aug', 'Apr', 'Feb', 'NA', 'Feb', 'May', 'Feb', 'Jan', 'Dec', 'Dec', 'Dec', 'Sep', 'Apr', 'Dec', 'Sep', 'Jul', 'Feb', 'NA', 'Oct', 'Dec', 'Apr', 'NA', 'Mar', 'Jun', 'Jan', 'Apr', 'Nov', 'Aug', 'Jan', 'Oct', 'NA', 'May', 'Feb', 'May', 'Apr', 'Mar', 'NA', 'May', 'Jul', 'May', 'Jan', 'Nov', 'Aug', 'Sep', 'Apr', 'Oct', 'Nov', 'Mar', 'Feb', 'Sep', 'Sep', 'Jun', 'Nov', 'May', 'May', 'Feb', 'Jun', 'Jan', 'Jun', 'Aug', 'Jun', 'Oct', 'May', 'Apr', 'Jun', 'Aug', 'Dec', 'Dec', 'Jan', 'Oct', 'Jul', 'Nov', 'Nov', 'Jun', 'Jan', 'Mar', 'Nov', 'Sep', 'Jul', 'Sep', 'Mar', 'Aug', 'May', 'Nov', 'Dec', 'Jul', 'May', 'Nov', 'Jul', 'Mar', 'Nov', 'Sep', 'Mar', 'Nov', 'Jun', 'Oct', 'Sep', 'NA', 'Oct', 'Jul', 'Jan', 'Dec', 'Aug', 'NA', 'Sep', 'Dec', 'Apr', 'Sep', 'Nov', 'Mar', 'Nov', 'Feb', 'Oct', 'Mar', 'Jun', 'Dec', 'Mar', 'Jul', 'May', 'Aug', 'May', 'Feb', 'Jan', 'Dec', 'NA', 'Jun', 'Mar', 'Apr', 'Oct', 'Jan', 'Feb', 'Apr', 'NA', 'Nov', 'Jun', 'May', 'Apr', 'Jan', 'Jun', 'Jun', 'Oct', 'Apr', 'Sep', 'Sep', 'Jan', 'Nov', 'Dec', 'Mar', 'Jul', 'Jul', 'Nov', 'Jul', 'Mar', 'Feb', 'Nov', 'Dec', 'Oct', 'Feb', 'Apr', 'NA', 'Oct', 'Apr', 'Dec', 'NA', 'Nov', 'Mar', 'Dec', 'Oct', 'Apr', 'Apr', 'Sep', 'Mar', 'Mar', 'Jun', 'Sep', 'Oct', 'NA', 'Jun', 'Dec', 'Jan', 'Feb', 'Aug', 'May', 'Apr', 'Jul', 'Oct', 'Jun', 'Nov', 'Feb', 'Oct', 'Mar', 'Nov', 'Jan', 'NA', 'NA', 'May', 'Mar', 'Oct', 'Jul', 'Jun', 'May', 'May', 'Sep', 'Jun', 'Dec', 'Nov', 'Nov', 'Jan', 'Sep', 'Nov', 'May', 'Sep', 'Jan', 'Mar', 'Mar', 'Oct', 'Dec', 'Mar', 'NA', 'Jun', 'NA', 'May', 'Jul', 'Oct', 'NA', 'Jun', 'Jul', 'Jun', 'Oct', 'Jun', 'Sep', 'Aug', 'Jul', 'NA', 'May', 'Nov', 'Jun', 'Jul', 'Mar', 'May', 'Nov', 'Dec', 'Jan', 'Mar', 'Jun', 'Dec', 'Jan', 'Feb', 'Sep', 'Sep', 'Dec', 'Nov', 'Aug', 'Jan', 'May', 'Jan', 'Apr', 'Jul', 'Feb', 'Oct', 'Aug', 'Oct', 'Apr', 'Jun', 'NA', 'Dec', 'Sep', 'Apr', 'Jan', 'Jul', 'Sep', 'Sep', 'Mar', 'Sep', 'Nov', 'Jun', 'NA', 'Jun', 'Aug', 'Dec', 'Oct', 'Nov', 'Nov', 'Dec', 'Jan', 'Oct', 'May', 'Mar', 'Jan', 'Jan', 'Oct', 'May', 'Mar', 'Feb', 'Jan', 'Nov', 'Aug', 'Mar', 'NA', 'Sep', 'Nov', 'Oct', 'Apr', 'Nov', 'Apr', 'Nov', 'Sep', 'Oct', 'May', 'Sep', 'NA', 'Oct', 'Jan', 'Oct', 'Jan', 'Mar', 'Nov', 'May', 'Sep', 'Jun', 'NA', 'Mar', 'Oct', 'Feb', 'Oct', 'Sep', 'Jan', 'Dec', 'Mar', 'Jan', 'Oct', 'Jul', 'Apr', 'Nov', 'Sep', 'Oct', 'Sep', 'Apr', 'Jun', 'May', 'May', 'Mar', 'Nov', 'Nov', 'Nov', 'Aug', 'May', 'Jun', 'Jan', 'Jul', 'May', 'Aug', 'Nov', 'Jul', 'Nov', 'Apr', 'Feb', 'NA', 'Oct', 'Nov', 'Sep', 'Jun', 'Apr', 'Jun', 'Oct', 'Jan', 'Aug', 'May', 'Aug', 'Feb', 'Jul', 'Sep', 'Jun', 'May', 'Aug', 'Feb', 'Sep', 'Jun', 'Mar', 'Oct', 'May', 'Sep', 'Jan', 'Jan', 'Jun', 'Dec', 'Oct', 'Mar', 'Jun', 'Apr', 'May', 'Jan', 'May', 'Oct', 'Sep', 'Mar', 'Jul', 'NA', 'Jan', 'Oct', 'Dec', 'Dec', 'May', 'Jan', 'May', 'Jun', 'Sep', 'Jun', 'Apr', 'Mar', 'Dec', 'Oct', 'Mar', 'Oct', 'Jun', 'Jan', 'Mar', 'Sep', 'Nov', 'Jun', 'Jun', 'Nov', 'Mar', 'Feb', 'Mar', 'Apr', 'Sep', 'Feb', 'Nov', 'Sep', 'Nov', 'Feb', 'Apr', 'Feb', 'Oct', 'Oct', 'Aug', 'Aug', 'Feb', 'Jul', 'Dec', 'May', 'Nov', 'Jul', 'Jun', 'May', 'Jul', 'Jan', 'Jun', 'Feb', 'Jan', 'Oct', 'Apr', 'May', 'Jul', 'Feb', 'Nov', 'Jun', 'May', 'Feb', 'Oct', 'Mar', 'Mar', 'Feb', 'Oct', 'Jan', 'Feb', 'Oct', 'Aug', 'Nov', 'Oct', 'Jul', 'Jul', 'Feb', 'Apr', 'Oct', 'Nov', 'Apr', 'Apr', 'Oct', 'Sep', 'NA', 'Sep', 'Feb', 'May', 'Mar', 'Mar', 'Jun', 'Dec', 'May', 'Jan', 'Mar', 'Nov', 'Feb', 'Mar', 'Nov', 'Oct', 'Jan', 'Nov', 'Oct', 'Jun', 'Feb', 'Jun', 'Feb', 'Sep', 'Dec', 'Jul', 'May', 'Oct', 'Nov', 'Aug', 'Jan', 'Apr', 'May', 'Mar', 'Apr', 'Feb', 'Apr', 'Sep', 'NA', 'Jun', 'Jun', 'Dec', 'Jun', 'Dec', 'Jan', 'Aug', 'NA', 'Nov', 'Mar', 'Mar', 'Aug', 'Aug', 'Jun', 'Jan', 'Mar', 'Mar', 'Apr', 'Jun', 'Sep', 'Apr', 'NA', 'May', 'Apr', 'Aug', 'Sep', 'Jan', 'Dec', 'Jan', 'Mar', 'Jul', 'Oct', 'Oct', 'Jul', 'Feb', 'Oct', 'Sep', 'Feb', 'Jan', 'Aug', 'May', 'Apr', 'Jul', 'Oct', 'Oct', 'Jul', 'Jun', 'Jun', 'Mar', 'Jun', 'Aug', 'Oct', 'Sep', 'Mar', 'Feb', 'NA', 'Jun', 'Oct', 'Oct', 'Jul', 'Nov', 'Aug', 'Feb', 'Sep', 'Jan', 'Apr', 'May', 'Sep', 'Jun', 'Dec', 'May', 'Jun', 'Jul', 'Feb', 'Feb', 'Jun', 'Nov', 'Nov', 'Oct', 'Sep', 'May', 'Feb', 'May', 'Nov', 'Sep', 'Nov', 'Jun', 'Mar', 'May', 'Jul', 'Apr', 'Feb', 'NA', 'Oct', 'Feb', 'NA', 'Apr', 'Sep', 'Jul', 'Oct', 'Nov', 'May', 'May', 'Jun', 'Dec', 'May', 'Sep', 'Apr', 'Dec', 'May', 'Aug', 'Dec', 'Sep', 'Jun', 'Oct', 'Oct', 'Jun', 'Sep', 'Mar', 'NA', 'Dec', 'NA', 'Aug', 'Apr', 'May', 'Feb', 'Jan', 'Dec', 'Nov', 'Jun', 'Sep', 'Oct', 'May', 'Aug', 'Nov', 'Apr', 'Oct', 'Sep', 'Apr', 'Sep', 'Oct', 'Oct', 'Nov', 'Dec', 'Jun', 'Jan', 'Nov', 'Apr', 'NA', 'Jul', 'May', 'Jun', 'Jun', 'Aug', 'Jul', 'Apr', 'Apr', 'NA', 'Jun', 'Oct', 'Oct', 'Jul', 'May', 'Jan', 'Jan', 'Mar', 'Oct', 'Apr', 'Sep', 'NA', 'Sep', 'May', 'Jan', 'Jun', 'Nov', 'Feb', 'Apr', 'May', 'NA', 'Nov', 'Dec', 'Mar', 'Aug', 'Apr', 'Jun', 'Mar', 'Nov', 'Sep', 'Aug', 'Oct', 'Sep', 'Sep', 'Oct', 'Jan', 'Apr', 'Aug', 'Jul', 'Aug', 'May', 'Apr', 'Aug', 'May', 'Dec', 'Jul', 'Oct', 'Oct', 'Dec', 'Dec', 'Aug', 'May', 'Apr', 'Jun', 'Oct', 'Mar', 'Mar', 'Sep', 'Jan', 'Mar', 'Aug', 'Jan', 'Feb', 'Apr', 'Apr', 'Apr', 'Mar', 'Jun', 'Mar', 'Dec', 'NA', 'NA', 'Sep', 'NA', 'Jun', 'Aug', 'Mar', 'Jun', 'Sep', 'Apr', 'Dec', 'Oct', 'Apr', 'Dec', 'Sep', 'Oct', 'May', 'Oct', 'May', 'Apr', 'Apr', 'Sep', 'Sep', 'Feb', 'Sep', 'Apr', 'Nov', 'May', 'Nov', 'Sep', 'Sep', 'NA', 'NA', 'Nov', 'Nov', 'Jan', 'Apr', 'Oct', 'Mar', 'Jul', 'May', 'Oct', 'Jan', 'Jan', 'Jul', 'Dec', 'Oct', 'Aug', 'Aug', 'NA', 'May', 'Nov', 'Feb', 'Jun', 'Feb', 'Apr', 'NA', 'Dec', 'Jul', 'Oct', 'May', 'Nov', 'Jan', 'Nov', 'Aug', 'Jan', 'Nov', 'May', 'Oct', 'Nov', 'Sep', 'May', 'Feb', 'Aug', 'Oct', 'Nov', 'Feb', 'NA', 'Mar', 'Mar', 'Jun', 'May', 'Jul', 'Oct', 'Jan', 'May', 'Mar', 'Dec', 'Aug', 'Jun', 'Jan', 'Jun', 'NA', 'Oct', 'NA', 'Dec', 'Aug', 'Jul', 'Dec', 'Nov', 'Oct', 'Jul', 'Aug', 'Feb', 'Dec', 'Nov', 'Feb', 'Jul', 'May', 'Nov', 'Nov', 'Jun', 'Jul', 'Mar', 'Nov', 'Oct', 'Dec', 'Mar', 'Feb', 'Nov', 'Jan', 'Feb', 'Sep', 'Mar', 'Mar', 'Dec', 'Jun', 'Jul', 'Dec', 'Feb', 'May', 'Apr', 'Dec', 'Feb', 'NA', 'NA', 'Sep', 'Aug', 'Apr', 'Apr', 'Apr', 'Feb', 'May', 'Apr', 'Jun', 'Jul', 'Aug', 'Jan', 'Oct', 'Sep', 'Sep', 'Apr', 'May', 'Aug', 'Aug', 'Feb', 'Jun', 'Mar', 'Aug', 'Apr', 'Dec', 'Dec', 'Dec', 'Aug', 'Jan', 'Jan', 'Jan', 'Jul', 'NA', 'May', 'Jan', 'Jun', 'Mar', 'Apr', 'Mar', 'Aug', 'Oct', 'Apr', 'Jan', 'Feb', 'Jul', 'Jun', 'NA', 'Apr', 'Jul', 'May', 'Aug', 'May', 'NA', 'Nov', 'Aug', 'Oct', 'Nov', 'Sep', 'Mar', 'Sep', 'Jul', 'Oct', 'Jul', 'May', 'Oct', 'NA', 'Nov', 'Oct', 'Aug', 'Sep', 'Aug', 'Sep', 'Sep', 'Jul', 'Dec', 'NA', 'Mar', 'Aug', 'May', 'Dec', 'Sep', 'Sep', 'Nov', 'Dec', 'Apr', 'Dec', 'Nov', 'Aug', 'Jun', 'Dec', 'Nov', 'Aug', 'Dec', 'Jul', 'Jun', 'Mar', 'Oct', 'Dec', 'Apr', 'Sep', 'May', 'Sep', 'NA', 'Oct', 'Feb', 'Oct', 'Jul', 'NA', 'Mar', 'Mar', 'Aug', 'May', 'Mar', 'Feb', 'Jan', 'NA', 'Oct', 'Jul', 'Oct', 'NA', 'Sep', 'Nov', 'Aug', 'Jan', 'Apr', 'Apr', 'Feb', 'Dec', 'Apr', 'Oct', 'NA', 'NA', 'Aug', 'Dec', 'Oct', 'Aug', 'Jul', 'Aug', 'Apr', 'Dec', 'Jan', 'Mar', 'Jul', 'Mar', 'Jun', 'Sep', 'Feb', 'Feb', 'Jun', 'Oct', 'Nov', 'Aug', 'Sep', 'Aug', 'Oct', 'Sep', 'Feb', 'Apr', 'Jun', 'May', 'Jan', 'Jul', 'Apr', 'Mar', 'Jul', 'Apr', 'Mar', 'Mar', 'Jan', 'Jan', 'Jun', 'NA', 'Jul', 'Jul', 'Jul', 'Oct', 'Aug', 'NA', 'Apr', 'May', 'Feb', 'Nov', 'Apr', 'Oct', 'Sep', 'Jan', 'Aug', 'Nov', 'Jun', 'Jan', 'Dec']\n",
            "year : ['2016', '2012', '1982', '2017', '2006', '2009', '2017', '2018', '2015', '2013', '2017', '2018', '1999', '2002', '2011', '2015', '2018', '2016', '1991', '2016', '2018', '2018', '2012', '2014', '2012', '2011', '2016', '2014', '2014', '1989', '2013', '2015', '2000', '2005', '2016', '2019', '2014', '2009', '2006', '2013', '2013', '2013', '2008', '2015', '2019', '2014', '2006', '2014', '2012', '2012', '2017', '2016', '2018', '2000', '2018', '2019', '2017', '2016', '2015', '2013', '2016', '2016', '2004', '2018', '2014', '1999', '2010', '2013', '2014', '2011', '2016', '2016', '2018', '2016', '2016', '2015', '2019', '2007', '2008', '2018', '2015', '2012', '2016', '2016', '2018', '2015', '2001', '2018', '2018', '2019', '2015', '2017', '2017', '2016', '2019', '1969', '2019', '2008', '2011', '2016', '2018', '2014', '2009', '2019', '2016', '2017', '2016', '2017', '2013', '2004', '2014', '2004', '2019', '2018', '2010', '2015', '2016', '2001', '1993', '2016', '2009', '2014', '2015', '2018', '2016', '2015', '2013', '2002', '2000', '2013', '2011', '2017', '2015', '2008', '2009', '2009', '1999', '2008', '2013', '2019', '2018', '2017', '2016', '2015', '1992', '2018', '2016', '2016', '2019', '2012', '2018', '2009', '2016', '2006', '2018', '2019', '2011', '2010', '2003', '2003', '2017', '1992', '2018', '2017', '2017', '1996', '2009', '2018', '2018', 'Import', '2018', '2011', '2009', '2000', '2012', '2012', '1982', '2014', '2019', '2017', '2019', '2018', '2009', '2013', '2014', '2015', '2018', '1997', '2011', '2015', '2016', '2015', '2010', '2008', '2016', '1989', '2014', '2015', '2019', '2015', '2017', '2015', '2018', '2017', '2015', '2015', '2017', '2018', '2018', '2010', '2018', '2016', '2018', '2011', '2017', '1982', '2010', '2011', '1995', '2018', '2007', '2004', '2013', '2014', '2011', '2011', '2012', '2017', '2009', '2017', '2014', '2019', '2016', '2016', '2017', 'NTSC', '2012', '2007', '2015', '2013', '1987', '1999', '2013', '2018', '2011', '2003', '2017', '2017', '2013', '2017', '2016', '2015', '2015', '2018', '2003', '2014', '2017', '2001', '2013', '2011', '2016', '2011', '2003', '2012', '2018', '2017', '2017', '2002', '2002', '2016', '2012', '2002', '2003', '2019', '2018', '2007', '2014', '2010', '2017', '2018', '2019', '2014', '2010', '2017', '2019', '2018', '2014', '2010', '1986', '2016', '2013', '2003', '2012', '2017', '2014', '2014', '2012', '1990', '2016', '1991', '2009', '2013', '2016', '2018', '2016', '2018', '2019', '2014', '2016', '2018', '2017', '2010', '2017', '2017', '2012', '2015', '2013', '2016', '2012', '2018', '2007', '2012', '2014', '2016', '2018', '2010', '2016', '2014', '2018', '2015', '2008', '2009', '2017', '2016', '2011', '2017', '2017', '2015', '2013', '2018', '2006', '2019', '2017', '2015', '1988', '2003', '2016', '2017', '2007', '2017', '2018', '2004', '2017', '2006', '2003', '2016', '2012', '2017', '2017', '2011', '2016', '1991', '2013', '2013', '2017', '2016', '2017', '2019', '2010', '2014', '2018', '2015', '2017', '1991', '1993', '1981', '2019', '2015', '2018', '2009', '2012', '2000', '1988', '1989', '2018', '1976', '2005', '2008', '2008', '2019', '2014', '2013', '1994', '2017', '2017', '2016', '2012', '2007', '2016', '2014', '2016', '2016', '2004', '2015', '2017', '2009', '2010', '2011', '2015', '2014', '2011', '2010', '2016', '2019', '2012', '2009', '2017', '2017', '2014', '1999', '2005', '2019', '2015', '1992', '1996', '2017', '2015', '2016', '2013', '2008', '2009', '2015', '2010', '2018', '2017', '2018', '2016', '2018', '2016', '2017', '2000', '2014', '2012', '2018', '1998', '2013', '1992', '2018', '1982', '2019', '2014', '1996', '2016', '2018', '2015', '2017', '2018', '1996', '2009', '2005', '2016', '2019', '2010', '2018', '2009', '2018', '2015', '2019', '2017', '2017', '2008', '2015', '2012', '2018', '2016', '2018', '2017', '2019', '2013', '2013', '2017', '2000', '2016', '2007', '2019', '2010', '2018', '2014', '2015', '2010', '1998', '2008', '2016', '2014', '2011', '2018', '2013', '2016', '2011', '2015', '2015', '2018', '2018', '2012', '2004', '2013', '2018', '2009', '2019', '2015', '2011', '2007', '1994', '2005', '2019', '1992', '2015', '2003', '2019', '2015', '2011', '2008', '2013', '2003', '2012', '2015', '2018', '2019', '2009', '2017', '2014', '2016', '2018', '2012', '2011', '2014', '2003', '2010', '2017', '1977', '2017', '2015', '1988', '2017', '2018', '2018', '2017', '2019', '2015', '2006', '2017', '2016', '2014', '2013', '2004', '2015', '2018', '2015', '2016', '2004', '2016', '2018', '2018', '1974', '2019', '2015', '2016', '2018', '2012', '2007', '1997', '2017', '2017', '2015', '1983', '2016', '2008', '2009', '2017', '2015', '2016', '2015', 'Import', '1988', '2005', '2015', '2010', '2018', '2007', '2016', '2010', '1996', '2010', '2015', '2010', '2013', '2016', '2013', '2015', '2014', '1976', '2018', '2012', '2017', '2016', '2013', '2015', '2008', '2018', '2013', '2016', '1995', '2018', '2017', '2018', '1982', '2003', '1994', '2011', '2006', '2010', '2017', '2014', '2018', '2000', '2010', '2015', '2015', '2006', '2014', '2018', '2008', '2005', '2018', '2008', '2013', '2014', '2011', '2013', '2016', '2017', '2016', '2017', '2005', '2018', '2015', '2010', '2016', '2016', '2016', '1995', '2014', '2014', '2018', '2014', '2017', '2015', '2013', '2015', '2014', '2017', '2019', '2015', '2018', '2002', '2008', '2016', '1998', '2016', '2017', '2015', '2016', '2017', '2014', '2016', '2010', '2019', '2018', '2016', '2003', '2016', '2016', '2019', '2018', '2011', '2010', '2008', '2015', '1997', '2018', '2019', '2018', '2017', '2019', '2000', '2018', '2017', '1988', '2008', '1982', '2016', '2015', '2017', '2018', '2016', '2010', '1998', '2012', '2008', '2016', '2019', '2011', '2012', '2017', '2017', '2015', '2019', '2016', '2015', '2017', '2008', '2016', '2019', '2006', '2017', '2013', '2016', '2007', '2019', '2011', '1997', '2017', '2016', '2015', '2016', '2015', '1990', '2014', '1998', '2011', '2011', '2016', '2015', '2013', '2016', '2018', '2019', '2017', '2015', '2017', '2019', '2017', '1971', '2017', '2018', '2018', '2018', '2006', '2003', '2006', '1992', '2017', '2015', '2018', '2008', '2013', '2008', '2018', '2015', '2015', '2018', '2017', '2014', '2012', '2013', '2010', '2018', '2004', '2000', '2017', '2018', '2017', '2016', '2017', '2004', '2018', '2011', '1997', '2011', '2015', '2016', '2016', '2012', '2018', '2014', '1996', '2008', '2011', '2010', '2018', '2009', '2018', '2016', '2016', '2018', '2014', '2015', '2004', '2012', '2010', '2016', '2018', '2017', '2008', '2003', '2016', '2013', '2015', '2008', '2005', '2018', '2018', '2003', '1983', '2014', '2012', '2017', '2016', '2016', '2019', '2009', '2013', '2015', '2016', '2016', '2017', '2016', '2015', '2012', '2002', '2006', '2019', '2017', '2018', '1993', '2016', '2005', '2013', '1998', '2007', '2014', '2016', '2014', '2010', '1994', '2013', '2014', '2014', '2018', '2016', '2004', '2013', '2008', '2012', '1998', '2017', '2002', '2012', '2015', '2009', '2019', '2014', '2014', '2004', '2016', '1997', '1987', '2010', '2019', '2018', '2017', '2017', '2006', '2019', '2016', '1994', '1999', '2005', '2010', '2006', '2016', '2018', '2012', '2007', '2012', '2017', '2012', '2016', '2018', '2006', '2017', '2001', '2017', '1993', '2017', '2017', '2010', '2018', '2015', '2003', '2015', '2003', '2011', '2015', '2017', '2017', '2018', '2015', '2002', '2005', '2013', '2018', '2016', '2014', '2018', '2012', '2011', '2006', '1985', '2016', '2008', '2007', '2016', '2019', '2015', '2016', '2014', '2018', '2015', '2003', '2014', '2015', '2018', '2013', '2014', '2013', '2014', '2019', '2019', '2019', '2019', '2011', '2016', '2019', '2012', '2015', '2012', '2018', '2012', '2017', '2003', '2019', '2019', '2019', '2015', '2011', '2005', '2017', '2018', '2006', '1998', '2006', 'Import', '2015', '2019', '2017', '2007', '2011', '2001', '2018', '2017', '2011', '2017', '2005', '2016', '2012', '2015', '2013', '2017', '2019', '2011', '2014', '2009', '2004', '2002', '2016', '2014', '2012', '2017', '2013', '2014', '2004', '2016', '2016', '2014', '2016', '2002', '2003', '1992', '2005', '1986', '1989', '2001', '2006', '2017', '2018', '1998', '2016', '2006', '2012', '2015', '2018', '2009', '2018', '2019', '2011', '2011', '2015', '2015', '2005', '2014', '2003', '2015', '2007', '2002', '2018', '2003', '2008', '1996', '2018', '2019', '2006', '1999', '2017', '2008', '2014', '2000', '2016', '2019', '2018', '2019', '2018', '2019', '2017', '2017', '2010', '2014', '2018', '2011', '2014', '2019', '2009', '2015', '2017', '1986', '2011', '2011', '2014', '1999', '2011', '2016', '2013', '2019', '2016', '2016', '2010', '2013', '1990', '1994', '1996', '2018', '2012', '2015', '1991', '2013', '1997', '2018', '1983', '2001', '2018', '1991', '2016', '2004', '2000', '2016', '2012', '2017', '2016', '2002', '2016', '2019', '2014', '2006', '2018', '2019', '2018', '2014', '2018', '2015', '2010', '2013', '2013', '2012', '2016', '2017', '2018', '2014', '2017', '2012', '2018', '2009', '2018', '2018', '2016', '2018', '2004', '2011', '2003', '2012', '1995', '2013', '2016', '2019', '2007', '2013', '2016', '2017', '1985', '2017', '2016', '2015', '2014', '2018', '2006', '2018', '2015', '2018', '2012', '2013', '2015', '2019', '2018', '2013', '2011', '2017', '2013', '2011', '2013', '2016', '2017', '2010', '2017', '2014', '2006', '2010', '2019', '2019', '2014', '2019', '2014', '2018', '1995', '2014', '2015', '2018', '2016', '1993', '2013', '2017', '2005', '2013', '2016', '2015', '2008', '2007', '1999', '2014', '2016', '2013', '2018', '2011', '2014', '2014', '2018', '2014', '2008', '2018', '2017', '2018', '2018', '2017', '2017', '2008', '2019', '2014', '2014', '2019', '2009', '2015', '2006', '2017', '2015', '1999', '2010', '2008', '2016', '2019', '2018', '1971', '2016', '2000', '2010', '2019', '2016', '2011', '2018', '1999', '2011', '2016', '2016', '2015', '2012', '2018', 'Import', '2016', '2005', '2007', '2018', '2017', '2012', '2018', '2014', '2008', '2005', '2016', '2017', '2019', '2017', '2017', '2009', '2014', '2014', '2016', '1988', '2018', '2010', '2015', '2010', '2013', '2016', '2003', '2016', '2019', '2018', '2018', '2012', '2005', '2014', '2010', '2016', '2013', '2014', '2001', '2018', '2003', '2019', '2016', '2001', '2018', '2018', '2016', '2017', '2016', '2015', '2016', '2010', '2013', '2018', '2006', '2017', '2013', '2001', '2002', '2012', '2019', '2016', '2017', '2005', '2018', '2018', '2017', '2017', '2018', '2000', '2017', '2015', '2018', '2014', '2018', '2017', '2018', '2011', '2015', '1986', '2015', '2018', '1996', '2017', '2002', '2001', '2014', '2015', '2019', '2010', '2017', '2000', '2014', '2009', '2019', '2013', '2010', '2017', '2018', '2015', '2013', '2016', '2018', '2017', '2017', '2019', '2003', '2018', '2009', '2017', '2019', '2006', '2015', '2011', '2016', '2005', '2013', '2017', '2017', '2017', '2003', '2018', '2017', '2010', '2019', '2018', '1989', '1995', '2013', '2006', '2014', '1997', '2009', '2018', '2014', '2009', '2007', '2016', '2010', '2017', '2009', '2004', '2012', '2016', '2010', '2011', '2015', '2014', '2019', '2010', '2008', '2009', '1995', '2018', '2016', '2008', '2004', '2017', '2018', '2017', '2017', '2017', '2018', '2007', '2012', '2013', '2017', '2016', '2017', '2016', '2014', '2011', '2018', '2010', '2018', '1994', '2016', '2007', '2013', '2016', '2015', '2008', '2017', '2014', '1989', '2013', '2019', '2011', '2010', '2007', '2018', '2014', '2016', '2007', '2010', '2003', '2013', '2016', '2009', '2013', '2019', '2017', '2016', '2014', '2009', '2010', '2013', '2014', '2015', '2018', '2015', '1998', '2004', '2014', '2015', '2005', '2013', '2013', '2017', '2013', '2017', '2016', '2015', '2017', '2014', '2017', '2009', '2018', '2013', '2018', '2011', '2018', '2015', '2018', '2016', '2014', '2004', '2014', '2015', '2017', '2001', '2018', '2016', '2017', '2014', '2001', '2014', '2013', '2012', '2015', '2016', '2018', '2006', '2013', '2008', '2018', '2015', '1997', '2015', '2005', '2012', '2017', '2012', '2015', '2013', '2018', '2016', '2014', '1989', '2012', '2012', '2018', '2014', '2013', '2017', '2009', '2015', '2018', '2005', '2016', '2009', '2018', '1982', '2015', '2018', '2005', '2014', '2017', '2000', '2005', '2018', '2017', '2010', '2013', '2019', '2009', '2016', '1978', '2016', '2017', '2018', '2017', '2016', '2016', '2014', '2019', '2018', '2016', '2013', '2018', '2008', '2018', '2018', '2016', '2018', '2016', '2000', '2015', '2017', '2018', '2006', '2018', '2017', '2016', 'Facsimile', '2017', '2008', '1997', '2018', '2019', '2018', '2017', '2018', '2015', '2016', '2017', '2016', '2001', '2001', '2010', '2017', '2015', '1992', '2015', '2017', '2009', '2006', '2019', '2012', '2018', '2010', '2000', '2009', '2019', '2018', '2012', '1985', '2014', '2015', '2013', '2015', '2011', '2018', '2013', '2004', '2008', '2006', '2012', '2003', '2013', '1995', 'set', '2016', '2009', '2015', '2018', '2005', '2015', '2017', '2019', '2015', '2017', '2014', '1997', '2002', '2019', '2017', '2019', '2013', '2014', '2018', '2011', '2012', '2009', '2005', '2019', '2012', 'Import', '2017', '2004', '2016', '2016', '2012', '2012', '2019', '2011', '2016', '2015', '2014', 'Edition', '2001', '2014', '2012', '2017', '2015', '1985', '1997', '2015', '2017', '2016', '2014', '2005', '2017', '2018', '1992', '2017', '2009', '2014', '2009', '2014', '2012', '2017', '2012', '2009', '2018', '2006', '2018', '2014', '2007', '2015', '1988', '2015', '2018', '2018', '2015', '2017', '2018', '2013', '2017', '1995', '2016', '2014', '2018', '2007', '2017', '2016', '2014', '2009', '2014', '2003', '2014', '2014', '2015', '2016', '2017', '1992', '2012', '2013', '2019', '2018', '2009', '2010', '2016', '2014', '2017', '2005', '2016', '2014', '2009', '1997', '2015', '2006', '2005', '2000', '2018', '2015', '2007', '2018', '2017', '2017', '2006', '2017', '2007', '2017', '2010', '2016', '2016', '2010', '2015', '2013', '2019', '2011', '2005', '2018', '2016', '2017', '2016', '2014', '2014', '2015', '2010', '2016', '2012', '1994', '1998', '2019', '1993', '1987', '2018', '2000', '2010', '2018', '2014', '2018', '2012', '2018', '2000', '2012', '2005', '2011', '2008', '2011', '2015', '2016', '2014', 'set', '2000', '2007', '2011', '2015', '2013', '2003', '2007', '2017', '2015', '2013', '1995', '2013', '2016', '2017', '2017', '2013', '1964', '2011', '2014', '2013', '2019', '2018', '2016', '2004', '2015', '2010', '2009', '2016', '2013', '2011', '2017', '1984', '2015', '2019', '2016', '2016', '2015', '2014', '2003', '2013', '2019', '2007', '2018', '2013', '2017', '2011', '2013', '2007', '2004', '2018', '2016', '2018', '2004', '2016', '1982', '2018', '1992', '2016', '1993', '2013', '2014', '2018', '2018', '2017', '2019', '2014', '2015', '2017', '2007', '2011', '2015', '2014', '2017', '2012', '2015', '2018', '2012', '2005', '2017', '2011', '2014', '2008', '2017', '2009', '2019', '1994', '2013', '2015', '2015', '2015', '2006', '1999', '2014', '2019', '2016', '2017', '1990', '2011', '2012', '2016', '2018', '2016', '2018', '2000', '1996', '2009', '2016', '2013', '2003', '2015', '2011', '2018', '2005', '2010', '1999', '2009', '1983', '2012', '1993', '2013', '2011', '2013', '2017', '2018', '2016', '2008', '2018', '2012', '2017', '2010', '2017', '2016', '2018', '2009', '2015', '2010', '2019', '2019', '2018', '2018', '2013', '2019', '2014', '2017', '2012', '2017', '2000', '2010', '2010', '2008', '2011', '2013', '2014', '2017', '2001', '2006', '2016', '2019', '2018', '2015', '2018', '2017', '2018', '1985', '2017', '2018', '2017', '2015', '2014', '2000', '2017', '2017', '2013', '2013', '2016', '2012', '1992', '2004', '2015', '2012', '1998', '2017', '2010', '1986', '2005', '2017', '1992', '2019', '2015', '2008', '2013', '2017', '1992', '2015', '2009', '2014', '2015', '2002', '2013', '1991', '2015', '2015', '2000', '2006', '2007', '2018', '2015', '2018', '2018', '2003', '2010', '2019', '2015', '2015', '2015', '2016', '2008', '1971', '2013', '2002', '1988', '2018', '2017', '2015', '2000', '2015', '1994', '2012', '2013', '2016', '2003', '2011', '2002', '2019', '2014', '2014', '2008', '2012', '2018', '2005', '2019', '1988', '2012', '2014', '2003', '2011', '2008', '2011', '2003', '2017', '2014', '2009', '2011', '2013', '2013', '2010', '2013', '1983', '2016', '2016', '2017', '2016', '2003', '2009', '2016', '2018', '2014', '2015', '2003', '2018', '2018', '2017', '2018', '2017', '2003', '2000', '2015', '2018', '2015', '2010', '2018', '2014', '2001', '2019', '2009', '2014', '2015', '2019', '2010', '2018', '2009', '2013', '2016', '2010', '2007', '2012', '2002', '2013', '2016', '2015', '2012', '2010', '1988', '2018', '2013', '2016', '2009', '2019', '2017', '2015', '2015', '2005', '2005', '2019', '1994', '2019', '2018', '2015', '1980', '2010', '2019', '2002', '2018', '2016', '2016', '2019', '2013', '2014', '1996', '2018', '2014', 'Unabridged', '2017', '2009', '2017', '1993', '2018', '2016', '2009', '2006', '1984', '2012', '2016', '2019', '2018', '2017', '1964', '2010', '2016', '2019', '2016', '2012', '2018', '2005', '2013', '2019', '2016', '2013', '2003', '2014', '1979', '2019', '2008', '1989', '2014', '2008', '2010', '2016', '2018', '2002', '2006', '2009', '2015', '2017', '2012', '2018', '2016', '2017', '2015', '1997', '2015', '2011', '2003', '2013', '2016', '2017', '2017', '2019', '1984', '2016', '2009', '2010', '2014', '2013', '2015', '2018', '2012', '2018', '2012', '2014', '2016', '2009', '2018', '2009', '1993', '2015', '2006', '2012', '2015', '2012', '2015', '2010', '2016', '1988', '2007', '2013', '2007', '2019', '2017', '2014', '2017', '2015', '1995', '1995', '2000', '2011', '2017', '2019', '1993', '2012', '2019', '2019', '2017', '2015', '2008', '2017', '2017', '2011', '2018', '2017', '2017', '2017', '2014', '2011', '2006', '2012', '2008', '2008', '2017', '2018', '2018', '2019', '1971', '2015', '2010', '2015', '2010', '2018', '2017', 'Print', '2013', '1993', '2018', '2011', '2000', '2013', '2019', '2016', '2018', '2016', '2017', '2014', '2004', '2018', '2016', '2018', '2014', '2011', '2008', '2014', '2018', '2019', '2004', '2018', '2018', '2015', '2017', '2006', '2016', '2017', '2010', '2016', '1984', '2017', '2011', '2019', '2017', '2015', '2014', '2018', '2004', '2002', '2009', '2016', '2014', '2017', '2018', '2010', '2016', '2011', '2009', '2013', '2015', '2012', '1997', '2018', '2019', '2013', '2006', '2013', '2015', '1991', '2012', '2004', '2012', '2019', '2019', '2019', '2013', '2018', '2012', '2006', '2012', '2017', '2016', '1994', '2016', '2018', '2018', '2005', '2010', '2019', '2015', '2016', '2019', '2017', '2018', '2018', '2013', '2017', '2019', '2016', '2017', '2018', '2018', '2018', '2015', '2017', '2016', '2008', '2017', '2016', '2012', '1993', '2016', '2018', '2002', '1990', '2014', '1991', '2017', '2013', '2018', '2013', '2012', '2001', '2008', '2015', '2016', '2018', '2016', '2010', '2014', '2018', '2016', '2010', '2014', '2014', '2012', '2008', '2012', '2017', '2012', '2016', '2016', '2014', '2011', '2018', '2016', '2012', '2009', '2011', '2019', '2003', '2012', '2013', '1998', '1987', '2019', '2018', '2008', '2012', '2016', '2015', '2007', '2018', '2010', '2010', '2018', '2015', '2001', '2015', '2017', '2010', '2016', '1995', '2012', '2015', '2013', '1984', '2001', '2016', '2010', '2017', '2015', '1992', '2017', '2014', '2016', '2007', '2014', '2013', '2015', '1998', '2017', '2006', '1994', '2019', '2016', '2017', '2013', '2014', '2016', '2011', '2017', '2016', '2013', '2006', '2019', '2015', '2008', '2002', '2015', '2015', '2018', '2017', '2013', '2018', '2015', '2008', '2011', '2018', '2017', '2017', '2012', '2017', '2018', '2011', '2011', '2018', '2015', '1991', '2018', '1976', '2016', '2016', '2016', '2012', '2018', '2006', '2014', '2015', '2017', '2017', '1995', '1999', '2012', '2002', '2018', '2015', '2011', '2017', '2018', '2015', '2011', '1984', '2009', '2018', '2019', '2017', '2015', '2016', '2013', '2018', '2018', '2014', '2004', '2018', '2005', '2018', '2001', '2006', '2019', '2013', '2010', '2003', '2001', '2014', '2002', '2005', '2009', '2017', '2018', '2016', '2011', '2010', '2010', '2010', '1974', '2009', '2019', '2007', '2013', '2002', '2018', '2016', '2019', '2015', '2007', '2016', '2017', '2011', '2017', '1993', '2005', '2013', '2018', '2016', '2015', '2014', '1998', '2015', '2005', '2016', '2011', '2013', '2018', '2010', '2016', '2018', '2015', '2018', '2016', '2011', '2019', '2002', '2010', '2019', '2016', '2013', '2001', '2016', '2015', '2013', '2018', '2015', '2017', '2014', '2010', '2016', '2010', '2018', '2013', '2008', '2010', '2016', '2015', '2015', '2011', '2013', '2011', '2014', '2012', '2018', '2015', '2008', '2018', '2018', '2017', '2007', '2014', '2017', '2011', '2014', '2004', '2008', '2015', '2019', '2012', '2013', '2017', '2011', '2018', '2014', '2011', '2001', '2006', '2008', '1996', '2009', '2018', '2011', '2019', '1991', '2017', '2016', '2011', '2009', '2017', '2018', '2007', '2018', '2005', '2014', '2013', '2017', '2018', '2005', '2017', '2018', '2016', '2005', '2017', '2017', '2018', '2010', '2013', '2011', '2018', '2015', '2008', '2016', '2017', '2015', '2008', '2016', '2007', '2018', '2016', '2015', '2012', '2016', '2009', '2015', '1997', '2014', '2017', '2018', '2007', '1994', '2010', '2018', '2016', '1977', '2012', '2014', '2016', '2004', '2017', '2016', 'set', '2019', '2012', '2018', '2012', '2008', '2017', '2010', '2019', '2015', '2008', '2016', '2019', '2003', '2018', '2008', '2019', '2009', '2016', '1999', '2019', '2013', '2013', '2017', '2013', '2018', '2017', '2000', '2017', '2018', '2018', '2011', '2018', '2018', '1989', '2012', '2019', '2017', '2015', '2015', '2016', '2017', '1995', '2017', '2015', '2018', '2018', '2016', '2013', '2008', '2017', '2018', '2017', '2018', '2018', '2018', '1994', '2011', '1997', '2016', '2003', '2012', '2017', '2014', '2006', '2018', '2013', '2018', '2015', '2012', '2017', '2015', '2017', '1987', '2018', '2015', '2011', '2007', '2011', '2008', '2016', '2017', '2017', '2002', '2015', '2013', '2017', '2007', '2008', '2007', '1986', '2019', '2017', '1992', '2012', '2007', '2016', '2017', '2019', '2017', '2019', '2016', '2016', '2012', '1960', '2018', '2017', '2016', '2001', '1960', '2017', '2017', '2017', '1999', '2006', '2018', '2012', '2017', '1992', 'Import', '2013', '2017', '2017', '2018', '2013', '2015', '2015', '2015', '2014', '2010', '2011', '2013', '2012', '2013', '2018', '2002', '2016', '1999', '2012', '2015', '2015', '2016', '2018', '2018', '2015', '1989', '2008', '2006', '2002', '2018', '2019', '2011', '2014', '1997', '1998', '2019', '2012', '2013', '2010', '2018', '2009', '2018', '2016', '2002', '2015', '2019', '2018', '1990', '2011', '2012', '2005', '2011', '2015', '2007', '2002', '2005', '2008', '2017', '2003', '2016', '2008', '2013', '2015', '2017', '2001', '2018', '2015', '2001', '2019', '2005', '2017', '2008', '2017', '2019', '2005', '2013', '2011', '2000', '2007', '2014', '2008', '2018', '2007', '2009', '2015', '2016', '2016', '2007', '2017', '2009', '2008', '2014', '2018', '2006', '2010', '2000', '2013', '2017', '2013', '2015', '2017', '2014', '1974', '2016', '2004', '2011', '2019', '2008', '1995', '2016', '1983', '2012', '2016', '2010', '2009', '2018', '2011', '2015', '2018', '2018', '2019', '2001', '2017', '2015', '2011', '1999', '2019', '2014', '2003', '2017', '2014', '2016', '2015', '2015', '2015', '1998', '1992', '2017', '2008', '2003', '2015', '2012', '2012', '2016', '2016', '2013', '1994', '2011', '2015', '2018', '2005', '2015', '2016', '2016', '2018', '2010', '2016', '2017', '2012', '2019', '2018', '2012', '2010', '2017', '2013', '2018', '2005', '2018', '2016', '2013', '2018', '2015', '2005', '1983', '2015', '2016', '2005', '2014', '2017', '2013', '2015', '2008', '2016', '2015', '2013', '2018', '2018', '2012', '2009', '1990', '2019', '2004', '2010', '2014', '2013', '2009', '2019', '2012', '2017', '2015', '2012', '2019', '2002', '2016', '2018', '2017', '2015', '2013', '2010', '2015', '2011', '2014', '2018', '2018', '2014', '2017', '2009', '2017', '2018', '2007', '2014', '2013', '2011', '2011', '2011', '2014', '2018', '2018', '1990', '2006', '2009', '2018', '2018', '2016', '2010', '2016', '2006', '2007', '2012', '2018', '2015', '2002', '2018', '2015', '2017', '2009', '2013', '2018', '2018', '2016', '2015', '2014', '2011', '2004', '2016', '2001', '2017', '2003', '2017', '2018', '2015', '2015', '2016', '2012', '2017', '2017', '2014', '2011', '2017', '2019', '2014', '1991', '2006', '2019', '2013', '1989', '2016', '1994', '2010', '2005', '2009', '2012', '2012', '2018', '2017', '2017', '2012', '2010', '2009', '2014', '2016', '2016', '2013', '2017', '2019', '2017', '2004', '2019', '2014', '2010', '2016', '2011', '2016', '2018', '2013', '2012', '2019', '2016', '1970', '2013', '1997', '2019', '2000', '2016', '2018', '2016', '2016', '2012', '2010', '2010', '2013', '1998', '2018', '2012', '2005', '2014', '2016', '1997', '2018', '2013', '2015', '2017', '2015', '2018', '2016', '2014', '2018', '2004', '2007', '2018', '2018', '2018', '2015', '2015', '2013', '2014', '2009', '2018', '2009', '2018', '2017', '2004', '2004', '2008', '2007', '2017', '2018', '2018', '2017', '2007', '2016', '2018', '2012', '2005', '2018', '2015', '2012', '2015', '2019', '2012', '2017', '2015', '2016', '2013', '2002', '2012', '2011', '2017', '2018', '2014', '2014', '2012', '2010', '2017', '2018', '2018', '2017', '2018', '2017', '2009', '2019', '2015', '2013', '2013', '1997', '2009', '2013', '1995', '2014', '2004', '2013', '2016', '2013', '2018', '2006', '2010', '2017', '2017', '2013', '2015', '2011', '2017', '1995', '2018', '2018', '2018', '2019', '2010', '2018', '2010', '2019', '2014', '2002', '2012', '2019', '2016', '2009', '2014', '2017', '2016', '2017', '2017', '2010', '2017', '2008', '2017', '2010', '2016', '2016', '2015', '2011', '2011', '2001', '2015', '2003', '2016', '2015', '2018', '2000', '2014', '2017', '2004', '2017', '2006', '2005', '2018', '2015', '2013', '2016', '2015', '2016', '2017', '2012', '2004', '2017', '2017', '2017', '2014', '2008', '2007', '2018', '2014', '2010', '2013', '2011', '2014', '2016', '2018', '2019', '2015', '2010', '2017', '2014', '2014', '2019', '2004', '2017', '1996', '2015', '2019', '2012', '2016', '2008', '2014', '2012', '2019', '2019', '1986', '2012', '2017', '2010', '2016', '2005', '2016', '2018', '2019', '2018', '2010', '2017', '2014', '1989', '2014', '2009', '2016', '2012', '1991', '2015', '2014', '2010', '2004', '2014', '2016', '2002', '2018', '2018', '2014', '2013', '2017', '2010', '2015', '2012', '2018', '2013', '2006', '2011', '2016', '2014', '2018', '2015', '2011', '2018', '2002', '2017', '1980', '2017', '1994', '2015', '2019', '2019', '2015', '2012', '2016', '2013', '2012', '2015', '2014', '2013', '1998', '2008', '2005', '2017', '2016', '2011', '2018', '2018', '2016', '2018', '2007', '2018', '2017', '2013', '2016', '2018', '2014', '2005', '2019', '2013', '2018', '1990', '2017', '2004', '2014', '2014', '1986', '2017', '1996', '2014', '2003', '2016', '2007', '2016', '2014', '2018', '2013', '1975', '2013', '2015', '2018', '2017', '2017', '2018', '2015', '2015', '2010', '2012', '2011', '2017', '1998', '2004', '2016', '2019', '2009', '2016', '2006', '2019', '2016', '2008', '2018', '2017', '2019', '2018', '2018', '2017', '2013', '2019', '2018', '2017', '2018', '2017', '2006', '2013', '2011', '2002', '1992', '1987', '2000', '2010', '2006', '2015', '2016', '2019', '2014', '2017', '2016', '2005', '2011', '2018', '2017', '2003', '2018', '2003', '2018', '2016', '2018', '2017', '2017', '2009', '2016', '2016', '2017', '2016', '2018', '2014', '2015', '2013', '2013', '2017', '2012', '2015', '2016', '2016', '2008', '1996', '2016', '2002', '2017', '2010', '2018', '2017', '2005', '2019', '2000', '2017', '2008', '2017', '2017', '2018', '2019', '2013', '2018', '2000', '1985', '1984', '2011', '1992', '2017', '2018', '2013', '2018', '2015', '2016', '2018', '2000', '2019', '2017', '2010', '2014', '2005', '2015', '2008', '2018', '2011', '2018', '2016', '2017', '2016', '2015', '2012', '2019', '2018', '2012', '2001', '2000', '1991', '2009', '2000', '2017', '2017', '2014', '2010', '2013', 'set', '2008', '2018', '2015', '2017', '2010', '2012', '2003', '2018', '2013', '2015', '2013', '2018', '2014', '2017', '2018', '2010', '2006', '2000', '1997', '2007', '2017', '2006', '2018', '2008', '2002', '2018', '2019', '2006', '1998', '2018', '2015', '2019', '2014', '2012', '2003', '2016', '2006', '2016', '2014', '2017', '2009', '1992', '2016', '2019', '2016', '2019', '2015', '2016', '2017', '2012', '2011', '2010', '2017', '2017', '2017', '2016', '2016', '2018', '2017', '2017', '2012', '2016', '1995', '2015', '1999', '2010', '1989', '2011', '2016', '2015', '2008', '2018', '2018', '2008', '2009', '2019', '2016', '2017', '2018', '2015', '2016', '2018', '2016', '1991', '2015', '2006', '2017', '2003', '2017', '2017', '2015', '2013', '2014', '2018', '2010', '1986', '2015', '2018', '2018', '2014', '2018', '2008', '1996', '2008', '2018', '2011', '2018', '2000', '2016', '2018', '2012', '2001', '2010', '2017', '2018', '2005', '2013', '2014', '2015', '2015', '2017', '2015', '2018', '2009', '2016', '2011', '2003', '2017', '2005', '2009', '2015', '2017', '2009', '2014', '2016', '2015', '2017', '2004', '2012', '2016', '2019', '2017', '2015', '2009', '2017', '2016', '2015', '2012', '2014', '2000', '2011', '2011', '1905', '2019', '2002', '2011', '2015', '1996', '2011', '2018', '2015', '2008', '2016', '2008', '2016', '2019', '2014', '2014', '2013', '2015', '2010', '2007', '2018', '2018', '2010', '2016', '2014', '1983', '2017', '2013', '2016', '1994', '2017', '2005', '2017', '2013', '2015', '2007', '2005', '2019', '2018', '2013', '2019', '2014', '2018', '2003', '2005', '2008', '2017', '2013', '2014', '2014', '2019', '2017', '1995', '2017', '2011', '2018', '2015', '2015', '2014', '2016', '2018', '2000', '2013', '2013', '2017', '2015', '2010', '2017', '2014', '2009', '2017', '2016', '2011', '1983', '2010', '2000', '2016', '2002', '2015', '2015', '2016', '2009', '1997', '2018', '2003', '2013', '2013', '2015', '2017', '2009', '2012', '2017', '2011', '2007', '2018', '2011', '1988', '2017', '2018', '2017', '1900', '2019', '2018', '2012', '2018', '2018', '1993', '2014', '2018', '2017', '2001', '2017', '2005', '2018', '2009', '2017', '2013', '2018', '2017', '2017', '2015', '2016', '2007', '2011', '2013', '2019', '2008', '1964', '2017', '2015', '1994', '2007', '2017', '1995', '2014', '2003', '2014', '2001', '2017', '2012', '2014', '2014', '2013', '2017', '2012', '2014', '2016', '2017', '2017', '2018', '2011', '2004', '2008', '2019', '2018', '1996', '2014', '2012', '1997', '2008', '2017', '2008', '2016', '2018', '2017', '2017', '2019', '2011', '2015', '2005', '2011', '2018', '2017', '2018', '2013', '2013', '2017', '2011', '2018', '2011', '2017', '2017', '2015', '2013', '2017', '2013', '2011', '2018', '2013', '2018', '2012', '2007', '2011', '2017', '2012', '2018', '2017', '2019', '2019', '2008', '2011', '2006', '2013', '2017', '2019', '2010', '1998', '2014', '2017', '2018', '2018', 'Import', '2018', '2011', '2012', '2016', '2012', '2013', '2017', '2005', '2010', '2018', '2010', '2013', '2004', '2017', '2007', '2011', '2011', '1999', '2014', '2013', '2015', '2018', '2013', '1996', '2012', '2016', '2015', '2005', '2016', '2019', '1989', '2011', '1994', '2019', '2011', '2015', '2013', '2010', '2018', '2018', '1987', '2014', '2012', '2018', '2006', '2017', '2000', '2018', '2014', '2013', '2013', '2016', '2017', '1992', '2017', '2016', '2017', '2016', '1984', '2014', '2018', '2000', '2016', '2015', '2009', '2017', '2006', '2017', '2016', '2016', '2007', '2017', '2011', '2011', '2018', '2017', '2017', '2017', '2019', '2019', '2011', '2015', '2002', '2014', 'Audiobook', '2008', '2017', '2014', '2019', '2016', '2017', '2013', '2005', '2017', '2016', '2018', '2011', '2013', '2018', '2003', '2009', '2018', '2017', '2001', '2009', '2014', '2016', '2006', '2017', '2018', '2015', '2017', '2013', '2012', '2014', '2009', '2010', '2017', '2008', '2018', '2014', '2015', '2013', '2019', '2014', '2015', '2016', '2013', '2017', '2013', '2001', '2013', '2013', '2018', '2016', '2013', '2018', '1997', '2017', '2011', '2015', '2011', '2016', '2002', '2017', '2012', '2016', '2014', '2019', '2013', '2012', '2017', '2012', '2017', '2016', '2002', '2018', '2015', '2011', '2013', 'Import', '2015', '2008', '1982', '2017', '2016', '2012', '2012', '2016', '2004', '2014', '2004', '2006', '2017', '2018', '2018', '2016', '2003', '2016', '2018', '2017', '2012', '2006', '2014', '1999', '2018', '2010', '2015', '2014', '2017', '2013', '1987', '2016', '2012', '2008', '2015', '1999', '2012', '2018', '2015', '2015', '2018', '2015', '2004', '1982', '2019', '2019', '2013', '2017', '2017', '1990', '2012', '2016', '2012', '2013', '2018', '2009', '2013', '2005', '2016', '2010', '2018', '2006', '2014', '2012', '2015', '2016', '1994', '2016', '2019', '2002', '2017', '2005', '2015', '2017', '2012', '2016', '2011', '2012', '2008', '2000', '2019', '1999', '1991', '2005', '2010', '2014', '2015', '2019', '2006', '2013', '2018', '2012', '2010', '2017', '2017', '2011', '2015', '2018', '2019', '2018', '2017', '2015', '2009', '2017', '2015', '2018', '2016', '2015', '2018', '2012', '2005', '2003', '2018', '1988', '2018', '2019', '2001', '2002', '2009', '2018', '2012', '2015', '2005', '2012', '2016', '1987', '2014', '2017', '2018', '2019', '2017', '2017', '2012', '2015', '2009', '2002', '2016', '2011', '2018', '2016', '2011', '2017', '2017', '2016', '2006', '2015', '2009', '2016', '2012', '2015', '2018', '2018', '2015', '2017', '2014', '2005', '2010', '2010', '2008', '2017', '2010', '2006', '1992', '2015', '1985', '2012', '2009', '2016', '2015', '2008', '2016', '2003', '2019', '2011', '2018', '2018', '2017', '2017', '2015', '2012', '2011', '2016', '2016', '2017', '2016', '2006', '2015', '2018', '2013', '2017', '2017', '2018', '2005', '2011', '2010', '2011', '2005', '2016', '2016', '1996', '2014', '2015', '2012', '2016', '2018', '2012', '2017', '2004', '2015', '2017', '2016', '2016', '2018', '2018', '2018', '1986', '2013', '2013', '2003', '2014', '2016', '2018', '2010', '2016', '2018', '2001', '2019', '2010', '2017', '2017', '2018', '2018', '2006', '2019', '2003', '2010', '2019', '2009', '2015', '2010', '2006', '2012', '2015', '2016', '2016', '2013', '2014', '2003', '2006', '2016', '2019', '2018', '2016', '1994', '2000', '2016', '2017', '2015', '2018', '2014', '2017', '2005', '2015', '2019', '2018', '2018', '2019', '2002', '2014', '2010', '2017', '2018', '2016', '2014', '2018', '2019', '2012', '2015', '2018', '2019', '2011', '2012', '2016', '2009', '2015', '2013', '2008', '2011', '2011', '2015', '2018', '2003', '2012', '2011', '2003', '2015', '2017', '2016', '2017', '2016', '2019', '2016', '2018', '2008', '2017', '2019', '1999', '2015', '2009', '2009', '2009', '2014', '2011', '2008', '2012', '2019', '2016', '2012', '2012', '2014', '1994', '2016', '2019', '2009', '2019', '2013', '2015', '2019', '2017', '2017', '2007', '2016', '2009', '1984', '2018', '2014', '2002', '2016', '1986', '2017', '2007', '2017', '2016', '2008', '2016', '2017', '2007', '2010', '2013', '2009', '2016', '1982', '2013', '2018', '2018', '2019', '2019', '2018', '2019', '2017', '2015', '2005', '2019', '2009', '2009', '2014', 'Import', '2010', '2002', '2016', '2017', '2014', '2013', '2007', '2015', '2004', '2017', '2016', '2015', '2018', '2019', '2016', '2018', '2018', '2003', '2013', '2012', '2014', '2002', '2014', '1985', '2003', '2012', '2016', '2016', '2018', '2016', '2016', '2015', '2014', '2016', '1991', '2003', '2016', '2004', '2017', '2018', '2013', '2016', '2015', '2014', '1997', '2011', '2015', '2012', '2002', '2005', '2003', '2015', '2015', '2015', '2012', '2002', '2019', '2018', '2016', '2015', '2004', '2016', '2016', '2013', '2018', '1998', '2018', '2015', '2016', '2018', '1994', '2007', '2017', '2004', '2018', '2018', '2015', '2016', '2008', '2013', '2016', '2017', '2015', '2018', '2009', '2018', '2010', '1997', '2018', '2008', '2000', '2013', '2014', '2016', '2016', '2005', '2016', '2009', '2013', '2004', '2018', '2011', '2004', '2017', '2008', '2016', '2015', '2015', '2010', '2005', '1999', '2010', '2015', '2017', '2014', '2016', '2015', '1997', '2007', '2014', '2013', '2018', '2017', '2012', '2009', '2018', '2014', '2008', '2017', '2015', '2017', '2003', '2017', '2013', '2016', '2010', '2019', '2019', '2018', '2019', '2019', '2014', '2015', '2017', '2018', '2018', '2013', '2010', '2018', '2002', '2015', '2015', '2017', '2005', '2018', '2019', '2011', '2015', '2015', '2018', '2017', '1994', '2018', '2015', '2019', '2009', '2008', '2016', '2012', '2011', '2016', '2018', '2014', '2017', '2018', '2011', '2007', '2010', '2016', '2016', '2013', '2015', '2004', '2018', '2015', '2012', '2008', '2017', '2011', '2013', '2013', '2016', '2019', '2019', '2019', '2015', '2012', '2016', '2011', '2004', '2015', '2018', '2015', '2018', '2016', '2018', '2019', '2014', '2014', '2017', '2014', '2010', '2010', '1995', '1992', '2016', '2016', '2017', '2003', '2018', '2016', '2010', '2015', '2012', '2018', '2017', '2010', '2015', '2019', '2018', '2014', '2015', '2010', '2017', '2018', '2018', '2007', '2013', '2018', '2018', '2002', '2009', '2013', '2000', '2015', '2013', '2018', '2011', '2018', '2008', '2014', '2016', '2017', '2017', '2013', '2012', '2015', '2017', '2009', '2016', '2014', '2012', '2018', '1998', '1990', '2000', '2005', '2015', '2014', '2014', '1993', '2015', '2009', '1996', '2013', '2001', '1998', '2013', '2013', '2018', '2014', '2015', '2012', '2012', '2018', '2005', '2012', '2012', '2019', '2011', '2018', '2006', '2015', '2018', '2019', '2012', '2019', '2017', '1999', '2018', '2013', '2018', '2010', '2016', '2005', '2011', '2017', '2004', '2010', '2015', '2015', '2018', '2019', '2013', '2017', '2013', '2018', '2016', '2014', '1999', '2012', '2018', '2012', '2017', '2011', '2019', '2000', '2015', '2006', '2017', '2018', '1995', '2018', '2014', '2005', '2014', '2004', '2016', '2017', '2019', '1998', '2018', '2010', '2018', '2018', '2002', '2017', '2013', '2015', '2013', '2017', '2019', '1988', '2018', '2016', '2019', '2019', '2015', '2019', '2015', '2013', '2018', '2018', '2016', '2017', '2018', '2008', '1997', '2018', '2013', '2018', '2010', '2015', '2015', '2010', '2004', '2018', '1991', '2018', '2014', '2018', '2014', '2017', '2015', '1975', '2019', '2017', '2003', '2017', '2017', '2011', '2007', '2016', '2013', '2015', '2018', '2018', '2019', '2016', '2019', '2011', '1988', '2017', '2016', '2014', '2003', '2012', '2010', '2011', '2018', '2012', '2018', '2006', '2011', '2001', '2010', '2018', '2011', '2013', '2014', '2015', '2014', '2016', '2012', '2016', '2017', '2018', '2013', '2019', '2019', '2016', '2008', '1995', '2012', '2000', '2017', '1999', '1982', '2011', '2012', '1995', '2019', '2018', '2019', '2018', '2017', '2015', '2007', '2008', '2015', '2014', '2017', '2014', '2002', '2017', '2019', '2017', '2014', '2010', '1961', '1976', '2015', '2017', '2018', '2000', '1994', '2017', '2013', '2017', '2017', '2011', '2005', '2015', '2012', '2017', '2011', '2018', '2016', '2013', '2017', '2016', '2013', '2012', '2018', '2017', '2010', '2016', '2012', '2016', '2019', '2018', '1996', '2011', '2009', '2015', '2016', '2016', '2014', '2016', '2016', '2014', '2006', '1989', '2013', '2001', '2005', '2008', '2019', '2017', '2013', '2015', '2018', '2018', '2006', '2001', '2017', '1996', '2014', '2018', '2008', '2006', '2003', '2017', '2017', '2008', '2018', '2017', '2011', '2016', '2016', '2011', '1991', '2009', '2005', '2016', '2008', '2013', '2013', '2016', '2018', '2002', '2018', '2017', '2012', '2008', '2017', '2017', '2004', '2018', '2018', '2014', '2007', '2010', '2019', '2018', '2015', '2016', '2018', '2011', '2009', '2003', '2016', '2015', '2016', '2017', '2019', '2009', '2008', '2017', '2006', '2008', '2019', '2017', '2013', '2013', '2018', '2013', '2019', '2018', '2003', '2003', '1994', '2018', '2000', '2009', '2018', '2014', '2008', '2016', '1984', '2013', '2016', '2018', '2017', '2013', '2016', '1987', '2013', '2016', '2008', '2008', '2016', '2004', '2018', '2018', '2018', '1975', '2001', '2013', '2017', '2014', '2012', '1999', '1994', '2018', '2017', '2019', '2001', '2016', '2018', '2017', '2017', '2018', '2017', '2016', '2019', '2012', '2010', '2011', '2006', '2014', '2012', '2009', '2010', '2017', '2009', '2012', '2019', '2018', '2015', '2016', '2018', '2014', '2017', '2015', '2011', '2011', '2019', '2012', '2018', '2017', '2006', '2014', '2013', '2011', '2010', '2016', '2014', '2009', '2015', '2010', '2018', '2010', '2001', '2016', '2017', '2017', '2011', '2002', '2015', '2018', '2010', '2015', '2016', '1986', '2018', '2005', '2010', '2018', '2018', '2012', '2008', '2018', '2018', '2016', '2013', '2003', '2017', '2010', '2016', '2011', '2016', '1999', '2007', '2018', '2010', '2016', '2001', '2017', '2017', '1998', '2014', '2018', '2017', '2016', '2013', '2005', '2013', '2017', '2015', '1993', '2013', '2011', 'set', '2013', '2014', '2016', '2011', '2010', '2008', '2015', '2017', '2006', '1983', '2010', '2015', '2014', '2019', '2012', '2017', '2011', '2017', '2013', '2001', '2014', '2017', '2017', '2018', '2019', '2002', '2011', '2012', '2019', '2017', '2016', '2017', '2009', '2013', '1976', '2016', '2018', '2005', '2019', '2012', '2017', '2018', '2015', '2016', '2012', '2005', '1925', '2015', '2016', '2015', '2018', '2007', '2014', '2015', '2018', '2015', '2014', '2015', '2012', '2016', '1999', '2013', '2010', '2009', '1992', '2011', '2018', '2017', '2008', '2006', '2016', '2017', '2013', '2008', '2011', '2015', '2018', '2011', '2019', '2011', '2013', '2018', '2015', '2005', '2008', '1986', '2014', '2000', '2017', '2012', '2018', '2012', '2019', '2016', '2000', '2018', '2007', '2009', '2005', '2019', '2014', '2015', '2004', '2013', '2002', '2017', '2017', '2011', '2008', '2014', '2018', '2012', '1992', '2011', '2011', '2016', '2010', '2014', '2008', '2017', '2018', '2018', '2007', '2016', '2014', '2006', '2019', '2012', '2016', '1976', '2009', '2010', '2017', '2017', '2017', '1995', '1994', '2016', '2018', '2016', '2011', '2001', '2016', '2016', '2013', '2017', '2009', '2014', '2013', '2012', '2019', '2013', '2016', '2018', '2018', '2016', '2018', '2019', '2015', '2014', '2019', '2018', '2017', '2016', '2014', '2019', '2008', '2018', '2014', '2015', '2018', '2018', '2018', '2008', '2016', '2017', '2010', '2015', '2014', '2012', '2016', '2016', '2018', '2018', '2018', '2018', '2004', '2018', '2013', '2013', '2014', '2017', '2014', '2009', '2011', '2017', '2015', '1990', '1992', '2010', '2000', '2015', '2016', '2009', '2018', '2012', '2011', '2012', '2018', '2015', '2014', '2014', '2019', '1982', '2018', '2017', '2016', '2017', '2018', '2018', '1975', '2018', '2012', '2010', '2017', '2017', '2015', '2006', '2005', '1997', '2009', '1986', '2018', '2017', '2014', '2009', '2015', '2007', '2012', '2008', '2014', '2016', '2015', '2019', '2009', '2017', '2015', '2018', '2015', '2011', '2018', '2017', '2017', '2013', '2017', '2015', '2017', '2016', '2014', '2017', '2018', '2015', '2016', '2006', '2002', '2010', '2018', '1999', '2014', '2016', '2018', '2012', '2015', '2015', '2017', '2016', '2014', '2013', '2015', '2018', '2017', '2016', '2017', '2013', '2008', '2017', '2005', '2014', '2014', '2010', '2017', '2018', '2015', '2016', '2017', '2003', '2017', '2017', '2019', '2003', '2019', '2017', '2009', '2011', '2017', '2009', '2019', '2018', '2011', '2006', '2005', '2016', '2017', '1990', '2016', '2014', '2019', '2013', '2000', '2017', '2017', '2018', '2014', '1999', '2003', '2008', '2011', '2018', '2011', '2016', '2016', '2016', '2017', '2013', '2017', '2006', '2017', '2017', '2005', '2015', '2006', '2013', '2010', '2012', '2016', '2018', '2006', '2002', '2012', '2018', '2007', '2007', '2019', '2001', '2014', '2001', '2007', '2002', '2014', '1987', '2017', '2018', '2014', '2018', '2016', '2018', '2014', '2010', '2016', '2012', '2004', '2014', '2017', '2015', '2015', '2018', '1996', '2018', '2001', '2017', '2011', '2014', '2016', '2010', '2015', '2014', '2011', '2001', '2016', '2011', '2016', '2018', '2012', '2018', '2017', '2017', '2013', '2003', '2000', '2014', '2017', '2007', '2016', '2014', '2001', '2017', '2014', '2007', '2017', '1999', '2011', '2010', '2016', '2017', '2018', '2016', '2010', '2019', '2012', '2012', '2017', '2010', '2014', '2009', '2012', '2018', '2013', '2017', '2015', '2005', '2005', '2014', '2005', '2000', '2019', '2019', '2013', '2018', '2013', '2017', '2000', '1973', '1996', '2004', '2007', '2014', '2019', '2017', '2016', '2016', '2014', '2017', '2019', '2017', '2018', '1997', '2015', '2016', '2006', '2013', '2014', '1989', '2018', '2007', '2014', '2017', '1995', '2015', '2018', '2008', '2017', '2010', '2015', '2005', '2018', '2017', '2012', '2016', '1999', '2017', '2018', '2002', '2019', '2018', '2014', '2001', '2017', '2016', '2018', '2018', '2018', '2011', '2006', '2013', '1980', '2017', '2019', '2019', '2010', '2012', '2013', '2018', '2017', '2004', '2001', '2011', '2017', '2016', '2016', '2001', '2007', '1993', '2007', '2013', '2003', '2017', '1989', '1985', '2012', '2017', '2014', '2019', '2019', '2014', '2018', '2016', '2012', '2017', '2002', '2016', '2018', '2013', '2005', '2011', '2017', '2014', '2017', '1998', '2016', '2010', '2011', '2015', '2010', '2013', '2009', '2006', '1992', '2017', '1993', '2014', '2018', '2018', '2016', '2004', '2017', '2018', '2014', '2016', '2016', '2019', '2012', '2011', '1998', '2012', '2017', '2018', '2008', '2018', '2010', '2009', '2018', '2017', '2018', '2019', '2017', '2018', '2005', '2016', '2016', '2008', '2016', '2018', '2003', '2015', '2016', '2011', '2010', '1977', '2016', '2016', '2016', '2012', '2016', '2007', '2012', '2017', '2018', '2017', '2019', '2012', '2012', '2015', '2014', '2017', '2012', '2002', '2016', '2018', '2013', '2007', '1990', '2017', '2016', '1989', '2009', '2016', '2009', '2010', '2018', '2013', '2016', '2017', '2007', '2005', '2015', '2018', '2018', '2018', '2014', '2019', '2018', '2011', '2013', '2016', '1984', '2017', '2017', '2016', '2013', '2011', '2016', '2017', '2000', '2016', '1980', '2018', '2019', '2017', '2014', '2009', '2017', '2009', '2015', '2012', '2019', '2010', '2016', '2004', '2009', '2004', '2018', '2012', '2017', '2004', '1986', '2011', '2017', '2011', '2018', '2016', '1985', '1999', '2018', '2012', '2018', '2013', '2010', '2008', '2012', '2017', '2004', '2017', '2014', '2011', '1992', '2001', '2018', '1995', '2003', '2011', '2015', '2000', '1979', '2010', '2013', '2018', '1993', '2018', '2012', '2015', '2016', '2013', '2018', '2007', '2017', '2018', '2013', '2011', '2015', '2019', '2013', '2017', '2016', '2005', '2016', '2012', '2016', '2007', '2018', '2011', '2015', '2005', '2005', '2017', '2017', '2009', '2014', '2004', '2013', '1999', '2017', '2016', '2007', '2009', '2007', '2013', '2018', '2017', '2018', '2019', '2018', '2013', 'Print', '2017', '2017', '2012', '2003', '2014', '2012', '2008', '2011', '2010', '2014', '2017', '2017', '2015', '2017', '2016', '2009', '2017', '2017', '2013', '2009', '2018', '2010', '2016', '2016', '2012', '2013', '2004', '2016', '2015', '2018', '2019', '2016', '2018', '2015', '2003', '2016', '2012', '2018', '1994', '2013', '2018', '2018', '2017', '2015', '2011', '2001', '2005', '2018', '2016', '2016', '2013', '2017', '2001', '2015', '2011', '2008', '1989', '2004', '2019', '2017', '2017', '2019', '2014', '2000', '2016', '2009', '2008', '2005', '2018', '1992', '1996', '2015', '2018', '2014', '2018', '2005', '2015', '2016', '2004', '2016', '2011', '2013', '2016', '2016', '2016', '2013', '2010', '2003', '2015', '2013', '2012', '2012', '2013', '2015', '2018', '2013', '2017', '2018', '2016', '2018', '2017', '2017', '2017', '2018', '2010', '2008', '2013', '2013', '2017', '2016', '2015', '2017', '2018', '2012', '2016', '2012', '2015', '2017', '2017', '2017', '2001', '2018', '2018', '2018', '2016', '2019', '2000', '2013', '2010', '1997', '2004', '2017', '2017', '2009', '2013', '2001', '2013', '2008', '2017', '2013', '2013', '2013', '2017', '2019', '2017', '2018', '2011', '1999', '1995', '2012', '2010', '2018', '2019', '2005', '2014', '2016', '2015', '2015', '1994', '2014', '2018', '2007', '2001', '2016', '2018', '2010', '2017', '1982', '2014', '1978', '2015', '2017', '2019', '2019', '2014', '2005', '2018', '2018', '2017', '1995', '2017', '2017', '2019', '2017', '2013', '2011', '2013', '2016', '2019', '2014', '2018', '1980', '2017', '2018', '2012', '2018', '2019', '2008', '2015', '2018', '2006', '2017', '2017', '2002', '2008', '2001', '2017', '2016', '2015', '2015', '1984', '2009', '2012', '2019', '2014', '2011', '2009', '2007', '2018', '2009', '2019', '2003', '2009', '1997', '1987', '2017', '2015', '2013', '2019', '2011', '2019', '2009', '2017', '2017', '2009', '2009', '2016', '2015', '2014', '2016', '2018', '2014', '2016', '2008', '2009', '2016', '2016', '2007', '2010', '2011', '2000', '2013', '2017', '2017', '2001', '2013', '2004', '2013', '1987', '2014', '2011', '2016', '2007', '2017', '1984', '2009', '1993', '2003', '2018', '2019', '2017', '2015', '2016', '2003', '2016', '2005', '2017', '2006', '2010', '2018', '2006', '2017', '2009', '2011', '2018', '1984', '1996', '2016', '2012', '2017', '1998', '2017', '2015', '2017', '2014', '2013', '1984', '2018', '2018', '2011', '2014', '1994', '2003', '2015', '2017', '2016', '2015', '2018', '2011', '2016', '2013', '2001', '2015', '2019', '2018', '2011', '2010', '2009', '2015', '2013', '1989', '1986', '2016', '1992', '2006', '2012', '2016', '1999', '2014', '2013', '2015', '2019', '2013', '2017', '2015', '2016', '2011', '1993', '2013', '2015', '2010', '1998', '2014', '2008', '2017', '2007', '2017', '2019', '2016', '2018', '2019', '2012', '2017', '2014', '2016', '2013', '2015', '2013', '2010', '2018', '2014', '2018', '2014', '2005', '2015', '2019', '2014', '2015', '2017', '2006', '2013', '2018', '2016', '2006', '2015', '2016']\n"
          ],
          "name": "stdout"
        }
      ]
    },
    {
      "cell_type": "code",
      "metadata": {
        "id": "aLmybQlPqJKB"
      },
      "source": [
        "#let's add\n",
        "X_train['type']=ed_type\n",
        "X_train['month']=ed_month\n",
        "X_train['year']=ed_year"
      ],
      "execution_count": 62,
      "outputs": []
    },
    {
      "cell_type": "code",
      "metadata": {
        "colab": {
          "base_uri": "https://localhost:8080/",
          "height": 813
        },
        "id": "wxL9yD5RtRoe",
        "outputId": "818fa8a2-03b8-4aa5-864f-8fd1461d7620"
      },
      "source": [
        "X_train"
      ],
      "execution_count": 63,
      "outputs": [
        {
          "output_type": "execute_result",
          "data": {
            "text/html": [
              "<div>\n",
              "<style scoped>\n",
              "    .dataframe tbody tr th:only-of-type {\n",
              "        vertical-align: middle;\n",
              "    }\n",
              "\n",
              "    .dataframe tbody tr th {\n",
              "        vertical-align: top;\n",
              "    }\n",
              "\n",
              "    .dataframe thead th {\n",
              "        text-align: right;\n",
              "    }\n",
              "</style>\n",
              "<table border=\"1\" class=\"dataframe\">\n",
              "  <thead>\n",
              "    <tr style=\"text-align: right;\">\n",
              "      <th></th>\n",
              "      <th>Title</th>\n",
              "      <th>a1</th>\n",
              "      <th>a2</th>\n",
              "      <th>a3</th>\n",
              "      <th>a4</th>\n",
              "      <th>a5</th>\n",
              "      <th>a6</th>\n",
              "      <th>a7</th>\n",
              "      <th>g1</th>\n",
              "      <th>g2</th>\n",
              "      <th>bc1</th>\n",
              "      <th>bc2</th>\n",
              "      <th>type</th>\n",
              "      <th>month</th>\n",
              "      <th>year</th>\n",
              "    </tr>\n",
              "  </thead>\n",
              "  <tbody>\n",
              "    <tr>\n",
              "      <th>0</th>\n",
              "      <td>THE PRISONER'S GOLD (THE HUNTERS 3)</td>\n",
              "      <td>CHRIS KUZNESKI</td>\n",
              "      <td>NONE</td>\n",
              "      <td>NONE</td>\n",
              "      <td>NONE</td>\n",
              "      <td>NONE</td>\n",
              "      <td>NONE</td>\n",
              "      <td>NONE</td>\n",
              "      <td>ACTION &amp; ADVENTURE (BOOKS)</td>\n",
              "      <td>NONE</td>\n",
              "      <td>ACTION &amp; ADVENTURE</td>\n",
              "      <td>NONE</td>\n",
              "      <td>PAPERBACK</td>\n",
              "      <td>Mar</td>\n",
              "      <td>2016</td>\n",
              "    </tr>\n",
              "    <tr>\n",
              "      <th>1</th>\n",
              "      <td>GURU DUTT: A TRAGEDY IN THREE ACTS</td>\n",
              "      <td>ARUN KHOPKAR</td>\n",
              "      <td>NONE</td>\n",
              "      <td>NONE</td>\n",
              "      <td>NONE</td>\n",
              "      <td>NONE</td>\n",
              "      <td>NONE</td>\n",
              "      <td>NONE</td>\n",
              "      <td>CINEMA &amp; BROADCAST (BOOKS)</td>\n",
              "      <td>NONE</td>\n",
              "      <td>BIOGRAPHIES</td>\n",
              "      <td>DIARIES &amp; TRUE ACCOUNTS</td>\n",
              "      <td>PAPERBACK</td>\n",
              "      <td>Nov</td>\n",
              "      <td>2012</td>\n",
              "    </tr>\n",
              "    <tr>\n",
              "      <th>2</th>\n",
              "      <td>LEVIATHAN (PENGUIN CLASSICS)</td>\n",
              "      <td>THOMAS HOBBES</td>\n",
              "      <td>NONE</td>\n",
              "      <td>NONE</td>\n",
              "      <td>NONE</td>\n",
              "      <td>NONE</td>\n",
              "      <td>NONE</td>\n",
              "      <td>NONE</td>\n",
              "      <td>INTERNATIONAL RELATIONS</td>\n",
              "      <td>NONE</td>\n",
              "      <td>HUMOUR</td>\n",
              "      <td>NONE</td>\n",
              "      <td>PAPERBACK</td>\n",
              "      <td>Feb</td>\n",
              "      <td>1982</td>\n",
              "    </tr>\n",
              "    <tr>\n",
              "      <th>3</th>\n",
              "      <td>A POCKET FULL OF RYE (MISS MARPLE)</td>\n",
              "      <td>AGATHA CHRISTIE</td>\n",
              "      <td>NONE</td>\n",
              "      <td>NONE</td>\n",
              "      <td>NONE</td>\n",
              "      <td>NONE</td>\n",
              "      <td>NONE</td>\n",
              "      <td>NONE</td>\n",
              "      <td>CONTEMPORARY FICTION (BOOKS)</td>\n",
              "      <td>NONE</td>\n",
              "      <td>CRIME</td>\n",
              "      <td>THRILLER &amp; MYSTERY</td>\n",
              "      <td>PAPERBACK</td>\n",
              "      <td>Oct</td>\n",
              "      <td>2017</td>\n",
              "    </tr>\n",
              "    <tr>\n",
              "      <th>4</th>\n",
              "      <td>LIFE 70 YEARS OF EXTRAORDINARY PHOTOGRAPHY</td>\n",
              "      <td>EDITORS OF LIFE</td>\n",
              "      <td>NONE</td>\n",
              "      <td>NONE</td>\n",
              "      <td>NONE</td>\n",
              "      <td>NONE</td>\n",
              "      <td>NONE</td>\n",
              "      <td>NONE</td>\n",
              "      <td>PHOTOGRAPHY TEXTBOOKS</td>\n",
              "      <td>NONE</td>\n",
              "      <td>ARTS</td>\n",
              "      <td>FILM &amp; PHOTOGRAPHY</td>\n",
              "      <td>HARDCOVER</td>\n",
              "      <td>Oct</td>\n",
              "      <td>2006</td>\n",
              "    </tr>\n",
              "    <tr>\n",
              "      <th>...</th>\n",
              "      <td>...</td>\n",
              "      <td>...</td>\n",
              "      <td>...</td>\n",
              "      <td>...</td>\n",
              "      <td>...</td>\n",
              "      <td>...</td>\n",
              "      <td>...</td>\n",
              "      <td>...</td>\n",
              "      <td>...</td>\n",
              "      <td>...</td>\n",
              "      <td>...</td>\n",
              "      <td>...</td>\n",
              "      <td>...</td>\n",
              "      <td>...</td>\n",
              "      <td>...</td>\n",
              "    </tr>\n",
              "    <tr>\n",
              "      <th>6232</th>\n",
              "      <td>HUMANS: A BRIEF HISTORY OF HOW WE F*CKED IT AL...</td>\n",
              "      <td>TOM PHILLIPS</td>\n",
              "      <td>NONE</td>\n",
              "      <td>NONE</td>\n",
              "      <td>NONE</td>\n",
              "      <td>NONE</td>\n",
              "      <td>NONE</td>\n",
              "      <td>NONE</td>\n",
              "      <td>ANTHROPOLOGY (BOOKS)</td>\n",
              "      <td>NONE</td>\n",
              "      <td>HUMOUR</td>\n",
              "      <td>NONE</td>\n",
              "      <td>PAPERBACK</td>\n",
              "      <td>Aug</td>\n",
              "      <td>2018</td>\n",
              "    </tr>\n",
              "    <tr>\n",
              "      <th>6233</th>\n",
              "      <td>THE CHEMIST</td>\n",
              "      <td>STEPHENIE MEYER</td>\n",
              "      <td>NONE</td>\n",
              "      <td>NONE</td>\n",
              "      <td>NONE</td>\n",
              "      <td>NONE</td>\n",
              "      <td>NONE</td>\n",
              "      <td>NONE</td>\n",
              "      <td>CONTEMPORARY FICTION (BOOKS)</td>\n",
              "      <td>NONE</td>\n",
              "      <td>CRIME</td>\n",
              "      <td>THRILLER &amp; MYSTERY</td>\n",
              "      <td>PAPERBACK</td>\n",
              "      <td>Nov</td>\n",
              "      <td>2016</td>\n",
              "    </tr>\n",
              "    <tr>\n",
              "      <th>6234</th>\n",
              "      <td>THE DUKE AND I: NUMBER 1 IN SERIES (BRIDGERTON...</td>\n",
              "      <td>JULIA QUINN</td>\n",
              "      <td>NONE</td>\n",
              "      <td>NONE</td>\n",
              "      <td>NONE</td>\n",
              "      <td>NONE</td>\n",
              "      <td>NONE</td>\n",
              "      <td>NONE</td>\n",
              "      <td>ROMANCE (BOOKS)</td>\n",
              "      <td>NONE</td>\n",
              "      <td>ROMANCE</td>\n",
              "      <td>NONE</td>\n",
              "      <td>PAPERBACK</td>\n",
              "      <td>Jun</td>\n",
              "      <td>2006</td>\n",
              "    </tr>\n",
              "    <tr>\n",
              "      <th>6235</th>\n",
              "      <td>FROSTFIRE (KANIN CHRONICLES)</td>\n",
              "      <td>AMANDA HOCKING</td>\n",
              "      <td>NONE</td>\n",
              "      <td>NONE</td>\n",
              "      <td>NONE</td>\n",
              "      <td>NONE</td>\n",
              "      <td>NONE</td>\n",
              "      <td>NONE</td>\n",
              "      <td>ACTION &amp; ADVENTURE (BOOKS)</td>\n",
              "      <td>NONE</td>\n",
              "      <td>ACTION &amp; ADVENTURE</td>\n",
              "      <td>NONE</td>\n",
              "      <td>PAPERBACK</td>\n",
              "      <td>Jan</td>\n",
              "      <td>2015</td>\n",
              "    </tr>\n",
              "    <tr>\n",
              "      <th>6236</th>\n",
              "      <td>THE FIRST ORDER (SAM CAPRA)</td>\n",
              "      <td>JEFF ABBOTT</td>\n",
              "      <td>NONE</td>\n",
              "      <td>NONE</td>\n",
              "      <td>NONE</td>\n",
              "      <td>NONE</td>\n",
              "      <td>NONE</td>\n",
              "      <td>NONE</td>\n",
              "      <td>ACTION &amp; ADVENTURE (BOOKS)</td>\n",
              "      <td>NONE</td>\n",
              "      <td>ACTION &amp; ADVENTURE</td>\n",
              "      <td>NONE</td>\n",
              "      <td>PAPERBACK</td>\n",
              "      <td>Dec</td>\n",
              "      <td>2016</td>\n",
              "    </tr>\n",
              "  </tbody>\n",
              "</table>\n",
              "<p>6237 rows × 15 columns</p>\n",
              "</div>"
            ],
            "text/plain": [
              "                                                  Title  ...  year\n",
              "0                   THE PRISONER'S GOLD (THE HUNTERS 3)  ...  2016\n",
              "1                    GURU DUTT: A TRAGEDY IN THREE ACTS  ...  2012\n",
              "2                          LEVIATHAN (PENGUIN CLASSICS)  ...  1982\n",
              "3                    A POCKET FULL OF RYE (MISS MARPLE)  ...  2017\n",
              "4            LIFE 70 YEARS OF EXTRAORDINARY PHOTOGRAPHY  ...  2006\n",
              "...                                                 ...  ...   ...\n",
              "6232  HUMANS: A BRIEF HISTORY OF HOW WE F*CKED IT AL...  ...  2018\n",
              "6233                                        THE CHEMIST  ...  2016\n",
              "6234  THE DUKE AND I: NUMBER 1 IN SERIES (BRIDGERTON...  ...  2006\n",
              "6235                       FROSTFIRE (KANIN CHRONICLES)  ...  2015\n",
              "6236                        THE FIRST ORDER (SAM CAPRA)  ...  2016\n",
              "\n",
              "[6237 rows x 15 columns]"
            ]
          },
          "metadata": {
            "tags": []
          },
          "execution_count": 63
        }
      ]
    },
    {
      "cell_type": "code",
      "metadata": {
        "id": "QGenvXmNtS6o"
      },
      "source": [
        "#for test set as well,"
      ],
      "execution_count": 64,
      "outputs": []
    },
    {
      "cell_type": "code",
      "metadata": {
        "id": "qHKPzI2JtcbM"
      },
      "source": [
        "ed_test_list=list(test_data['Edition'])\n",
        "ed_type=[i.split(',–')[0].strip().upper() for i in ed_test_list]\n",
        "\n",
        "#for month and year\n",
        "\n",
        "ed_date=[i.split(',–')[1].strip() for i in ed_test_list]\n",
        "ed_month=[i.split()[-2] for i in ed_test_list]\n",
        "#some months have shortage in Edition column,will handle\n",
        "months=['Jan','Feb','Mar','Apr','May','Jun','Jul','Aug','Sep','Oct','Nov','Dec']\n",
        "ed_month=[i if i in months else 'NA' for i in ed_month ]\n",
        "ed_year=[i.split()[-1] for i in ed_test_list]\n",
        "\n",
        "X_test['type']=ed_type\n",
        "X_test['month']=ed_month\n",
        "X_test['year']=ed_year"
      ],
      "execution_count": 65,
      "outputs": []
    },
    {
      "cell_type": "code",
      "metadata": {
        "colab": {
          "base_uri": "https://localhost:8080/",
          "height": 1000
        },
        "id": "SOjARAKut8t6",
        "outputId": "b31bd753-db6b-419d-a26e-a9cbf1021ca7"
      },
      "source": [
        "X_test"
      ],
      "execution_count": 66,
      "outputs": [
        {
          "output_type": "execute_result",
          "data": {
            "text/html": [
              "<div>\n",
              "<style scoped>\n",
              "    .dataframe tbody tr th:only-of-type {\n",
              "        vertical-align: middle;\n",
              "    }\n",
              "\n",
              "    .dataframe tbody tr th {\n",
              "        vertical-align: top;\n",
              "    }\n",
              "\n",
              "    .dataframe thead th {\n",
              "        text-align: right;\n",
              "    }\n",
              "</style>\n",
              "<table border=\"1\" class=\"dataframe\">\n",
              "  <thead>\n",
              "    <tr style=\"text-align: right;\">\n",
              "      <th></th>\n",
              "      <th>Title</th>\n",
              "      <th>a1</th>\n",
              "      <th>a2</th>\n",
              "      <th>a3</th>\n",
              "      <th>a4</th>\n",
              "      <th>a5</th>\n",
              "      <th>a6</th>\n",
              "      <th>a7</th>\n",
              "      <th>g1</th>\n",
              "      <th>g2</th>\n",
              "      <th>bc1</th>\n",
              "      <th>bc2</th>\n",
              "      <th>type</th>\n",
              "      <th>month</th>\n",
              "      <th>year</th>\n",
              "    </tr>\n",
              "  </thead>\n",
              "  <tbody>\n",
              "    <tr>\n",
              "      <th>0</th>\n",
              "      <td>THE COMPLETE SHERLOCK HOLMES: 2 BOXES SETS</td>\n",
              "      <td>SIR ARTHUR CONAN DOYLE</td>\n",
              "      <td>NONE</td>\n",
              "      <td>NONE</td>\n",
              "      <td>NONE</td>\n",
              "      <td>NONE</td>\n",
              "      <td>NONE</td>\n",
              "      <td>NONE</td>\n",
              "      <td>SHORT STORIES (BOOKS)</td>\n",
              "      <td>NONE</td>\n",
              "      <td>CRIME</td>\n",
              "      <td>THRILLER &amp; MYSTERY</td>\n",
              "      <td>MASS MARKET PAPERBACK</td>\n",
              "      <td>Oct</td>\n",
              "      <td>1986</td>\n",
              "    </tr>\n",
              "    <tr>\n",
              "      <th>1</th>\n",
              "      <td>LEARN DOCKER - FUNDAMENTALS OF DOCKER 18.X: EV...</td>\n",
              "      <td>GABRIEL N. SCHENKER</td>\n",
              "      <td>NONE</td>\n",
              "      <td>NONE</td>\n",
              "      <td>NONE</td>\n",
              "      <td>NONE</td>\n",
              "      <td>NONE</td>\n",
              "      <td>NONE</td>\n",
              "      <td>OPERATING SYSTEMS TEXTBOOKS</td>\n",
              "      <td>NONE</td>\n",
              "      <td>COMPUTING</td>\n",
              "      <td>INTERNET &amp; DIGITAL MEDIA</td>\n",
              "      <td>PAPERBACK</td>\n",
              "      <td>Apr</td>\n",
              "      <td>2018</td>\n",
              "    </tr>\n",
              "    <tr>\n",
              "      <th>2</th>\n",
              "      <td>BIG GIRL</td>\n",
              "      <td>DANIELLE STEEL</td>\n",
              "      <td>NONE</td>\n",
              "      <td>NONE</td>\n",
              "      <td>NONE</td>\n",
              "      <td>NONE</td>\n",
              "      <td>NONE</td>\n",
              "      <td>NONE</td>\n",
              "      <td>ROMANCE (BOOKS)</td>\n",
              "      <td>NONE</td>\n",
              "      <td>ROMANCE</td>\n",
              "      <td>NONE</td>\n",
              "      <td>PAPERBACK</td>\n",
              "      <td>Mar</td>\n",
              "      <td>2011</td>\n",
              "    </tr>\n",
              "    <tr>\n",
              "      <th>3</th>\n",
              "      <td>THINK PYTHON: HOW TO THINK LIKE A COMPUTER SCI...</td>\n",
              "      <td>ALLEN B. DOWNEY</td>\n",
              "      <td>NONE</td>\n",
              "      <td>NONE</td>\n",
              "      <td>NONE</td>\n",
              "      <td>NONE</td>\n",
              "      <td>NONE</td>\n",
              "      <td>NONE</td>\n",
              "      <td>PROGRAMMING &amp; SOFTWARE DEVELOPMENT (BOOKS)</td>\n",
              "      <td>NONE</td>\n",
              "      <td>COMPUTING</td>\n",
              "      <td>INTERNET &amp; DIGITAL MEDIA</td>\n",
              "      <td>PAPERBACK</td>\n",
              "      <td>NA</td>\n",
              "      <td>2016</td>\n",
              "    </tr>\n",
              "    <tr>\n",
              "      <th>4</th>\n",
              "      <td>OXFORD WORD SKILLS: ADVANCED - IDIOMS &amp; PHRASA...</td>\n",
              "      <td>REDMAN GAIRNS</td>\n",
              "      <td>NONE</td>\n",
              "      <td>NONE</td>\n",
              "      <td>NONE</td>\n",
              "      <td>NONE</td>\n",
              "      <td>NONE</td>\n",
              "      <td>NONE</td>\n",
              "      <td>LINGUISTICS (BOOKS)</td>\n",
              "      <td>NONE</td>\n",
              "      <td>LANGUAGE</td>\n",
              "      <td>LINGUISTICS &amp; WRITING</td>\n",
              "      <td>PAPERBACK</td>\n",
              "      <td>Dec</td>\n",
              "      <td>2011</td>\n",
              "    </tr>\n",
              "    <tr>\n",
              "      <th>...</th>\n",
              "      <td>...</td>\n",
              "      <td>...</td>\n",
              "      <td>...</td>\n",
              "      <td>...</td>\n",
              "      <td>...</td>\n",
              "      <td>...</td>\n",
              "      <td>...</td>\n",
              "      <td>...</td>\n",
              "      <td>...</td>\n",
              "      <td>...</td>\n",
              "      <td>...</td>\n",
              "      <td>...</td>\n",
              "      <td>...</td>\n",
              "      <td>...</td>\n",
              "      <td>...</td>\n",
              "    </tr>\n",
              "    <tr>\n",
              "      <th>1555</th>\n",
              "      <td>100 THINGS EVERY DESIGNER NEEDS TO KNOW ABOUT ...</td>\n",
              "      <td>SUSAN WEINSCHENK</td>\n",
              "      <td>NONE</td>\n",
              "      <td>NONE</td>\n",
              "      <td>NONE</td>\n",
              "      <td>NONE</td>\n",
              "      <td>NONE</td>\n",
              "      <td>NONE</td>\n",
              "      <td>DESIGN</td>\n",
              "      <td>NONE</td>\n",
              "      <td>COMPUTING</td>\n",
              "      <td>INTERNET &amp; DIGITAL MEDIA</td>\n",
              "      <td>PAPERBACK</td>\n",
              "      <td>Apr</td>\n",
              "      <td>2011</td>\n",
              "    </tr>\n",
              "    <tr>\n",
              "      <th>1556</th>\n",
              "      <td>MODERN LETTER WRITING COURSE: PERSONAL, BUSINE...</td>\n",
              "      <td>ARUN SAGAR</td>\n",
              "      <td>NONE</td>\n",
              "      <td>NONE</td>\n",
              "      <td>NONE</td>\n",
              "      <td>NONE</td>\n",
              "      <td>NONE</td>\n",
              "      <td>NONE</td>\n",
              "      <td>CHILDREN'S REFERENCE (BOOKS)</td>\n",
              "      <td>NONE</td>\n",
              "      <td>BIOGRAPHIES</td>\n",
              "      <td>DIARIES &amp; TRUE ACCOUNTS</td>\n",
              "      <td>PAPERBACK</td>\n",
              "      <td>May</td>\n",
              "      <td>2013</td>\n",
              "    </tr>\n",
              "    <tr>\n",
              "      <th>1557</th>\n",
              "      <td>THE KITE RUNNER GRAPHIC NOVEL</td>\n",
              "      <td>KHALED HOSSEINI</td>\n",
              "      <td>NONE</td>\n",
              "      <td>NONE</td>\n",
              "      <td>NONE</td>\n",
              "      <td>NONE</td>\n",
              "      <td>NONE</td>\n",
              "      <td>NONE</td>\n",
              "      <td>HUMOUR (BOOKS)</td>\n",
              "      <td>NONE</td>\n",
              "      <td>HUMOUR</td>\n",
              "      <td>NONE</td>\n",
              "      <td>PAPERBACK</td>\n",
              "      <td>Sep</td>\n",
              "      <td>2011</td>\n",
              "    </tr>\n",
              "    <tr>\n",
              "      <th>1558</th>\n",
              "      <td>PANZER LEADER (PENGUIN WORLD WAR II COLLECTION)</td>\n",
              "      <td>HEINZ GUDERIAN</td>\n",
              "      <td>NONE</td>\n",
              "      <td>NONE</td>\n",
              "      <td>NONE</td>\n",
              "      <td>NONE</td>\n",
              "      <td>NONE</td>\n",
              "      <td>NONE</td>\n",
              "      <td>UNITED STATES HISTORY</td>\n",
              "      <td>NONE</td>\n",
              "      <td>BIOGRAPHIES</td>\n",
              "      <td>DIARIES &amp; TRUE ACCOUNTS</td>\n",
              "      <td>PAPERBACK</td>\n",
              "      <td>Sep</td>\n",
              "      <td>2009</td>\n",
              "    </tr>\n",
              "    <tr>\n",
              "      <th>1559</th>\n",
              "      <td>COMPLETE SPANISH STEP-BY-STEP</td>\n",
              "      <td>BARBARA BREGSTEIN</td>\n",
              "      <td>NONE</td>\n",
              "      <td>NONE</td>\n",
              "      <td>NONE</td>\n",
              "      <td>NONE</td>\n",
              "      <td>NONE</td>\n",
              "      <td>NONE</td>\n",
              "      <td>DICTIONARIES</td>\n",
              "      <td>NONE</td>\n",
              "      <td>LANGUAGE</td>\n",
              "      <td>LINGUISTICS &amp; WRITING</td>\n",
              "      <td>PAPERBACK</td>\n",
              "      <td>Sep</td>\n",
              "      <td>2016</td>\n",
              "    </tr>\n",
              "  </tbody>\n",
              "</table>\n",
              "<p>1560 rows × 15 columns</p>\n",
              "</div>"
            ],
            "text/plain": [
              "                                                  Title  ...  year\n",
              "0            THE COMPLETE SHERLOCK HOLMES: 2 BOXES SETS  ...  1986\n",
              "1     LEARN DOCKER - FUNDAMENTALS OF DOCKER 18.X: EV...  ...  2018\n",
              "2                                              BIG GIRL  ...  2011\n",
              "3     THINK PYTHON: HOW TO THINK LIKE A COMPUTER SCI...  ...  2016\n",
              "4     OXFORD WORD SKILLS: ADVANCED - IDIOMS & PHRASA...  ...  2011\n",
              "...                                                 ...  ...   ...\n",
              "1555  100 THINGS EVERY DESIGNER NEEDS TO KNOW ABOUT ...  ...  2011\n",
              "1556  MODERN LETTER WRITING COURSE: PERSONAL, BUSINE...  ...  2013\n",
              "1557                      THE KITE RUNNER GRAPHIC NOVEL  ...  2011\n",
              "1558    PANZER LEADER (PENGUIN WORLD WAR II COLLECTION)  ...  2009\n",
              "1559                      COMPLETE SPANISH STEP-BY-STEP  ...  2016\n",
              "\n",
              "[1560 rows x 15 columns]"
            ]
          },
          "metadata": {
            "tags": []
          },
          "execution_count": 66
        }
      ]
    },
    {
      "cell_type": "markdown",
      "metadata": {
        "id": "Kr3EnoL5t-Gp"
      },
      "source": [
        "###Rating and Reviews"
      ]
    },
    {
      "cell_type": "code",
      "metadata": {
        "colab": {
          "base_uri": "https://localhost:8080/",
          "height": 357
        },
        "id": "GJ8FD0YSudSn",
        "outputId": "5cd3f797-b340-4875-cb60-729f33982004"
      },
      "source": [
        "train_data.head()"
      ],
      "execution_count": 67,
      "outputs": [
        {
          "output_type": "execute_result",
          "data": {
            "text/html": [
              "<div>\n",
              "<style scoped>\n",
              "    .dataframe tbody tr th:only-of-type {\n",
              "        vertical-align: middle;\n",
              "    }\n",
              "\n",
              "    .dataframe tbody tr th {\n",
              "        vertical-align: top;\n",
              "    }\n",
              "\n",
              "    .dataframe thead th {\n",
              "        text-align: right;\n",
              "    }\n",
              "</style>\n",
              "<table border=\"1\" class=\"dataframe\">\n",
              "  <thead>\n",
              "    <tr style=\"text-align: right;\">\n",
              "      <th></th>\n",
              "      <th>Title</th>\n",
              "      <th>Author</th>\n",
              "      <th>Edition</th>\n",
              "      <th>Reviews</th>\n",
              "      <th>Ratings</th>\n",
              "      <th>Genre</th>\n",
              "      <th>BookCategory</th>\n",
              "      <th>Price</th>\n",
              "    </tr>\n",
              "  </thead>\n",
              "  <tbody>\n",
              "    <tr>\n",
              "      <th>0</th>\n",
              "      <td>The Prisoner's Gold (The Hunters 3)</td>\n",
              "      <td>Chris Kuzneski</td>\n",
              "      <td>Paperback,– 10 Mar 2016</td>\n",
              "      <td>4.0 out of 5 stars</td>\n",
              "      <td>8 customer reviews</td>\n",
              "      <td>Action &amp; Adventure (Books)</td>\n",
              "      <td>Action &amp; Adventure</td>\n",
              "      <td>220.00</td>\n",
              "    </tr>\n",
              "    <tr>\n",
              "      <th>1</th>\n",
              "      <td>Guru Dutt: A Tragedy in Three Acts</td>\n",
              "      <td>Arun Khopkar</td>\n",
              "      <td>Paperback,– 7 Nov 2012</td>\n",
              "      <td>3.9 out of 5 stars</td>\n",
              "      <td>14 customer reviews</td>\n",
              "      <td>Cinema &amp; Broadcast (Books)</td>\n",
              "      <td>Biographies, Diaries &amp; True Accounts</td>\n",
              "      <td>202.93</td>\n",
              "    </tr>\n",
              "    <tr>\n",
              "      <th>2</th>\n",
              "      <td>Leviathan (Penguin Classics)</td>\n",
              "      <td>Thomas Hobbes</td>\n",
              "      <td>Paperback,– 25 Feb 1982</td>\n",
              "      <td>4.8 out of 5 stars</td>\n",
              "      <td>6 customer reviews</td>\n",
              "      <td>International Relations</td>\n",
              "      <td>Humour</td>\n",
              "      <td>299.00</td>\n",
              "    </tr>\n",
              "    <tr>\n",
              "      <th>3</th>\n",
              "      <td>A Pocket Full of Rye (Miss Marple)</td>\n",
              "      <td>Agatha Christie</td>\n",
              "      <td>Paperback,– 5 Oct 2017</td>\n",
              "      <td>4.1 out of 5 stars</td>\n",
              "      <td>13 customer reviews</td>\n",
              "      <td>Contemporary Fiction (Books)</td>\n",
              "      <td>Crime, Thriller &amp; Mystery</td>\n",
              "      <td>180.00</td>\n",
              "    </tr>\n",
              "    <tr>\n",
              "      <th>4</th>\n",
              "      <td>LIFE 70 Years of Extraordinary Photography</td>\n",
              "      <td>Editors of Life</td>\n",
              "      <td>Hardcover,– 10 Oct 2006</td>\n",
              "      <td>5.0 out of 5 stars</td>\n",
              "      <td>1 customer review</td>\n",
              "      <td>Photography Textbooks</td>\n",
              "      <td>Arts, Film &amp; Photography</td>\n",
              "      <td>965.62</td>\n",
              "    </tr>\n",
              "  </tbody>\n",
              "</table>\n",
              "</div>"
            ],
            "text/plain": [
              "                                        Title  ...   Price\n",
              "0         The Prisoner's Gold (The Hunters 3)  ...  220.00\n",
              "1          Guru Dutt: A Tragedy in Three Acts  ...  202.93\n",
              "2                Leviathan (Penguin Classics)  ...  299.00\n",
              "3          A Pocket Full of Rye (Miss Marple)  ...  180.00\n",
              "4  LIFE 70 Years of Extraordinary Photography  ...  965.62\n",
              "\n",
              "[5 rows x 8 columns]"
            ]
          },
          "metadata": {
            "tags": []
          },
          "execution_count": 67
        }
      ]
    },
    {
      "cell_type": "code",
      "metadata": {
        "id": "urRHEB1gutD3"
      },
      "source": [
        "#here Ratings and Reviews mislabeled each other. and we can apply directly"
      ],
      "execution_count": 68,
      "outputs": []
    },
    {
      "cell_type": "code",
      "metadata": {
        "id": "Eoyya-pFvUqo"
      },
      "source": [
        "X_train['Reviews']=[i.split()[0] for i in list(train_data['Ratings'])]\n",
        "X_train['Ratings']=[i.split()[0] for i in list(train_data['Reviews'])]\n",
        "\n",
        "#similarly for test\n",
        "X_test['Reviews']=[i.split()[0] for i in list(test_data['Ratings'])]\n",
        "X_test['Ratings']=[i.split()[0] for i in list(test_data['Reviews'])]"
      ],
      "execution_count": 69,
      "outputs": []
    },
    {
      "cell_type": "code",
      "metadata": {
        "colab": {
          "base_uri": "https://localhost:8080/"
        },
        "id": "itb6SDff4j_j",
        "outputId": "3fb9cf1a-7b1e-4bac-b0ba-572f808e9d06"
      },
      "source": [
        "X_train.shape"
      ],
      "execution_count": 70,
      "outputs": [
        {
          "output_type": "execute_result",
          "data": {
            "text/plain": [
              "(6237, 17)"
            ]
          },
          "metadata": {
            "tags": []
          },
          "execution_count": 70
        }
      ]
    },
    {
      "cell_type": "markdown",
      "metadata": {
        "id": "q0_clu4Pwpyq"
      },
      "source": [
        "##Labels"
      ]
    },
    {
      "cell_type": "code",
      "metadata": {
        "colab": {
          "base_uri": "https://localhost:8080/"
        },
        "id": "B69dXWHCwsgw",
        "outputId": "47bbcc9a-8fb9-472e-ec29-69a5e382092a"
      },
      "source": [
        "y_train=train_data['Price']\n",
        "y_train.shape"
      ],
      "execution_count": 71,
      "outputs": [
        {
          "output_type": "execute_result",
          "data": {
            "text/plain": [
              "(6237,)"
            ]
          },
          "metadata": {
            "tags": []
          },
          "execution_count": 71
        }
      ]
    },
    {
      "cell_type": "markdown",
      "metadata": {
        "id": "7WXgj9hPwLSD"
      },
      "source": [
        "Finished Feature Extraction"
      ]
    },
    {
      "cell_type": "markdown",
      "metadata": {
        "id": "pphhcic-wQJh"
      },
      "source": [
        "Let's see features"
      ]
    },
    {
      "cell_type": "markdown",
      "metadata": {
        "id": "TYdW0s3MwTqi"
      },
      "source": [
        "### X_train"
      ]
    },
    {
      "cell_type": "code",
      "metadata": {
        "colab": {
          "base_uri": "https://localhost:8080/",
          "height": 411
        },
        "id": "MSrG1UnrwFFk",
        "outputId": "6959509b-efdd-47b3-927d-7e30561e817e"
      },
      "source": [
        "X_train.head()"
      ],
      "execution_count": 72,
      "outputs": [
        {
          "output_type": "execute_result",
          "data": {
            "text/html": [
              "<div>\n",
              "<style scoped>\n",
              "    .dataframe tbody tr th:only-of-type {\n",
              "        vertical-align: middle;\n",
              "    }\n",
              "\n",
              "    .dataframe tbody tr th {\n",
              "        vertical-align: top;\n",
              "    }\n",
              "\n",
              "    .dataframe thead th {\n",
              "        text-align: right;\n",
              "    }\n",
              "</style>\n",
              "<table border=\"1\" class=\"dataframe\">\n",
              "  <thead>\n",
              "    <tr style=\"text-align: right;\">\n",
              "      <th></th>\n",
              "      <th>Title</th>\n",
              "      <th>a1</th>\n",
              "      <th>a2</th>\n",
              "      <th>a3</th>\n",
              "      <th>a4</th>\n",
              "      <th>a5</th>\n",
              "      <th>a6</th>\n",
              "      <th>a7</th>\n",
              "      <th>g1</th>\n",
              "      <th>g2</th>\n",
              "      <th>bc1</th>\n",
              "      <th>bc2</th>\n",
              "      <th>type</th>\n",
              "      <th>month</th>\n",
              "      <th>year</th>\n",
              "      <th>Reviews</th>\n",
              "      <th>Ratings</th>\n",
              "    </tr>\n",
              "  </thead>\n",
              "  <tbody>\n",
              "    <tr>\n",
              "      <th>0</th>\n",
              "      <td>THE PRISONER'S GOLD (THE HUNTERS 3)</td>\n",
              "      <td>CHRIS KUZNESKI</td>\n",
              "      <td>NONE</td>\n",
              "      <td>NONE</td>\n",
              "      <td>NONE</td>\n",
              "      <td>NONE</td>\n",
              "      <td>NONE</td>\n",
              "      <td>NONE</td>\n",
              "      <td>ACTION &amp; ADVENTURE (BOOKS)</td>\n",
              "      <td>NONE</td>\n",
              "      <td>ACTION &amp; ADVENTURE</td>\n",
              "      <td>NONE</td>\n",
              "      <td>PAPERBACK</td>\n",
              "      <td>Mar</td>\n",
              "      <td>2016</td>\n",
              "      <td>8</td>\n",
              "      <td>4.0</td>\n",
              "    </tr>\n",
              "    <tr>\n",
              "      <th>1</th>\n",
              "      <td>GURU DUTT: A TRAGEDY IN THREE ACTS</td>\n",
              "      <td>ARUN KHOPKAR</td>\n",
              "      <td>NONE</td>\n",
              "      <td>NONE</td>\n",
              "      <td>NONE</td>\n",
              "      <td>NONE</td>\n",
              "      <td>NONE</td>\n",
              "      <td>NONE</td>\n",
              "      <td>CINEMA &amp; BROADCAST (BOOKS)</td>\n",
              "      <td>NONE</td>\n",
              "      <td>BIOGRAPHIES</td>\n",
              "      <td>DIARIES &amp; TRUE ACCOUNTS</td>\n",
              "      <td>PAPERBACK</td>\n",
              "      <td>Nov</td>\n",
              "      <td>2012</td>\n",
              "      <td>14</td>\n",
              "      <td>3.9</td>\n",
              "    </tr>\n",
              "    <tr>\n",
              "      <th>2</th>\n",
              "      <td>LEVIATHAN (PENGUIN CLASSICS)</td>\n",
              "      <td>THOMAS HOBBES</td>\n",
              "      <td>NONE</td>\n",
              "      <td>NONE</td>\n",
              "      <td>NONE</td>\n",
              "      <td>NONE</td>\n",
              "      <td>NONE</td>\n",
              "      <td>NONE</td>\n",
              "      <td>INTERNATIONAL RELATIONS</td>\n",
              "      <td>NONE</td>\n",
              "      <td>HUMOUR</td>\n",
              "      <td>NONE</td>\n",
              "      <td>PAPERBACK</td>\n",
              "      <td>Feb</td>\n",
              "      <td>1982</td>\n",
              "      <td>6</td>\n",
              "      <td>4.8</td>\n",
              "    </tr>\n",
              "    <tr>\n",
              "      <th>3</th>\n",
              "      <td>A POCKET FULL OF RYE (MISS MARPLE)</td>\n",
              "      <td>AGATHA CHRISTIE</td>\n",
              "      <td>NONE</td>\n",
              "      <td>NONE</td>\n",
              "      <td>NONE</td>\n",
              "      <td>NONE</td>\n",
              "      <td>NONE</td>\n",
              "      <td>NONE</td>\n",
              "      <td>CONTEMPORARY FICTION (BOOKS)</td>\n",
              "      <td>NONE</td>\n",
              "      <td>CRIME</td>\n",
              "      <td>THRILLER &amp; MYSTERY</td>\n",
              "      <td>PAPERBACK</td>\n",
              "      <td>Oct</td>\n",
              "      <td>2017</td>\n",
              "      <td>13</td>\n",
              "      <td>4.1</td>\n",
              "    </tr>\n",
              "    <tr>\n",
              "      <th>4</th>\n",
              "      <td>LIFE 70 YEARS OF EXTRAORDINARY PHOTOGRAPHY</td>\n",
              "      <td>EDITORS OF LIFE</td>\n",
              "      <td>NONE</td>\n",
              "      <td>NONE</td>\n",
              "      <td>NONE</td>\n",
              "      <td>NONE</td>\n",
              "      <td>NONE</td>\n",
              "      <td>NONE</td>\n",
              "      <td>PHOTOGRAPHY TEXTBOOKS</td>\n",
              "      <td>NONE</td>\n",
              "      <td>ARTS</td>\n",
              "      <td>FILM &amp; PHOTOGRAPHY</td>\n",
              "      <td>HARDCOVER</td>\n",
              "      <td>Oct</td>\n",
              "      <td>2006</td>\n",
              "      <td>1</td>\n",
              "      <td>5.0</td>\n",
              "    </tr>\n",
              "  </tbody>\n",
              "</table>\n",
              "</div>"
            ],
            "text/plain": [
              "                                        Title               a1  ... Reviews Ratings\n",
              "0         THE PRISONER'S GOLD (THE HUNTERS 3)   CHRIS KUZNESKI  ...       8     4.0\n",
              "1          GURU DUTT: A TRAGEDY IN THREE ACTS     ARUN KHOPKAR  ...      14     3.9\n",
              "2                LEVIATHAN (PENGUIN CLASSICS)    THOMAS HOBBES  ...       6     4.8\n",
              "3          A POCKET FULL OF RYE (MISS MARPLE)  AGATHA CHRISTIE  ...      13     4.1\n",
              "4  LIFE 70 YEARS OF EXTRAORDINARY PHOTOGRAPHY  EDITORS OF LIFE  ...       1     5.0\n",
              "\n",
              "[5 rows x 17 columns]"
            ]
          },
          "metadata": {
            "tags": []
          },
          "execution_count": 72
        }
      ]
    },
    {
      "cell_type": "markdown",
      "metadata": {
        "id": "6ELkI4k9wHsp"
      },
      "source": [
        "### X_test"
      ]
    },
    {
      "cell_type": "code",
      "metadata": {
        "colab": {
          "base_uri": "https://localhost:8080/",
          "height": 1000
        },
        "id": "PF2M99KLwh19",
        "outputId": "825829df-1b02-4d59-b35d-a382bc49b1a2"
      },
      "source": [
        "X_test"
      ],
      "execution_count": 73,
      "outputs": [
        {
          "output_type": "execute_result",
          "data": {
            "text/html": [
              "<div>\n",
              "<style scoped>\n",
              "    .dataframe tbody tr th:only-of-type {\n",
              "        vertical-align: middle;\n",
              "    }\n",
              "\n",
              "    .dataframe tbody tr th {\n",
              "        vertical-align: top;\n",
              "    }\n",
              "\n",
              "    .dataframe thead th {\n",
              "        text-align: right;\n",
              "    }\n",
              "</style>\n",
              "<table border=\"1\" class=\"dataframe\">\n",
              "  <thead>\n",
              "    <tr style=\"text-align: right;\">\n",
              "      <th></th>\n",
              "      <th>Title</th>\n",
              "      <th>a1</th>\n",
              "      <th>a2</th>\n",
              "      <th>a3</th>\n",
              "      <th>a4</th>\n",
              "      <th>a5</th>\n",
              "      <th>a6</th>\n",
              "      <th>a7</th>\n",
              "      <th>g1</th>\n",
              "      <th>g2</th>\n",
              "      <th>bc1</th>\n",
              "      <th>bc2</th>\n",
              "      <th>type</th>\n",
              "      <th>month</th>\n",
              "      <th>year</th>\n",
              "      <th>Reviews</th>\n",
              "      <th>Ratings</th>\n",
              "    </tr>\n",
              "  </thead>\n",
              "  <tbody>\n",
              "    <tr>\n",
              "      <th>0</th>\n",
              "      <td>THE COMPLETE SHERLOCK HOLMES: 2 BOXES SETS</td>\n",
              "      <td>SIR ARTHUR CONAN DOYLE</td>\n",
              "      <td>NONE</td>\n",
              "      <td>NONE</td>\n",
              "      <td>NONE</td>\n",
              "      <td>NONE</td>\n",
              "      <td>NONE</td>\n",
              "      <td>NONE</td>\n",
              "      <td>SHORT STORIES (BOOKS)</td>\n",
              "      <td>NONE</td>\n",
              "      <td>CRIME</td>\n",
              "      <td>THRILLER &amp; MYSTERY</td>\n",
              "      <td>MASS MARKET PAPERBACK</td>\n",
              "      <td>Oct</td>\n",
              "      <td>1986</td>\n",
              "      <td>960</td>\n",
              "      <td>4.4</td>\n",
              "    </tr>\n",
              "    <tr>\n",
              "      <th>1</th>\n",
              "      <td>LEARN DOCKER - FUNDAMENTALS OF DOCKER 18.X: EV...</td>\n",
              "      <td>GABRIEL N. SCHENKER</td>\n",
              "      <td>NONE</td>\n",
              "      <td>NONE</td>\n",
              "      <td>NONE</td>\n",
              "      <td>NONE</td>\n",
              "      <td>NONE</td>\n",
              "      <td>NONE</td>\n",
              "      <td>OPERATING SYSTEMS TEXTBOOKS</td>\n",
              "      <td>NONE</td>\n",
              "      <td>COMPUTING</td>\n",
              "      <td>INTERNET &amp; DIGITAL MEDIA</td>\n",
              "      <td>PAPERBACK</td>\n",
              "      <td>Apr</td>\n",
              "      <td>2018</td>\n",
              "      <td>1</td>\n",
              "      <td>5.0</td>\n",
              "    </tr>\n",
              "    <tr>\n",
              "      <th>2</th>\n",
              "      <td>BIG GIRL</td>\n",
              "      <td>DANIELLE STEEL</td>\n",
              "      <td>NONE</td>\n",
              "      <td>NONE</td>\n",
              "      <td>NONE</td>\n",
              "      <td>NONE</td>\n",
              "      <td>NONE</td>\n",
              "      <td>NONE</td>\n",
              "      <td>ROMANCE (BOOKS)</td>\n",
              "      <td>NONE</td>\n",
              "      <td>ROMANCE</td>\n",
              "      <td>NONE</td>\n",
              "      <td>PAPERBACK</td>\n",
              "      <td>Mar</td>\n",
              "      <td>2011</td>\n",
              "      <td>4</td>\n",
              "      <td>5.0</td>\n",
              "    </tr>\n",
              "    <tr>\n",
              "      <th>3</th>\n",
              "      <td>THINK PYTHON: HOW TO THINK LIKE A COMPUTER SCI...</td>\n",
              "      <td>ALLEN B. DOWNEY</td>\n",
              "      <td>NONE</td>\n",
              "      <td>NONE</td>\n",
              "      <td>NONE</td>\n",
              "      <td>NONE</td>\n",
              "      <td>NONE</td>\n",
              "      <td>NONE</td>\n",
              "      <td>PROGRAMMING &amp; SOFTWARE DEVELOPMENT (BOOKS)</td>\n",
              "      <td>NONE</td>\n",
              "      <td>COMPUTING</td>\n",
              "      <td>INTERNET &amp; DIGITAL MEDIA</td>\n",
              "      <td>PAPERBACK</td>\n",
              "      <td>NA</td>\n",
              "      <td>2016</td>\n",
              "      <td>11</td>\n",
              "      <td>4.1</td>\n",
              "    </tr>\n",
              "    <tr>\n",
              "      <th>4</th>\n",
              "      <td>OXFORD WORD SKILLS: ADVANCED - IDIOMS &amp; PHRASA...</td>\n",
              "      <td>REDMAN GAIRNS</td>\n",
              "      <td>NONE</td>\n",
              "      <td>NONE</td>\n",
              "      <td>NONE</td>\n",
              "      <td>NONE</td>\n",
              "      <td>NONE</td>\n",
              "      <td>NONE</td>\n",
              "      <td>LINGUISTICS (BOOKS)</td>\n",
              "      <td>NONE</td>\n",
              "      <td>LANGUAGE</td>\n",
              "      <td>LINGUISTICS &amp; WRITING</td>\n",
              "      <td>PAPERBACK</td>\n",
              "      <td>Dec</td>\n",
              "      <td>2011</td>\n",
              "      <td>9</td>\n",
              "      <td>4.4</td>\n",
              "    </tr>\n",
              "    <tr>\n",
              "      <th>...</th>\n",
              "      <td>...</td>\n",
              "      <td>...</td>\n",
              "      <td>...</td>\n",
              "      <td>...</td>\n",
              "      <td>...</td>\n",
              "      <td>...</td>\n",
              "      <td>...</td>\n",
              "      <td>...</td>\n",
              "      <td>...</td>\n",
              "      <td>...</td>\n",
              "      <td>...</td>\n",
              "      <td>...</td>\n",
              "      <td>...</td>\n",
              "      <td>...</td>\n",
              "      <td>...</td>\n",
              "      <td>...</td>\n",
              "      <td>...</td>\n",
              "    </tr>\n",
              "    <tr>\n",
              "      <th>1555</th>\n",
              "      <td>100 THINGS EVERY DESIGNER NEEDS TO KNOW ABOUT ...</td>\n",
              "      <td>SUSAN WEINSCHENK</td>\n",
              "      <td>NONE</td>\n",
              "      <td>NONE</td>\n",
              "      <td>NONE</td>\n",
              "      <td>NONE</td>\n",
              "      <td>NONE</td>\n",
              "      <td>NONE</td>\n",
              "      <td>DESIGN</td>\n",
              "      <td>NONE</td>\n",
              "      <td>COMPUTING</td>\n",
              "      <td>INTERNET &amp; DIGITAL MEDIA</td>\n",
              "      <td>PAPERBACK</td>\n",
              "      <td>Apr</td>\n",
              "      <td>2011</td>\n",
              "      <td>4</td>\n",
              "      <td>5.0</td>\n",
              "    </tr>\n",
              "    <tr>\n",
              "      <th>1556</th>\n",
              "      <td>MODERN LETTER WRITING COURSE: PERSONAL, BUSINE...</td>\n",
              "      <td>ARUN SAGAR</td>\n",
              "      <td>NONE</td>\n",
              "      <td>NONE</td>\n",
              "      <td>NONE</td>\n",
              "      <td>NONE</td>\n",
              "      <td>NONE</td>\n",
              "      <td>NONE</td>\n",
              "      <td>CHILDREN'S REFERENCE (BOOKS)</td>\n",
              "      <td>NONE</td>\n",
              "      <td>BIOGRAPHIES</td>\n",
              "      <td>DIARIES &amp; TRUE ACCOUNTS</td>\n",
              "      <td>PAPERBACK</td>\n",
              "      <td>May</td>\n",
              "      <td>2013</td>\n",
              "      <td>13</td>\n",
              "      <td>3.6</td>\n",
              "    </tr>\n",
              "    <tr>\n",
              "      <th>1557</th>\n",
              "      <td>THE KITE RUNNER GRAPHIC NOVEL</td>\n",
              "      <td>KHALED HOSSEINI</td>\n",
              "      <td>NONE</td>\n",
              "      <td>NONE</td>\n",
              "      <td>NONE</td>\n",
              "      <td>NONE</td>\n",
              "      <td>NONE</td>\n",
              "      <td>NONE</td>\n",
              "      <td>HUMOUR (BOOKS)</td>\n",
              "      <td>NONE</td>\n",
              "      <td>HUMOUR</td>\n",
              "      <td>NONE</td>\n",
              "      <td>PAPERBACK</td>\n",
              "      <td>Sep</td>\n",
              "      <td>2011</td>\n",
              "      <td>5</td>\n",
              "      <td>4.0</td>\n",
              "    </tr>\n",
              "    <tr>\n",
              "      <th>1558</th>\n",
              "      <td>PANZER LEADER (PENGUIN WORLD WAR II COLLECTION)</td>\n",
              "      <td>HEINZ GUDERIAN</td>\n",
              "      <td>NONE</td>\n",
              "      <td>NONE</td>\n",
              "      <td>NONE</td>\n",
              "      <td>NONE</td>\n",
              "      <td>NONE</td>\n",
              "      <td>NONE</td>\n",
              "      <td>UNITED STATES HISTORY</td>\n",
              "      <td>NONE</td>\n",
              "      <td>BIOGRAPHIES</td>\n",
              "      <td>DIARIES &amp; TRUE ACCOUNTS</td>\n",
              "      <td>PAPERBACK</td>\n",
              "      <td>Sep</td>\n",
              "      <td>2009</td>\n",
              "      <td>3</td>\n",
              "      <td>3.5</td>\n",
              "    </tr>\n",
              "    <tr>\n",
              "      <th>1559</th>\n",
              "      <td>COMPLETE SPANISH STEP-BY-STEP</td>\n",
              "      <td>BARBARA BREGSTEIN</td>\n",
              "      <td>NONE</td>\n",
              "      <td>NONE</td>\n",
              "      <td>NONE</td>\n",
              "      <td>NONE</td>\n",
              "      <td>NONE</td>\n",
              "      <td>NONE</td>\n",
              "      <td>DICTIONARIES</td>\n",
              "      <td>NONE</td>\n",
              "      <td>LANGUAGE</td>\n",
              "      <td>LINGUISTICS &amp; WRITING</td>\n",
              "      <td>PAPERBACK</td>\n",
              "      <td>Sep</td>\n",
              "      <td>2016</td>\n",
              "      <td>2</td>\n",
              "      <td>4.5</td>\n",
              "    </tr>\n",
              "  </tbody>\n",
              "</table>\n",
              "<p>1560 rows × 17 columns</p>\n",
              "</div>"
            ],
            "text/plain": [
              "                                                  Title  ... Ratings\n",
              "0            THE COMPLETE SHERLOCK HOLMES: 2 BOXES SETS  ...     4.4\n",
              "1     LEARN DOCKER - FUNDAMENTALS OF DOCKER 18.X: EV...  ...     5.0\n",
              "2                                              BIG GIRL  ...     5.0\n",
              "3     THINK PYTHON: HOW TO THINK LIKE A COMPUTER SCI...  ...     4.1\n",
              "4     OXFORD WORD SKILLS: ADVANCED - IDIOMS & PHRASA...  ...     4.4\n",
              "...                                                 ...  ...     ...\n",
              "1555  100 THINGS EVERY DESIGNER NEEDS TO KNOW ABOUT ...  ...     5.0\n",
              "1556  MODERN LETTER WRITING COURSE: PERSONAL, BUSINE...  ...     3.6\n",
              "1557                      THE KITE RUNNER GRAPHIC NOVEL  ...     4.0\n",
              "1558    PANZER LEADER (PENGUIN WORLD WAR II COLLECTION)  ...     3.5\n",
              "1559                      COMPLETE SPANISH STEP-BY-STEP  ...     4.5\n",
              "\n",
              "[1560 rows x 17 columns]"
            ]
          },
          "metadata": {
            "tags": []
          },
          "execution_count": 73
        }
      ]
    },
    {
      "cell_type": "code",
      "metadata": {
        "id": "A3wRK5Y8wi_R"
      },
      "source": [
        "###preprocessing"
      ],
      "execution_count": 74,
      "outputs": []
    },
    {
      "cell_type": "markdown",
      "metadata": {
        "id": "4wCv_nlT4z4Q"
      },
      "source": [
        "##LabelEncoding"
      ]
    },
    {
      "cell_type": "code",
      "metadata": {
        "colab": {
          "base_uri": "https://localhost:8080/",
          "height": 295
        },
        "id": "bxztVKKA425U",
        "outputId": "220773a2-1bf2-4474-ea4f-a4dd7ad8e2ab"
      },
      "source": [
        "#before that just describe it\n",
        "X_train.describe(include='all')"
      ],
      "execution_count": 75,
      "outputs": [
        {
          "output_type": "execute_result",
          "data": {
            "text/html": [
              "<div>\n",
              "<style scoped>\n",
              "    .dataframe tbody tr th:only-of-type {\n",
              "        vertical-align: middle;\n",
              "    }\n",
              "\n",
              "    .dataframe tbody tr th {\n",
              "        vertical-align: top;\n",
              "    }\n",
              "\n",
              "    .dataframe thead th {\n",
              "        text-align: right;\n",
              "    }\n",
              "</style>\n",
              "<table border=\"1\" class=\"dataframe\">\n",
              "  <thead>\n",
              "    <tr style=\"text-align: right;\">\n",
              "      <th></th>\n",
              "      <th>Title</th>\n",
              "      <th>a1</th>\n",
              "      <th>a2</th>\n",
              "      <th>a3</th>\n",
              "      <th>a4</th>\n",
              "      <th>a5</th>\n",
              "      <th>a6</th>\n",
              "      <th>a7</th>\n",
              "      <th>g1</th>\n",
              "      <th>g2</th>\n",
              "      <th>bc1</th>\n",
              "      <th>bc2</th>\n",
              "      <th>type</th>\n",
              "      <th>month</th>\n",
              "      <th>year</th>\n",
              "      <th>Reviews</th>\n",
              "      <th>Ratings</th>\n",
              "    </tr>\n",
              "  </thead>\n",
              "  <tbody>\n",
              "    <tr>\n",
              "      <th>count</th>\n",
              "      <td>6237</td>\n",
              "      <td>6237</td>\n",
              "      <td>6237</td>\n",
              "      <td>6237</td>\n",
              "      <td>6237</td>\n",
              "      <td>6237</td>\n",
              "      <td>6237</td>\n",
              "      <td>6237</td>\n",
              "      <td>6237</td>\n",
              "      <td>6237</td>\n",
              "      <td>6237</td>\n",
              "      <td>6237</td>\n",
              "      <td>6237</td>\n",
              "      <td>6237</td>\n",
              "      <td>6237</td>\n",
              "      <td>6237</td>\n",
              "      <td>6237</td>\n",
              "    </tr>\n",
              "    <tr>\n",
              "      <th>unique</th>\n",
              "      <td>5564</td>\n",
              "      <td>3633</td>\n",
              "      <td>264</td>\n",
              "      <td>73</td>\n",
              "      <td>21</td>\n",
              "      <td>5</td>\n",
              "      <td>1</td>\n",
              "      <td>1</td>\n",
              "      <td>345</td>\n",
              "      <td>27</td>\n",
              "      <td>11</td>\n",
              "      <td>6</td>\n",
              "      <td>19</td>\n",
              "      <td>13</td>\n",
              "      <td>64</td>\n",
              "      <td>342</td>\n",
              "      <td>36</td>\n",
              "    </tr>\n",
              "    <tr>\n",
              "      <th>top</th>\n",
              "      <td>A GAME OF THRONES (A SONG OF ICE AND FIRE)</td>\n",
              "      <td>AGATHA CHRISTIE</td>\n",
              "      <td>NONE</td>\n",
              "      <td>NONE</td>\n",
              "      <td>NONE</td>\n",
              "      <td>NONE</td>\n",
              "      <td>NONE</td>\n",
              "      <td>NONE</td>\n",
              "      <td>ACTION &amp; ADVENTURE (BOOKS)</td>\n",
              "      <td>NONE</td>\n",
              "      <td>ACTION &amp; ADVENTURE</td>\n",
              "      <td>NONE</td>\n",
              "      <td>PAPERBACK</td>\n",
              "      <td>Oct</td>\n",
              "      <td>2018</td>\n",
              "      <td>1</td>\n",
              "      <td>5.0</td>\n",
              "    </tr>\n",
              "    <tr>\n",
              "      <th>freq</th>\n",
              "      <td>4</td>\n",
              "      <td>69</td>\n",
              "      <td>5929</td>\n",
              "      <td>6159</td>\n",
              "      <td>6214</td>\n",
              "      <td>6233</td>\n",
              "      <td>6237</td>\n",
              "      <td>6237</td>\n",
              "      <td>947</td>\n",
              "      <td>5594</td>\n",
              "      <td>818</td>\n",
              "      <td>3297</td>\n",
              "      <td>5193</td>\n",
              "      <td>639</td>\n",
              "      <td>811</td>\n",
              "      <td>1040</td>\n",
              "      <td>1375</td>\n",
              "    </tr>\n",
              "  </tbody>\n",
              "</table>\n",
              "</div>"
            ],
            "text/plain": [
              "                                             Title  ... Ratings\n",
              "count                                         6237  ...    6237\n",
              "unique                                        5564  ...      36\n",
              "top     A GAME OF THRONES (A SONG OF ICE AND FIRE)  ...     5.0\n",
              "freq                                             4  ...    1375\n",
              "\n",
              "[4 rows x 17 columns]"
            ]
          },
          "metadata": {
            "tags": []
          },
          "execution_count": 75
        }
      ]
    },
    {
      "cell_type": "code",
      "metadata": {
        "colab": {
          "base_uri": "https://localhost:8080/"
        },
        "id": "qjl96oow5DNf",
        "outputId": "bef03c74-a371-46d8-de35-0e7f9feee7d2"
      },
      "source": [
        "X_train.info()"
      ],
      "execution_count": 76,
      "outputs": [
        {
          "output_type": "stream",
          "text": [
            "<class 'pandas.core.frame.DataFrame'>\n",
            "RangeIndex: 6237 entries, 0 to 6236\n",
            "Data columns (total 17 columns):\n",
            " #   Column   Non-Null Count  Dtype \n",
            "---  ------   --------------  ----- \n",
            " 0   Title    6237 non-null   object\n",
            " 1   a1       6237 non-null   object\n",
            " 2   a2       6237 non-null   object\n",
            " 3   a3       6237 non-null   object\n",
            " 4   a4       6237 non-null   object\n",
            " 5   a5       6237 non-null   object\n",
            " 6   a6       6237 non-null   object\n",
            " 7   a7       6237 non-null   object\n",
            " 8   g1       6237 non-null   object\n",
            " 9   g2       6237 non-null   object\n",
            " 10  bc1      6237 non-null   object\n",
            " 11  bc2      6237 non-null   object\n",
            " 12  type     6237 non-null   object\n",
            " 13  month    6237 non-null   object\n",
            " 14  year     6237 non-null   object\n",
            " 15  Reviews  6237 non-null   object\n",
            " 16  Ratings  6237 non-null   object\n",
            "dtypes: object(17)\n",
            "memory usage: 828.5+ KB\n"
          ],
          "name": "stdout"
        }
      ]
    },
    {
      "cell_type": "markdown",
      "metadata": {
        "id": "XIN0VbuJ5e00"
      },
      "source": [
        "######we have to encode,\n",
        "\n",
        "* Title\n",
        "* all authors -a1,a2,a3,a4,a5,a6,a7\n",
        "* all book category - bc1,bc2\n",
        "* all genres-g1,g2\n",
        "* type -\n",
        "* months\n",
        "\n"
      ]
    },
    {
      "cell_type": "code",
      "metadata": {
        "id": "JyUkStYq8sfF"
      },
      "source": [
        "from sklearn.preprocessing import LabelEncoder"
      ],
      "execution_count": 77,
      "outputs": []
    },
    {
      "cell_type": "code",
      "metadata": {
        "id": "PXDW1HW1813w"
      },
      "source": [
        "#title\n",
        "le_title=LabelEncoder()\n",
        "list1=list(X_train['Title'])\n",
        "list2=list(X_test['Title'])\n",
        "list1.extend(list2)\n",
        "le_title.fit(list(set(list1)))   \n",
        "X_train['Title']=le_title.transform(X_train['Title'])\n",
        "X_test['Title']=le_title.transform(X_test['Title'])  #for test title"
      ],
      "execution_count": 78,
      "outputs": []
    },
    {
      "cell_type": "code",
      "metadata": {
        "id": "EUuPnMhI-otn"
      },
      "source": [
        "#Author\n",
        "list1=list(X_train['a1'])\n",
        "list2=list(X_train['a2'])+list(X_train['a3'])+list(X_train['a4'])+list(X_train['a5'])+list(X_train['a6'])+list(X_train['a7']) + list(X_test['a1']) + list(X_test['a2'])+list(X_test['a3'])+list(X_test['a4'])+list(X_test['a5'])+list(X_test['a6'])+list(X_test['a7'])\n",
        "\n",
        "list1.extend(list2)\n",
        "lists=list(set(list1))\n",
        "\n",
        "le_author=LabelEncoder()\n",
        "le_author.fit(lists)\n",
        "X_train['a1']=le_author.transform(X_train['a1'])\n",
        "X_train['a2']=le_author.transform(X_train['a2'])\n",
        "X_train['a3']=le_author.transform(X_train['a3'])\n",
        "X_train['a4']=le_author.transform(X_train['a4'])\n",
        "X_train['a5']=le_author.transform(X_train['a5'])\n",
        "X_train['a6']=le_author.transform(X_train['a6'])\n",
        "X_train['a7']=le_author.transform(X_train['a7'])\n",
        "\n",
        "X_test['a1']=le_author.transform(X_test['a1'])\n",
        "X_test['a2']=le_author.transform(X_test['a2'])\n",
        "X_test['a3']=le_author.transform(X_test['a3'])\n",
        "X_test['a4']=le_author.transform(X_test['a4'])\n",
        "X_test['a5']=le_author.transform(X_test['a5'])\n",
        "X_test['a6']=le_author.transform(X_test['a6'])\n",
        "X_test['a7']=le_author.transform(X_test['a7'])"
      ],
      "execution_count": 79,
      "outputs": []
    },
    {
      "cell_type": "code",
      "metadata": {
        "id": "lQyNMLeRBtW-"
      },
      "source": [
        "#book category\n",
        "le_bc=LabelEncoder()\n",
        "list1=list(X_train['bc1'])\n",
        "list2=list(X_train['bc2'])+list(X_test['bc1'])+list(X_test['bc2'])\n",
        "list1.extend(list2)\n",
        "lists=list(set(list1))\n",
        "\n",
        "le_bc.fit(lists)\n",
        "X_train['bc1']=le_bc.transform(X_train['bc1'])\n",
        "X_train['bc2']=le_bc.transform(X_train['bc2'])\n",
        "X_test['bc1']=le_bc.transform(X_test['bc1'])\n",
        "X_test['bc2']=le_bc.transform(X_test['bc2'])"
      ],
      "execution_count": 80,
      "outputs": []
    },
    {
      "cell_type": "code",
      "metadata": {
        "id": "G4sxA5-CEdTM"
      },
      "source": [
        "#genre\n",
        "le_gen=LabelEncoder()\n",
        "list1=list(X_train['g1'])\n",
        "list2=list(X_train['g2'])+list(X_test['g1'])+list(X_test['g2'])\n",
        "list1.extend(list2)\n",
        "lists=list(set(list1))\n",
        "\n",
        "le_gen.fit(lists)\n",
        "X_train['g1']=le_gen.transform(X_train['g1'])\n",
        "X_train['g2']=le_gen.transform(X_train['g2'])\n",
        "X_test['g1']=le_gen.transform(X_test['g1'])\n",
        "X_test['g2']=le_gen.transform(X_test['g2'])"
      ],
      "execution_count": 81,
      "outputs": []
    },
    {
      "cell_type": "code",
      "metadata": {
        "id": "yPoxCF_0Eze5"
      },
      "source": [
        "#type\n",
        "le_type=LabelEncoder()\n",
        "list1=list(X_train['type'])\n",
        "list2=list(X_test['type'])\n",
        "list1.extend(list2)\n",
        "le_type.fit(list(set(list1)))   \n",
        "X_train['type']=le_type.transform(X_train['type'])\n",
        "X_test['type']=le_type.transform(X_test['type'])"
      ],
      "execution_count": 82,
      "outputs": []
    },
    {
      "cell_type": "code",
      "metadata": {
        "id": "BbJGuA57Hsli"
      },
      "source": [
        "#month\n",
        "le_month=LabelEncoder()\n",
        "list1=list(X_train['month'])\n",
        "list2=list(X_test['month'])\n",
        "list1.extend(list2)\n",
        "le_month.fit(list(set(list1)))   \n",
        "X_train['month']=le_month.transform(X_train['month'])\n",
        "X_test['month']=le_month.transform(X_test['month'])"
      ],
      "execution_count": 83,
      "outputs": []
    },
    {
      "cell_type": "code",
      "metadata": {
        "id": "a6hZLRCfIGfi"
      },
      "source": [
        "#see the final data"
      ],
      "execution_count": 84,
      "outputs": []
    },
    {
      "cell_type": "code",
      "metadata": {
        "colab": {
          "base_uri": "https://localhost:8080/",
          "height": 439
        },
        "id": "7x3CuhH9IKKq",
        "outputId": "f833b3d1-c564-4b33-deb8-481034df4ae6"
      },
      "source": [
        "#X_train\n",
        "X_train"
      ],
      "execution_count": 85,
      "outputs": [
        {
          "output_type": "execute_result",
          "data": {
            "text/html": [
              "<div>\n",
              "<style scoped>\n",
              "    .dataframe tbody tr th:only-of-type {\n",
              "        vertical-align: middle;\n",
              "    }\n",
              "\n",
              "    .dataframe tbody tr th {\n",
              "        vertical-align: top;\n",
              "    }\n",
              "\n",
              "    .dataframe thead th {\n",
              "        text-align: right;\n",
              "    }\n",
              "</style>\n",
              "<table border=\"1\" class=\"dataframe\">\n",
              "  <thead>\n",
              "    <tr style=\"text-align: right;\">\n",
              "      <th></th>\n",
              "      <th>Title</th>\n",
              "      <th>a1</th>\n",
              "      <th>a2</th>\n",
              "      <th>a3</th>\n",
              "      <th>a4</th>\n",
              "      <th>a5</th>\n",
              "      <th>a6</th>\n",
              "      <th>a7</th>\n",
              "      <th>g1</th>\n",
              "      <th>g2</th>\n",
              "      <th>bc1</th>\n",
              "      <th>bc2</th>\n",
              "      <th>type</th>\n",
              "      <th>month</th>\n",
              "      <th>year</th>\n",
              "      <th>Reviews</th>\n",
              "      <th>Ratings</th>\n",
              "    </tr>\n",
              "  </thead>\n",
              "  <tbody>\n",
              "    <tr>\n",
              "      <th>0</th>\n",
              "      <td>5802</td>\n",
              "      <td>797</td>\n",
              "      <td>3073</td>\n",
              "      <td>3073</td>\n",
              "      <td>3073</td>\n",
              "      <td>3073</td>\n",
              "      <td>3073</td>\n",
              "      <td>3073</td>\n",
              "      <td>0</td>\n",
              "      <td>267</td>\n",
              "      <td>0</td>\n",
              "      <td>12</td>\n",
              "      <td>13</td>\n",
              "      <td>7</td>\n",
              "      <td>2016</td>\n",
              "      <td>8</td>\n",
              "      <td>4.0</td>\n",
              "    </tr>\n",
              "    <tr>\n",
              "      <th>1</th>\n",
              "      <td>2120</td>\n",
              "      <td>391</td>\n",
              "      <td>3073</td>\n",
              "      <td>3073</td>\n",
              "      <td>3073</td>\n",
              "      <td>3073</td>\n",
              "      <td>3073</td>\n",
              "      <td>3073</td>\n",
              "      <td>80</td>\n",
              "      <td>267</td>\n",
              "      <td>2</td>\n",
              "      <td>6</td>\n",
              "      <td>13</td>\n",
              "      <td>10</td>\n",
              "      <td>2012</td>\n",
              "      <td>14</td>\n",
              "      <td>3.9</td>\n",
              "    </tr>\n",
              "    <tr>\n",
              "      <th>2</th>\n",
              "      <td>2984</td>\n",
              "      <td>4353</td>\n",
              "      <td>3073</td>\n",
              "      <td>3073</td>\n",
              "      <td>3073</td>\n",
              "      <td>3073</td>\n",
              "      <td>3073</td>\n",
              "      <td>3073</td>\n",
              "      <td>211</td>\n",
              "      <td>267</td>\n",
              "      <td>8</td>\n",
              "      <td>12</td>\n",
              "      <td>13</td>\n",
              "      <td>3</td>\n",
              "      <td>1982</td>\n",
              "      <td>6</td>\n",
              "      <td>4.8</td>\n",
              "    </tr>\n",
              "    <tr>\n",
              "      <th>3</th>\n",
              "      <td>189</td>\n",
              "      <td>78</td>\n",
              "      <td>3073</td>\n",
              "      <td>3073</td>\n",
              "      <td>3073</td>\n",
              "      <td>3073</td>\n",
              "      <td>3073</td>\n",
              "      <td>3073</td>\n",
              "      <td>98</td>\n",
              "      <td>267</td>\n",
              "      <td>5</td>\n",
              "      <td>16</td>\n",
              "      <td>13</td>\n",
              "      <td>11</td>\n",
              "      <td>2017</td>\n",
              "      <td>13</td>\n",
              "      <td>4.1</td>\n",
              "    </tr>\n",
              "    <tr>\n",
              "      <th>4</th>\n",
              "      <td>2987</td>\n",
              "      <td>1221</td>\n",
              "      <td>3073</td>\n",
              "      <td>3073</td>\n",
              "      <td>3073</td>\n",
              "      <td>3073</td>\n",
              "      <td>3073</td>\n",
              "      <td>3073</td>\n",
              "      <td>284</td>\n",
              "      <td>267</td>\n",
              "      <td>1</td>\n",
              "      <td>7</td>\n",
              "      <td>8</td>\n",
              "      <td>11</td>\n",
              "      <td>2006</td>\n",
              "      <td>1</td>\n",
              "      <td>5.0</td>\n",
              "    </tr>\n",
              "    <tr>\n",
              "      <th>...</th>\n",
              "      <td>...</td>\n",
              "      <td>...</td>\n",
              "      <td>...</td>\n",
              "      <td>...</td>\n",
              "      <td>...</td>\n",
              "      <td>...</td>\n",
              "      <td>...</td>\n",
              "      <td>...</td>\n",
              "      <td>...</td>\n",
              "      <td>...</td>\n",
              "      <td>...</td>\n",
              "      <td>...</td>\n",
              "      <td>...</td>\n",
              "      <td>...</td>\n",
              "      <td>...</td>\n",
              "      <td>...</td>\n",
              "      <td>...</td>\n",
              "    </tr>\n",
              "    <tr>\n",
              "      <th>6232</th>\n",
              "      <td>2390</td>\n",
              "      <td>4416</td>\n",
              "      <td>3073</td>\n",
              "      <td>3073</td>\n",
              "      <td>3073</td>\n",
              "      <td>3073</td>\n",
              "      <td>3073</td>\n",
              "      <td>3073</td>\n",
              "      <td>16</td>\n",
              "      <td>267</td>\n",
              "      <td>8</td>\n",
              "      <td>12</td>\n",
              "      <td>13</td>\n",
              "      <td>1</td>\n",
              "      <td>2018</td>\n",
              "      <td>2</td>\n",
              "      <td>5.0</td>\n",
              "    </tr>\n",
              "    <tr>\n",
              "      <th>6233</th>\n",
              "      <td>5034</td>\n",
              "      <td>4137</td>\n",
              "      <td>3073</td>\n",
              "      <td>3073</td>\n",
              "      <td>3073</td>\n",
              "      <td>3073</td>\n",
              "      <td>3073</td>\n",
              "      <td>3073</td>\n",
              "      <td>98</td>\n",
              "      <td>267</td>\n",
              "      <td>5</td>\n",
              "      <td>16</td>\n",
              "      <td>13</td>\n",
              "      <td>10</td>\n",
              "      <td>2016</td>\n",
              "      <td>9</td>\n",
              "      <td>3.3</td>\n",
              "    </tr>\n",
              "    <tr>\n",
              "      <th>6234</th>\n",
              "      <td>5191</td>\n",
              "      <td>2153</td>\n",
              "      <td>3073</td>\n",
              "      <td>3073</td>\n",
              "      <td>3073</td>\n",
              "      <td>3073</td>\n",
              "      <td>3073</td>\n",
              "      <td>3073</td>\n",
              "      <td>314</td>\n",
              "      <td>267</td>\n",
              "      <td>14</td>\n",
              "      <td>12</td>\n",
              "      <td>13</td>\n",
              "      <td>6</td>\n",
              "      <td>2006</td>\n",
              "      <td>3</td>\n",
              "      <td>3.8</td>\n",
              "    </tr>\n",
              "    <tr>\n",
              "      <th>6235</th>\n",
              "      <td>1910</td>\n",
              "      <td>180</td>\n",
              "      <td>3073</td>\n",
              "      <td>3073</td>\n",
              "      <td>3073</td>\n",
              "      <td>3073</td>\n",
              "      <td>3073</td>\n",
              "      <td>3073</td>\n",
              "      <td>0</td>\n",
              "      <td>267</td>\n",
              "      <td>0</td>\n",
              "      <td>12</td>\n",
              "      <td>13</td>\n",
              "      <td>4</td>\n",
              "      <td>2015</td>\n",
              "      <td>4</td>\n",
              "      <td>3.5</td>\n",
              "    </tr>\n",
              "    <tr>\n",
              "      <th>6236</th>\n",
              "      <td>5264</td>\n",
              "      <td>1905</td>\n",
              "      <td>3073</td>\n",
              "      <td>3073</td>\n",
              "      <td>3073</td>\n",
              "      <td>3073</td>\n",
              "      <td>3073</td>\n",
              "      <td>3073</td>\n",
              "      <td>0</td>\n",
              "      <td>267</td>\n",
              "      <td>0</td>\n",
              "      <td>12</td>\n",
              "      <td>13</td>\n",
              "      <td>2</td>\n",
              "      <td>2016</td>\n",
              "      <td>2</td>\n",
              "      <td>3.9</td>\n",
              "    </tr>\n",
              "  </tbody>\n",
              "</table>\n",
              "<p>6237 rows × 17 columns</p>\n",
              "</div>"
            ],
            "text/plain": [
              "      Title    a1    a2    a3    a4  ...  type  month  year  Reviews  Ratings\n",
              "0      5802   797  3073  3073  3073  ...    13      7  2016        8      4.0\n",
              "1      2120   391  3073  3073  3073  ...    13     10  2012       14      3.9\n",
              "2      2984  4353  3073  3073  3073  ...    13      3  1982        6      4.8\n",
              "3       189    78  3073  3073  3073  ...    13     11  2017       13      4.1\n",
              "4      2987  1221  3073  3073  3073  ...     8     11  2006        1      5.0\n",
              "...     ...   ...   ...   ...   ...  ...   ...    ...   ...      ...      ...\n",
              "6232   2390  4416  3073  3073  3073  ...    13      1  2018        2      5.0\n",
              "6233   5034  4137  3073  3073  3073  ...    13     10  2016        9      3.3\n",
              "6234   5191  2153  3073  3073  3073  ...    13      6  2006        3      3.8\n",
              "6235   1910   180  3073  3073  3073  ...    13      4  2015        4      3.5\n",
              "6236   5264  1905  3073  3073  3073  ...    13      2  2016        2      3.9\n",
              "\n",
              "[6237 rows x 17 columns]"
            ]
          },
          "metadata": {
            "tags": []
          },
          "execution_count": 85
        }
      ]
    },
    {
      "cell_type": "code",
      "metadata": {
        "colab": {
          "base_uri": "https://localhost:8080/",
          "height": 439
        },
        "id": "XrPtPMPkIOJD",
        "outputId": "ec1a5ffd-ceb9-40ef-833b-d30a6ad00888"
      },
      "source": [
        "#X_test\n",
        "X_test"
      ],
      "execution_count": 86,
      "outputs": [
        {
          "output_type": "execute_result",
          "data": {
            "text/html": [
              "<div>\n",
              "<style scoped>\n",
              "    .dataframe tbody tr th:only-of-type {\n",
              "        vertical-align: middle;\n",
              "    }\n",
              "\n",
              "    .dataframe tbody tr th {\n",
              "        vertical-align: top;\n",
              "    }\n",
              "\n",
              "    .dataframe thead th {\n",
              "        text-align: right;\n",
              "    }\n",
              "</style>\n",
              "<table border=\"1\" class=\"dataframe\">\n",
              "  <thead>\n",
              "    <tr style=\"text-align: right;\">\n",
              "      <th></th>\n",
              "      <th>Title</th>\n",
              "      <th>a1</th>\n",
              "      <th>a2</th>\n",
              "      <th>a3</th>\n",
              "      <th>a4</th>\n",
              "      <th>a5</th>\n",
              "      <th>a6</th>\n",
              "      <th>a7</th>\n",
              "      <th>g1</th>\n",
              "      <th>g2</th>\n",
              "      <th>bc1</th>\n",
              "      <th>bc2</th>\n",
              "      <th>type</th>\n",
              "      <th>month</th>\n",
              "      <th>year</th>\n",
              "      <th>Reviews</th>\n",
              "      <th>Ratings</th>\n",
              "    </tr>\n",
              "  </thead>\n",
              "  <tbody>\n",
              "    <tr>\n",
              "      <th>0</th>\n",
              "      <td>5082</td>\n",
              "      <td>4058</td>\n",
              "      <td>3073</td>\n",
              "      <td>3073</td>\n",
              "      <td>3073</td>\n",
              "      <td>3073</td>\n",
              "      <td>3073</td>\n",
              "      <td>3073</td>\n",
              "      <td>324</td>\n",
              "      <td>267</td>\n",
              "      <td>5</td>\n",
              "      <td>16</td>\n",
              "      <td>12</td>\n",
              "      <td>11</td>\n",
              "      <td>1986</td>\n",
              "      <td>960</td>\n",
              "      <td>4.4</td>\n",
              "    </tr>\n",
              "    <tr>\n",
              "      <th>1</th>\n",
              "      <td>2906</td>\n",
              "      <td>1401</td>\n",
              "      <td>3073</td>\n",
              "      <td>3073</td>\n",
              "      <td>3073</td>\n",
              "      <td>3073</td>\n",
              "      <td>3073</td>\n",
              "      <td>3073</td>\n",
              "      <td>273</td>\n",
              "      <td>267</td>\n",
              "      <td>4</td>\n",
              "      <td>9</td>\n",
              "      <td>13</td>\n",
              "      <td>0</td>\n",
              "      <td>2018</td>\n",
              "      <td>1</td>\n",
              "      <td>5.0</td>\n",
              "    </tr>\n",
              "    <tr>\n",
              "      <th>2</th>\n",
              "      <td>751</td>\n",
              "      <td>949</td>\n",
              "      <td>3073</td>\n",
              "      <td>3073</td>\n",
              "      <td>3073</td>\n",
              "      <td>3073</td>\n",
              "      <td>3073</td>\n",
              "      <td>3073</td>\n",
              "      <td>314</td>\n",
              "      <td>267</td>\n",
              "      <td>14</td>\n",
              "      <td>12</td>\n",
              "      <td>13</td>\n",
              "      <td>7</td>\n",
              "      <td>2011</td>\n",
              "      <td>4</td>\n",
              "      <td>5.0</td>\n",
              "    </tr>\n",
              "    <tr>\n",
              "      <th>3</th>\n",
              "      <td>6232</td>\n",
              "      <td>169</td>\n",
              "      <td>3073</td>\n",
              "      <td>3073</td>\n",
              "      <td>3073</td>\n",
              "      <td>3073</td>\n",
              "      <td>3073</td>\n",
              "      <td>3073</td>\n",
              "      <td>295</td>\n",
              "      <td>267</td>\n",
              "      <td>4</td>\n",
              "      <td>9</td>\n",
              "      <td>13</td>\n",
              "      <td>9</td>\n",
              "      <td>2016</td>\n",
              "      <td>11</td>\n",
              "      <td>4.1</td>\n",
              "    </tr>\n",
              "    <tr>\n",
              "      <th>4</th>\n",
              "      <td>3790</td>\n",
              "      <td>3505</td>\n",
              "      <td>3073</td>\n",
              "      <td>3073</td>\n",
              "      <td>3073</td>\n",
              "      <td>3073</td>\n",
              "      <td>3073</td>\n",
              "      <td>3073</td>\n",
              "      <td>235</td>\n",
              "      <td>267</td>\n",
              "      <td>10</td>\n",
              "      <td>11</td>\n",
              "      <td>13</td>\n",
              "      <td>2</td>\n",
              "      <td>2011</td>\n",
              "      <td>9</td>\n",
              "      <td>4.4</td>\n",
              "    </tr>\n",
              "    <tr>\n",
              "      <th>...</th>\n",
              "      <td>...</td>\n",
              "      <td>...</td>\n",
              "      <td>...</td>\n",
              "      <td>...</td>\n",
              "      <td>...</td>\n",
              "      <td>...</td>\n",
              "      <td>...</td>\n",
              "      <td>...</td>\n",
              "      <td>...</td>\n",
              "      <td>...</td>\n",
              "      <td>...</td>\n",
              "      <td>...</td>\n",
              "      <td>...</td>\n",
              "      <td>...</td>\n",
              "      <td>...</td>\n",
              "      <td>...</td>\n",
              "      <td>...</td>\n",
              "    </tr>\n",
              "    <tr>\n",
              "      <th>1555</th>\n",
              "      <td>16</td>\n",
              "      <td>4236</td>\n",
              "      <td>3073</td>\n",
              "      <td>3073</td>\n",
              "      <td>3073</td>\n",
              "      <td>3073</td>\n",
              "      <td>3073</td>\n",
              "      <td>3073</td>\n",
              "      <td>107</td>\n",
              "      <td>267</td>\n",
              "      <td>4</td>\n",
              "      <td>9</td>\n",
              "      <td>13</td>\n",
              "      <td>0</td>\n",
              "      <td>2011</td>\n",
              "      <td>4</td>\n",
              "      <td>5.0</td>\n",
              "    </tr>\n",
              "    <tr>\n",
              "      <th>1556</th>\n",
              "      <td>3316</td>\n",
              "      <td>394</td>\n",
              "      <td>3073</td>\n",
              "      <td>3073</td>\n",
              "      <td>3073</td>\n",
              "      <td>3073</td>\n",
              "      <td>3073</td>\n",
              "      <td>3073</td>\n",
              "      <td>74</td>\n",
              "      <td>267</td>\n",
              "      <td>2</td>\n",
              "      <td>6</td>\n",
              "      <td>13</td>\n",
              "      <td>8</td>\n",
              "      <td>2013</td>\n",
              "      <td>13</td>\n",
              "      <td>3.6</td>\n",
              "    </tr>\n",
              "    <tr>\n",
              "      <th>1557</th>\n",
              "      <td>5481</td>\n",
              "      <td>2311</td>\n",
              "      <td>3073</td>\n",
              "      <td>3073</td>\n",
              "      <td>3073</td>\n",
              "      <td>3073</td>\n",
              "      <td>3073</td>\n",
              "      <td>3073</td>\n",
              "      <td>196</td>\n",
              "      <td>267</td>\n",
              "      <td>8</td>\n",
              "      <td>12</td>\n",
              "      <td>13</td>\n",
              "      <td>12</td>\n",
              "      <td>2011</td>\n",
              "      <td>5</td>\n",
              "      <td>4.0</td>\n",
              "    </tr>\n",
              "    <tr>\n",
              "      <th>1558</th>\n",
              "      <td>3807</td>\n",
              "      <td>1631</td>\n",
              "      <td>3073</td>\n",
              "      <td>3073</td>\n",
              "      <td>3073</td>\n",
              "      <td>3073</td>\n",
              "      <td>3073</td>\n",
              "      <td>3073</td>\n",
              "      <td>374</td>\n",
              "      <td>267</td>\n",
              "      <td>2</td>\n",
              "      <td>6</td>\n",
              "      <td>13</td>\n",
              "      <td>12</td>\n",
              "      <td>2009</td>\n",
              "      <td>3</td>\n",
              "      <td>3.5</td>\n",
              "    </tr>\n",
              "    <tr>\n",
              "      <th>1559</th>\n",
              "      <td>1136</td>\n",
              "      <td>469</td>\n",
              "      <td>3073</td>\n",
              "      <td>3073</td>\n",
              "      <td>3073</td>\n",
              "      <td>3073</td>\n",
              "      <td>3073</td>\n",
              "      <td>3073</td>\n",
              "      <td>114</td>\n",
              "      <td>267</td>\n",
              "      <td>10</td>\n",
              "      <td>11</td>\n",
              "      <td>13</td>\n",
              "      <td>12</td>\n",
              "      <td>2016</td>\n",
              "      <td>2</td>\n",
              "      <td>4.5</td>\n",
              "    </tr>\n",
              "  </tbody>\n",
              "</table>\n",
              "<p>1560 rows × 17 columns</p>\n",
              "</div>"
            ],
            "text/plain": [
              "      Title    a1    a2    a3    a4  ...  type  month  year  Reviews  Ratings\n",
              "0      5082  4058  3073  3073  3073  ...    12     11  1986      960      4.4\n",
              "1      2906  1401  3073  3073  3073  ...    13      0  2018        1      5.0\n",
              "2       751   949  3073  3073  3073  ...    13      7  2011        4      5.0\n",
              "3      6232   169  3073  3073  3073  ...    13      9  2016       11      4.1\n",
              "4      3790  3505  3073  3073  3073  ...    13      2  2011        9      4.4\n",
              "...     ...   ...   ...   ...   ...  ...   ...    ...   ...      ...      ...\n",
              "1555     16  4236  3073  3073  3073  ...    13      0  2011        4      5.0\n",
              "1556   3316   394  3073  3073  3073  ...    13      8  2013       13      3.6\n",
              "1557   5481  2311  3073  3073  3073  ...    13     12  2011        5      4.0\n",
              "1558   3807  1631  3073  3073  3073  ...    13     12  2009        3      3.5\n",
              "1559   1136   469  3073  3073  3073  ...    13     12  2016        2      4.5\n",
              "\n",
              "[1560 rows x 17 columns]"
            ]
          },
          "metadata": {
            "tags": []
          },
          "execution_count": 86
        }
      ]
    },
    {
      "cell_type": "code",
      "metadata": {
        "colab": {
          "base_uri": "https://localhost:8080/"
        },
        "id": "eKd-PpvYKhRx",
        "outputId": "2b524235-8004-4727-c98c-0cbf66dfbff7"
      },
      "source": [
        "X_train.info()"
      ],
      "execution_count": 87,
      "outputs": [
        {
          "output_type": "stream",
          "text": [
            "<class 'pandas.core.frame.DataFrame'>\n",
            "RangeIndex: 6237 entries, 0 to 6236\n",
            "Data columns (total 17 columns):\n",
            " #   Column   Non-Null Count  Dtype \n",
            "---  ------   --------------  ----- \n",
            " 0   Title    6237 non-null   int64 \n",
            " 1   a1       6237 non-null   int64 \n",
            " 2   a2       6237 non-null   int64 \n",
            " 3   a3       6237 non-null   int64 \n",
            " 4   a4       6237 non-null   int64 \n",
            " 5   a5       6237 non-null   int64 \n",
            " 6   a6       6237 non-null   int64 \n",
            " 7   a7       6237 non-null   int64 \n",
            " 8   g1       6237 non-null   int64 \n",
            " 9   g2       6237 non-null   int64 \n",
            " 10  bc1      6237 non-null   int64 \n",
            " 11  bc2      6237 non-null   int64 \n",
            " 12  type     6237 non-null   int64 \n",
            " 13  month    6237 non-null   int64 \n",
            " 14  year     6237 non-null   object\n",
            " 15  Reviews  6237 non-null   object\n",
            " 16  Ratings  6237 non-null   object\n",
            "dtypes: int64(14), object(3)\n",
            "memory usage: 828.5+ KB\n"
          ],
          "name": "stdout"
        }
      ]
    },
    {
      "cell_type": "code",
      "metadata": {
        "id": "gFY3nMBYL7Sg"
      },
      "source": [
        "#let's clean all objects: year,reviews,ratings"
      ],
      "execution_count": 88,
      "outputs": []
    },
    {
      "cell_type": "code",
      "metadata": {
        "colab": {
          "base_uri": "https://localhost:8080/"
        },
        "id": "fJV-K8vgMFdT",
        "outputId": "12f822a2-e7f1-46fd-ba0a-79c4b73db6ab"
      },
      "source": [
        "X_train['year'].value_counts()"
      ],
      "execution_count": 89,
      "outputs": [
        {
          "output_type": "execute_result",
          "data": {
            "text/plain": [
              "2018       811\n",
              "2017       757\n",
              "2016       659\n",
              "2015       519\n",
              "2014       402\n",
              "          ... \n",
              "1961         1\n",
              "1969         1\n",
              "Edition      1\n",
              "1905         1\n",
              "1900         1\n",
              "Name: year, Length: 64, dtype: int64"
            ]
          },
          "metadata": {
            "tags": []
          },
          "execution_count": 89
        }
      ]
    },
    {
      "cell_type": "code",
      "metadata": {
        "colab": {
          "base_uri": "https://localhost:8080/"
        },
        "id": "dfmiVIFLMXik",
        "outputId": "0ed1206a-09ba-47c7-cd1d-556effac8e76"
      },
      "source": [
        "X_train['Ratings'].value_counts()"
      ],
      "execution_count": 90,
      "outputs": [
        {
          "output_type": "execute_result",
          "data": {
            "text/plain": [
              "5.0    1375\n",
              "4.0     570\n",
              "4.5     507\n",
              "4.6     394\n",
              "4.4     389\n",
              "4.3     359\n",
              "4.7     343\n",
              "4.2     324\n",
              "4.1     310\n",
              "3.9     241\n",
              "4.8     222\n",
              "3.8     190\n",
              "3.7     167\n",
              "3.0     138\n",
              "3.5     115\n",
              "3.6     110\n",
              "4.9      75\n",
              "3.4      75\n",
              "3.3      57\n",
              "3.1      49\n",
              "1.0      49\n",
              "3.2      41\n",
              "2.0      39\n",
              "2.9      26\n",
              "2.5      18\n",
              "2.7      16\n",
              "2.8      10\n",
              "2.3       7\n",
              "1.5       5\n",
              "2.6       4\n",
              "2.4       4\n",
              "2.2       3\n",
              "1.4       2\n",
              "2.1       1\n",
              "1.7       1\n",
              "1.6       1\n",
              "Name: Ratings, dtype: int64"
            ]
          },
          "metadata": {
            "tags": []
          },
          "execution_count": 90
        }
      ]
    },
    {
      "cell_type": "code",
      "metadata": {
        "colab": {
          "base_uri": "https://localhost:8080/"
        },
        "id": "zTlU3bkGMZam",
        "outputId": "11ba448e-3cba-49f0-f210-ccb81ceac41b"
      },
      "source": [
        "X_train['Reviews'].value_counts()"
      ],
      "execution_count": 91,
      "outputs": [
        {
          "output_type": "execute_result",
          "data": {
            "text/plain": [
              "1        1040\n",
              "2         708\n",
              "3         491\n",
              "4         355\n",
              "5         300\n",
              "         ... \n",
              "358         1\n",
              "732         1\n",
              "2,255       1\n",
              "695         1\n",
              "3,135       1\n",
              "Name: Reviews, Length: 342, dtype: int64"
            ]
          },
          "metadata": {
            "tags": []
          },
          "execution_count": 91
        }
      ]
    },
    {
      "cell_type": "code",
      "metadata": {
        "id": "fqHTJqCjPOUV"
      },
      "source": [
        "#feature conversion from string to numeric >>> for normali\n",
        "\n",
        "X_train['Reviews'] = pd.to_numeric(X_train['Reviews'],errors='coerce')\n",
        "X_train['Ratings'] = pd.to_numeric(X_train['Ratings'],errors='coerce')\n",
        "X_train['year'] = pd.to_numeric(X_train['year'],errors='coerce')\n",
        "\n",
        "X_test['Reviews'] = pd.to_numeric(X_test['Reviews'],errors='coerce')\n",
        "X_test['Ratings'] = pd.to_numeric(X_test['Ratings'],errors='coerce')\n",
        "X_test['year'] = pd.to_numeric(X_test['year'],errors='coerce')"
      ],
      "execution_count": 92,
      "outputs": []
    },
    {
      "cell_type": "code",
      "metadata": {
        "id": "qoYI4o_WIRl4"
      },
      "source": [
        "#beautyyy....coool"
      ],
      "execution_count": 93,
      "outputs": []
    },
    {
      "cell_type": "markdown",
      "metadata": {
        "id": "JxNikv4_IWD8"
      },
      "source": [
        "# Normalization / Standardization"
      ]
    },
    {
      "cell_type": "code",
      "metadata": {
        "id": "srPJGLG1I4Gp"
      },
      "source": [
        "from sklearn.preprocessing import StandardScaler"
      ],
      "execution_count": 94,
      "outputs": []
    },
    {
      "cell_type": "code",
      "metadata": {
        "id": "yl7C77GEJcS7"
      },
      "source": [
        "sc=StandardScaler()"
      ],
      "execution_count": 95,
      "outputs": []
    },
    {
      "cell_type": "code",
      "metadata": {
        "id": "L24TJqPmJiTY"
      },
      "source": [
        "X_train=sc.fit_transform(X_train)\n",
        "X_test=sc.fit_transform(X_test)\n",
        "\n",
        "import numpy as np\n",
        "y_train=np.array(y_train)\n",
        "y_train=y_train.reshape((len(y_train),1))\n",
        "y_train=sc.fit_transform(y_train)\n",
        "y_train=y_train.ravel()"
      ],
      "execution_count": 96,
      "outputs": []
    },
    {
      "cell_type": "code",
      "metadata": {
        "id": "fDhUDigaKTWv"
      },
      "source": [
        "#let's see final data to feed ML model"
      ],
      "execution_count": 97,
      "outputs": []
    },
    {
      "cell_type": "code",
      "metadata": {
        "colab": {
          "base_uri": "https://localhost:8080/"
        },
        "id": "EhKRV4z7TNOJ",
        "outputId": "6acc70a5-fc48-45f7-8186-72fd5c2f3263"
      },
      "source": [
        "X_train"
      ],
      "execution_count": 98,
      "outputs": [
        {
          "output_type": "execute_result",
          "data": {
            "text/plain": [
              "array([[ 1.22489462, -1.11014305,  0.10361038, ...,  0.52064999,\n",
              "        -0.26015575, -0.44260333],\n",
              "       [-0.64983923, -1.40876249,  0.10361038, ...,  0.0156591 ,\n",
              "        -0.18894124, -0.59355848],\n",
              "       [-0.20992341,  1.50535127,  0.10361038, ..., -3.77177256,\n",
              "        -0.28389392,  0.76503793],\n",
              "       ...,\n",
              "       [ 0.91379674, -0.11278358,  0.10361038, ..., -0.74182723,\n",
              "        -0.31950118, -0.74451364],\n",
              "       [-0.75676322, -1.56395633,  0.10361038, ...,  0.39440227,\n",
              "        -0.30763209, -1.19737911],\n",
              "       [ 0.95096556, -0.2951915 ,  0.10361038, ...,  0.52064999,\n",
              "        -0.33137026, -0.59355848]])"
            ]
          },
          "metadata": {
            "tags": []
          },
          "execution_count": 98
        }
      ]
    },
    {
      "cell_type": "code",
      "metadata": {
        "colab": {
          "base_uri": "https://localhost:8080/"
        },
        "id": "K36n1LVLU_UO",
        "outputId": "3555fc78-7d14-4146-c394-8395a69b2b14"
      },
      "source": [
        "X_test"
      ],
      "execution_count": 99,
      "outputs": [
        {
          "output_type": "execute_result",
          "data": {
            "text/plain": [
              "array([[ 8.76574044e-01,  1.31098347e+00,  1.17711709e-01, ...,\n",
              "        -3.46719247e+00,  1.25256504e+01,  1.40222654e-01],\n",
              "       [-2.19218967e-01, -6.91991772e-01,  1.17711709e-01, ...,\n",
              "         8.06161640e-01, -3.41842876e-01,  1.03918433e+00],\n",
              "       [-1.30443677e+00, -1.03273126e+00,  1.17711709e-01, ...,\n",
              "        -1.28634571e-01, -3.01590029e-01,  1.03918433e+00],\n",
              "       ...,\n",
              "       [ 1.07750300e+00, -5.98971227e-03,  1.17711709e-01, ...,\n",
              "        -1.28634571e-01, -2.88172414e-01, -4.59085128e-01],\n",
              "       [ 2.34507826e-01, -5.18606636e-01,  1.17711709e-01, ...,\n",
              "        -3.95719203e-01, -3.15007645e-01, -1.20821986e+00],\n",
              "       [-1.11055795e+00, -1.39457850e+00,  1.17711709e-01, ...,\n",
              "         5.39077009e-01, -3.28425260e-01,  2.90049600e-01]])"
            ]
          },
          "metadata": {
            "tags": []
          },
          "execution_count": 99
        }
      ]
    },
    {
      "cell_type": "code",
      "metadata": {
        "colab": {
          "base_uri": "https://localhost:8080/"
        },
        "id": "ALOt5iG0VCgW",
        "outputId": "56f7adcb-0ff3-493a-fbde-54dfa3fa5d23"
      },
      "source": [
        "y_train"
      ],
      "execution_count": 100,
      "outputs": [
        {
          "output_type": "execute_result",
          "data": {
            "text/plain": [
              "array([-0.49373942, -0.51847656, -0.37925584, ..., -0.23433993,\n",
              "       -0.35027266, -0.15753449])"
            ]
          },
          "metadata": {
            "tags": []
          },
          "execution_count": 100
        }
      ]
    },
    {
      "cell_type": "code",
      "metadata": {
        "colab": {
          "base_uri": "https://localhost:8080/"
        },
        "id": "NLpQHNIPVEml",
        "outputId": "24b521e8-0720-49ad-9155-d9706022804c"
      },
      "source": [
        "#shape as well,\n",
        "print('shape of X_train :',X_train.shape)\n",
        "print('shape of X_test :',X_test.shape)\n",
        "print('shape of y_train :',y_train.shape)"
      ],
      "execution_count": 101,
      "outputs": [
        {
          "output_type": "stream",
          "text": [
            "shape of X_train : (6237, 17)\n",
            "shape of X_test : (1560, 17)\n",
            "shape of y_train : (6237,)\n"
          ],
          "name": "stdout"
        }
      ]
    },
    {
      "cell_type": "markdown",
      "metadata": {
        "id": "eOFbjCt-VVgT"
      },
      "source": [
        "# Model"
      ]
    },
    {
      "cell_type": "markdown",
      "metadata": {
        "id": "fLtuwMZ8Vand"
      },
      "source": [
        "XGBoost"
      ]
    },
    {
      "cell_type": "code",
      "metadata": {
        "id": "D_yKLU2ZSrhF"
      },
      "source": [
        "from xgboost import XGBRegressor"
      ],
      "execution_count": 102,
      "outputs": []
    },
    {
      "cell_type": "code",
      "metadata": {
        "id": "-Mz-ut6MTBcO"
      },
      "source": [
        "#to chech the model, how it's. providing validation set"
      ],
      "execution_count": 103,
      "outputs": []
    },
    {
      "cell_type": "code",
      "metadata": {
        "id": "vNQbUHGXTJNR"
      },
      "source": [
        "from sklearn.model_selection import train_test_split\n",
        "x_train,x_val,y_tr,y_val=train_test_split(X_train,y_train,test_size=0.1,random_state=120)"
      ],
      "execution_count": 104,
      "outputs": []
    },
    {
      "cell_type": "code",
      "metadata": {
        "colab": {
          "base_uri": "https://localhost:8080/"
        },
        "id": "seyWa77XT5fX",
        "outputId": "901cde84-edd2-4687-afaf-fe99bcbac887"
      },
      "source": [
        "xgb=XGBRegressor( objective='reg:squarederror', max_depth=6, learning_rate=0.1,\n",
        "                 n_estimators=100, booster = 'gbtree', n_jobs = -1,random_state = 1)\n",
        "xgb.fit(x_train,y_tr)"
      ],
      "execution_count": 105,
      "outputs": [
        {
          "output_type": "execute_result",
          "data": {
            "text/plain": [
              "XGBRegressor(base_score=0.5, booster='gbtree', colsample_bylevel=1,\n",
              "             colsample_bynode=1, colsample_bytree=1, gamma=0,\n",
              "             importance_type='gain', learning_rate=0.1, max_delta_step=0,\n",
              "             max_depth=6, min_child_weight=1, missing=None, n_estimators=100,\n",
              "             n_jobs=-1, nthread=None, objective='reg:squarederror',\n",
              "             random_state=1, reg_alpha=0, reg_lambda=1, scale_pos_weight=1,\n",
              "             seed=None, silent=None, subsample=1, verbosity=1)"
            ]
          },
          "metadata": {
            "tags": []
          },
          "execution_count": 105
        }
      ]
    },
    {
      "cell_type": "code",
      "metadata": {
        "colab": {
          "base_uri": "https://localhost:8080/"
        },
        "id": "070tM5yNUPke",
        "outputId": "e1eb7dcf-f5f2-4508-de5e-1876026237b9"
      },
      "source": [
        "y_pred = sc.inverse_transform(xgb.predict(x_val))\n",
        "y_true = sc.inverse_transform(y_val)\n",
        "\n",
        "error = np.square(np.log10(y_pred +1) - np.log10(y_true +1)).mean() ** 0.5\n",
        "score = 1 - error\n",
        "\n",
        "print(\"RMLSE Score = \", score)"
      ],
      "execution_count": 106,
      "outputs": [
        {
          "output_type": "stream",
          "text": [
            "RMLSE Score =  0.7020649670029482\n"
          ],
          "name": "stdout"
        }
      ]
    },
    {
      "cell_type": "code",
      "metadata": {
        "id": "HVOnkGahUcO5"
      },
      "source": [
        "#not bad."
      ],
      "execution_count": 107,
      "outputs": []
    },
    {
      "cell_type": "code",
      "metadata": {
        "id": "PupLQAgzUgfj"
      },
      "source": [
        "#go with entire"
      ],
      "execution_count": 108,
      "outputs": []
    },
    {
      "cell_type": "code",
      "metadata": {
        "colab": {
          "base_uri": "https://localhost:8080/"
        },
        "id": "Zgm-HSttUkBh",
        "outputId": "8e16d779-4549-4b41-f23c-a96f86761187"
      },
      "source": [
        "xgb.fit(X_train,y_train)"
      ],
      "execution_count": 109,
      "outputs": [
        {
          "output_type": "execute_result",
          "data": {
            "text/plain": [
              "XGBRegressor(base_score=0.5, booster='gbtree', colsample_bylevel=1,\n",
              "             colsample_bynode=1, colsample_bytree=1, gamma=0,\n",
              "             importance_type='gain', learning_rate=0.1, max_delta_step=0,\n",
              "             max_depth=6, min_child_weight=1, missing=None, n_estimators=100,\n",
              "             n_jobs=-1, nthread=None, objective='reg:squarederror',\n",
              "             random_state=1, reg_alpha=0, reg_lambda=1, scale_pos_weight=1,\n",
              "             seed=None, silent=None, subsample=1, verbosity=1)"
            ]
          },
          "metadata": {
            "tags": []
          },
          "execution_count": 109
        }
      ]
    },
    {
      "cell_type": "code",
      "metadata": {
        "id": "1C7k_KumUpgL"
      },
      "source": [
        "y_pred_xgb = sc.inverse_transform(xgb.predict(X_test))"
      ],
      "execution_count": 110,
      "outputs": []
    },
    {
      "cell_type": "code",
      "metadata": {
        "id": "K5mol-piU0g5"
      },
      "source": [
        "solution = pd.DataFrame(y_pred_xgb, columns = ['Price'])\n",
        "solution.to_excel('Predict_Book_Price_Soln.xlsx', index = False)"
      ],
      "execution_count": 111,
      "outputs": []
    },
    {
      "cell_type": "code",
      "metadata": {
        "colab": {
          "base_uri": "https://localhost:8080/",
          "height": 419
        },
        "id": "8KOhV-glU6bL",
        "outputId": "ba9a5404-9302-4ade-e0de-2f347e7f6319"
      },
      "source": [
        "solution\n"
      ],
      "execution_count": 112,
      "outputs": [
        {
          "output_type": "execute_result",
          "data": {
            "text/html": [
              "<div>\n",
              "<style scoped>\n",
              "    .dataframe tbody tr th:only-of-type {\n",
              "        vertical-align: middle;\n",
              "    }\n",
              "\n",
              "    .dataframe tbody tr th {\n",
              "        vertical-align: top;\n",
              "    }\n",
              "\n",
              "    .dataframe thead th {\n",
              "        text-align: right;\n",
              "    }\n",
              "</style>\n",
              "<table border=\"1\" class=\"dataframe\">\n",
              "  <thead>\n",
              "    <tr style=\"text-align: right;\">\n",
              "      <th></th>\n",
              "      <th>Price</th>\n",
              "    </tr>\n",
              "  </thead>\n",
              "  <tbody>\n",
              "    <tr>\n",
              "      <th>0</th>\n",
              "      <td>726.268677</td>\n",
              "    </tr>\n",
              "    <tr>\n",
              "      <th>1</th>\n",
              "      <td>1530.033691</td>\n",
              "    </tr>\n",
              "    <tr>\n",
              "      <th>2</th>\n",
              "      <td>599.988708</td>\n",
              "    </tr>\n",
              "    <tr>\n",
              "      <th>3</th>\n",
              "      <td>1080.226929</td>\n",
              "    </tr>\n",
              "    <tr>\n",
              "      <th>4</th>\n",
              "      <td>435.678467</td>\n",
              "    </tr>\n",
              "    <tr>\n",
              "      <th>...</th>\n",
              "      <td>...</td>\n",
              "    </tr>\n",
              "    <tr>\n",
              "      <th>1555</th>\n",
              "      <td>843.745056</td>\n",
              "    </tr>\n",
              "    <tr>\n",
              "      <th>1556</th>\n",
              "      <td>298.364929</td>\n",
              "    </tr>\n",
              "    <tr>\n",
              "      <th>1557</th>\n",
              "      <td>461.778320</td>\n",
              "    </tr>\n",
              "    <tr>\n",
              "      <th>1558</th>\n",
              "      <td>350.294891</td>\n",
              "    </tr>\n",
              "    <tr>\n",
              "      <th>1559</th>\n",
              "      <td>506.677795</td>\n",
              "    </tr>\n",
              "  </tbody>\n",
              "</table>\n",
              "<p>1560 rows × 1 columns</p>\n",
              "</div>"
            ],
            "text/plain": [
              "            Price\n",
              "0      726.268677\n",
              "1     1530.033691\n",
              "2      599.988708\n",
              "3     1080.226929\n",
              "4      435.678467\n",
              "...           ...\n",
              "1555   843.745056\n",
              "1556   298.364929\n",
              "1557   461.778320\n",
              "1558   350.294891\n",
              "1559   506.677795\n",
              "\n",
              "[1560 rows x 1 columns]"
            ]
          },
          "metadata": {
            "tags": []
          },
          "execution_count": 112
        }
      ]
    },
    {
      "cell_type": "code",
      "metadata": {
        "id": "T6nNupD5VA5k"
      },
      "source": [
        ""
      ],
      "execution_count": null,
      "outputs": []
    }
  ]
}